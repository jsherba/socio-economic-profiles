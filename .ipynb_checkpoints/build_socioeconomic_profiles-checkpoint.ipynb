{
 "cells": [
  {
   "cell_type": "markdown",
   "id": "revolutionary-slovak",
   "metadata": {},
   "source": [
    "# Socio-economic Profiles\n",
    "\n",
    "This code creates the socio-economic profile data for the San Francisco Planning Department's Neighborhood Socio-Economic Profiles. Socio-economic profiles data is derived from the [American Community Survey](https://www.census.gov/programs-surveys/acs) 5-year data and is created annually by the Planning Department. Tract level socio-economic data from is combined at the neighborhood and district level for the City of San Francisco. This code is based off methods created by Michael Webster and others. Run the notebook to:\n",
    "\n",
    "- Download ACS data using the Census API\n",
    "- Calculate socio-economic profiles data\n",
    "- Visualize socio-economic data accross Neighborhoods and Supervisor Districts\n",
    "- Export data to csv. \n"
   ]
  },
  {
   "cell_type": "markdown",
   "id": "super-business",
   "metadata": {},
   "source": [
    "## Import packages"
   ]
  },
  {
   "cell_type": "code",
   "execution_count": 78,
   "id": "functional-stack",
   "metadata": {},
   "outputs": [],
   "source": [
    "# base libraries\n",
    "import requests, json, os\n",
    "import pandas as pd\n",
    "import numpy as np\n",
    "from collections import defaultdict\n",
    "\n",
    "# graph libraries\n",
    "import plotly.express as px\n",
    "from ipywidgets import interact, interactive, fixed, interact_manual\n",
    "import ipywidgets as widgets\n",
    "\n",
    "# map libraries\n",
    "#import folium\n",
    "#import branca.colormap as cm\n",
    "#import geopandas"
   ]
  },
  {
   "cell_type": "markdown",
   "id": "warming-romance",
   "metadata": {},
   "source": [
    "## Set analysis year"
   ]
  },
  {
   "cell_type": "code",
   "execution_count": 79,
   "id": "actual-oracle",
   "metadata": {},
   "outputs": [],
   "source": [
    "year = 2022"
   ]
  },
  {
   "cell_type": "markdown",
   "id": "informed-singles",
   "metadata": {},
   "source": [
    "## Retrieve data from Census API\n",
    "All socio-economic data comes from the Census ACS 5-year estimates and is available at the tract level through the census API. API documentation and data for the 2019 ACS data and previous years is available [here](https://www.census.gov/data/developers/data-sets/acs-5year.html)"
   ]
  },
  {
   "cell_type": "markdown",
   "id": "undefined-carol",
   "metadata": {},
   "source": [
    "### Census Attribute IDs\n",
    "The census API returns ACS attribute vales for provided attribute IDs. A list of relevant attribute ID's needed for calculating the socio-economic profile data is compiled below from IDs stored in [attribute_lookup.csv](https://github.com/jsherba/socio-economic-profiles/blob/main/lookup_tables/attribute_lookup.csv). These attribute ID's were derived from the attributes in the [Data_Items_and_Sources.xlsx](https://github.com/jsherba/socio-economic-profiles/raw/main/Data_Items_And_Sources_2019.xlsx) file developed by Michael Webster.\n",
    "\n",
    "For a full list of ACS attribute IDs and their meanings visit the API docs [here](https://api.census.gov/data/2019/acs/acs5/variables.html)."
   ]
  },
  {
   "cell_type": "code",
   "execution_count": 80,
   "id": "awful-material",
   "metadata": {},
   "outputs": [
    {
     "name": "stdout",
     "output_type": "stream",
     "text": [
      "['B01001_001', 'B26001_001', 'B01001_026, B01001_001', 'B11001_001', 'B11001_002, B11001_001', 'B11001_007, B11001_001', 'B11001_008, B11001_001', 'B11005_002, B11001_001', 'B11006_002, B11001_001', 'B11002_001, B11001_001', 'B11002_002, B11001_002', 'B02001_005, B02001_001', 'B02001_003, B02001_001', 'B02001_002, B02001_001', 'B02001_004, B02001_001', 'B02001_006, B02001_001', 'B02001_008, B02001_007, B02001_001', 'B03001_003, B03001_001', 'B01001_003, B01001_027, B01001_001', 'B01001_004, B01001_005, B01001_006, B01001_028, B01001_029, B01001_030, B01001_001', 'B01001_007, B01001_008, B01001_009, B01001_010, B01001_011, B01001_012, B01001_031, B01001_032, B01001_033, B01001_034, B01001_035, B01001_036, B01001_001', 'B01001_013, B01001_014, B01001_015, B01001_016, B01001_017, B01001_037, B01001_038, B01001_039, B01001_040, B01001_041, B01001_001', 'B01001_018, B01001_019, B01001_020, B01001_021, B01001_022, B01001_023, B01001_024, B01001_025, B01001_042, B01001_043, B01001_044, B01001_045, B01001_046, B01001_047, B01001_048, B01001_049, B01001_001', 'B01002_001', 'B15003_002, B15003_003, B15003_004, B15003_005, B15003_006, B15003_007, B15003_008, B15003_009, B15003_010, B15003_011, B15003_012, B15003_013, B15003_014, B15003_015, B15003_016, B15003_017, B15003_018, B15003_001', 'B15003_019, B15003_020, B15003_021, B15003_001', 'B15003_022, B15003_001', 'B15003_023, B15003_024, B15003_025, B15003_001', 'B05002_013, B05002_001', 'B16007_003, B16007_009, B16007_015, B16007_001', 'B16007_004, B16007_010, B16007_016, B16007_001', 'B16007_006, B16007_012, B16007_018, B16007_001', 'B16007_005, B16007_011, B16007_017, B16007_001', 'B16007_007, B16007_013, B16007_019, B16007_001', 'B16003_002, B16003_008, B16004_001', 'B16003_004, B16003_009, B16004_001', 'B16003_006, B16003_011, B16004_001', 'B16003_005, B16003_010, B16004_001', 'B16003_007, B16003_012, B16004_001', 'B25001_001', 'B25034_011, B25034_010, B25034_009, B25034_008, B25034_007, B25034_006, B25034_005, B25034_004, B25034_003, B25034_002', 'B25007_002, B25007_001', 'B25007_012, B25007_001', 'B25004_001, B25001_001', 'B25004_002, B25004_001', 'B25004_004, B25004_001', 'B25004_003, B25004_005, B25004_001', 'B25004_006, B25004_001', 'B25004_008, B25004_001', 'B25038_003, B25038_004, B25038_005, B25038_006, B25038_007, B25038_008', 'B25038_010, B25038_011, B25038_012, B25038_013, B25038_014, B25038_015', 'B07001_017, B07001_001', 'B07003_016, B07003_001', 'B25014_011, B25014_012, B25014_013, B25014_008', 'B25024_002, B25024_003, B25024_001', 'B25024_004, B25024_005, B25024_001', 'B25024_006, B25024_001', 'B25024_007, B25024_001', 'B25024_008, B25024_009, B25024_001', 'B25024_010, B25024_011, B25024_001', 'B25041_002, B25041_001', 'B25041_003, B25041_001', 'B25041_004, B25041_001', 'B25041_005, B25041_006, B25041_001', 'B25041_007, B25041_001', 'B25063_003, B25063_004, B25063_005, B25063_006, B25063_007, B25063_008, B25063_009, B25063_010, B25063_011, B25063_012, B25063_013, B25063_014, B25063_015, B25063_016, B25063_017, B25063_018, B25063_019, B25063_020, B25063_021, B25063_022, B25063_023, B25063_024, B25063_025, B25063_026', 'B25056_003, B25056_004, B25056_005, B25056_006, B25056_007, B25056_008, B25056_009, B25056_010, B25056_011, B25056_012, B25056_013, B25056_014, B25056_015, B25056_016, B25056_017, B25056_018, B25056_019, B25056_020, B25056_021, B25056_022, B25056_023, B25056_024, B25056_025, B25056_026', 'B25070_002, B25070_003, B25070_004, B25070_005, B25070_006, B25070_007, B25070_008, B25070_009, B25070_010', 'B25075_002, B25075_003, B25075_004, B25075_005, B25075_006, B25075_007, B25075_008, B25075_009, B25075_010, B25075_011, B25075_012, B25075_013, B25075_014, B25075_015, B25075_016, B25075_017, B25075_018, B25075_019, B25075_020, B25075_021, B25075_022, B25075_023, B25075_024, B25075_025, B25075_026, B25075_027', 'B25070_007, B25070_008, B25070_009, B25070_010, B25070_001', 'B25070_010, B25070_001', 'B25046_002, B25046_001', 'B25046_003, B25046_001', 'B25046_001, B01001_001', 'B25044_003, B25044_010, B25044_001', 'B25044_003, B25044_002', 'B25044_010, B25044_009', 'B19001_001, B19001_002, B19001_003, B19001_004, B19001_005, B19001_006, B19001_007, B19001_008, B19001_009, B19001_010, B19001_011, B19001_012, B19001_013, B19001_014, B19001_015, B19001_016, B19001_017', 'B19101_001, B19101_002, B19101_003, B19101_004, B19101_005, B19101_006, B19101_007, B19101_008, B19101_009, B19101_010, B19101_011, B19101_012, B19101_013, B19101_014, B19101_015, B19101_016, B19101_017', 'B19025_001, B01001_001', 'B17001_002, B17001_001', 'B23025_005, B23025_002', 'B19001_001', 'B19001_002', 'B19001_003', 'B19001_004', 'B19001_005', 'B19001_006', 'B19001_007', 'B19001_008', 'B19001_009', 'B19001_010', 'B19001_011', 'B19001_012', 'B19001_013', 'B19001_014', 'B19001_015', 'B19001_016', 'B19001_017', 'B23001_094, B23001_101, B23001_108, B23001_115, B23001_122, B23001_129, B23001_136, B23001_143, B23001_150, B23001_157, B23001_162, B23001_167, B23001_172, B23001_090, B23001_097, B23001_104, B23001_111, B23001_118, B23001_125, B23001_132, B23001_139, B23001_146, B23001_153, B23001_160, B23001_165, B23001_170', 'B23001_008, B23001_015, B23001_022, B23001_029, B23001_036, B23001_043, B23001_050, B23001_057, B23001_064, B23001_071, B23001_076, B23001_081, B23001_086, B23001_004, B23001_011, B23001_018, B23001_025, B23001_032, B23001_039, B23001_046, B23001_053, B23001_060, B23001_067, B23001_074, B23001_079, B23001_084', 'C24050_001', 'C24050_015, C24050_001', 'C24050_029, C24050_001', 'C24050_043, C24050_001', 'C24050_057, C24050_001', 'C24050_071, C24050_001', 'B08006_001', 'B08006_002, B08006_001', 'B08006_003, B08006_001', 'B08006_004, B08006_001', 'B08006_008, B08006_001', 'B08006_014, B08006_001', 'B08006_015, B08006_001', 'B08006_016, B08006_001', 'B08006_017, B08006_001', 'B01001_001']\n"
     ]
    },
    {
     "data": {
      "text/plain": [
       "['B16007_010E',\n",
       " 'B23001_172E',\n",
       " 'B25038_011E',\n",
       " 'B25075_002E',\n",
       " 'B25070_002E',\n",
       " 'B01001_015E',\n",
       " 'B23001_125E',\n",
       " 'B23001_057E',\n",
       " 'B25044_010E',\n",
       " 'B25046_002E']"
      ]
     },
     "execution_count": 80,
     "metadata": {},
     "output_type": "execute_result"
    }
   ],
   "source": [
    "# Create list of attribute IDs from attribute_lookup.csv\n",
    "attribute_lookup_df = pd.read_csv (r'./lookup_tables/attribute_lookup.csv', dtype=str)\n",
    "\n",
    "attribute_ids_extracted = attribute_lookup_df['attribute_id'].tolist()\n",
    "attribute_ids = []\n",
    "print(attribute_ids_extracted)\n",
    "for attribute_id in attribute_ids_extracted:\n",
    "    attribute_ids.extend(attribute_id.split(\", \"))\n",
    "attribute_ids = list(set([x+\"E\" for x in attribute_ids]))\n",
    "attribute_ids[:10]"
   ]
  },
  {
   "cell_type": "markdown",
   "id": "determined-grain",
   "metadata": {},
   "source": [
    "### Build Census API URL and Make Query\n",
    "The code below builds the URL for the census API call to get relevant 2019 ACS attribute data at the tract level for San Francisco County. The Census API accepts up to 50 attributes at a time. Therefore the attribute list is first grouped into sublists of 45 attribute IDs. An API call is. Below define:\n",
    "- Tract code is '*' to collect all tracts\n",
    "- State code is '06' for CA\n",
    "- County code is '075' for San Francisco County\n",
    "- Attributes are defined by the attribute id list and includes all relevant attributes for the socio-economic data calcs"
   ]
  },
  {
   "cell_type": "code",
   "execution_count": 81,
   "id": "worse-detail",
   "metadata": {},
   "outputs": [],
   "source": [
    "# function builds the api URL from tract_code, state_code, county_code, and attribute ids. \n",
    "def build_census_url(tract_code, state_code, county_code, attribute_ids):\n",
    "    attributes = ','.join(attribute_ids)\n",
    "    census_url = r'https://api.census.gov/data/{}/acs/acs5?get={}&for=tract:{}&in=state:{}&in=county:{}'\\\n",
    "                .format(year, attributes, tract_code, state_code, county_code)\n",
    "    return census_url\n",
    "    "
   ]
  },
  {
   "cell_type": "code",
   "execution_count": 82,
   "id": "second-costume",
   "metadata": {},
   "outputs": [],
   "source": [
    "# function makes a single api call and collects results in a pandas dataframe\n",
    "def make_census_api_call(census_url):\n",
    "    # make API call to Census\n",
    "    resp = requests.get(census_url)\n",
    "    if resp.status_code != 200:\n",
    "        # this means something went wrong\n",
    "        resp.raise_for_status()\n",
    "       \n",
    "    # retrieve data as json and convert to Pandas Dataframe\n",
    "    data = resp.json()\n",
    "    headers = data.pop(0)\n",
    "    df = pd.DataFrame(data, columns=headers)\n",
    "\n",
    "    # convert values that are not state, county, or tract to numeric type\n",
    "    cols=[i for i in df.columns if i not in [\"state\",\"county\",\"tract\"]]\n",
    "    for col in cols:\n",
    "        df[col]=pd.to_numeric(df[col])\n",
    "        \n",
    "    return df"
   ]
  },
  {
   "cell_type": "code",
   "execution_count": 83,
   "id": "utility-detail",
   "metadata": {
    "scrolled": true
   },
   "outputs": [
    {
     "data": {
      "text/html": [
       "<div>\n",
       "<style scoped>\n",
       "    .dataframe tbody tr th:only-of-type {\n",
       "        vertical-align: middle;\n",
       "    }\n",
       "\n",
       "    .dataframe tbody tr th {\n",
       "        vertical-align: top;\n",
       "    }\n",
       "\n",
       "    .dataframe thead th {\n",
       "        text-align: right;\n",
       "    }\n",
       "</style>\n",
       "<table border=\"1\" class=\"dataframe\">\n",
       "  <thead>\n",
       "    <tr style=\"text-align: right;\">\n",
       "      <th></th>\n",
       "      <th>B16007_010E</th>\n",
       "      <th>B23001_172E</th>\n",
       "      <th>B25038_011E</th>\n",
       "      <th>B25075_002E</th>\n",
       "      <th>B25070_002E</th>\n",
       "      <th>B01001_015E</th>\n",
       "      <th>B23001_125E</th>\n",
       "      <th>B23001_057E</th>\n",
       "      <th>B25044_010E</th>\n",
       "      <th>B25046_002E</th>\n",
       "      <th>...</th>\n",
       "      <th>B25024_006E</th>\n",
       "      <th>B25063_005E</th>\n",
       "      <th>B23025_002E</th>\n",
       "      <th>B15003_013E</th>\n",
       "      <th>B25063_008E</th>\n",
       "      <th>B15003_012E</th>\n",
       "      <th>B25046_003E</th>\n",
       "      <th>B23001_111E</th>\n",
       "      <th>B25038_007E</th>\n",
       "      <th>B05002_001E</th>\n",
       "    </tr>\n",
       "  </thead>\n",
       "  <tbody>\n",
       "    <tr>\n",
       "      <th>0</th>\n",
       "      <td>74</td>\n",
       "      <td>0</td>\n",
       "      <td>405</td>\n",
       "      <td>0</td>\n",
       "      <td>19</td>\n",
       "      <td>51</td>\n",
       "      <td>138</td>\n",
       "      <td>0</td>\n",
       "      <td>486</td>\n",
       "      <td>251.0</td>\n",
       "      <td>...</td>\n",
       "      <td>78</td>\n",
       "      <td>0</td>\n",
       "      <td>1133</td>\n",
       "      <td>0</td>\n",
       "      <td>30</td>\n",
       "      <td>0</td>\n",
       "      <td>597.0</td>\n",
       "      <td>203</td>\n",
       "      <td>0</td>\n",
       "      <td>2121</td>\n",
       "    </tr>\n",
       "    <tr>\n",
       "      <th>1</th>\n",
       "      <td>83</td>\n",
       "      <td>0</td>\n",
       "      <td>106</td>\n",
       "      <td>0</td>\n",
       "      <td>126</td>\n",
       "      <td>6</td>\n",
       "      <td>28</td>\n",
       "      <td>0</td>\n",
       "      <td>337</td>\n",
       "      <td>248.0</td>\n",
       "      <td>...</td>\n",
       "      <td>158</td>\n",
       "      <td>22</td>\n",
       "      <td>869</td>\n",
       "      <td>30</td>\n",
       "      <td>19</td>\n",
       "      <td>0</td>\n",
       "      <td>518.0</td>\n",
       "      <td>75</td>\n",
       "      <td>61</td>\n",
       "      <td>1908</td>\n",
       "    </tr>\n",
       "    <tr>\n",
       "      <th>2</th>\n",
       "      <td>50</td>\n",
       "      <td>0</td>\n",
       "      <td>305</td>\n",
       "      <td>0</td>\n",
       "      <td>31</td>\n",
       "      <td>12</td>\n",
       "      <td>121</td>\n",
       "      <td>0</td>\n",
       "      <td>325</td>\n",
       "      <td>558.0</td>\n",
       "      <td>...</td>\n",
       "      <td>213</td>\n",
       "      <td>0</td>\n",
       "      <td>1774</td>\n",
       "      <td>0</td>\n",
       "      <td>0</td>\n",
       "      <td>50</td>\n",
       "      <td>620.0</td>\n",
       "      <td>192</td>\n",
       "      <td>27</td>\n",
       "      <td>2473</td>\n",
       "    </tr>\n",
       "    <tr>\n",
       "      <th>3</th>\n",
       "      <td>23</td>\n",
       "      <td>0</td>\n",
       "      <td>180</td>\n",
       "      <td>10</td>\n",
       "      <td>94</td>\n",
       "      <td>34</td>\n",
       "      <td>57</td>\n",
       "      <td>0</td>\n",
       "      <td>173</td>\n",
       "      <td>359.0</td>\n",
       "      <td>...</td>\n",
       "      <td>161</td>\n",
       "      <td>0</td>\n",
       "      <td>1473</td>\n",
       "      <td>0</td>\n",
       "      <td>0</td>\n",
       "      <td>0</td>\n",
       "      <td>811.0</td>\n",
       "      <td>109</td>\n",
       "      <td>68</td>\n",
       "      <td>1859</td>\n",
       "    </tr>\n",
       "    <tr>\n",
       "      <th>4</th>\n",
       "      <td>20</td>\n",
       "      <td>0</td>\n",
       "      <td>212</td>\n",
       "      <td>24</td>\n",
       "      <td>330</td>\n",
       "      <td>79</td>\n",
       "      <td>129</td>\n",
       "      <td>0</td>\n",
       "      <td>550</td>\n",
       "      <td>482.0</td>\n",
       "      <td>...</td>\n",
       "      <td>519</td>\n",
       "      <td>0</td>\n",
       "      <td>2578</td>\n",
       "      <td>78</td>\n",
       "      <td>0</td>\n",
       "      <td>30</td>\n",
       "      <td>1439.0</td>\n",
       "      <td>275</td>\n",
       "      <td>54</td>\n",
       "      <td>3925</td>\n",
       "    </tr>\n",
       "  </tbody>\n",
       "</table>\n",
       "<p>5 rows × 382 columns</p>\n",
       "</div>"
      ],
      "text/plain": [
       "   B16007_010E  B23001_172E  B25038_011E  B25075_002E  B25070_002E  \\\n",
       "0           74            0          405            0           19   \n",
       "1           83            0          106            0          126   \n",
       "2           50            0          305            0           31   \n",
       "3           23            0          180           10           94   \n",
       "4           20            0          212           24          330   \n",
       "\n",
       "   B01001_015E  B23001_125E  B23001_057E  B25044_010E  B25046_002E  ...  \\\n",
       "0           51          138            0          486        251.0  ...   \n",
       "1            6           28            0          337        248.0  ...   \n",
       "2           12          121            0          325        558.0  ...   \n",
       "3           34           57            0          173        359.0  ...   \n",
       "4           79          129            0          550        482.0  ...   \n",
       "\n",
       "   B25024_006E  B25063_005E  B23025_002E  B15003_013E  B25063_008E  \\\n",
       "0           78            0         1133            0           30   \n",
       "1          158           22          869           30           19   \n",
       "2          213            0         1774            0            0   \n",
       "3          161            0         1473            0            0   \n",
       "4          519            0         2578           78            0   \n",
       "\n",
       "   B15003_012E  B25046_003E  B23001_111E  B25038_007E  B05002_001E  \n",
       "0            0        597.0          203            0         2121  \n",
       "1            0        518.0           75           61         1908  \n",
       "2           50        620.0          192           27         2473  \n",
       "3            0        811.0          109           68         1859  \n",
       "4           30       1439.0          275           54         3925  \n",
       "\n",
       "[5 rows x 382 columns]"
      ]
     },
     "execution_count": 83,
     "metadata": {},
     "output_type": "execute_result"
    }
   ],
   "source": [
    "# set geo variables for api call\n",
    "tract_code = \"*\"\n",
    "state_code = \"06\"\n",
    "county_code = \"075\"\n",
    "\n",
    "# split attributes into groups of 45, run a census query for each, merge outputs into a single df\n",
    "split_attribute_ids = [attribute_ids[i:i+45] for i in range(0, len(attribute_ids), 45)]\n",
    "df=None\n",
    "first = True\n",
    "for ids in split_attribute_ids:\n",
    "    census_url = build_census_url(tract_code, state_code, county_code, ids)\n",
    "    returned_df = make_census_api_call(census_url)\n",
    "    if first:\n",
    "        df = returned_df\n",
    "        first = False\n",
    "    else:\n",
    "        returned_df = returned_df.drop(columns=['state', 'county'])\n",
    "        df = pd.merge(df, returned_df, on='tract', how='left')\n",
    "\n",
    "df.head()"
   ]
  },
  {
   "cell_type": "markdown",
   "id": "organized-avenue",
   "metadata": {},
   "source": [
    "## Prepare Lookup Dictionaries and Helper Functions"
   ]
  },
  {
   "cell_type": "markdown",
   "id": "lasting-violence",
   "metadata": {},
   "source": [
    "### Tract/Neighborhood Lookup\n",
    "Two lookup dictionaries are created below that relate neghborhoods to tracts and supervisor districts to tracts. These dictionaries are used to subset the census dataframe for each neighborhood or district so that calcs can be run on each set of tracts. The lookup dictionaries are created from geo_lookup.csv in the repository."
   ]
  },
  {
   "cell_type": "code",
   "execution_count": 84,
   "id": "straight-poverty",
   "metadata": {
    "scrolled": false
   },
   "outputs": [],
   "source": [
    "# import geo_lookup csv\n",
    "geo_lookup_df = pd.read_csv (r'./lookup_tables/geo_lookup_{}.csv'.format(year), dtype=str)\n",
    "\n",
    "tract_nb_lookup = defaultdict(list)\n",
    "tract_sd_lookup = defaultdict(list)\n",
    "all_tracts = list(set(df['tract'].tolist()))\n",
    "# create tract lookup dictionary for neighborhoods\n",
    "for i, j in zip(geo_lookup_df['neighborhood'], geo_lookup_df['tractid']):\n",
    "    tract_nb_lookup[i].append(j)\n",
    "tract_nb_lookup[\"sf\"]= all_tracts\n",
    "# create tract lookup dictionary for supervisor districts\n",
    "for i, j in zip(geo_lookup_df['supervisor_district'], geo_lookup_df['tractid']):\n",
    "    tract_sd_lookup[i].append(j)\n",
    "tract_sd_lookup[\"sf\"]= all_tracts\n",
    "    \n",
    "first_4 = list(tract_nb_lookup.items())\n"
   ]
  },
  {
   "cell_type": "markdown",
   "id": "surface-reply",
   "metadata": {},
   "source": [
    "### Calculating Medians\n",
    "To calculate median values of aggregated geographies you cannot use the mean of component geographies. Instead a statistical approximation of the median must be calculated from range tables. \n",
    "\n",
    "Range variables in the ACS have a unique ID like any other Census variable. They represent the amount of a variable within a select range. e.g. number of households with household incomes between $45000-50000. Range variable ID's and range information is stored in the median_ranges.csv file in the repository. These range variables and ranges are needed for calculating the median at the neighborhood level. \n",
    "\n",
    "The below function calculates a median based on range data. This method follows the offical ACS documentation for [calculating a median](https://www.dof.ca.gov/Forecasting/Demographics/Census_Data_Center_Network/documents/How_to_Recalculate_a_Median.pdf)\n"
   ]
  },
  {
   "cell_type": "code",
   "execution_count": 85,
   "id": "hollow-background",
   "metadata": {
    "scrolled": true
   },
   "outputs": [
    {
     "data": {
      "text/html": [
       "<div>\n",
       "<style scoped>\n",
       "    .dataframe tbody tr th:only-of-type {\n",
       "        vertical-align: middle;\n",
       "    }\n",
       "\n",
       "    .dataframe tbody tr th {\n",
       "        vertical-align: top;\n",
       "    }\n",
       "\n",
       "    .dataframe thead th {\n",
       "        text-align: right;\n",
       "    }\n",
       "</style>\n",
       "<table border=\"1\" class=\"dataframe\">\n",
       "  <thead>\n",
       "    <tr style=\"text-align: right;\">\n",
       "      <th></th>\n",
       "      <th>name</th>\n",
       "      <th>id</th>\n",
       "      <th>range_start</th>\n",
       "      <th>range_end</th>\n",
       "      <th>households</th>\n",
       "      <th>cumulative_total</th>\n",
       "    </tr>\n",
       "  </thead>\n",
       "  <tbody>\n",
       "    <tr>\n",
       "      <th>0</th>\n",
       "      <td>median_household_income</td>\n",
       "      <td>B19001_002E</td>\n",
       "      <td>2500.0</td>\n",
       "      <td>9999.0</td>\n",
       "      <td>0</td>\n",
       "      <td>0</td>\n",
       "    </tr>\n",
       "    <tr>\n",
       "      <th>1</th>\n",
       "      <td>median_household_income</td>\n",
       "      <td>B19001_003E</td>\n",
       "      <td>10000.0</td>\n",
       "      <td>14999.0</td>\n",
       "      <td>0</td>\n",
       "      <td>0</td>\n",
       "    </tr>\n",
       "    <tr>\n",
       "      <th>2</th>\n",
       "      <td>median_household_income</td>\n",
       "      <td>B19001_004E</td>\n",
       "      <td>15000.0</td>\n",
       "      <td>19999.0</td>\n",
       "      <td>0</td>\n",
       "      <td>0</td>\n",
       "    </tr>\n",
       "    <tr>\n",
       "      <th>3</th>\n",
       "      <td>median_household_income</td>\n",
       "      <td>B19001_005E</td>\n",
       "      <td>20000.0</td>\n",
       "      <td>24999.0</td>\n",
       "      <td>0</td>\n",
       "      <td>0</td>\n",
       "    </tr>\n",
       "    <tr>\n",
       "      <th>4</th>\n",
       "      <td>median_household_income</td>\n",
       "      <td>B19001_006E</td>\n",
       "      <td>25000.0</td>\n",
       "      <td>29999.0</td>\n",
       "      <td>0</td>\n",
       "      <td>0</td>\n",
       "    </tr>\n",
       "  </tbody>\n",
       "</table>\n",
       "</div>"
      ],
      "text/plain": [
       "                      name           id  range_start  range_end  households  \\\n",
       "0  median_household_income  B19001_002E       2500.0     9999.0           0   \n",
       "1  median_household_income  B19001_003E      10000.0    14999.0           0   \n",
       "2  median_household_income  B19001_004E      15000.0    19999.0           0   \n",
       "3  median_household_income  B19001_005E      20000.0    24999.0           0   \n",
       "4  median_household_income  B19001_006E      25000.0    29999.0           0   \n",
       "\n",
       "   cumulative_total  \n",
       "0                 0  \n",
       "1                 0  \n",
       "2                 0  \n",
       "3                 0  \n",
       "4                 0  "
      ]
     },
     "execution_count": 85,
     "metadata": {},
     "output_type": "execute_result"
    }
   ],
   "source": [
    "# import median tables from median_ranges csv and add empty columns for rows 'households and 'cumulative_totals'\n",
    "range_df = pd.read_csv (r'./lookup_tables/median_ranges.csv')\n",
    "range_df['households']=0\n",
    "range_df['cumulative_total']=0\n",
    "range_df.head()"
   ]
  },
  {
   "cell_type": "code",
   "execution_count": 86,
   "id": "julian-dietary",
   "metadata": {},
   "outputs": [],
   "source": [
    "# define median helper function\n",
    "def calc_median(tract_df, range_df, median_to_calc):\n",
    "    \n",
    "    # subset range df for current median variable to calc\n",
    "    range_df = range_df[range_df['name']==median_to_calc]\n",
    "    \n",
    "    # sort dataframe low to high by range start column\n",
    "    range_df = range_df.sort_values(by=['range_start'])\n",
    "    \n",
    "    # calculate households as sum of tract level households for each row based on range id\n",
    "    range_df['households'] = range_df.apply(lambda row : tract_df[row['id']].sum(), axis = 1)\n",
    "    \n",
    "    # calculate the cumulative total of households\n",
    "    range_df['cumulative_total'] = range_df['households'].cumsum()\n",
    "    \n",
    "    # calculate total households and return 0 if total households is 0\n",
    "    total_households = range_df['households'].sum()\n",
    "    \n",
    "    # if total households is 0 set median to 0\n",
    "    if total_households == 0:\n",
    "        return 0\n",
    "    \n",
    "    # calculate midpoint\n",
    "    midpoint = total_households/2\n",
    "\n",
    "    # if midpoint is below first range return median as end of first range value\n",
    "    if midpoint < range_df['cumulative_total'].min():\n",
    "        new_median = range_df['range_end'].min()\n",
    "        return new_median\n",
    "    \n",
    "    # if midpoint is above last range set median to end of last range value\n",
    "    if midpoint > range_df['cumulative_total'].max():\n",
    "        new_median = range_df['range_end'].max()\n",
    "        return new_median\n",
    "    \n",
    "    less_midpoint_df = range_df[range_df['cumulative_total']<midpoint]\n",
    "    \n",
    "    # get the single row containing the range just below the mid range by getting the row with the max range start from the subsetted median df\n",
    "    range_below_mid_range_df = less_midpoint_df[less_midpoint_df['range_start'] == less_midpoint_df['range_start'].max()]\n",
    "    \n",
    "    # get the cumulative total value for the first row of the range below mid range dictionary\n",
    "    total_hh_previous_range = range_below_mid_range_df['cumulative_total'].iloc[0]\n",
    "    hh_to_mid_range = midpoint - total_hh_previous_range\n",
    "    \n",
    "    # extract rows above midrange by subsetting median df for rows with cumulative total grearter than midpoint.\n",
    "    greater_midpoint_df = range_df[range_df['cumulative_total']>midpoint]\n",
    "    \n",
    "    # get the single row containing the mid range by getting the row with the min range start from the subsetted median df\n",
    "    mid_range_df = greater_midpoint_df[greater_midpoint_df['range_start'] == greater_midpoint_df['range_start'].min()]\n",
    "    \n",
    "    # get the households value for the first row of the mid range dictionary\n",
    "    hh_in_mid_range = mid_range_df['households'].iloc[0]\n",
    "    \n",
    "    # calculate proportion of number of households in the mid range that would be needed to get to the mid-point\n",
    "    prop_of_hh = hh_to_mid_range/hh_in_mid_range\n",
    "    \n",
    "    # calculate width of the mid range\n",
    "    width = (mid_range_df['range_end'].iloc[0]-mid_range_df['range_start'].iloc[0])+1\n",
    "    \n",
    "    # apply proportion to width of mid range\n",
    "    prop_to_width = prop_of_hh*width\n",
    "    beginning_of_mid_range = mid_range_df['range_start'].iloc[0]\n",
    "    \n",
    "    # calculate new median\n",
    "    new_median = beginning_of_mid_range + prop_to_width\n",
    "    \n",
    "    return new_median"
   ]
  },
  {
   "cell_type": "markdown",
   "id": "infrared-violation",
   "metadata": {},
   "source": [
    "## Define functions for calculating socio-economic data\n",
    "The `calc_socio_economic_data` function takes tract level data from the API call and the tract/neighborhood lookup dictionary. This function creates all of the socio-economic data calcs and returns a dictionary. The calcs in this function are derived from the [Data_Items_and_Sources.xlsx](https://github.com/jsherba/socio-economic-profiles/raw/main/Data_Items_And_Sources_2019.xlsx) file developed by Michael Webster"
   ]
  },
  {
   "cell_type": "code",
   "execution_count": 87,
   "id": "sensitive-estate",
   "metadata": {},
   "outputs": [],
   "source": [
    "# define other helper functions\n",
    "def calc_sum(df, attribute_id):\n",
    "    return df[attribute_id].sum()\n",
    "\n",
    "def calc_normalized(df, attribute_id, attribute_id2):\n",
    "    if df[attribute_id2].sum() == 0:\n",
    "        return 0\n",
    "    else:\n",
    "        return (df[attribute_id].sum()/df[attribute_id2].sum())\n",
    "\n",
    "def calc_sum_normalized(df, attribute_list, attribute_id2):\n",
    "    if df[attribute_id2].sum()==0:\n",
    "        return 0\n",
    "    else:\n",
    "        sum_of_attributes = 0\n",
    "        for attribute_id in attribute_list:\n",
    "            sum_of_attributes+=df[attribute_id].sum()\n",
    "        return sum_of_attributes/df[attribute_id2].sum()\n"
   ]
  },
  {
   "cell_type": "code",
   "execution_count": 94,
   "id": "likely-ownership",
   "metadata": {},
   "outputs": [],
   "source": [
    "# function runs all calcs for each neighborhood or supervisor district\n",
    "def calc_socio_economic_data(df, tract_lookup):\n",
    "    # create empty dictionary to add calculated attribute information to\n",
    "    all_calc_data = defaultdict(dict) \n",
    "    # calculate all stats for each neighborhood\n",
    "    for nb_name, tracts in tract_lookup.items():\n",
    "        # extract attribute information for tracks associated with a neighborhood\n",
    "        tract_df = df[df['tract'].isin(tracts)]\n",
    "        # build dictionary with all stats for a neighborhood\n",
    "        all_calc_data_nb = all_calc_data[nb_name]\n",
    "        # population\n",
    "        all_calc_data_nb[\"Total Population\"] = calc_sum(tract_df, 'B01001_001E')\n",
    "        all_calc_data_nb[\"Group Quarter Population\"] = calc_sum(tract_df, 'B26001_001E')\n",
    "        all_calc_data_nb[\"Percent Female\"] = calc_normalized(tract_df, 'B01001_026E', 'B01001_001E')\n",
    "        # household stats\n",
    "        all_calc_data_nb[\"Housholds\"] = calc_sum(tract_df, 'B11001_001E')\n",
    "        all_calc_data_nb[\"Family Households\"] = calc_normalized(tract_df, 'B11001_002E', 'B11001_001E')\n",
    "        all_calc_data_nb[\"Non-Family Households\"] = calc_normalized(tract_df, 'B11001_007E', 'B11001_001E')\n",
    "        all_calc_data_nb[\"Single Person Households, % of Total\"] = calc_normalized(tract_df, 'B11001_008E', 'B11001_001E')\n",
    "        all_calc_data_nb[\"Households with Children, % of Total\"] = calc_normalized(tract_df, 'B11005_002E', 'B11001_001E')\n",
    "        all_calc_data_nb[\"Households with 60 years and older, % of Total\"] = calc_normalized(tract_df, 'B11006_002E', 'B11001_001E')\n",
    "        all_calc_data_nb[\"Average Household Size\"] = calc_normalized(tract_df, 'B11002_001E', 'B11001_001E')\n",
    "        all_calc_data_nb[\"Average Family Household Size\"] = calc_normalized(tract_df, 'B11002_002E', 'B11001_002E')\n",
    "        # race and ethnicity stats\n",
    "        all_calc_data_nb[\"Asian\"] = calc_normalized(tract_df, 'B02001_005E', 'B02001_001E')\n",
    "        all_calc_data_nb[\"Black/African American\"] = calc_normalized(tract_df, 'B02001_003E', 'B02001_001E')\n",
    "        all_calc_data_nb[\"White\"] = calc_normalized(tract_df, 'B02001_002E', 'B02001_001E')\n",
    "        all_calc_data_nb[\"Native American Indian\"] = calc_normalized(tract_df, 'B02001_004E', 'B02001_001E')\n",
    "        all_calc_data_nb[\"Native Hawaiian/Pacific Islander\"] = calc_normalized(tract_df, 'B02001_006E', 'B02001_001E')\n",
    "        all_calc_data_nb[\"Other/Two or More Races\"] = calc_sum_normalized(tract_df, ['B02001_008E', 'B02001_007E'], 'B02001_001E')\n",
    "        all_calc_data_nb[\"% Latino (of Any Race)\"] = calc_normalized(tract_df, 'B03001_003E', 'B03001_001E')\n",
    "        # age\n",
    "        all_calc_data_nb[\"0-4 Years\"] = calc_sum_normalized(tract_df, ['B01001_003E', 'B01001_027E'], 'B01001_001E')\n",
    "        all_calc_data_nb[\"5-17 Years\"] = calc_sum_normalized(tract_df, ['B01001_004E', 'B01001_005E', 'B01001_006E', 'B01001_028E', 'B01001_029E', 'B01001_030E'],'B01001_001E')\n",
    "        all_calc_data_nb[\"18-34 Years\"] = calc_sum_normalized(tract_df, ['B01001_007E','B01001_008E','B01001_009E', 'B01001_010E', 'B01001_011E', 'B01001_012E','B01001_031E','B01001_032E','B01001_033E','B01001_034E','B01001_035E','B01001_036E'], 'B01001_001E')\n",
    "        all_calc_data_nb[\"35-59 Years\"] = calc_sum_normalized(tract_df, ['B01001_013E', 'B01001_014E', 'B01001_015E', 'B01001_016E', 'B01001_017E', 'B01001_037E', 'B01001_038E', 'B01001_039E', 'B01001_040E', 'B01001_041E'], 'B01001_001E')\n",
    "        all_calc_data_nb[\"60 and older\"] = calc_sum_normalized(tract_df, ['B01001_018E', 'B01001_019E', 'B01001_020E', 'B01001_021E', 'B01001_022E', 'B01001_023E', 'B01001_024E', 'B01001_025E', 'B01001_042E', 'B01001_043E', 'B01001_044E', 'B01001_045E', 'B01001_046E', 'B01001_047E', 'B01001_048E', 'B01001_049E'], 'B01001_001E')\n",
    "        #all_calc_data_nb[\"Median Age\"]\n",
    "        # educationa attainment\n",
    "        all_calc_data_nb[\"High School or Less\"] = calc_sum_normalized(tract_df, ['B15003_002E', 'B15003_003E', 'B15003_004E', 'B15003_005E', 'B15003_006E', 'B15003_007E', 'B15003_008E', 'B15003_009E', 'B15003_010E', 'B15003_011E', 'B15003_012E', 'B15003_013E', 'B15003_014E', 'B15003_015E', 'B15003_016E', 'B15003_017E', 'B15003_018E'], 'B15003_001E')\n",
    "        all_calc_data_nb[\"Some College/Associate Degree\"] = calc_sum_normalized(tract_df, ['B15003_019E', 'B15003_020E', 'B15003_021E'], 'B15003_001E')\n",
    "        all_calc_data_nb[\"College Degree\"] = calc_normalized(tract_df, 'B15003_022E', 'B15003_001E')\n",
    "        all_calc_data_nb[\"Graduate/Professional Degree\"] = calc_sum_normalized(tract_df, ['B15003_023E', 'B15003_024E', 'B15003_025E'], 'B15003_001E')\n",
    "        # nativity\n",
    "        all_calc_data_nb[\"Foreign Born\"] = calc_normalized(tract_df, 'B05002_013E', 'B05002_001E')\n",
    "        # language spoken at home\n",
    "        all_calc_data_nb[\"English Only\"] = calc_sum_normalized(tract_df, ['B16007_003E', 'B16007_009E', 'B16007_015E'], 'B16007_001E')\n",
    "        all_calc_data_nb[\"Spanish Only\"] = calc_sum_normalized(tract_df, ['B16007_004E', 'B16007_010E', 'B16007_016E'], 'B16007_001E')\n",
    "        all_calc_data_nb[\"Asian/Pacific Islander\"] = calc_sum_normalized(tract_df, ['B16007_006E', 'B16007_012E', 'B16007_018E'], 'B16007_001E')\n",
    "        all_calc_data_nb[\"Other European Languages\"] = calc_sum_normalized(tract_df, ['B16007_005E', 'B16007_011E', 'B16007_017E'], 'B16007_001E')\n",
    "        all_calc_data_nb[\"Other Languages\"] = calc_sum_normalized(tract_df, ['B16007_007E', 'B16007_013E', 'B16007_019E'], 'B16007_001E')\n",
    "        # linguistic isolation\n",
    "        all_calc_data_nb[\"% of All Households\"] = calc_sum_normalized(tract_df, ['B16003_002E', 'B16003_008E'], 'B16004_001E')\n",
    "        all_calc_data_nb[\"% of Spanish-Speaking Households\"] = calc_sum_normalized(tract_df, ['B16003_004E', 'B16003_009E'], 'B16004_001E')\n",
    "        all_calc_data_nb[\"% of Asian-Speaking Households\"] = calc_sum_normalized(tract_df, ['B16003_006E', 'B16003_011E'], 'B16004_001E')\n",
    "        all_calc_data_nb[\"% of Other European-Speaking Households\"] = calc_sum_normalized(tract_df, ['B16003_005E', 'B16003_010E'], 'B16004_001E')\n",
    "        all_calc_data_nb[\"% of Households Speaking Other Languages\"] = calc_sum_normalized(tract_df, ['B16003_007E', 'B16003_012E'], 'B16004_001E')\n",
    "        # housing\n",
    "        all_calc_data_nb[\"Total Number of Units\"] = calc_sum(tract_df, 'B25001_001E')\n",
    "        all_calc_data_nb[\"Median Year Structure Built\"] = calc_median(tract_df, range_df, 'median_year_structure_built')\n",
    "        all_calc_data_nb[\"Owner Occupied\"] = calc_normalized(tract_df, 'B25007_002E', 'B25007_001E')\n",
    "        all_calc_data_nb[\"Renter Occupied\"] = calc_normalized(tract_df, 'B25007_012E', 'B25007_001E')\n",
    "        all_calc_data_nb[\"Vacant Units\"] = calc_normalized(tract_df, 'B25004_001E', 'B25001_001E')\n",
    "        all_calc_data_nb[\"For Rent\"] = calc_normalized(tract_df, 'B25004_002E', 'B25004_001E')\n",
    "        all_calc_data_nb[\"For Sale Only\"] = calc_normalized(tract_df, 'B25004_004E', 'B25004_001E')\n",
    "        all_calc_data_nb[\"Rented or Sold, Not Occupied\"] = calc_sum_normalized(tract_df, ['B25004_003E', 'B25004_005E'], 'B25004_001E')\n",
    "        all_calc_data_nb[\"For Seasonal, Recreation or Occasional Use\"] = calc_normalized(tract_df, 'B25004_006E', 'B25004_001E')\n",
    "        all_calc_data_nb[\"Other Vacant\"] = calc_normalized(tract_df, 'B25004_008E', 'B25004_001E')\n",
    "        all_calc_data_nb[\"Median Year Moved in to Unit (Own)\"] = calc_median(tract_df, range_df, 'median_year_moved_owner')\n",
    "        all_calc_data_nb[\"Median Year Moved in to Unit (Rent)\"] = calc_median(tract_df, range_df, 'median_year_moved_renter')\n",
    "        all_calc_data_nb[\"Percent in Same House Last Year\"] = calc_normalized(tract_df, 'B07001_017E', 'B07001_001E')\n",
    "        all_calc_data_nb[\"Percent Abroad Last Year\"] = calc_normalized(tract_df, 'B07003_016E', 'B07003_001E')\n",
    "        all_calc_data_nb[\"Overcrowding, Renter Occupied Housing\"] = calc_sum_normalized(tract_df, ['B25014_011E', 'B25014_012E', 'B25014_013E'], 'B25014_008E')\n",
    "        # structure type\n",
    "        all_calc_data_nb[\"Single Family Housing\"] = calc_sum_normalized(tract_df, ['B25024_002E', 'B25024_003E'], 'B25024_001E')\n",
    "        all_calc_data_nb[\"2-4 Units\"] = calc_sum_normalized(tract_df, ['B25024_004E', 'B25024_005E'], 'B25024_001E')\n",
    "        all_calc_data_nb[\"5-9 Units\"] = calc_normalized(tract_df, 'B25024_006E', 'B25024_001E')\n",
    "        all_calc_data_nb[\"10-19 Units\"] = calc_normalized(tract_df, 'B25024_007E', 'B25024_001E')\n",
    "        all_calc_data_nb[\"20 Units or More\"] = calc_sum_normalized(tract_df, ['B25024_008E', 'B25024_009E'], 'B25024_001E')\n",
    "        all_calc_data_nb[\"Other Type\"] = calc_sum_normalized(tract_df, ['B25024_010E', 'B25024_011E'], 'B25024_001E')\n",
    "        # unit size\n",
    "        all_calc_data_nb[\"No Bedroom\"] = calc_normalized(tract_df,'B25041_002E', 'B25041_001E')\n",
    "        all_calc_data_nb[\"1 Bedroom\"] = calc_normalized(tract_df, 'B25041_003E', 'B25041_001E')\n",
    "        all_calc_data_nb[\"2 Bedrooms\"] = calc_normalized(tract_df, 'B25041_004E', 'B25041_001E')\n",
    "        all_calc_data_nb[\"3-4 Bedrooms\"] = calc_sum_normalized(tract_df, ['B25041_005E', 'B25041_006E'], 'B25041_001E')\n",
    "        all_calc_data_nb[\"5 or More Bedrooms\"] = calc_normalized(tract_df, 'B25041_007E', 'B25041_001E')\n",
    "        # housing prices\n",
    "        all_calc_data_nb[\"Median Rent\"] = calc_median(tract_df, range_df, 'median_rent')\n",
    "        all_calc_data_nb[\"Median Contract Rent\"] = calc_median(tract_df, range_df, 'median_rent_contract')\n",
    "        all_calc_data_nb[\"Median Rent as % of Household Income\"] = calc_median(tract_df, range_df, 'median_rent_percent_of_income')\n",
    "        all_calc_data_nb[\"Rent Burdened\"] = calc_sum_normalized(tract_df, ['B25070_007E', 'B25070_008E', 'B25070_009E', 'B25070_010E'], 'B25070_001E')\n",
    "        all_calc_data_nb[\"Extremely Rent Burdened\"] = calc_normalized(tract_df, 'B25070_010E', 'B25070_001E')\n",
    "        all_calc_data_nb[\"Median Home Value\"] = calc_median(tract_df, range_df, 'median_home_value')\n",
    "        # vehicles available\n",
    "        all_calc_data_nb[\"Vehicles Available\"] = calc_sum(tract_df, 'B25046_001E')\n",
    "        all_calc_data_nb[\"Vehicles Homeowners\"] = calc_normalized(tract_df, 'B25046_002E', 'B25046_001E')\n",
    "        all_calc_data_nb[\"Vehicles Renters\"] = calc_normalized(tract_df, 'B25046_003E', 'B25046_001E')\n",
    "        all_calc_data_nb[\"Vehicles Per Capita\"] = calc_normalized(tract_df, 'B25046_001E', 'B01001_001E')\n",
    "        all_calc_data_nb[\"Households with no Vehicle\"] = calc_sum_normalized(tract_df, ['B25044_003E', 'B25044_010E'], 'B25044_001E')\n",
    "        all_calc_data_nb[\"Percent of Homeowning Households\"] = calc_normalized(tract_df, 'B25044_003E', 'B25044_002E')\n",
    "        all_calc_data_nb[\"Percent of Renting Households\"] = calc_normalized(tract_df, 'B25044_010E', 'B25044_009E')\n",
    "        # income\n",
    "        all_calc_data_nb[\"Median Household Income (B19013_001)\"] = calc_median(tract_df, range_df, 'median_household_income')\n",
    "        all_calc_data_nb[\"Median Family Income (B19113_001)\"] = calc_median(tract_df, range_df, 'median_family_income')\n",
    "        all_calc_data_nb[\"Per Capita Income\"] = calc_normalized(tract_df, 'B19025_001E', 'B01001_001E')\n",
    "        all_calc_data_nb[\"Percent in Poverty\"] = calc_normalized(tract_df, 'B17001_002E', 'B17001_001E')\n",
    "        all_calc_data_nb[\"Household Income Less than 10000\"] = calc_sum(tract_df, 'B19001_002E')\n",
    "        all_calc_data_nb[\"Household Income 10000 to 14999\"] = calc_sum(tract_df, 'B19001_003E')\n",
    "        all_calc_data_nb[\"Household Income 15000 to 19999\"] = calc_sum(tract_df, 'B19001_004E')\n",
    "        all_calc_data_nb[\"Household Income 20000 to 24999\"] = calc_sum(tract_df, 'B19001_005E')\n",
    "        all_calc_data_nb[\"Household Income 25000 to 29999\"] = calc_sum(tract_df, 'B19001_006E')\n",
    "        all_calc_data_nb[\"Household Income 30000 to 34999\"] = calc_sum(tract_df, 'B19001_007E')\n",
    "        all_calc_data_nb[\"Household Income 35000 to 39999\"] = calc_sum(tract_df, 'B19001_008E')\n",
    "        all_calc_data_nb[\"Household Income 40000 to 44999\"] = calc_sum(tract_df, 'B19001_009E')\n",
    "        all_calc_data_nb[\"Household Income 45000 to 49999\"] = calc_sum(tract_df, 'B19001_010E')\n",
    "        all_calc_data_nb[\"Household Income 50000 to 59999\"] = calc_sum(tract_df, 'B19001_011E')\n",
    "        all_calc_data_nb[\"Household Income 60000 to 74999\"] = calc_sum(tract_df, 'B19001_012E')\n",
    "        all_calc_data_nb[\"Household Income 75000 to 99999\"] = calc_sum(tract_df, 'B19001_013E')\n",
    "        all_calc_data_nb[\"Household Income 100000 to 124999\"] = calc_sum(tract_df, 'B19001_014E')\n",
    "        all_calc_data_nb[\"Household Income 125000 to 149999\"] = calc_sum(tract_df, 'B19001_015E')\n",
    "        all_calc_data_nb[\"Household Income 150000 to 199999\"] = calc_sum(tract_df, 'B19001_016E')\n",
    "        all_calc_data_nb[\"Household Income Greater than 200000\"] = calc_sum(tract_df, 'B19001_017E')\n",
    "        # employment\n",
    "        all_calc_data_nb[\"Unemployment Rate\"] = calc_normalized(tract_df, 'B23025_005E', 'B23025_002E')\n",
    "        all_calc_data_nb[\"Percent Unemployment Female\"] = calc_sum_normalized(tract_df, ['B23001_094E', 'B23001_101E', 'B23001_108E', 'B23001_115E', 'B23001_122E', 'B23001_129E', 'B23001_136E', 'B23001_143E', 'B23001_150E', 'B23001_157E', 'B23001_162E', 'B23001_167E', 'B23001_172E', 'B23001_090E', 'B23001_097E', 'B23001_104E', 'B23001_111E', 'B23001_118E', 'B23001_125E', 'B23001_132E', 'B23001_139E', 'B23001_146E', 'B23001_153E', 'B23001_160E', 'B23001_165E', 'B23001_170E'], 'B23025_002E')\n",
    "        all_calc_data_nb[\"Percent Unemployment Male\"] = calc_sum_normalized(tract_df, ['B23001_008E', 'B23001_015E', 'B23001_022E', 'B23001_029E', 'B23001_036E', 'B23001_043E', 'B23001_050E', 'B23001_057E', 'B23001_064E', 'B23001_071E', 'B23001_076E', 'B23001_081E', 'B23001_086E', 'B23001_004E', 'B23001_011E', 'B23001_018E', 'B23001_025E', 'B23001_032E', 'B23001_039E', 'B23001_046E', 'B23001_053E', 'B23001_060E', 'B23001_067E', 'B23001_074E', 'B23001_079E', 'B23001_084E'], 'B23025_002E')\n",
    "        all_calc_data_nb[\"Employed Residents\"] = calc_sum(tract_df, 'C24050_001E')\n",
    "        all_calc_data_nb[\"Managerial Professional\"] = calc_normalized(tract_df, 'C24050_015E', 'C24050_001E')\n",
    "        all_calc_data_nb[\"Services\"] = calc_normalized(tract_df, 'C24050_029E', 'C24050_001E')\n",
    "        all_calc_data_nb[\"Sales and Office\"] = calc_normalized(tract_df, 'C24050_043E', 'C24050_001E')\n",
    "        all_calc_data_nb[\"Natural Resources\"] = calc_normalized(tract_df, 'C24050_057E', 'C24050_001E')\n",
    "        all_calc_data_nb[\"Production Transport Materials\"] = calc_normalized(tract_df, 'C24050_071E', 'C24050_001E')\n",
    "        # journey to work\n",
    "        all_calc_data_nb[\"Workers 16 Years and Older\"] = calc_sum(tract_df, 'B08006_001E')\n",
    "        all_calc_data_nb[\"Car\"] = calc_normalized(tract_df, 'B08006_002E', 'B08006_001E')\n",
    "        all_calc_data_nb[\"Drove Alone\"] = calc_normalized(tract_df, 'B08006_003E', 'B08006_001E')\n",
    "        all_calc_data_nb[\"Carpooled\"] = calc_normalized(tract_df, 'B08006_004E', 'B08006_001E')\n",
    "        all_calc_data_nb[\"Transit\"] = calc_normalized(tract_df, 'B08006_008E', 'B08006_001E')\n",
    "        all_calc_data_nb[\"Bike\"] = calc_normalized(tract_df, 'B08006_014E', 'B08006_001E')\n",
    "        all_calc_data_nb[\"Walk\"] = calc_normalized(tract_df, 'B08006_015E', 'B08006_001E')\n",
    "        all_calc_data_nb[\"Other Journey Type\"] = calc_normalized(tract_df, 'B08006_016E', 'B08006_001E')\n",
    "        all_calc_data_nb[\"Worked at Home\"] = calc_normalized(tract_df, 'B08006_017E', 'B08006_001E')\n",
    "        # population density\n",
    "        all_calc_data_nb[\"Population Density per Acre\"] = calc_sum(tract_df, 'B01001_001E')\n",
    "            \n",
    "    #return calc dictionary\n",
    "    return all_calc_data"
   ]
  },
  {
   "cell_type": "markdown",
   "id": "greenhouse-negative",
   "metadata": {},
   "source": [
    "## Caculate Socioeconomic Profiles"
   ]
  },
  {
   "cell_type": "markdown",
   "id": "conceptual-concrete",
   "metadata": {},
   "source": [
    "### Set Summary Variables and Output Paths"
   ]
  },
  {
   "cell_type": "code",
   "execution_count": 95,
   "id": "human-george",
   "metadata": {},
   "outputs": [],
   "source": [
    "# set geography to summarize by. If supervisor districts set geo_summary_variable to \"Superisor District\"\n",
    "geo_summary_variable = 'Neighborhood'#'Neighborhood'# 'Supervisor District'\n",
    "\n",
    "# set path to download csvs\n",
    "download_path = r\"./output\"\n",
    "\n",
    "# sets geo variables based on above choice\n",
    "if geo_summary_variable == 'Neighborhood':\n",
    "    tract_lookup = tract_nb_lookup\n",
    "    geo_path = r'./shps/neighborhoods/neighborhoods.shp'\n",
    "    geo_merge_variable = 'nhood'\n",
    "elif geo_summary_variable == 'Supervisor District':\n",
    "    tract_lookup = tract_sd_lookup\n",
    "    geo_path = r'./shps/supervisor_districts/supervisor_districts.shp'\n",
    "    geo_merge_variable = 'sup_dist'"
   ]
  },
  {
   "cell_type": "markdown",
   "id": "affiliated-layout",
   "metadata": {},
   "source": [
    "### Run Socioeconomic Profiles Calcs"
   ]
  },
  {
   "cell_type": "code",
   "execution_count": 96,
   "id": "central-merchandise",
   "metadata": {},
   "outputs": [
    {
     "data": {
      "text/html": [
       "<div>\n",
       "<style scoped>\n",
       "    .dataframe tbody tr th:only-of-type {\n",
       "        vertical-align: middle;\n",
       "    }\n",
       "\n",
       "    .dataframe tbody tr th {\n",
       "        vertical-align: top;\n",
       "    }\n",
       "\n",
       "    .dataframe thead th {\n",
       "        text-align: right;\n",
       "    }\n",
       "</style>\n",
       "<table border=\"1\" class=\"dataframe\">\n",
       "  <thead>\n",
       "    <tr style=\"text-align: right;\">\n",
       "      <th></th>\n",
       "      <th>Attribute</th>\n",
       "      <th>North Beach</th>\n",
       "      <th>Russian Hill</th>\n",
       "      <th>Financial District</th>\n",
       "      <th>Chinatown</th>\n",
       "      <th>Nob Hill</th>\n",
       "      <th>Tenderloin</th>\n",
       "      <th>Marina</th>\n",
       "      <th>Pacific Heights</th>\n",
       "      <th>Presidio Heights</th>\n",
       "      <th>...</th>\n",
       "      <th>Lakeshore</th>\n",
       "      <th>Inner Richmond</th>\n",
       "      <th>Outer Richmond</th>\n",
       "      <th>Seacliff</th>\n",
       "      <th>Presidio</th>\n",
       "      <th>Mission Bay</th>\n",
       "      <th>Lincoln Park</th>\n",
       "      <th>Golden Gate Park</th>\n",
       "      <th>McLaren Park</th>\n",
       "      <th>sf</th>\n",
       "    </tr>\n",
       "  </thead>\n",
       "  <tbody>\n",
       "    <tr>\n",
       "      <th>0</th>\n",
       "      <td>Total Population</td>\n",
       "      <td>11740.000000</td>\n",
       "      <td>17291.000000</td>\n",
       "      <td>23089.000000</td>\n",
       "      <td>13693.000000</td>\n",
       "      <td>24762.000000</td>\n",
       "      <td>32056.000000</td>\n",
       "      <td>23910.000000</td>\n",
       "      <td>22996.000000</td>\n",
       "      <td>10470.000000</td>\n",
       "      <td>...</td>\n",
       "      <td>12529.000000</td>\n",
       "      <td>20992.000000</td>\n",
       "      <td>44573.000000</td>\n",
       "      <td>2348.000000</td>\n",
       "      <td>3952.000000</td>\n",
       "      <td>16080.000000</td>\n",
       "      <td>186.0</td>\n",
       "      <td>38.000000</td>\n",
       "      <td>129.000000</td>\n",
       "      <td>851036.000000</td>\n",
       "    </tr>\n",
       "    <tr>\n",
       "      <th>1</th>\n",
       "      <td>Group Quarter Population</td>\n",
       "      <td>42.000000</td>\n",
       "      <td>5.000000</td>\n",
       "      <td>637.000000</td>\n",
       "      <td>84.000000</td>\n",
       "      <td>899.000000</td>\n",
       "      <td>2500.000000</td>\n",
       "      <td>114.000000</td>\n",
       "      <td>550.000000</td>\n",
       "      <td>73.000000</td>\n",
       "      <td>...</td>\n",
       "      <td>2061.000000</td>\n",
       "      <td>240.000000</td>\n",
       "      <td>285.000000</td>\n",
       "      <td>0.000000</td>\n",
       "      <td>1.000000</td>\n",
       "      <td>773.000000</td>\n",
       "      <td>186.0</td>\n",
       "      <td>0.000000</td>\n",
       "      <td>0.000000</td>\n",
       "      <td>23369.000000</td>\n",
       "    </tr>\n",
       "    <tr>\n",
       "      <th>2</th>\n",
       "      <td>Percent Female</td>\n",
       "      <td>0.453918</td>\n",
       "      <td>0.518998</td>\n",
       "      <td>0.462904</td>\n",
       "      <td>0.533922</td>\n",
       "      <td>0.470479</td>\n",
       "      <td>0.414057</td>\n",
       "      <td>0.526349</td>\n",
       "      <td>0.500565</td>\n",
       "      <td>0.511939</td>\n",
       "      <td>...</td>\n",
       "      <td>0.525182</td>\n",
       "      <td>0.531631</td>\n",
       "      <td>0.525924</td>\n",
       "      <td>0.525980</td>\n",
       "      <td>0.537196</td>\n",
       "      <td>0.506219</td>\n",
       "      <td>0.0</td>\n",
       "      <td>0.315789</td>\n",
       "      <td>0.953488</td>\n",
       "      <td>0.485224</td>\n",
       "    </tr>\n",
       "    <tr>\n",
       "      <th>3</th>\n",
       "      <td>Housholds</td>\n",
       "      <td>6240.000000</td>\n",
       "      <td>9545.000000</td>\n",
       "      <td>13017.000000</td>\n",
       "      <td>6561.000000</td>\n",
       "      <td>14430.000000</td>\n",
       "      <td>18122.000000</td>\n",
       "      <td>12390.000000</td>\n",
       "      <td>12782.000000</td>\n",
       "      <td>4948.000000</td>\n",
       "      <td>...</td>\n",
       "      <td>4796.000000</td>\n",
       "      <td>8757.000000</td>\n",
       "      <td>18927.000000</td>\n",
       "      <td>878.000000</td>\n",
       "      <td>1331.000000</td>\n",
       "      <td>6961.000000</td>\n",
       "      <td>0.0</td>\n",
       "      <td>28.000000</td>\n",
       "      <td>118.000000</td>\n",
       "      <td>360842.000000</td>\n",
       "    </tr>\n",
       "    <tr>\n",
       "      <th>4</th>\n",
       "      <td>Family Households</td>\n",
       "      <td>0.392308</td>\n",
       "      <td>0.342693</td>\n",
       "      <td>0.346009</td>\n",
       "      <td>0.509374</td>\n",
       "      <td>0.263202</td>\n",
       "      <td>0.239378</td>\n",
       "      <td>0.344068</td>\n",
       "      <td>0.307855</td>\n",
       "      <td>0.475950</td>\n",
       "      <td>...</td>\n",
       "      <td>0.410550</td>\n",
       "      <td>0.513532</td>\n",
       "      <td>0.538754</td>\n",
       "      <td>0.731207</td>\n",
       "      <td>0.582269</td>\n",
       "      <td>0.516161</td>\n",
       "      <td>0.0</td>\n",
       "      <td>0.392857</td>\n",
       "      <td>0.093220</td>\n",
       "      <td>0.470247</td>\n",
       "    </tr>\n",
       "  </tbody>\n",
       "</table>\n",
       "<p>5 rows × 43 columns</p>\n",
       "</div>"
      ],
      "text/plain": [
       "                  Attribute   North Beach  Russian Hill  Financial District  \\\n",
       "0          Total Population  11740.000000  17291.000000        23089.000000   \n",
       "1  Group Quarter Population     42.000000      5.000000          637.000000   \n",
       "2            Percent Female      0.453918      0.518998            0.462904   \n",
       "3                 Housholds   6240.000000   9545.000000        13017.000000   \n",
       "4         Family Households      0.392308      0.342693            0.346009   \n",
       "\n",
       "      Chinatown      Nob Hill    Tenderloin        Marina  Pacific Heights  \\\n",
       "0  13693.000000  24762.000000  32056.000000  23910.000000     22996.000000   \n",
       "1     84.000000    899.000000   2500.000000    114.000000       550.000000   \n",
       "2      0.533922      0.470479      0.414057      0.526349         0.500565   \n",
       "3   6561.000000  14430.000000  18122.000000  12390.000000     12782.000000   \n",
       "4      0.509374      0.263202      0.239378      0.344068         0.307855   \n",
       "\n",
       "   Presidio Heights  ...     Lakeshore  Inner Richmond  Outer Richmond  \\\n",
       "0      10470.000000  ...  12529.000000    20992.000000    44573.000000   \n",
       "1         73.000000  ...   2061.000000      240.000000      285.000000   \n",
       "2          0.511939  ...      0.525182        0.531631        0.525924   \n",
       "3       4948.000000  ...   4796.000000     8757.000000    18927.000000   \n",
       "4          0.475950  ...      0.410550        0.513532        0.538754   \n",
       "\n",
       "      Seacliff     Presidio   Mission Bay  Lincoln Park  Golden Gate Park  \\\n",
       "0  2348.000000  3952.000000  16080.000000         186.0         38.000000   \n",
       "1     0.000000     1.000000    773.000000         186.0          0.000000   \n",
       "2     0.525980     0.537196      0.506219           0.0          0.315789   \n",
       "3   878.000000  1331.000000   6961.000000           0.0         28.000000   \n",
       "4     0.731207     0.582269      0.516161           0.0          0.392857   \n",
       "\n",
       "   McLaren Park             sf  \n",
       "0    129.000000  851036.000000  \n",
       "1      0.000000   23369.000000  \n",
       "2      0.953488       0.485224  \n",
       "3    118.000000  360842.000000  \n",
       "4      0.093220       0.470247  \n",
       "\n",
       "[5 rows x 43 columns]"
      ]
     },
     "execution_count": 96,
     "metadata": {},
     "output_type": "execute_result"
    }
   ],
   "source": [
    "# run functions to calculate all stats and convert calc dictionary to pandas dataframe\n",
    "all_calc_data = calc_socio_economic_data(df, tract_lookup)\n",
    "df_all_calcs = pd.DataFrame.from_dict(all_calc_data).reset_index()\n",
    "df_all_calcs.rename(columns = {'index':'Attribute'}, inplace = True) \n",
    "df_all_calcs.head()\n"
   ]
  },
  {
   "cell_type": "code",
   "execution_count": 97,
   "id": "automatic-cleaning",
   "metadata": {},
   "outputs": [
    {
     "data": {
      "text/html": [
       "<div>\n",
       "<style scoped>\n",
       "    .dataframe tbody tr th:only-of-type {\n",
       "        vertical-align: middle;\n",
       "    }\n",
       "\n",
       "    .dataframe tbody tr th {\n",
       "        vertical-align: top;\n",
       "    }\n",
       "\n",
       "    .dataframe thead th {\n",
       "        text-align: right;\n",
       "    }\n",
       "</style>\n",
       "<table border=\"1\" class=\"dataframe\">\n",
       "  <thead>\n",
       "    <tr style=\"text-align: right;\">\n",
       "      <th></th>\n",
       "      <th>Neighborhood</th>\n",
       "      <th>Total Population</th>\n",
       "      <th>Group Quarter Population</th>\n",
       "      <th>Percent Female</th>\n",
       "      <th>Housholds</th>\n",
       "      <th>Family Households</th>\n",
       "      <th>Non-Family Households</th>\n",
       "      <th>Single Person Households, % of Total</th>\n",
       "      <th>Households with Children, % of Total</th>\n",
       "      <th>Households with 60 years and older, % of Total</th>\n",
       "      <th>...</th>\n",
       "      <th>Workers 16 Years and Older</th>\n",
       "      <th>Car</th>\n",
       "      <th>Drove Alone</th>\n",
       "      <th>Carpooled</th>\n",
       "      <th>Transit</th>\n",
       "      <th>Bike</th>\n",
       "      <th>Walk</th>\n",
       "      <th>Other Journey Type</th>\n",
       "      <th>Worked at Home</th>\n",
       "      <th>Population Density per Acre</th>\n",
       "    </tr>\n",
       "  </thead>\n",
       "  <tbody>\n",
       "    <tr>\n",
       "      <th>23</th>\n",
       "      <td>Bayview Hunters Point</td>\n",
       "      <td>40495.0</td>\n",
       "      <td>263.0</td>\n",
       "      <td>0.499</td>\n",
       "      <td>12324.0</td>\n",
       "      <td>0.697257</td>\n",
       "      <td>0.302743</td>\n",
       "      <td>0.23507</td>\n",
       "      <td>0.359948</td>\n",
       "      <td>0.461295</td>\n",
       "      <td>...</td>\n",
       "      <td>18325.0</td>\n",
       "      <td>0.587831</td>\n",
       "      <td>0.461064</td>\n",
       "      <td>0.126767</td>\n",
       "      <td>0.2406</td>\n",
       "      <td>0.008895</td>\n",
       "      <td>0.02543</td>\n",
       "      <td>0.025866</td>\n",
       "      <td>0.111378</td>\n",
       "      <td>40495.0</td>\n",
       "    </tr>\n",
       "    <tr>\n",
       "      <th>24</th>\n",
       "      <td>Bernal Heights</td>\n",
       "      <td>24767.0</td>\n",
       "      <td>170.0</td>\n",
       "      <td>0.466992</td>\n",
       "      <td>9145.0</td>\n",
       "      <td>0.634226</td>\n",
       "      <td>0.365774</td>\n",
       "      <td>0.223619</td>\n",
       "      <td>0.29754</td>\n",
       "      <td>0.351996</td>\n",
       "      <td>...</td>\n",
       "      <td>13712.0</td>\n",
       "      <td>0.435968</td>\n",
       "      <td>0.354799</td>\n",
       "      <td>0.08117</td>\n",
       "      <td>0.184145</td>\n",
       "      <td>0.066001</td>\n",
       "      <td>0.039309</td>\n",
       "      <td>0.034422</td>\n",
       "      <td>0.240155</td>\n",
       "      <td>24767.0</td>\n",
       "    </tr>\n",
       "    <tr>\n",
       "      <th>15</th>\n",
       "      <td>Castro/Upper Market</td>\n",
       "      <td>22623.0</td>\n",
       "      <td>74.0</td>\n",
       "      <td>0.370419</td>\n",
       "      <td>11723.0</td>\n",
       "      <td>0.334129</td>\n",
       "      <td>0.665871</td>\n",
       "      <td>0.425915</td>\n",
       "      <td>0.110808</td>\n",
       "      <td>0.286787</td>\n",
       "      <td>...</td>\n",
       "      <td>15514.0</td>\n",
       "      <td>0.240621</td>\n",
       "      <td>0.194147</td>\n",
       "      <td>0.046474</td>\n",
       "      <td>0.3103</td>\n",
       "      <td>0.04396</td>\n",
       "      <td>0.056465</td>\n",
       "      <td>0.03152</td>\n",
       "      <td>0.317133</td>\n",
       "      <td>22623.0</td>\n",
       "    </tr>\n",
       "    <tr>\n",
       "      <th>4</th>\n",
       "      <td>Chinatown</td>\n",
       "      <td>13693.0</td>\n",
       "      <td>84.0</td>\n",
       "      <td>0.533922</td>\n",
       "      <td>6561.0</td>\n",
       "      <td>0.509374</td>\n",
       "      <td>0.490626</td>\n",
       "      <td>0.433623</td>\n",
       "      <td>0.15333</td>\n",
       "      <td>0.608901</td>\n",
       "      <td>...</td>\n",
       "      <td>5813.0</td>\n",
       "      <td>0.154997</td>\n",
       "      <td>0.125925</td>\n",
       "      <td>0.029073</td>\n",
       "      <td>0.287803</td>\n",
       "      <td>0.002064</td>\n",
       "      <td>0.379494</td>\n",
       "      <td>0.019611</td>\n",
       "      <td>0.15603</td>\n",
       "      <td>13693.0</td>\n",
       "    </tr>\n",
       "    <tr>\n",
       "      <th>26</th>\n",
       "      <td>Excelsior</td>\n",
       "      <td>38846.0</td>\n",
       "      <td>630.0</td>\n",
       "      <td>0.503758</td>\n",
       "      <td>11156.0</td>\n",
       "      <td>0.738975</td>\n",
       "      <td>0.261025</td>\n",
       "      <td>0.161976</td>\n",
       "      <td>0.312478</td>\n",
       "      <td>0.514073</td>\n",
       "      <td>...</td>\n",
       "      <td>19825.0</td>\n",
       "      <td>0.572863</td>\n",
       "      <td>0.437377</td>\n",
       "      <td>0.135485</td>\n",
       "      <td>0.260076</td>\n",
       "      <td>0.00918</td>\n",
       "      <td>0.019168</td>\n",
       "      <td>0.014578</td>\n",
       "      <td>0.124136</td>\n",
       "      <td>38846.0</td>\n",
       "    </tr>\n",
       "  </tbody>\n",
       "</table>\n",
       "<p>5 rows × 118 columns</p>\n",
       "</div>"
      ],
      "text/plain": [
       "0            Neighborhood Total Population Group Quarter Population  \\\n",
       "23  Bayview Hunters Point          40495.0                    263.0   \n",
       "24         Bernal Heights          24767.0                    170.0   \n",
       "15    Castro/Upper Market          22623.0                     74.0   \n",
       "4               Chinatown          13693.0                     84.0   \n",
       "26              Excelsior          38846.0                    630.0   \n",
       "\n",
       "0  Percent Female Housholds Family Households Non-Family Households  \\\n",
       "23          0.499   12324.0          0.697257              0.302743   \n",
       "24       0.466992    9145.0          0.634226              0.365774   \n",
       "15       0.370419   11723.0          0.334129              0.665871   \n",
       "4        0.533922    6561.0          0.509374              0.490626   \n",
       "26       0.503758   11156.0          0.738975              0.261025   \n",
       "\n",
       "0  Single Person Households, % of Total Households with Children, % of Total  \\\n",
       "23                              0.23507                             0.359948   \n",
       "24                             0.223619                              0.29754   \n",
       "15                             0.425915                             0.110808   \n",
       "4                              0.433623                              0.15333   \n",
       "26                             0.161976                             0.312478   \n",
       "\n",
       "0  Households with 60 years and older, % of Total  ...  \\\n",
       "23                                       0.461295  ...   \n",
       "24                                       0.351996  ...   \n",
       "15                                       0.286787  ...   \n",
       "4                                        0.608901  ...   \n",
       "26                                       0.514073  ...   \n",
       "\n",
       "0  Workers 16 Years and Older       Car Drove Alone Carpooled   Transit  \\\n",
       "23                    18325.0  0.587831    0.461064  0.126767    0.2406   \n",
       "24                    13712.0  0.435968    0.354799   0.08117  0.184145   \n",
       "15                    15514.0  0.240621    0.194147  0.046474    0.3103   \n",
       "4                      5813.0  0.154997    0.125925  0.029073  0.287803   \n",
       "26                    19825.0  0.572863    0.437377  0.135485  0.260076   \n",
       "\n",
       "0       Bike      Walk Other Journey Type Worked at Home  \\\n",
       "23  0.008895   0.02543           0.025866       0.111378   \n",
       "24  0.066001  0.039309           0.034422       0.240155   \n",
       "15   0.04396  0.056465            0.03152       0.317133   \n",
       "4   0.002064  0.379494           0.019611        0.15603   \n",
       "26   0.00918  0.019168           0.014578       0.124136   \n",
       "\n",
       "0  Population Density per Acre  \n",
       "23                     40495.0  \n",
       "24                     24767.0  \n",
       "15                     22623.0  \n",
       "4                      13693.0  \n",
       "26                     38846.0  \n",
       "\n",
       "[5 rows x 118 columns]"
      ]
     },
     "execution_count": 97,
     "metadata": {},
     "output_type": "execute_result"
    }
   ],
   "source": [
    "# transpose dataset for second geo view of dataset\n",
    "df_all_calcs_tp = df_all_calcs.T.reset_index()\n",
    "df_all_calcs_tp.columns = df_all_calcs_tp.iloc[0]\n",
    "df_all_calcs_tp = df_all_calcs_tp[1:].rename(columns={'Attribute': geo_summary_variable})\n",
    "df_all_calcs_tp = df_all_calcs_tp.sort_values(by=[geo_summary_variable])\n",
    "df_all_calcs_tp.head()"
   ]
  },
  {
   "cell_type": "markdown",
   "id": "liked-updating",
   "metadata": {},
   "source": [
    "## Visualizations"
   ]
  },
  {
   "cell_type": "code",
   "execution_count": 137,
   "id": "raised-russia",
   "metadata": {},
   "outputs": [
    {
     "data": {
      "application/vnd.plotly.v1+json": {
       "config": {
        "plotlyServerURL": "https://plot.ly"
       },
       "data": [
        {
         "alignmentgroup": "True",
         "hovertemplate": "Supervisor District=%{x}<br>% Latino (of Any Race)=%{y}<extra></extra>",
         "legendgroup": "",
         "marker": {
          "color": "#636efa"
         },
         "name": "",
         "offsetgroup": "",
         "orientation": "v",
         "showlegend": false,
         "textposition": "auto",
         "type": "bar",
         "x": [
          "1",
          "10",
          "11",
          "2",
          "3",
          "4",
          "5",
          "6",
          "7",
          "8",
          "9",
          "sf"
         ],
         "xaxis": "x",
         "y": [
          0.07996013681439011,
          0.22230037291149657,
          0.26262093025924693,
          0.07208646346026537,
          0.08322633833844657,
          0.076433929455367,
          0.09870003136653539,
          0.16836746774002603,
          0.12090077780113517,
          0.12176315189550897,
          0.33058143380047206,
          0.15236564829746696
         ],
         "yaxis": "y"
        }
       ],
       "layout": {
        "barmode": "relative",
        "legend": {
         "tracegroupgap": 0
        },
        "margin": {
         "t": 60
        },
        "template": {
         "data": {
          "bar": [
           {
            "error_x": {
             "color": "#2a3f5f"
            },
            "error_y": {
             "color": "#2a3f5f"
            },
            "marker": {
             "line": {
              "color": "#E5ECF6",
              "width": 0.5
             }
            },
            "type": "bar"
           }
          ],
          "barpolar": [
           {
            "marker": {
             "line": {
              "color": "#E5ECF6",
              "width": 0.5
             }
            },
            "type": "barpolar"
           }
          ],
          "carpet": [
           {
            "aaxis": {
             "endlinecolor": "#2a3f5f",
             "gridcolor": "white",
             "linecolor": "white",
             "minorgridcolor": "white",
             "startlinecolor": "#2a3f5f"
            },
            "baxis": {
             "endlinecolor": "#2a3f5f",
             "gridcolor": "white",
             "linecolor": "white",
             "minorgridcolor": "white",
             "startlinecolor": "#2a3f5f"
            },
            "type": "carpet"
           }
          ],
          "choropleth": [
           {
            "colorbar": {
             "outlinewidth": 0,
             "ticks": ""
            },
            "type": "choropleth"
           }
          ],
          "contour": [
           {
            "colorbar": {
             "outlinewidth": 0,
             "ticks": ""
            },
            "colorscale": [
             [
              0,
              "#0d0887"
             ],
             [
              0.1111111111111111,
              "#46039f"
             ],
             [
              0.2222222222222222,
              "#7201a8"
             ],
             [
              0.3333333333333333,
              "#9c179e"
             ],
             [
              0.4444444444444444,
              "#bd3786"
             ],
             [
              0.5555555555555556,
              "#d8576b"
             ],
             [
              0.6666666666666666,
              "#ed7953"
             ],
             [
              0.7777777777777778,
              "#fb9f3a"
             ],
             [
              0.8888888888888888,
              "#fdca26"
             ],
             [
              1,
              "#f0f921"
             ]
            ],
            "type": "contour"
           }
          ],
          "contourcarpet": [
           {
            "colorbar": {
             "outlinewidth": 0,
             "ticks": ""
            },
            "type": "contourcarpet"
           }
          ],
          "heatmap": [
           {
            "colorbar": {
             "outlinewidth": 0,
             "ticks": ""
            },
            "colorscale": [
             [
              0,
              "#0d0887"
             ],
             [
              0.1111111111111111,
              "#46039f"
             ],
             [
              0.2222222222222222,
              "#7201a8"
             ],
             [
              0.3333333333333333,
              "#9c179e"
             ],
             [
              0.4444444444444444,
              "#bd3786"
             ],
             [
              0.5555555555555556,
              "#d8576b"
             ],
             [
              0.6666666666666666,
              "#ed7953"
             ],
             [
              0.7777777777777778,
              "#fb9f3a"
             ],
             [
              0.8888888888888888,
              "#fdca26"
             ],
             [
              1,
              "#f0f921"
             ]
            ],
            "type": "heatmap"
           }
          ],
          "heatmapgl": [
           {
            "colorbar": {
             "outlinewidth": 0,
             "ticks": ""
            },
            "colorscale": [
             [
              0,
              "#0d0887"
             ],
             [
              0.1111111111111111,
              "#46039f"
             ],
             [
              0.2222222222222222,
              "#7201a8"
             ],
             [
              0.3333333333333333,
              "#9c179e"
             ],
             [
              0.4444444444444444,
              "#bd3786"
             ],
             [
              0.5555555555555556,
              "#d8576b"
             ],
             [
              0.6666666666666666,
              "#ed7953"
             ],
             [
              0.7777777777777778,
              "#fb9f3a"
             ],
             [
              0.8888888888888888,
              "#fdca26"
             ],
             [
              1,
              "#f0f921"
             ]
            ],
            "type": "heatmapgl"
           }
          ],
          "histogram": [
           {
            "marker": {
             "colorbar": {
              "outlinewidth": 0,
              "ticks": ""
             }
            },
            "type": "histogram"
           }
          ],
          "histogram2d": [
           {
            "colorbar": {
             "outlinewidth": 0,
             "ticks": ""
            },
            "colorscale": [
             [
              0,
              "#0d0887"
             ],
             [
              0.1111111111111111,
              "#46039f"
             ],
             [
              0.2222222222222222,
              "#7201a8"
             ],
             [
              0.3333333333333333,
              "#9c179e"
             ],
             [
              0.4444444444444444,
              "#bd3786"
             ],
             [
              0.5555555555555556,
              "#d8576b"
             ],
             [
              0.6666666666666666,
              "#ed7953"
             ],
             [
              0.7777777777777778,
              "#fb9f3a"
             ],
             [
              0.8888888888888888,
              "#fdca26"
             ],
             [
              1,
              "#f0f921"
             ]
            ],
            "type": "histogram2d"
           }
          ],
          "histogram2dcontour": [
           {
            "colorbar": {
             "outlinewidth": 0,
             "ticks": ""
            },
            "colorscale": [
             [
              0,
              "#0d0887"
             ],
             [
              0.1111111111111111,
              "#46039f"
             ],
             [
              0.2222222222222222,
              "#7201a8"
             ],
             [
              0.3333333333333333,
              "#9c179e"
             ],
             [
              0.4444444444444444,
              "#bd3786"
             ],
             [
              0.5555555555555556,
              "#d8576b"
             ],
             [
              0.6666666666666666,
              "#ed7953"
             ],
             [
              0.7777777777777778,
              "#fb9f3a"
             ],
             [
              0.8888888888888888,
              "#fdca26"
             ],
             [
              1,
              "#f0f921"
             ]
            ],
            "type": "histogram2dcontour"
           }
          ],
          "mesh3d": [
           {
            "colorbar": {
             "outlinewidth": 0,
             "ticks": ""
            },
            "type": "mesh3d"
           }
          ],
          "parcoords": [
           {
            "line": {
             "colorbar": {
              "outlinewidth": 0,
              "ticks": ""
             }
            },
            "type": "parcoords"
           }
          ],
          "pie": [
           {
            "automargin": true,
            "type": "pie"
           }
          ],
          "scatter": [
           {
            "marker": {
             "colorbar": {
              "outlinewidth": 0,
              "ticks": ""
             }
            },
            "type": "scatter"
           }
          ],
          "scatter3d": [
           {
            "line": {
             "colorbar": {
              "outlinewidth": 0,
              "ticks": ""
             }
            },
            "marker": {
             "colorbar": {
              "outlinewidth": 0,
              "ticks": ""
             }
            },
            "type": "scatter3d"
           }
          ],
          "scattercarpet": [
           {
            "marker": {
             "colorbar": {
              "outlinewidth": 0,
              "ticks": ""
             }
            },
            "type": "scattercarpet"
           }
          ],
          "scattergeo": [
           {
            "marker": {
             "colorbar": {
              "outlinewidth": 0,
              "ticks": ""
             }
            },
            "type": "scattergeo"
           }
          ],
          "scattergl": [
           {
            "marker": {
             "colorbar": {
              "outlinewidth": 0,
              "ticks": ""
             }
            },
            "type": "scattergl"
           }
          ],
          "scattermapbox": [
           {
            "marker": {
             "colorbar": {
              "outlinewidth": 0,
              "ticks": ""
             }
            },
            "type": "scattermapbox"
           }
          ],
          "scatterpolar": [
           {
            "marker": {
             "colorbar": {
              "outlinewidth": 0,
              "ticks": ""
             }
            },
            "type": "scatterpolar"
           }
          ],
          "scatterpolargl": [
           {
            "marker": {
             "colorbar": {
              "outlinewidth": 0,
              "ticks": ""
             }
            },
            "type": "scatterpolargl"
           }
          ],
          "scatterternary": [
           {
            "marker": {
             "colorbar": {
              "outlinewidth": 0,
              "ticks": ""
             }
            },
            "type": "scatterternary"
           }
          ],
          "surface": [
           {
            "colorbar": {
             "outlinewidth": 0,
             "ticks": ""
            },
            "colorscale": [
             [
              0,
              "#0d0887"
             ],
             [
              0.1111111111111111,
              "#46039f"
             ],
             [
              0.2222222222222222,
              "#7201a8"
             ],
             [
              0.3333333333333333,
              "#9c179e"
             ],
             [
              0.4444444444444444,
              "#bd3786"
             ],
             [
              0.5555555555555556,
              "#d8576b"
             ],
             [
              0.6666666666666666,
              "#ed7953"
             ],
             [
              0.7777777777777778,
              "#fb9f3a"
             ],
             [
              0.8888888888888888,
              "#fdca26"
             ],
             [
              1,
              "#f0f921"
             ]
            ],
            "type": "surface"
           }
          ],
          "table": [
           {
            "cells": {
             "fill": {
              "color": "#EBF0F8"
             },
             "line": {
              "color": "white"
             }
            },
            "header": {
             "fill": {
              "color": "#C8D4E3"
             },
             "line": {
              "color": "white"
             }
            },
            "type": "table"
           }
          ]
         },
         "layout": {
          "annotationdefaults": {
           "arrowcolor": "#2a3f5f",
           "arrowhead": 0,
           "arrowwidth": 1
          },
          "autotypenumbers": "strict",
          "coloraxis": {
           "colorbar": {
            "outlinewidth": 0,
            "ticks": ""
           }
          },
          "colorscale": {
           "diverging": [
            [
             0,
             "#8e0152"
            ],
            [
             0.1,
             "#c51b7d"
            ],
            [
             0.2,
             "#de77ae"
            ],
            [
             0.3,
             "#f1b6da"
            ],
            [
             0.4,
             "#fde0ef"
            ],
            [
             0.5,
             "#f7f7f7"
            ],
            [
             0.6,
             "#e6f5d0"
            ],
            [
             0.7,
             "#b8e186"
            ],
            [
             0.8,
             "#7fbc41"
            ],
            [
             0.9,
             "#4d9221"
            ],
            [
             1,
             "#276419"
            ]
           ],
           "sequential": [
            [
             0,
             "#0d0887"
            ],
            [
             0.1111111111111111,
             "#46039f"
            ],
            [
             0.2222222222222222,
             "#7201a8"
            ],
            [
             0.3333333333333333,
             "#9c179e"
            ],
            [
             0.4444444444444444,
             "#bd3786"
            ],
            [
             0.5555555555555556,
             "#d8576b"
            ],
            [
             0.6666666666666666,
             "#ed7953"
            ],
            [
             0.7777777777777778,
             "#fb9f3a"
            ],
            [
             0.8888888888888888,
             "#fdca26"
            ],
            [
             1,
             "#f0f921"
            ]
           ],
           "sequentialminus": [
            [
             0,
             "#0d0887"
            ],
            [
             0.1111111111111111,
             "#46039f"
            ],
            [
             0.2222222222222222,
             "#7201a8"
            ],
            [
             0.3333333333333333,
             "#9c179e"
            ],
            [
             0.4444444444444444,
             "#bd3786"
            ],
            [
             0.5555555555555556,
             "#d8576b"
            ],
            [
             0.6666666666666666,
             "#ed7953"
            ],
            [
             0.7777777777777778,
             "#fb9f3a"
            ],
            [
             0.8888888888888888,
             "#fdca26"
            ],
            [
             1,
             "#f0f921"
            ]
           ]
          },
          "colorway": [
           "#636efa",
           "#EF553B",
           "#00cc96",
           "#ab63fa",
           "#FFA15A",
           "#19d3f3",
           "#FF6692",
           "#B6E880",
           "#FF97FF",
           "#FECB52"
          ],
          "font": {
           "color": "#2a3f5f"
          },
          "geo": {
           "bgcolor": "white",
           "lakecolor": "white",
           "landcolor": "#E5ECF6",
           "showlakes": true,
           "showland": true,
           "subunitcolor": "white"
          },
          "hoverlabel": {
           "align": "left"
          },
          "hovermode": "closest",
          "mapbox": {
           "style": "light"
          },
          "paper_bgcolor": "white",
          "plot_bgcolor": "#E5ECF6",
          "polar": {
           "angularaxis": {
            "gridcolor": "white",
            "linecolor": "white",
            "ticks": ""
           },
           "bgcolor": "#E5ECF6",
           "radialaxis": {
            "gridcolor": "white",
            "linecolor": "white",
            "ticks": ""
           }
          },
          "scene": {
           "xaxis": {
            "backgroundcolor": "#E5ECF6",
            "gridcolor": "white",
            "gridwidth": 2,
            "linecolor": "white",
            "showbackground": true,
            "ticks": "",
            "zerolinecolor": "white"
           },
           "yaxis": {
            "backgroundcolor": "#E5ECF6",
            "gridcolor": "white",
            "gridwidth": 2,
            "linecolor": "white",
            "showbackground": true,
            "ticks": "",
            "zerolinecolor": "white"
           },
           "zaxis": {
            "backgroundcolor": "#E5ECF6",
            "gridcolor": "white",
            "gridwidth": 2,
            "linecolor": "white",
            "showbackground": true,
            "ticks": "",
            "zerolinecolor": "white"
           }
          },
          "shapedefaults": {
           "line": {
            "color": "#2a3f5f"
           }
          },
          "ternary": {
           "aaxis": {
            "gridcolor": "white",
            "linecolor": "white",
            "ticks": ""
           },
           "baxis": {
            "gridcolor": "white",
            "linecolor": "white",
            "ticks": ""
           },
           "bgcolor": "#E5ECF6",
           "caxis": {
            "gridcolor": "white",
            "linecolor": "white",
            "ticks": ""
           }
          },
          "title": {
           "x": 0.05
          },
          "xaxis": {
           "automargin": true,
           "gridcolor": "white",
           "linecolor": "white",
           "ticks": "",
           "title": {
            "standoff": 15
           },
           "zerolinecolor": "white",
           "zerolinewidth": 2
          },
          "yaxis": {
           "automargin": true,
           "gridcolor": "white",
           "linecolor": "white",
           "ticks": "",
           "title": {
            "standoff": 15
           },
           "zerolinecolor": "white",
           "zerolinewidth": 2
          }
         }
        },
        "xaxis": {
         "anchor": "y",
         "domain": [
          0,
          1
         ],
         "tickangle": 45,
         "title": {
          "text": "Supervisor District"
         }
        },
        "yaxis": {
         "anchor": "x",
         "domain": [
          0,
          1
         ],
         "title": {
          "text": "% Latino (of Any Race)"
         }
        }
       }
      },
      "text/html": [
       "<div>                            <div id=\"62ccf8c3-e941-4e5e-b8f0-dea10b4f981c\" class=\"plotly-graph-div\" style=\"height:525px; width:100%;\"></div>            <script type=\"text/javascript\">                require([\"plotly\"], function(Plotly) {                    window.PLOTLYENV=window.PLOTLYENV || {};                                    if (document.getElementById(\"62ccf8c3-e941-4e5e-b8f0-dea10b4f981c\")) {                    Plotly.newPlot(                        \"62ccf8c3-e941-4e5e-b8f0-dea10b4f981c\",                        [{\"alignmentgroup\": \"True\", \"hovertemplate\": \"Supervisor District=%{x}<br>% Latino (of Any Race)=%{y}<extra></extra>\", \"legendgroup\": \"\", \"marker\": {\"color\": \"#636efa\"}, \"name\": \"\", \"offsetgroup\": \"\", \"orientation\": \"v\", \"showlegend\": false, \"textposition\": \"auto\", \"type\": \"bar\", \"x\": [\"1\", \"10\", \"11\", \"2\", \"3\", \"4\", \"5\", \"6\", \"7\", \"8\", \"9\", \"sf\"], \"xaxis\": \"x\", \"y\": [0.07996013681439011, 0.22230037291149657, 0.26262093025924693, 0.07208646346026537, 0.08322633833844657, 0.076433929455367, 0.09870003136653539, 0.16836746774002603, 0.12090077780113517, 0.12176315189550897, 0.33058143380047206, 0.15236564829746696], \"yaxis\": \"y\"}],                        {\"barmode\": \"relative\", \"legend\": {\"tracegroupgap\": 0}, \"margin\": {\"t\": 60}, \"template\": {\"data\": {\"bar\": [{\"error_x\": {\"color\": \"#2a3f5f\"}, \"error_y\": {\"color\": \"#2a3f5f\"}, \"marker\": {\"line\": {\"color\": \"#E5ECF6\", \"width\": 0.5}}, \"type\": \"bar\"}], \"barpolar\": [{\"marker\": {\"line\": {\"color\": \"#E5ECF6\", \"width\": 0.5}}, \"type\": \"barpolar\"}], \"carpet\": [{\"aaxis\": {\"endlinecolor\": \"#2a3f5f\", \"gridcolor\": \"white\", \"linecolor\": \"white\", \"minorgridcolor\": \"white\", \"startlinecolor\": \"#2a3f5f\"}, \"baxis\": {\"endlinecolor\": \"#2a3f5f\", \"gridcolor\": \"white\", \"linecolor\": \"white\", \"minorgridcolor\": \"white\", \"startlinecolor\": \"#2a3f5f\"}, \"type\": \"carpet\"}], \"choropleth\": [{\"colorbar\": {\"outlinewidth\": 0, \"ticks\": \"\"}, \"type\": \"choropleth\"}], \"contour\": [{\"colorbar\": {\"outlinewidth\": 0, \"ticks\": \"\"}, \"colorscale\": [[0.0, \"#0d0887\"], [0.1111111111111111, \"#46039f\"], [0.2222222222222222, \"#7201a8\"], [0.3333333333333333, \"#9c179e\"], [0.4444444444444444, \"#bd3786\"], [0.5555555555555556, \"#d8576b\"], [0.6666666666666666, \"#ed7953\"], [0.7777777777777778, \"#fb9f3a\"], [0.8888888888888888, \"#fdca26\"], [1.0, \"#f0f921\"]], \"type\": \"contour\"}], \"contourcarpet\": [{\"colorbar\": {\"outlinewidth\": 0, \"ticks\": \"\"}, \"type\": \"contourcarpet\"}], \"heatmap\": [{\"colorbar\": {\"outlinewidth\": 0, \"ticks\": \"\"}, \"colorscale\": [[0.0, \"#0d0887\"], [0.1111111111111111, \"#46039f\"], [0.2222222222222222, \"#7201a8\"], [0.3333333333333333, \"#9c179e\"], [0.4444444444444444, \"#bd3786\"], [0.5555555555555556, \"#d8576b\"], [0.6666666666666666, \"#ed7953\"], [0.7777777777777778, \"#fb9f3a\"], [0.8888888888888888, \"#fdca26\"], [1.0, \"#f0f921\"]], \"type\": \"heatmap\"}], \"heatmapgl\": [{\"colorbar\": {\"outlinewidth\": 0, \"ticks\": \"\"}, \"colorscale\": [[0.0, \"#0d0887\"], [0.1111111111111111, \"#46039f\"], [0.2222222222222222, \"#7201a8\"], [0.3333333333333333, \"#9c179e\"], [0.4444444444444444, \"#bd3786\"], [0.5555555555555556, \"#d8576b\"], [0.6666666666666666, \"#ed7953\"], [0.7777777777777778, \"#fb9f3a\"], [0.8888888888888888, \"#fdca26\"], [1.0, \"#f0f921\"]], \"type\": \"heatmapgl\"}], \"histogram\": [{\"marker\": {\"colorbar\": {\"outlinewidth\": 0, \"ticks\": \"\"}}, \"type\": \"histogram\"}], \"histogram2d\": [{\"colorbar\": {\"outlinewidth\": 0, \"ticks\": \"\"}, \"colorscale\": [[0.0, \"#0d0887\"], [0.1111111111111111, \"#46039f\"], [0.2222222222222222, \"#7201a8\"], [0.3333333333333333, \"#9c179e\"], [0.4444444444444444, \"#bd3786\"], [0.5555555555555556, \"#d8576b\"], [0.6666666666666666, \"#ed7953\"], [0.7777777777777778, \"#fb9f3a\"], [0.8888888888888888, \"#fdca26\"], [1.0, \"#f0f921\"]], \"type\": \"histogram2d\"}], \"histogram2dcontour\": [{\"colorbar\": {\"outlinewidth\": 0, \"ticks\": \"\"}, \"colorscale\": [[0.0, \"#0d0887\"], [0.1111111111111111, \"#46039f\"], [0.2222222222222222, \"#7201a8\"], [0.3333333333333333, \"#9c179e\"], [0.4444444444444444, \"#bd3786\"], [0.5555555555555556, \"#d8576b\"], [0.6666666666666666, \"#ed7953\"], [0.7777777777777778, \"#fb9f3a\"], [0.8888888888888888, \"#fdca26\"], [1.0, \"#f0f921\"]], \"type\": \"histogram2dcontour\"}], \"mesh3d\": [{\"colorbar\": {\"outlinewidth\": 0, \"ticks\": \"\"}, \"type\": \"mesh3d\"}], \"parcoords\": [{\"line\": {\"colorbar\": {\"outlinewidth\": 0, \"ticks\": \"\"}}, \"type\": \"parcoords\"}], \"pie\": [{\"automargin\": true, \"type\": \"pie\"}], \"scatter\": [{\"marker\": {\"colorbar\": {\"outlinewidth\": 0, \"ticks\": \"\"}}, \"type\": \"scatter\"}], \"scatter3d\": [{\"line\": {\"colorbar\": {\"outlinewidth\": 0, \"ticks\": \"\"}}, \"marker\": {\"colorbar\": {\"outlinewidth\": 0, \"ticks\": \"\"}}, \"type\": \"scatter3d\"}], \"scattercarpet\": [{\"marker\": {\"colorbar\": {\"outlinewidth\": 0, \"ticks\": \"\"}}, \"type\": \"scattercarpet\"}], \"scattergeo\": [{\"marker\": {\"colorbar\": {\"outlinewidth\": 0, \"ticks\": \"\"}}, \"type\": \"scattergeo\"}], \"scattergl\": [{\"marker\": {\"colorbar\": {\"outlinewidth\": 0, \"ticks\": \"\"}}, \"type\": \"scattergl\"}], \"scattermapbox\": [{\"marker\": {\"colorbar\": {\"outlinewidth\": 0, \"ticks\": \"\"}}, \"type\": \"scattermapbox\"}], \"scatterpolar\": [{\"marker\": {\"colorbar\": {\"outlinewidth\": 0, \"ticks\": \"\"}}, \"type\": \"scatterpolar\"}], \"scatterpolargl\": [{\"marker\": {\"colorbar\": {\"outlinewidth\": 0, \"ticks\": \"\"}}, \"type\": \"scatterpolargl\"}], \"scatterternary\": [{\"marker\": {\"colorbar\": {\"outlinewidth\": 0, \"ticks\": \"\"}}, \"type\": \"scatterternary\"}], \"surface\": [{\"colorbar\": {\"outlinewidth\": 0, \"ticks\": \"\"}, \"colorscale\": [[0.0, \"#0d0887\"], [0.1111111111111111, \"#46039f\"], [0.2222222222222222, \"#7201a8\"], [0.3333333333333333, \"#9c179e\"], [0.4444444444444444, \"#bd3786\"], [0.5555555555555556, \"#d8576b\"], [0.6666666666666666, \"#ed7953\"], [0.7777777777777778, \"#fb9f3a\"], [0.8888888888888888, \"#fdca26\"], [1.0, \"#f0f921\"]], \"type\": \"surface\"}], \"table\": [{\"cells\": {\"fill\": {\"color\": \"#EBF0F8\"}, \"line\": {\"color\": \"white\"}}, \"header\": {\"fill\": {\"color\": \"#C8D4E3\"}, \"line\": {\"color\": \"white\"}}, \"type\": \"table\"}]}, \"layout\": {\"annotationdefaults\": {\"arrowcolor\": \"#2a3f5f\", \"arrowhead\": 0, \"arrowwidth\": 1}, \"autotypenumbers\": \"strict\", \"coloraxis\": {\"colorbar\": {\"outlinewidth\": 0, \"ticks\": \"\"}}, \"colorscale\": {\"diverging\": [[0, \"#8e0152\"], [0.1, \"#c51b7d\"], [0.2, \"#de77ae\"], [0.3, \"#f1b6da\"], [0.4, \"#fde0ef\"], [0.5, \"#f7f7f7\"], [0.6, \"#e6f5d0\"], [0.7, \"#b8e186\"], [0.8, \"#7fbc41\"], [0.9, \"#4d9221\"], [1, \"#276419\"]], \"sequential\": [[0.0, \"#0d0887\"], [0.1111111111111111, \"#46039f\"], [0.2222222222222222, \"#7201a8\"], [0.3333333333333333, \"#9c179e\"], [0.4444444444444444, \"#bd3786\"], [0.5555555555555556, \"#d8576b\"], [0.6666666666666666, \"#ed7953\"], [0.7777777777777778, \"#fb9f3a\"], [0.8888888888888888, \"#fdca26\"], [1.0, \"#f0f921\"]], \"sequentialminus\": [[0.0, \"#0d0887\"], [0.1111111111111111, \"#46039f\"], [0.2222222222222222, \"#7201a8\"], [0.3333333333333333, \"#9c179e\"], [0.4444444444444444, \"#bd3786\"], [0.5555555555555556, \"#d8576b\"], [0.6666666666666666, \"#ed7953\"], [0.7777777777777778, \"#fb9f3a\"], [0.8888888888888888, \"#fdca26\"], [1.0, \"#f0f921\"]]}, \"colorway\": [\"#636efa\", \"#EF553B\", \"#00cc96\", \"#ab63fa\", \"#FFA15A\", \"#19d3f3\", \"#FF6692\", \"#B6E880\", \"#FF97FF\", \"#FECB52\"], \"font\": {\"color\": \"#2a3f5f\"}, \"geo\": {\"bgcolor\": \"white\", \"lakecolor\": \"white\", \"landcolor\": \"#E5ECF6\", \"showlakes\": true, \"showland\": true, \"subunitcolor\": \"white\"}, \"hoverlabel\": {\"align\": \"left\"}, \"hovermode\": \"closest\", \"mapbox\": {\"style\": \"light\"}, \"paper_bgcolor\": \"white\", \"plot_bgcolor\": \"#E5ECF6\", \"polar\": {\"angularaxis\": {\"gridcolor\": \"white\", \"linecolor\": \"white\", \"ticks\": \"\"}, \"bgcolor\": \"#E5ECF6\", \"radialaxis\": {\"gridcolor\": \"white\", \"linecolor\": \"white\", \"ticks\": \"\"}}, \"scene\": {\"xaxis\": {\"backgroundcolor\": \"#E5ECF6\", \"gridcolor\": \"white\", \"gridwidth\": 2, \"linecolor\": \"white\", \"showbackground\": true, \"ticks\": \"\", \"zerolinecolor\": \"white\"}, \"yaxis\": {\"backgroundcolor\": \"#E5ECF6\", \"gridcolor\": \"white\", \"gridwidth\": 2, \"linecolor\": \"white\", \"showbackground\": true, \"ticks\": \"\", \"zerolinecolor\": \"white\"}, \"zaxis\": {\"backgroundcolor\": \"#E5ECF6\", \"gridcolor\": \"white\", \"gridwidth\": 2, \"linecolor\": \"white\", \"showbackground\": true, \"ticks\": \"\", \"zerolinecolor\": \"white\"}}, \"shapedefaults\": {\"line\": {\"color\": \"#2a3f5f\"}}, \"ternary\": {\"aaxis\": {\"gridcolor\": \"white\", \"linecolor\": \"white\", \"ticks\": \"\"}, \"baxis\": {\"gridcolor\": \"white\", \"linecolor\": \"white\", \"ticks\": \"\"}, \"bgcolor\": \"#E5ECF6\", \"caxis\": {\"gridcolor\": \"white\", \"linecolor\": \"white\", \"ticks\": \"\"}}, \"title\": {\"x\": 0.05}, \"xaxis\": {\"automargin\": true, \"gridcolor\": \"white\", \"linecolor\": \"white\", \"ticks\": \"\", \"title\": {\"standoff\": 15}, \"zerolinecolor\": \"white\", \"zerolinewidth\": 2}, \"yaxis\": {\"automargin\": true, \"gridcolor\": \"white\", \"linecolor\": \"white\", \"ticks\": \"\", \"title\": {\"standoff\": 15}, \"zerolinecolor\": \"white\", \"zerolinewidth\": 2}}}, \"xaxis\": {\"anchor\": \"y\", \"domain\": [0.0, 1.0], \"tickangle\": 45, \"title\": {\"text\": \"Supervisor District\"}}, \"yaxis\": {\"anchor\": \"x\", \"domain\": [0.0, 1.0], \"title\": {\"text\": \"% Latino (of Any Race)\"}}},                        {\"responsive\": true}                    ).then(function(){\n",
       "                            \n",
       "var gd = document.getElementById('62ccf8c3-e941-4e5e-b8f0-dea10b4f981c');\n",
       "var x = new MutationObserver(function (mutations, observer) {{\n",
       "        var display = window.getComputedStyle(gd).display;\n",
       "        if (!display || display === 'none') {{\n",
       "            console.log([gd, 'removed!']);\n",
       "            Plotly.purge(gd);\n",
       "            observer.disconnect();\n",
       "        }}\n",
       "}});\n",
       "\n",
       "// Listen for the removal of the full notebook cells\n",
       "var notebookContainer = gd.closest('#notebook-container');\n",
       "if (notebookContainer) {{\n",
       "    x.observe(notebookContainer, {childList: true});\n",
       "}}\n",
       "\n",
       "// Listen for the clearing of the current output cell\n",
       "var outputEl = gd.closest('.output');\n",
       "if (outputEl) {{\n",
       "    x.observe(outputEl, {childList: true});\n",
       "}}\n",
       "\n",
       "                        })                };                });            </script>        </div>"
      ]
     },
     "metadata": {},
     "output_type": "display_data"
    },
    {
     "data": {
      "text/plain": [
       "<function __main__.f(Variable)>"
      ]
     },
     "execution_count": 137,
     "metadata": {},
     "output_type": "execute_result"
    }
   ],
   "source": [
    "def f(Variable):\n",
    "    fig = px.bar(df_all_calcs_tp, x=geo_summary_variable, y=Variable)\n",
    "    fig.update_xaxes(tickangle=45)\n",
    "    fig.show()\n",
    "\n",
    "variables = df_all_calcs_tp.columns[1:].sort_values()\n",
    "\n",
    "interact(f, Variable=variables)"
   ]
  },
  {
   "cell_type": "code",
   "execution_count": 99,
   "id": "contrary-destination",
   "metadata": {
    "scrolled": false
   },
   "outputs": [
    {
     "data": {
      "application/vnd.plotly.v1+json": {
       "config": {
        "plotlyServerURL": "https://plot.ly"
       },
       "data": [
        {
         "alignmentgroup": "True",
         "hovertemplate": "=Renter Occupied<br>Neighborhood=%{x}<br>Percent Occupied=%{y}<extra></extra>",
         "legendgroup": "Renter Occupied",
         "marker": {
          "color": "#636efa"
         },
         "name": "Renter Occupied",
         "offsetgroup": "Renter Occupied",
         "orientation": "v",
         "showlegend": true,
         "textposition": "auto",
         "type": "bar",
         "x": [
          "Bayview Hunters Point",
          "Bernal Heights",
          "Castro/Upper Market",
          "Chinatown",
          "Excelsior",
          "Financial District",
          "Glen Park",
          "Golden Gate Park",
          "Haight Ashbury",
          "Hayes Valley",
          "Inner Richmond",
          "Inner Sunset",
          "Japantown",
          "Lakeshore",
          "Lincoln Park",
          "Lone Mountain/USF",
          "Marina",
          "McLaren Park",
          "Mission",
          "Mission Bay",
          "Nob Hill",
          "Noe Valley",
          "North Beach",
          "Oceanview/Merced/Ingleside",
          "Outer Mission",
          "Outer Richmond",
          "Pacific Heights",
          "Portola",
          "Potrero Hill",
          "Presidio",
          "Presidio Heights",
          "Russian Hill",
          "Seacliff",
          "South of Market",
          "Sunset/Parkside",
          "Tenderloin",
          "Treasure Island",
          "Twin Peaks",
          "Visitacion Valley",
          "West of Twin Peaks",
          "Western Addition",
          "sf"
         ],
         "xaxis": "x",
         "y": [
          0.47958071278826,
          0.4227925184862984,
          0.6090909090909091,
          0.9390473432749384,
          0.3268039358600583,
          0.6777020447906524,
          0.3296733461432885,
          1,
          0.6763954761036118,
          0.7973476999585578,
          0.6435801811401172,
          0.5690345785988719,
          0.8662842012356575,
          0.9486190089358245,
          0.37142857142857144,
          0.6855881425417849,
          0.7452698225723331,
          0.8535564853556485,
          0.7501261988894498,
          0.6582699619771863,
          0.862858267200105,
          0.47121535181236673,
          0.7886295061140226,
          0.3072526355899911,
          0.34959469417833455,
          0.6014368432339695,
          0.7345298478345689,
          0.335874716670101,
          0.546100340387746,
          0.974320241691843,
          0.6206035379812695,
          0.7525944375259443,
          0.24691358024691357,
          0.8405103668261563,
          0.37012412915090004,
          0.974502804691484,
          1,
          0.5983347688774046,
          0.46608527131782945,
          0.2174319177983761,
          0.7734007022351631,
          0.6240168454053219
         ],
         "yaxis": "y"
        },
        {
         "alignmentgroup": "True",
         "hovertemplate": "=Owner Occupied<br>Neighborhood=%{x}<br>Percent Occupied=%{y}<extra></extra>",
         "legendgroup": "Owner Occupied",
         "marker": {
          "color": "#EF553B"
         },
         "name": "Owner Occupied",
         "offsetgroup": "Owner Occupied",
         "orientation": "v",
         "showlegend": true,
         "textposition": "auto",
         "type": "bar",
         "x": [
          "Bayview Hunters Point",
          "Bernal Heights",
          "Castro/Upper Market",
          "Chinatown",
          "Excelsior",
          "Financial District",
          "Glen Park",
          "Golden Gate Park",
          "Haight Ashbury",
          "Hayes Valley",
          "Inner Richmond",
          "Inner Sunset",
          "Japantown",
          "Lakeshore",
          "Lincoln Park",
          "Lone Mountain/USF",
          "Marina",
          "McLaren Park",
          "Mission",
          "Mission Bay",
          "Nob Hill",
          "Noe Valley",
          "North Beach",
          "Oceanview/Merced/Ingleside",
          "Outer Mission",
          "Outer Richmond",
          "Pacific Heights",
          "Portola",
          "Potrero Hill",
          "Presidio",
          "Presidio Heights",
          "Russian Hill",
          "Seacliff",
          "South of Market",
          "Sunset/Parkside",
          "Tenderloin",
          "Treasure Island",
          "Twin Peaks",
          "Visitacion Valley",
          "West of Twin Peaks",
          "Western Addition",
          "sf"
         ],
         "xaxis": "x",
         "y": [
          0.52041928721174,
          0.5772074815137016,
          0.39090909090909093,
          0.06095265672506153,
          0.6731960641399417,
          0.3222979552093476,
          0.6703266538567115,
          0,
          0.32360452389638816,
          0.2026523000414422,
          0.3564198188598828,
          0.4309654214011281,
          0.13371579876434245,
          0.051380991064175464,
          0.6285714285714286,
          0.3144118574582151,
          0.25473017742766696,
          0.14644351464435146,
          0.24987380111055021,
          0.3417300380228137,
          0.13714173279989506,
          0.5287846481876333,
          0.21137049388597745,
          0.6927473644100088,
          0.6504053058216654,
          0.39856315676603044,
          0.26547015216543113,
          0.6641252833298991,
          0.453899659612254,
          0.0256797583081571,
          0.3793964620187305,
          0.24740556247405562,
          0.7530864197530864,
          0.1594896331738437,
          0.6298758708491,
          0.025497195308516064,
          0,
          0.40166523112259545,
          0.5339147286821705,
          0.7825680822016239,
          0.22659929776483687,
          0.3759831545946781
         ],
         "yaxis": "y"
        }
       ],
       "layout": {
        "barmode": "relative",
        "legend": {
         "title": {
          "text": ""
         },
         "tracegroupgap": 0
        },
        "template": {
         "data": {
          "bar": [
           {
            "error_x": {
             "color": "#2a3f5f"
            },
            "error_y": {
             "color": "#2a3f5f"
            },
            "marker": {
             "line": {
              "color": "#E5ECF6",
              "width": 0.5
             }
            },
            "type": "bar"
           }
          ],
          "barpolar": [
           {
            "marker": {
             "line": {
              "color": "#E5ECF6",
              "width": 0.5
             }
            },
            "type": "barpolar"
           }
          ],
          "carpet": [
           {
            "aaxis": {
             "endlinecolor": "#2a3f5f",
             "gridcolor": "white",
             "linecolor": "white",
             "minorgridcolor": "white",
             "startlinecolor": "#2a3f5f"
            },
            "baxis": {
             "endlinecolor": "#2a3f5f",
             "gridcolor": "white",
             "linecolor": "white",
             "minorgridcolor": "white",
             "startlinecolor": "#2a3f5f"
            },
            "type": "carpet"
           }
          ],
          "choropleth": [
           {
            "colorbar": {
             "outlinewidth": 0,
             "ticks": ""
            },
            "type": "choropleth"
           }
          ],
          "contour": [
           {
            "colorbar": {
             "outlinewidth": 0,
             "ticks": ""
            },
            "colorscale": [
             [
              0,
              "#0d0887"
             ],
             [
              0.1111111111111111,
              "#46039f"
             ],
             [
              0.2222222222222222,
              "#7201a8"
             ],
             [
              0.3333333333333333,
              "#9c179e"
             ],
             [
              0.4444444444444444,
              "#bd3786"
             ],
             [
              0.5555555555555556,
              "#d8576b"
             ],
             [
              0.6666666666666666,
              "#ed7953"
             ],
             [
              0.7777777777777778,
              "#fb9f3a"
             ],
             [
              0.8888888888888888,
              "#fdca26"
             ],
             [
              1,
              "#f0f921"
             ]
            ],
            "type": "contour"
           }
          ],
          "contourcarpet": [
           {
            "colorbar": {
             "outlinewidth": 0,
             "ticks": ""
            },
            "type": "contourcarpet"
           }
          ],
          "heatmap": [
           {
            "colorbar": {
             "outlinewidth": 0,
             "ticks": ""
            },
            "colorscale": [
             [
              0,
              "#0d0887"
             ],
             [
              0.1111111111111111,
              "#46039f"
             ],
             [
              0.2222222222222222,
              "#7201a8"
             ],
             [
              0.3333333333333333,
              "#9c179e"
             ],
             [
              0.4444444444444444,
              "#bd3786"
             ],
             [
              0.5555555555555556,
              "#d8576b"
             ],
             [
              0.6666666666666666,
              "#ed7953"
             ],
             [
              0.7777777777777778,
              "#fb9f3a"
             ],
             [
              0.8888888888888888,
              "#fdca26"
             ],
             [
              1,
              "#f0f921"
             ]
            ],
            "type": "heatmap"
           }
          ],
          "heatmapgl": [
           {
            "colorbar": {
             "outlinewidth": 0,
             "ticks": ""
            },
            "colorscale": [
             [
              0,
              "#0d0887"
             ],
             [
              0.1111111111111111,
              "#46039f"
             ],
             [
              0.2222222222222222,
              "#7201a8"
             ],
             [
              0.3333333333333333,
              "#9c179e"
             ],
             [
              0.4444444444444444,
              "#bd3786"
             ],
             [
              0.5555555555555556,
              "#d8576b"
             ],
             [
              0.6666666666666666,
              "#ed7953"
             ],
             [
              0.7777777777777778,
              "#fb9f3a"
             ],
             [
              0.8888888888888888,
              "#fdca26"
             ],
             [
              1,
              "#f0f921"
             ]
            ],
            "type": "heatmapgl"
           }
          ],
          "histogram": [
           {
            "marker": {
             "colorbar": {
              "outlinewidth": 0,
              "ticks": ""
             }
            },
            "type": "histogram"
           }
          ],
          "histogram2d": [
           {
            "colorbar": {
             "outlinewidth": 0,
             "ticks": ""
            },
            "colorscale": [
             [
              0,
              "#0d0887"
             ],
             [
              0.1111111111111111,
              "#46039f"
             ],
             [
              0.2222222222222222,
              "#7201a8"
             ],
             [
              0.3333333333333333,
              "#9c179e"
             ],
             [
              0.4444444444444444,
              "#bd3786"
             ],
             [
              0.5555555555555556,
              "#d8576b"
             ],
             [
              0.6666666666666666,
              "#ed7953"
             ],
             [
              0.7777777777777778,
              "#fb9f3a"
             ],
             [
              0.8888888888888888,
              "#fdca26"
             ],
             [
              1,
              "#f0f921"
             ]
            ],
            "type": "histogram2d"
           }
          ],
          "histogram2dcontour": [
           {
            "colorbar": {
             "outlinewidth": 0,
             "ticks": ""
            },
            "colorscale": [
             [
              0,
              "#0d0887"
             ],
             [
              0.1111111111111111,
              "#46039f"
             ],
             [
              0.2222222222222222,
              "#7201a8"
             ],
             [
              0.3333333333333333,
              "#9c179e"
             ],
             [
              0.4444444444444444,
              "#bd3786"
             ],
             [
              0.5555555555555556,
              "#d8576b"
             ],
             [
              0.6666666666666666,
              "#ed7953"
             ],
             [
              0.7777777777777778,
              "#fb9f3a"
             ],
             [
              0.8888888888888888,
              "#fdca26"
             ],
             [
              1,
              "#f0f921"
             ]
            ],
            "type": "histogram2dcontour"
           }
          ],
          "mesh3d": [
           {
            "colorbar": {
             "outlinewidth": 0,
             "ticks": ""
            },
            "type": "mesh3d"
           }
          ],
          "parcoords": [
           {
            "line": {
             "colorbar": {
              "outlinewidth": 0,
              "ticks": ""
             }
            },
            "type": "parcoords"
           }
          ],
          "pie": [
           {
            "automargin": true,
            "type": "pie"
           }
          ],
          "scatter": [
           {
            "marker": {
             "colorbar": {
              "outlinewidth": 0,
              "ticks": ""
             }
            },
            "type": "scatter"
           }
          ],
          "scatter3d": [
           {
            "line": {
             "colorbar": {
              "outlinewidth": 0,
              "ticks": ""
             }
            },
            "marker": {
             "colorbar": {
              "outlinewidth": 0,
              "ticks": ""
             }
            },
            "type": "scatter3d"
           }
          ],
          "scattercarpet": [
           {
            "marker": {
             "colorbar": {
              "outlinewidth": 0,
              "ticks": ""
             }
            },
            "type": "scattercarpet"
           }
          ],
          "scattergeo": [
           {
            "marker": {
             "colorbar": {
              "outlinewidth": 0,
              "ticks": ""
             }
            },
            "type": "scattergeo"
           }
          ],
          "scattergl": [
           {
            "marker": {
             "colorbar": {
              "outlinewidth": 0,
              "ticks": ""
             }
            },
            "type": "scattergl"
           }
          ],
          "scattermapbox": [
           {
            "marker": {
             "colorbar": {
              "outlinewidth": 0,
              "ticks": ""
             }
            },
            "type": "scattermapbox"
           }
          ],
          "scatterpolar": [
           {
            "marker": {
             "colorbar": {
              "outlinewidth": 0,
              "ticks": ""
             }
            },
            "type": "scatterpolar"
           }
          ],
          "scatterpolargl": [
           {
            "marker": {
             "colorbar": {
              "outlinewidth": 0,
              "ticks": ""
             }
            },
            "type": "scatterpolargl"
           }
          ],
          "scatterternary": [
           {
            "marker": {
             "colorbar": {
              "outlinewidth": 0,
              "ticks": ""
             }
            },
            "type": "scatterternary"
           }
          ],
          "surface": [
           {
            "colorbar": {
             "outlinewidth": 0,
             "ticks": ""
            },
            "colorscale": [
             [
              0,
              "#0d0887"
             ],
             [
              0.1111111111111111,
              "#46039f"
             ],
             [
              0.2222222222222222,
              "#7201a8"
             ],
             [
              0.3333333333333333,
              "#9c179e"
             ],
             [
              0.4444444444444444,
              "#bd3786"
             ],
             [
              0.5555555555555556,
              "#d8576b"
             ],
             [
              0.6666666666666666,
              "#ed7953"
             ],
             [
              0.7777777777777778,
              "#fb9f3a"
             ],
             [
              0.8888888888888888,
              "#fdca26"
             ],
             [
              1,
              "#f0f921"
             ]
            ],
            "type": "surface"
           }
          ],
          "table": [
           {
            "cells": {
             "fill": {
              "color": "#EBF0F8"
             },
             "line": {
              "color": "white"
             }
            },
            "header": {
             "fill": {
              "color": "#C8D4E3"
             },
             "line": {
              "color": "white"
             }
            },
            "type": "table"
           }
          ]
         },
         "layout": {
          "annotationdefaults": {
           "arrowcolor": "#2a3f5f",
           "arrowhead": 0,
           "arrowwidth": 1
          },
          "autotypenumbers": "strict",
          "coloraxis": {
           "colorbar": {
            "outlinewidth": 0,
            "ticks": ""
           }
          },
          "colorscale": {
           "diverging": [
            [
             0,
             "#8e0152"
            ],
            [
             0.1,
             "#c51b7d"
            ],
            [
             0.2,
             "#de77ae"
            ],
            [
             0.3,
             "#f1b6da"
            ],
            [
             0.4,
             "#fde0ef"
            ],
            [
             0.5,
             "#f7f7f7"
            ],
            [
             0.6,
             "#e6f5d0"
            ],
            [
             0.7,
             "#b8e186"
            ],
            [
             0.8,
             "#7fbc41"
            ],
            [
             0.9,
             "#4d9221"
            ],
            [
             1,
             "#276419"
            ]
           ],
           "sequential": [
            [
             0,
             "#0d0887"
            ],
            [
             0.1111111111111111,
             "#46039f"
            ],
            [
             0.2222222222222222,
             "#7201a8"
            ],
            [
             0.3333333333333333,
             "#9c179e"
            ],
            [
             0.4444444444444444,
             "#bd3786"
            ],
            [
             0.5555555555555556,
             "#d8576b"
            ],
            [
             0.6666666666666666,
             "#ed7953"
            ],
            [
             0.7777777777777778,
             "#fb9f3a"
            ],
            [
             0.8888888888888888,
             "#fdca26"
            ],
            [
             1,
             "#f0f921"
            ]
           ],
           "sequentialminus": [
            [
             0,
             "#0d0887"
            ],
            [
             0.1111111111111111,
             "#46039f"
            ],
            [
             0.2222222222222222,
             "#7201a8"
            ],
            [
             0.3333333333333333,
             "#9c179e"
            ],
            [
             0.4444444444444444,
             "#bd3786"
            ],
            [
             0.5555555555555556,
             "#d8576b"
            ],
            [
             0.6666666666666666,
             "#ed7953"
            ],
            [
             0.7777777777777778,
             "#fb9f3a"
            ],
            [
             0.8888888888888888,
             "#fdca26"
            ],
            [
             1,
             "#f0f921"
            ]
           ]
          },
          "colorway": [
           "#636efa",
           "#EF553B",
           "#00cc96",
           "#ab63fa",
           "#FFA15A",
           "#19d3f3",
           "#FF6692",
           "#B6E880",
           "#FF97FF",
           "#FECB52"
          ],
          "font": {
           "color": "#2a3f5f"
          },
          "geo": {
           "bgcolor": "white",
           "lakecolor": "white",
           "landcolor": "#E5ECF6",
           "showlakes": true,
           "showland": true,
           "subunitcolor": "white"
          },
          "hoverlabel": {
           "align": "left"
          },
          "hovermode": "closest",
          "mapbox": {
           "style": "light"
          },
          "paper_bgcolor": "white",
          "plot_bgcolor": "#E5ECF6",
          "polar": {
           "angularaxis": {
            "gridcolor": "white",
            "linecolor": "white",
            "ticks": ""
           },
           "bgcolor": "#E5ECF6",
           "radialaxis": {
            "gridcolor": "white",
            "linecolor": "white",
            "ticks": ""
           }
          },
          "scene": {
           "xaxis": {
            "backgroundcolor": "#E5ECF6",
            "gridcolor": "white",
            "gridwidth": 2,
            "linecolor": "white",
            "showbackground": true,
            "ticks": "",
            "zerolinecolor": "white"
           },
           "yaxis": {
            "backgroundcolor": "#E5ECF6",
            "gridcolor": "white",
            "gridwidth": 2,
            "linecolor": "white",
            "showbackground": true,
            "ticks": "",
            "zerolinecolor": "white"
           },
           "zaxis": {
            "backgroundcolor": "#E5ECF6",
            "gridcolor": "white",
            "gridwidth": 2,
            "linecolor": "white",
            "showbackground": true,
            "ticks": "",
            "zerolinecolor": "white"
           }
          },
          "shapedefaults": {
           "line": {
            "color": "#2a3f5f"
           }
          },
          "ternary": {
           "aaxis": {
            "gridcolor": "white",
            "linecolor": "white",
            "ticks": ""
           },
           "baxis": {
            "gridcolor": "white",
            "linecolor": "white",
            "ticks": ""
           },
           "bgcolor": "#E5ECF6",
           "caxis": {
            "gridcolor": "white",
            "linecolor": "white",
            "ticks": ""
           }
          },
          "title": {
           "x": 0.05
          },
          "xaxis": {
           "automargin": true,
           "gridcolor": "white",
           "linecolor": "white",
           "ticks": "",
           "title": {
            "standoff": 15
           },
           "zerolinecolor": "white",
           "zerolinewidth": 2
          },
          "yaxis": {
           "automargin": true,
           "gridcolor": "white",
           "linecolor": "white",
           "ticks": "",
           "title": {
            "standoff": 15
           },
           "zerolinecolor": "white",
           "zerolinewidth": 2
          }
         }
        },
        "title": {
         "text": "Renter vs Owner Occupied"
        },
        "xaxis": {
         "anchor": "y",
         "domain": [
          0,
          1
         ],
         "tickangle": 45,
         "title": {
          "text": "Neighborhood"
         }
        },
        "yaxis": {
         "anchor": "x",
         "domain": [
          0,
          1
         ],
         "title": {
          "text": "Percent Occupied"
         }
        }
       }
      },
      "text/html": [
       "<div>                            <div id=\"39b9a8d5-9f58-49f4-bcb0-387dfe64178d\" class=\"plotly-graph-div\" style=\"height:525px; width:100%;\"></div>            <script type=\"text/javascript\">                require([\"plotly\"], function(Plotly) {                    window.PLOTLYENV=window.PLOTLYENV || {};                                    if (document.getElementById(\"39b9a8d5-9f58-49f4-bcb0-387dfe64178d\")) {                    Plotly.newPlot(                        \"39b9a8d5-9f58-49f4-bcb0-387dfe64178d\",                        [{\"alignmentgroup\": \"True\", \"hovertemplate\": \"=Renter Occupied<br>Neighborhood=%{x}<br>Percent Occupied=%{y}<extra></extra>\", \"legendgroup\": \"Renter Occupied\", \"marker\": {\"color\": \"#636efa\"}, \"name\": \"Renter Occupied\", \"offsetgroup\": \"Renter Occupied\", \"orientation\": \"v\", \"showlegend\": true, \"textposition\": \"auto\", \"type\": \"bar\", \"x\": [\"Bayview Hunters Point\", \"Bernal Heights\", \"Castro/Upper Market\", \"Chinatown\", \"Excelsior\", \"Financial District\", \"Glen Park\", \"Golden Gate Park\", \"Haight Ashbury\", \"Hayes Valley\", \"Inner Richmond\", \"Inner Sunset\", \"Japantown\", \"Lakeshore\", \"Lincoln Park\", \"Lone Mountain/USF\", \"Marina\", \"McLaren Park\", \"Mission\", \"Mission Bay\", \"Nob Hill\", \"Noe Valley\", \"North Beach\", \"Oceanview/Merced/Ingleside\", \"Outer Mission\", \"Outer Richmond\", \"Pacific Heights\", \"Portola\", \"Potrero Hill\", \"Presidio\", \"Presidio Heights\", \"Russian Hill\", \"Seacliff\", \"South of Market\", \"Sunset/Parkside\", \"Tenderloin\", \"Treasure Island\", \"Twin Peaks\", \"Visitacion Valley\", \"West of Twin Peaks\", \"Western Addition\", \"sf\"], \"xaxis\": \"x\", \"y\": [0.47958071278826, 0.4227925184862984, 0.6090909090909091, 0.9390473432749384, 0.3268039358600583, 0.6777020447906524, 0.3296733461432885, 1.0, 0.6763954761036118, 0.7973476999585578, 0.6435801811401172, 0.5690345785988719, 0.8662842012356575, 0.9486190089358245, 0.37142857142857144, 0.6855881425417849, 0.7452698225723331, 0.8535564853556485, 0.7501261988894498, 0.6582699619771863, 0.862858267200105, 0.47121535181236673, 0.7886295061140226, 0.3072526355899911, 0.34959469417833455, 0.6014368432339695, 0.7345298478345689, 0.335874716670101, 0.546100340387746, 0.974320241691843, 0.6206035379812695, 0.7525944375259443, 0.24691358024691357, 0.8405103668261563, 0.37012412915090004, 0.974502804691484, 1.0, 0.5983347688774046, 0.46608527131782945, 0.2174319177983761, 0.7734007022351631, 0.6240168454053219], \"yaxis\": \"y\"}, {\"alignmentgroup\": \"True\", \"hovertemplate\": \"=Owner Occupied<br>Neighborhood=%{x}<br>Percent Occupied=%{y}<extra></extra>\", \"legendgroup\": \"Owner Occupied\", \"marker\": {\"color\": \"#EF553B\"}, \"name\": \"Owner Occupied\", \"offsetgroup\": \"Owner Occupied\", \"orientation\": \"v\", \"showlegend\": true, \"textposition\": \"auto\", \"type\": \"bar\", \"x\": [\"Bayview Hunters Point\", \"Bernal Heights\", \"Castro/Upper Market\", \"Chinatown\", \"Excelsior\", \"Financial District\", \"Glen Park\", \"Golden Gate Park\", \"Haight Ashbury\", \"Hayes Valley\", \"Inner Richmond\", \"Inner Sunset\", \"Japantown\", \"Lakeshore\", \"Lincoln Park\", \"Lone Mountain/USF\", \"Marina\", \"McLaren Park\", \"Mission\", \"Mission Bay\", \"Nob Hill\", \"Noe Valley\", \"North Beach\", \"Oceanview/Merced/Ingleside\", \"Outer Mission\", \"Outer Richmond\", \"Pacific Heights\", \"Portola\", \"Potrero Hill\", \"Presidio\", \"Presidio Heights\", \"Russian Hill\", \"Seacliff\", \"South of Market\", \"Sunset/Parkside\", \"Tenderloin\", \"Treasure Island\", \"Twin Peaks\", \"Visitacion Valley\", \"West of Twin Peaks\", \"Western Addition\", \"sf\"], \"xaxis\": \"x\", \"y\": [0.52041928721174, 0.5772074815137016, 0.39090909090909093, 0.06095265672506153, 0.6731960641399417, 0.3222979552093476, 0.6703266538567115, 0.0, 0.32360452389638816, 0.2026523000414422, 0.3564198188598828, 0.4309654214011281, 0.13371579876434245, 0.051380991064175464, 0.6285714285714286, 0.3144118574582151, 0.25473017742766696, 0.14644351464435146, 0.24987380111055021, 0.3417300380228137, 0.13714173279989506, 0.5287846481876333, 0.21137049388597745, 0.6927473644100088, 0.6504053058216654, 0.39856315676603044, 0.26547015216543113, 0.6641252833298991, 0.453899659612254, 0.0256797583081571, 0.3793964620187305, 0.24740556247405562, 0.7530864197530864, 0.1594896331738437, 0.6298758708491, 0.025497195308516064, 0.0, 0.40166523112259545, 0.5339147286821705, 0.7825680822016239, 0.22659929776483687, 0.3759831545946781], \"yaxis\": \"y\"}],                        {\"barmode\": \"relative\", \"legend\": {\"title\": {\"text\": \"\"}, \"tracegroupgap\": 0}, \"template\": {\"data\": {\"bar\": [{\"error_x\": {\"color\": \"#2a3f5f\"}, \"error_y\": {\"color\": \"#2a3f5f\"}, \"marker\": {\"line\": {\"color\": \"#E5ECF6\", \"width\": 0.5}}, \"type\": \"bar\"}], \"barpolar\": [{\"marker\": {\"line\": {\"color\": \"#E5ECF6\", \"width\": 0.5}}, \"type\": \"barpolar\"}], \"carpet\": [{\"aaxis\": {\"endlinecolor\": \"#2a3f5f\", \"gridcolor\": \"white\", \"linecolor\": \"white\", \"minorgridcolor\": \"white\", \"startlinecolor\": \"#2a3f5f\"}, \"baxis\": {\"endlinecolor\": \"#2a3f5f\", \"gridcolor\": \"white\", \"linecolor\": \"white\", \"minorgridcolor\": \"white\", \"startlinecolor\": \"#2a3f5f\"}, \"type\": \"carpet\"}], \"choropleth\": [{\"colorbar\": {\"outlinewidth\": 0, \"ticks\": \"\"}, \"type\": \"choropleth\"}], \"contour\": [{\"colorbar\": {\"outlinewidth\": 0, \"ticks\": \"\"}, \"colorscale\": [[0.0, \"#0d0887\"], [0.1111111111111111, \"#46039f\"], [0.2222222222222222, \"#7201a8\"], [0.3333333333333333, \"#9c179e\"], [0.4444444444444444, \"#bd3786\"], [0.5555555555555556, \"#d8576b\"], [0.6666666666666666, \"#ed7953\"], [0.7777777777777778, \"#fb9f3a\"], [0.8888888888888888, \"#fdca26\"], [1.0, \"#f0f921\"]], \"type\": \"contour\"}], \"contourcarpet\": [{\"colorbar\": {\"outlinewidth\": 0, \"ticks\": \"\"}, \"type\": \"contourcarpet\"}], \"heatmap\": [{\"colorbar\": {\"outlinewidth\": 0, \"ticks\": \"\"}, \"colorscale\": [[0.0, \"#0d0887\"], [0.1111111111111111, \"#46039f\"], [0.2222222222222222, \"#7201a8\"], [0.3333333333333333, \"#9c179e\"], [0.4444444444444444, \"#bd3786\"], [0.5555555555555556, \"#d8576b\"], [0.6666666666666666, \"#ed7953\"], [0.7777777777777778, \"#fb9f3a\"], [0.8888888888888888, \"#fdca26\"], [1.0, \"#f0f921\"]], \"type\": \"heatmap\"}], \"heatmapgl\": [{\"colorbar\": {\"outlinewidth\": 0, \"ticks\": \"\"}, \"colorscale\": [[0.0, \"#0d0887\"], [0.1111111111111111, \"#46039f\"], [0.2222222222222222, \"#7201a8\"], [0.3333333333333333, \"#9c179e\"], [0.4444444444444444, \"#bd3786\"], [0.5555555555555556, \"#d8576b\"], [0.6666666666666666, \"#ed7953\"], [0.7777777777777778, \"#fb9f3a\"], [0.8888888888888888, \"#fdca26\"], [1.0, \"#f0f921\"]], \"type\": \"heatmapgl\"}], \"histogram\": [{\"marker\": {\"colorbar\": {\"outlinewidth\": 0, \"ticks\": \"\"}}, \"type\": \"histogram\"}], \"histogram2d\": [{\"colorbar\": {\"outlinewidth\": 0, \"ticks\": \"\"}, \"colorscale\": [[0.0, \"#0d0887\"], [0.1111111111111111, \"#46039f\"], [0.2222222222222222, \"#7201a8\"], [0.3333333333333333, \"#9c179e\"], [0.4444444444444444, \"#bd3786\"], [0.5555555555555556, \"#d8576b\"], [0.6666666666666666, \"#ed7953\"], [0.7777777777777778, \"#fb9f3a\"], [0.8888888888888888, \"#fdca26\"], [1.0, \"#f0f921\"]], \"type\": \"histogram2d\"}], \"histogram2dcontour\": [{\"colorbar\": {\"outlinewidth\": 0, \"ticks\": \"\"}, \"colorscale\": [[0.0, \"#0d0887\"], [0.1111111111111111, \"#46039f\"], [0.2222222222222222, \"#7201a8\"], [0.3333333333333333, \"#9c179e\"], [0.4444444444444444, \"#bd3786\"], [0.5555555555555556, \"#d8576b\"], [0.6666666666666666, \"#ed7953\"], [0.7777777777777778, \"#fb9f3a\"], [0.8888888888888888, \"#fdca26\"], [1.0, \"#f0f921\"]], \"type\": \"histogram2dcontour\"}], \"mesh3d\": [{\"colorbar\": {\"outlinewidth\": 0, \"ticks\": \"\"}, \"type\": \"mesh3d\"}], \"parcoords\": [{\"line\": {\"colorbar\": {\"outlinewidth\": 0, \"ticks\": \"\"}}, \"type\": \"parcoords\"}], \"pie\": [{\"automargin\": true, \"type\": \"pie\"}], \"scatter\": [{\"marker\": {\"colorbar\": {\"outlinewidth\": 0, \"ticks\": \"\"}}, \"type\": \"scatter\"}], \"scatter3d\": [{\"line\": {\"colorbar\": {\"outlinewidth\": 0, \"ticks\": \"\"}}, \"marker\": {\"colorbar\": {\"outlinewidth\": 0, \"ticks\": \"\"}}, \"type\": \"scatter3d\"}], \"scattercarpet\": [{\"marker\": {\"colorbar\": {\"outlinewidth\": 0, \"ticks\": \"\"}}, \"type\": \"scattercarpet\"}], \"scattergeo\": [{\"marker\": {\"colorbar\": {\"outlinewidth\": 0, \"ticks\": \"\"}}, \"type\": \"scattergeo\"}], \"scattergl\": [{\"marker\": {\"colorbar\": {\"outlinewidth\": 0, \"ticks\": \"\"}}, \"type\": \"scattergl\"}], \"scattermapbox\": [{\"marker\": {\"colorbar\": {\"outlinewidth\": 0, \"ticks\": \"\"}}, \"type\": \"scattermapbox\"}], \"scatterpolar\": [{\"marker\": {\"colorbar\": {\"outlinewidth\": 0, \"ticks\": \"\"}}, \"type\": \"scatterpolar\"}], \"scatterpolargl\": [{\"marker\": {\"colorbar\": {\"outlinewidth\": 0, \"ticks\": \"\"}}, \"type\": \"scatterpolargl\"}], \"scatterternary\": [{\"marker\": {\"colorbar\": {\"outlinewidth\": 0, \"ticks\": \"\"}}, \"type\": \"scatterternary\"}], \"surface\": [{\"colorbar\": {\"outlinewidth\": 0, \"ticks\": \"\"}, \"colorscale\": [[0.0, \"#0d0887\"], [0.1111111111111111, \"#46039f\"], [0.2222222222222222, \"#7201a8\"], [0.3333333333333333, \"#9c179e\"], [0.4444444444444444, \"#bd3786\"], [0.5555555555555556, \"#d8576b\"], [0.6666666666666666, \"#ed7953\"], [0.7777777777777778, \"#fb9f3a\"], [0.8888888888888888, \"#fdca26\"], [1.0, \"#f0f921\"]], \"type\": \"surface\"}], \"table\": [{\"cells\": {\"fill\": {\"color\": \"#EBF0F8\"}, \"line\": {\"color\": \"white\"}}, \"header\": {\"fill\": {\"color\": \"#C8D4E3\"}, \"line\": {\"color\": \"white\"}}, \"type\": \"table\"}]}, \"layout\": {\"annotationdefaults\": {\"arrowcolor\": \"#2a3f5f\", \"arrowhead\": 0, \"arrowwidth\": 1}, \"autotypenumbers\": \"strict\", \"coloraxis\": {\"colorbar\": {\"outlinewidth\": 0, \"ticks\": \"\"}}, \"colorscale\": {\"diverging\": [[0, \"#8e0152\"], [0.1, \"#c51b7d\"], [0.2, \"#de77ae\"], [0.3, \"#f1b6da\"], [0.4, \"#fde0ef\"], [0.5, \"#f7f7f7\"], [0.6, \"#e6f5d0\"], [0.7, \"#b8e186\"], [0.8, \"#7fbc41\"], [0.9, \"#4d9221\"], [1, \"#276419\"]], \"sequential\": [[0.0, \"#0d0887\"], [0.1111111111111111, \"#46039f\"], [0.2222222222222222, \"#7201a8\"], [0.3333333333333333, \"#9c179e\"], [0.4444444444444444, \"#bd3786\"], [0.5555555555555556, \"#d8576b\"], [0.6666666666666666, \"#ed7953\"], [0.7777777777777778, \"#fb9f3a\"], [0.8888888888888888, \"#fdca26\"], [1.0, \"#f0f921\"]], \"sequentialminus\": [[0.0, \"#0d0887\"], [0.1111111111111111, \"#46039f\"], [0.2222222222222222, \"#7201a8\"], [0.3333333333333333, \"#9c179e\"], [0.4444444444444444, \"#bd3786\"], [0.5555555555555556, \"#d8576b\"], [0.6666666666666666, \"#ed7953\"], [0.7777777777777778, \"#fb9f3a\"], [0.8888888888888888, \"#fdca26\"], [1.0, \"#f0f921\"]]}, \"colorway\": [\"#636efa\", \"#EF553B\", \"#00cc96\", \"#ab63fa\", \"#FFA15A\", \"#19d3f3\", \"#FF6692\", \"#B6E880\", \"#FF97FF\", \"#FECB52\"], \"font\": {\"color\": \"#2a3f5f\"}, \"geo\": {\"bgcolor\": \"white\", \"lakecolor\": \"white\", \"landcolor\": \"#E5ECF6\", \"showlakes\": true, \"showland\": true, \"subunitcolor\": \"white\"}, \"hoverlabel\": {\"align\": \"left\"}, \"hovermode\": \"closest\", \"mapbox\": {\"style\": \"light\"}, \"paper_bgcolor\": \"white\", \"plot_bgcolor\": \"#E5ECF6\", \"polar\": {\"angularaxis\": {\"gridcolor\": \"white\", \"linecolor\": \"white\", \"ticks\": \"\"}, \"bgcolor\": \"#E5ECF6\", \"radialaxis\": {\"gridcolor\": \"white\", \"linecolor\": \"white\", \"ticks\": \"\"}}, \"scene\": {\"xaxis\": {\"backgroundcolor\": \"#E5ECF6\", \"gridcolor\": \"white\", \"gridwidth\": 2, \"linecolor\": \"white\", \"showbackground\": true, \"ticks\": \"\", \"zerolinecolor\": \"white\"}, \"yaxis\": {\"backgroundcolor\": \"#E5ECF6\", \"gridcolor\": \"white\", \"gridwidth\": 2, \"linecolor\": \"white\", \"showbackground\": true, \"ticks\": \"\", \"zerolinecolor\": \"white\"}, \"zaxis\": {\"backgroundcolor\": \"#E5ECF6\", \"gridcolor\": \"white\", \"gridwidth\": 2, \"linecolor\": \"white\", \"showbackground\": true, \"ticks\": \"\", \"zerolinecolor\": \"white\"}}, \"shapedefaults\": {\"line\": {\"color\": \"#2a3f5f\"}}, \"ternary\": {\"aaxis\": {\"gridcolor\": \"white\", \"linecolor\": \"white\", \"ticks\": \"\"}, \"baxis\": {\"gridcolor\": \"white\", \"linecolor\": \"white\", \"ticks\": \"\"}, \"bgcolor\": \"#E5ECF6\", \"caxis\": {\"gridcolor\": \"white\", \"linecolor\": \"white\", \"ticks\": \"\"}}, \"title\": {\"x\": 0.05}, \"xaxis\": {\"automargin\": true, \"gridcolor\": \"white\", \"linecolor\": \"white\", \"ticks\": \"\", \"title\": {\"standoff\": 15}, \"zerolinecolor\": \"white\", \"zerolinewidth\": 2}, \"yaxis\": {\"automargin\": true, \"gridcolor\": \"white\", \"linecolor\": \"white\", \"ticks\": \"\", \"title\": {\"standoff\": 15}, \"zerolinecolor\": \"white\", \"zerolinewidth\": 2}}}, \"title\": {\"text\": \"Renter vs Owner Occupied\"}, \"xaxis\": {\"anchor\": \"y\", \"domain\": [0.0, 1.0], \"tickangle\": 45, \"title\": {\"text\": \"Neighborhood\"}}, \"yaxis\": {\"anchor\": \"x\", \"domain\": [0.0, 1.0], \"title\": {\"text\": \"Percent Occupied\"}}},                        {\"responsive\": true}                    ).then(function(){\n",
       "                            \n",
       "var gd = document.getElementById('39b9a8d5-9f58-49f4-bcb0-387dfe64178d');\n",
       "var x = new MutationObserver(function (mutations, observer) {{\n",
       "        var display = window.getComputedStyle(gd).display;\n",
       "        if (!display || display === 'none') {{\n",
       "            console.log([gd, 'removed!']);\n",
       "            Plotly.purge(gd);\n",
       "            observer.disconnect();\n",
       "        }}\n",
       "}});\n",
       "\n",
       "// Listen for the removal of the full notebook cells\n",
       "var notebookContainer = gd.closest('#notebook-container');\n",
       "if (notebookContainer) {{\n",
       "    x.observe(notebookContainer, {childList: true});\n",
       "}}\n",
       "\n",
       "// Listen for the clearing of the current output cell\n",
       "var outputEl = gd.closest('.output');\n",
       "if (outputEl) {{\n",
       "    x.observe(outputEl, {childList: true});\n",
       "}}\n",
       "\n",
       "                        })                };                });            </script>        </div>"
      ]
     },
     "metadata": {},
     "output_type": "display_data"
    }
   ],
   "source": [
    "melted = pd.melt(df_all_calcs_tp, id_vars=geo_summary_variable, value_vars=['Renter Occupied', 'Owner Occupied'])\n",
    "\n",
    "fig2 = px.bar(melted, x=geo_summary_variable, y=\"value\", color=0, title=\"Renter vs Owner Occupied\", labels={\n",
    "                     \"value\": \"Percent Occupied\",\n",
    "                     '0': \"\"\n",
    "                 },)\n",
    "\n",
    "fig2.update_xaxes(tickangle=45)\n",
    "fig2.show()"
   ]
  },
  {
   "cell_type": "code",
   "execution_count": 16,
   "id": "after-dynamics",
   "metadata": {
    "scrolled": false
   },
   "outputs": [
    {
     "ename": "DriverError",
     "evalue": "./shps/supervisor_districts/supervisor_districts.shp: No such file or directory",
     "output_type": "error",
     "traceback": [
      "\u001b[1;31m---------------------------------------------------------------------------\u001b[0m",
      "\u001b[1;31mCPLE_OpenFailedError\u001b[0m                      Traceback (most recent call last)",
      "\u001b[1;32mfiona\\_shim.pyx\u001b[0m in \u001b[0;36mfiona._shim.gdal_open_vector\u001b[1;34m()\u001b[0m\n",
      "\u001b[1;32mfiona\\_err.pyx\u001b[0m in \u001b[0;36mfiona._err.exc_wrap_pointer\u001b[1;34m()\u001b[0m\n",
      "\u001b[1;31mCPLE_OpenFailedError\u001b[0m: ./shps/supervisor_districts/supervisor_districts.shp: No such file or directory",
      "\nDuring handling of the above exception, another exception occurred:\n",
      "\u001b[1;31mDriverError\u001b[0m                               Traceback (most recent call last)",
      "\u001b[1;32m<ipython-input-16-a5af082f3439>\u001b[0m in \u001b[0;36m<module>\u001b[1;34m\u001b[0m\n\u001b[0;32m      1\u001b[0m \u001b[1;31m# import neighborhood shapefiles and reproject to web mercator\u001b[0m\u001b[1;33m\u001b[0m\u001b[1;33m\u001b[0m\u001b[1;33m\u001b[0m\u001b[0m\n\u001b[1;32m----> 2\u001b[1;33m \u001b[0mgeo_df\u001b[0m \u001b[1;33m=\u001b[0m \u001b[0mgeopandas\u001b[0m\u001b[1;33m.\u001b[0m\u001b[0mread_file\u001b[0m\u001b[1;33m(\u001b[0m\u001b[0mgeo_path\u001b[0m\u001b[1;33m)\u001b[0m\u001b[1;33m\u001b[0m\u001b[1;33m\u001b[0m\u001b[0m\n\u001b[0m\u001b[0;32m      3\u001b[0m \u001b[0mgeo_df\u001b[0m \u001b[1;33m=\u001b[0m \u001b[0mgeo_df\u001b[0m\u001b[1;33m.\u001b[0m\u001b[0mto_crs\u001b[0m\u001b[1;33m(\u001b[0m\u001b[1;34m\"EPSG:4326\"\u001b[0m\u001b[1;33m)\u001b[0m\u001b[1;33m\u001b[0m\u001b[1;33m\u001b[0m\u001b[0m\n\u001b[0;32m      4\u001b[0m \u001b[1;33m\u001b[0m\u001b[0m\n\u001b[0;32m      5\u001b[0m \u001b[1;31m# function to create folium map\u001b[0m\u001b[1;33m\u001b[0m\u001b[1;33m\u001b[0m\u001b[1;33m\u001b[0m\u001b[0m\n",
      "\u001b[1;32m~\\Documents\\2021_03_10_socioeconomic_profiles\\myenv\\lib\\site-packages\\geopandas\\io\\file.py\u001b[0m in \u001b[0;36m_read_file\u001b[1;34m(filename, bbox, mask, rows, **kwargs)\u001b[0m\n\u001b[0;32m    158\u001b[0m \u001b[1;33m\u001b[0m\u001b[0m\n\u001b[0;32m    159\u001b[0m     \u001b[1;32mwith\u001b[0m \u001b[0mfiona_env\u001b[0m\u001b[1;33m(\u001b[0m\u001b[1;33m)\u001b[0m\u001b[1;33m:\u001b[0m\u001b[1;33m\u001b[0m\u001b[1;33m\u001b[0m\u001b[0m\n\u001b[1;32m--> 160\u001b[1;33m         \u001b[1;32mwith\u001b[0m \u001b[0mreader\u001b[0m\u001b[1;33m(\u001b[0m\u001b[0mpath_or_bytes\u001b[0m\u001b[1;33m,\u001b[0m \u001b[1;33m**\u001b[0m\u001b[0mkwargs\u001b[0m\u001b[1;33m)\u001b[0m \u001b[1;32mas\u001b[0m \u001b[0mfeatures\u001b[0m\u001b[1;33m:\u001b[0m\u001b[1;33m\u001b[0m\u001b[1;33m\u001b[0m\u001b[0m\n\u001b[0m\u001b[0;32m    161\u001b[0m \u001b[1;33m\u001b[0m\u001b[0m\n\u001b[0;32m    162\u001b[0m             \u001b[1;31m# In a future Fiona release the crs attribute of features will\u001b[0m\u001b[1;33m\u001b[0m\u001b[1;33m\u001b[0m\u001b[1;33m\u001b[0m\u001b[0m\n",
      "\u001b[1;32m~\\Documents\\2021_03_10_socioeconomic_profiles\\myenv\\lib\\site-packages\\fiona\\env.py\u001b[0m in \u001b[0;36mwrapper\u001b[1;34m(*args, **kwargs)\u001b[0m\n\u001b[0;32m    406\u001b[0m     \u001b[1;32mdef\u001b[0m \u001b[0mwrapper\u001b[0m\u001b[1;33m(\u001b[0m\u001b[1;33m*\u001b[0m\u001b[0margs\u001b[0m\u001b[1;33m,\u001b[0m \u001b[1;33m**\u001b[0m\u001b[0mkwargs\u001b[0m\u001b[1;33m)\u001b[0m\u001b[1;33m:\u001b[0m\u001b[1;33m\u001b[0m\u001b[1;33m\u001b[0m\u001b[0m\n\u001b[0;32m    407\u001b[0m         \u001b[1;32mif\u001b[0m \u001b[0mlocal\u001b[0m\u001b[1;33m.\u001b[0m\u001b[0m_env\u001b[0m\u001b[1;33m:\u001b[0m\u001b[1;33m\u001b[0m\u001b[1;33m\u001b[0m\u001b[0m\n\u001b[1;32m--> 408\u001b[1;33m             \u001b[1;32mreturn\u001b[0m \u001b[0mf\u001b[0m\u001b[1;33m(\u001b[0m\u001b[1;33m*\u001b[0m\u001b[0margs\u001b[0m\u001b[1;33m,\u001b[0m \u001b[1;33m**\u001b[0m\u001b[0mkwargs\u001b[0m\u001b[1;33m)\u001b[0m\u001b[1;33m\u001b[0m\u001b[1;33m\u001b[0m\u001b[0m\n\u001b[0m\u001b[0;32m    409\u001b[0m         \u001b[1;32melse\u001b[0m\u001b[1;33m:\u001b[0m\u001b[1;33m\u001b[0m\u001b[1;33m\u001b[0m\u001b[0m\n\u001b[0;32m    410\u001b[0m             \u001b[1;32mif\u001b[0m \u001b[0misinstance\u001b[0m\u001b[1;33m(\u001b[0m\u001b[0margs\u001b[0m\u001b[1;33m[\u001b[0m\u001b[1;36m0\u001b[0m\u001b[1;33m]\u001b[0m\u001b[1;33m,\u001b[0m \u001b[0mstr\u001b[0m\u001b[1;33m)\u001b[0m\u001b[1;33m:\u001b[0m\u001b[1;33m\u001b[0m\u001b[1;33m\u001b[0m\u001b[0m\n",
      "\u001b[1;32m~\\Documents\\2021_03_10_socioeconomic_profiles\\myenv\\lib\\site-packages\\fiona\\__init__.py\u001b[0m in \u001b[0;36mopen\u001b[1;34m(fp, mode, driver, schema, crs, encoding, layer, vfs, enabled_drivers, crs_wkt, **kwargs)\u001b[0m\n\u001b[0;32m    258\u001b[0m         \u001b[1;32mif\u001b[0m \u001b[0mmode\u001b[0m \u001b[1;32min\u001b[0m \u001b[1;33m(\u001b[0m\u001b[1;34m'a'\u001b[0m\u001b[1;33m,\u001b[0m \u001b[1;34m'r'\u001b[0m\u001b[1;33m)\u001b[0m\u001b[1;33m:\u001b[0m\u001b[1;33m\u001b[0m\u001b[1;33m\u001b[0m\u001b[0m\n\u001b[0;32m    259\u001b[0m             c = Collection(path, mode, driver=driver, encoding=encoding,\n\u001b[1;32m--> 260\u001b[1;33m                            layer=layer, enabled_drivers=enabled_drivers, **kwargs)\n\u001b[0m\u001b[0;32m    261\u001b[0m         \u001b[1;32melif\u001b[0m \u001b[0mmode\u001b[0m \u001b[1;33m==\u001b[0m \u001b[1;34m'w'\u001b[0m\u001b[1;33m:\u001b[0m\u001b[1;33m\u001b[0m\u001b[1;33m\u001b[0m\u001b[0m\n\u001b[0;32m    262\u001b[0m             \u001b[1;32mif\u001b[0m \u001b[0mschema\u001b[0m\u001b[1;33m:\u001b[0m\u001b[1;33m\u001b[0m\u001b[1;33m\u001b[0m\u001b[0m\n",
      "\u001b[1;32m~\\Documents\\2021_03_10_socioeconomic_profiles\\myenv\\lib\\site-packages\\fiona\\collection.py\u001b[0m in \u001b[0;36m__init__\u001b[1;34m(self, path, mode, driver, schema, crs, encoding, layer, vsi, archive, enabled_drivers, crs_wkt, ignore_fields, ignore_geometry, **kwargs)\u001b[0m\n\u001b[0;32m    160\u001b[0m             \u001b[1;32mif\u001b[0m \u001b[0mself\u001b[0m\u001b[1;33m.\u001b[0m\u001b[0mmode\u001b[0m \u001b[1;33m==\u001b[0m \u001b[1;34m'r'\u001b[0m\u001b[1;33m:\u001b[0m\u001b[1;33m\u001b[0m\u001b[1;33m\u001b[0m\u001b[0m\n\u001b[0;32m    161\u001b[0m                 \u001b[0mself\u001b[0m\u001b[1;33m.\u001b[0m\u001b[0msession\u001b[0m \u001b[1;33m=\u001b[0m \u001b[0mSession\u001b[0m\u001b[1;33m(\u001b[0m\u001b[1;33m)\u001b[0m\u001b[1;33m\u001b[0m\u001b[1;33m\u001b[0m\u001b[0m\n\u001b[1;32m--> 162\u001b[1;33m                 \u001b[0mself\u001b[0m\u001b[1;33m.\u001b[0m\u001b[0msession\u001b[0m\u001b[1;33m.\u001b[0m\u001b[0mstart\u001b[0m\u001b[1;33m(\u001b[0m\u001b[0mself\u001b[0m\u001b[1;33m,\u001b[0m \u001b[1;33m**\u001b[0m\u001b[0mkwargs\u001b[0m\u001b[1;33m)\u001b[0m\u001b[1;33m\u001b[0m\u001b[1;33m\u001b[0m\u001b[0m\n\u001b[0m\u001b[0;32m    163\u001b[0m             \u001b[1;32melif\u001b[0m \u001b[0mself\u001b[0m\u001b[1;33m.\u001b[0m\u001b[0mmode\u001b[0m \u001b[1;32min\u001b[0m \u001b[1;33m(\u001b[0m\u001b[1;34m'a'\u001b[0m\u001b[1;33m,\u001b[0m \u001b[1;34m'w'\u001b[0m\u001b[1;33m)\u001b[0m\u001b[1;33m:\u001b[0m\u001b[1;33m\u001b[0m\u001b[1;33m\u001b[0m\u001b[0m\n\u001b[0;32m    164\u001b[0m                 \u001b[0mself\u001b[0m\u001b[1;33m.\u001b[0m\u001b[0msession\u001b[0m \u001b[1;33m=\u001b[0m \u001b[0mWritingSession\u001b[0m\u001b[1;33m(\u001b[0m\u001b[1;33m)\u001b[0m\u001b[1;33m\u001b[0m\u001b[1;33m\u001b[0m\u001b[0m\n",
      "\u001b[1;32mfiona\\ogrext.pyx\u001b[0m in \u001b[0;36mfiona.ogrext.Session.start\u001b[1;34m()\u001b[0m\n",
      "\u001b[1;32mfiona\\_shim.pyx\u001b[0m in \u001b[0;36mfiona._shim.gdal_open_vector\u001b[1;34m()\u001b[0m\n",
      "\u001b[1;31mDriverError\u001b[0m: ./shps/supervisor_districts/supervisor_districts.shp: No such file or directory"
     ]
    }
   ],
   "source": [
    "# import neighborhood shapefiles and reproject to web mercator\n",
    "geo_df = geopandas.read_file(geo_path)\n",
    "geo_df = geo_df.to_crs(\"EPSG:4326\")\n",
    "\n",
    "# function to create folium map\n",
    "def initiate_map(Variable):\n",
    "    # subset dataframe for selected variable\n",
    "    df_all_calcs_map = df_all_calcs_tp[[geo_summary_variable, Variable]]\n",
    "\n",
    "    # join dataframe to neighborhoods geodataframe by neighborhood name\n",
    "    neighborhoods_var_df= geo_df.merge(df_all_calcs_map,left_on=geo_merge_variable, right_on=geo_summary_variable)\n",
    "    \n",
    "    # set map details\n",
    "    mymap = folium.Map(location=[37.77,-122.44], zoom_start=12,tiles=None)\n",
    "    folium.TileLayer('CartoDB positron',name=\"Light Map\",control=False).add_to(mymap)\n",
    "\n",
    "    # set legend to 5 equal intervals \n",
    "    var_min = neighborhoods_var_df[Variable].min()\n",
    "    var_max = neighborhoods_var_df[Variable].max()\n",
    "    myscale= np.linspace(var_min, var_max,5)\n",
    "    \n",
    "    # set choropleth details\n",
    "    mymap.choropleth(\n",
    "     geo_data=neighborhoods_var_df,\n",
    "     name='Choropleth',\n",
    "     data=neighborhoods_var_df,\n",
    "     columns=[geo_summary_variable, Variable],\n",
    "     key_on=\"feature.properties.\"+geo_summary_variable,\n",
    "     fill_color='YlGnBu',\n",
    "     threshold_scale=myscale,\n",
    "     fill_opacity=1,\n",
    "     line_opacity=.2,\n",
    "     line_weight = 1,\n",
    "     legend_name=Variable,\n",
    "     smooth_factor=0\n",
    "    )\n",
    "\n",
    "    return mymap\n",
    "\n",
    "variables = df_all_calcs_tp.columns[1:].sort_values()\n",
    "\n",
    "interact(initiate_map, Variable=variables)\n",
    "\n",
    "\n"
   ]
  },
  {
   "cell_type": "markdown",
   "id": "answering-bread",
   "metadata": {},
   "source": [
    "## Export"
   ]
  },
  {
   "cell_type": "code",
   "execution_count": 98,
   "id": "black-thunder",
   "metadata": {},
   "outputs": [
    {
     "data": {
      "text/html": [
       "<div>\n",
       "<style scoped>\n",
       "    .dataframe tbody tr th:only-of-type {\n",
       "        vertical-align: middle;\n",
       "    }\n",
       "\n",
       "    .dataframe tbody tr th {\n",
       "        vertical-align: top;\n",
       "    }\n",
       "\n",
       "    .dataframe thead th {\n",
       "        text-align: right;\n",
       "    }\n",
       "</style>\n",
       "<table border=\"1\" class=\"dataframe\">\n",
       "  <thead>\n",
       "    <tr style=\"text-align: right;\">\n",
       "      <th></th>\n",
       "      <th>Attribute</th>\n",
       "      <th>North Beach</th>\n",
       "      <th>Russian Hill</th>\n",
       "      <th>Financial District</th>\n",
       "      <th>Chinatown</th>\n",
       "      <th>Nob Hill</th>\n",
       "      <th>Tenderloin</th>\n",
       "      <th>Marina</th>\n",
       "      <th>Pacific Heights</th>\n",
       "      <th>Presidio Heights</th>\n",
       "      <th>...</th>\n",
       "      <th>Inner Richmond</th>\n",
       "      <th>Outer Richmond</th>\n",
       "      <th>Seacliff</th>\n",
       "      <th>Presidio</th>\n",
       "      <th>Mission Bay</th>\n",
       "      <th>Lincoln Park</th>\n",
       "      <th>Golden Gate Park</th>\n",
       "      <th>McLaren Park</th>\n",
       "      <th>sf</th>\n",
       "      <th>Category</th>\n",
       "    </tr>\n",
       "  </thead>\n",
       "  <tbody>\n",
       "    <tr>\n",
       "      <th>0</th>\n",
       "      <td>Total Population</td>\n",
       "      <td>11740.000000</td>\n",
       "      <td>17291.000000</td>\n",
       "      <td>23089.000000</td>\n",
       "      <td>13693.000000</td>\n",
       "      <td>24762.000000</td>\n",
       "      <td>32056.000000</td>\n",
       "      <td>23910.000000</td>\n",
       "      <td>22996.000000</td>\n",
       "      <td>10470.000000</td>\n",
       "      <td>...</td>\n",
       "      <td>20992.000000</td>\n",
       "      <td>44573.000000</td>\n",
       "      <td>2348.000000</td>\n",
       "      <td>3952.000000</td>\n",
       "      <td>16080.000000</td>\n",
       "      <td>186.0</td>\n",
       "      <td>38.000000</td>\n",
       "      <td>129.000000</td>\n",
       "      <td>851036.000000</td>\n",
       "      <td>Population</td>\n",
       "    </tr>\n",
       "    <tr>\n",
       "      <th>1</th>\n",
       "      <td>Group Quarter Population</td>\n",
       "      <td>42.000000</td>\n",
       "      <td>5.000000</td>\n",
       "      <td>637.000000</td>\n",
       "      <td>84.000000</td>\n",
       "      <td>899.000000</td>\n",
       "      <td>2500.000000</td>\n",
       "      <td>114.000000</td>\n",
       "      <td>550.000000</td>\n",
       "      <td>73.000000</td>\n",
       "      <td>...</td>\n",
       "      <td>240.000000</td>\n",
       "      <td>285.000000</td>\n",
       "      <td>0.000000</td>\n",
       "      <td>1.000000</td>\n",
       "      <td>773.000000</td>\n",
       "      <td>186.0</td>\n",
       "      <td>0.000000</td>\n",
       "      <td>0.000000</td>\n",
       "      <td>23369.000000</td>\n",
       "      <td>Population</td>\n",
       "    </tr>\n",
       "    <tr>\n",
       "      <th>2</th>\n",
       "      <td>Percent Female</td>\n",
       "      <td>0.453918</td>\n",
       "      <td>0.518998</td>\n",
       "      <td>0.462904</td>\n",
       "      <td>0.533922</td>\n",
       "      <td>0.470479</td>\n",
       "      <td>0.414057</td>\n",
       "      <td>0.526349</td>\n",
       "      <td>0.500565</td>\n",
       "      <td>0.511939</td>\n",
       "      <td>...</td>\n",
       "      <td>0.531631</td>\n",
       "      <td>0.525924</td>\n",
       "      <td>0.525980</td>\n",
       "      <td>0.537196</td>\n",
       "      <td>0.506219</td>\n",
       "      <td>0.0</td>\n",
       "      <td>0.315789</td>\n",
       "      <td>0.953488</td>\n",
       "      <td>0.485224</td>\n",
       "      <td>Population</td>\n",
       "    </tr>\n",
       "    <tr>\n",
       "      <th>3</th>\n",
       "      <td>Housholds</td>\n",
       "      <td>6240.000000</td>\n",
       "      <td>9545.000000</td>\n",
       "      <td>13017.000000</td>\n",
       "      <td>6561.000000</td>\n",
       "      <td>14430.000000</td>\n",
       "      <td>18122.000000</td>\n",
       "      <td>12390.000000</td>\n",
       "      <td>12782.000000</td>\n",
       "      <td>4948.000000</td>\n",
       "      <td>...</td>\n",
       "      <td>8757.000000</td>\n",
       "      <td>18927.000000</td>\n",
       "      <td>878.000000</td>\n",
       "      <td>1331.000000</td>\n",
       "      <td>6961.000000</td>\n",
       "      <td>0.0</td>\n",
       "      <td>28.000000</td>\n",
       "      <td>118.000000</td>\n",
       "      <td>360842.000000</td>\n",
       "      <td>Households</td>\n",
       "    </tr>\n",
       "    <tr>\n",
       "      <th>4</th>\n",
       "      <td>Family Households</td>\n",
       "      <td>0.392308</td>\n",
       "      <td>0.342693</td>\n",
       "      <td>0.346009</td>\n",
       "      <td>0.509374</td>\n",
       "      <td>0.263202</td>\n",
       "      <td>0.239378</td>\n",
       "      <td>0.344068</td>\n",
       "      <td>0.307855</td>\n",
       "      <td>0.475950</td>\n",
       "      <td>...</td>\n",
       "      <td>0.513532</td>\n",
       "      <td>0.538754</td>\n",
       "      <td>0.731207</td>\n",
       "      <td>0.582269</td>\n",
       "      <td>0.516161</td>\n",
       "      <td>0.0</td>\n",
       "      <td>0.392857</td>\n",
       "      <td>0.093220</td>\n",
       "      <td>0.470247</td>\n",
       "      <td>Households</td>\n",
       "    </tr>\n",
       "    <tr>\n",
       "      <th>...</th>\n",
       "      <td>...</td>\n",
       "      <td>...</td>\n",
       "      <td>...</td>\n",
       "      <td>...</td>\n",
       "      <td>...</td>\n",
       "      <td>...</td>\n",
       "      <td>...</td>\n",
       "      <td>...</td>\n",
       "      <td>...</td>\n",
       "      <td>...</td>\n",
       "      <td>...</td>\n",
       "      <td>...</td>\n",
       "      <td>...</td>\n",
       "      <td>...</td>\n",
       "      <td>...</td>\n",
       "      <td>...</td>\n",
       "      <td>...</td>\n",
       "      <td>...</td>\n",
       "      <td>...</td>\n",
       "      <td>...</td>\n",
       "      <td>...</td>\n",
       "    </tr>\n",
       "    <tr>\n",
       "      <th>112</th>\n",
       "      <td>Bike</td>\n",
       "      <td>0.031070</td>\n",
       "      <td>0.038718</td>\n",
       "      <td>0.026005</td>\n",
       "      <td>0.002064</td>\n",
       "      <td>0.029793</td>\n",
       "      <td>0.038525</td>\n",
       "      <td>0.034710</td>\n",
       "      <td>0.016433</td>\n",
       "      <td>0.015370</td>\n",
       "      <td>...</td>\n",
       "      <td>0.039674</td>\n",
       "      <td>0.025430</td>\n",
       "      <td>0.009053</td>\n",
       "      <td>0.059498</td>\n",
       "      <td>0.020429</td>\n",
       "      <td>0.0</td>\n",
       "      <td>0.000000</td>\n",
       "      <td>0.000000</td>\n",
       "      <td>0.034082</td>\n",
       "      <td>Journey to Work</td>\n",
       "    </tr>\n",
       "    <tr>\n",
       "      <th>113</th>\n",
       "      <td>Walk</td>\n",
       "      <td>0.235426</td>\n",
       "      <td>0.173408</td>\n",
       "      <td>0.356910</td>\n",
       "      <td>0.379494</td>\n",
       "      <td>0.350975</td>\n",
       "      <td>0.341762</td>\n",
       "      <td>0.064487</td>\n",
       "      <td>0.112261</td>\n",
       "      <td>0.054360</td>\n",
       "      <td>...</td>\n",
       "      <td>0.049094</td>\n",
       "      <td>0.033162</td>\n",
       "      <td>0.027160</td>\n",
       "      <td>0.095196</td>\n",
       "      <td>0.183766</td>\n",
       "      <td>0.0</td>\n",
       "      <td>0.176471</td>\n",
       "      <td>0.000000</td>\n",
       "      <td>0.105270</td>\n",
       "      <td>Journey to Work</td>\n",
       "    </tr>\n",
       "    <tr>\n",
       "      <th>114</th>\n",
       "      <td>Other Journey Type</td>\n",
       "      <td>0.020340</td>\n",
       "      <td>0.048192</td>\n",
       "      <td>0.032475</td>\n",
       "      <td>0.019611</td>\n",
       "      <td>0.050684</td>\n",
       "      <td>0.035944</td>\n",
       "      <td>0.066270</td>\n",
       "      <td>0.088997</td>\n",
       "      <td>0.027342</td>\n",
       "      <td>...</td>\n",
       "      <td>0.023070</td>\n",
       "      <td>0.030144</td>\n",
       "      <td>0.012346</td>\n",
       "      <td>0.035699</td>\n",
       "      <td>0.023425</td>\n",
       "      <td>0.0</td>\n",
       "      <td>0.000000</td>\n",
       "      <td>0.000000</td>\n",
       "      <td>0.036177</td>\n",
       "      <td>Journey to Work</td>\n",
       "    </tr>\n",
       "    <tr>\n",
       "      <th>115</th>\n",
       "      <td>Worked at Home</td>\n",
       "      <td>0.282031</td>\n",
       "      <td>0.315677</td>\n",
       "      <td>0.286369</td>\n",
       "      <td>0.156030</td>\n",
       "      <td>0.191413</td>\n",
       "      <td>0.141722</td>\n",
       "      <td>0.320594</td>\n",
       "      <td>0.286806</td>\n",
       "      <td>0.316777</td>\n",
       "      <td>...</td>\n",
       "      <td>0.266544</td>\n",
       "      <td>0.241399</td>\n",
       "      <td>0.383539</td>\n",
       "      <td>0.252093</td>\n",
       "      <td>0.330035</td>\n",
       "      <td>0.0</td>\n",
       "      <td>0.352941</td>\n",
       "      <td>0.000000</td>\n",
       "      <td>0.233864</td>\n",
       "      <td>Journey to Work</td>\n",
       "    </tr>\n",
       "    <tr>\n",
       "      <th>116</th>\n",
       "      <td>Population Density per Acre</td>\n",
       "      <td>11740.000000</td>\n",
       "      <td>17291.000000</td>\n",
       "      <td>23089.000000</td>\n",
       "      <td>13693.000000</td>\n",
       "      <td>24762.000000</td>\n",
       "      <td>32056.000000</td>\n",
       "      <td>23910.000000</td>\n",
       "      <td>22996.000000</td>\n",
       "      <td>10470.000000</td>\n",
       "      <td>...</td>\n",
       "      <td>20992.000000</td>\n",
       "      <td>44573.000000</td>\n",
       "      <td>2348.000000</td>\n",
       "      <td>3952.000000</td>\n",
       "      <td>16080.000000</td>\n",
       "      <td>186.0</td>\n",
       "      <td>38.000000</td>\n",
       "      <td>129.000000</td>\n",
       "      <td>851036.000000</td>\n",
       "      <td>NaN</td>\n",
       "    </tr>\n",
       "  </tbody>\n",
       "</table>\n",
       "<p>117 rows × 44 columns</p>\n",
       "</div>"
      ],
      "text/plain": [
       "                       Attribute   North Beach  Russian Hill  \\\n",
       "0               Total Population  11740.000000  17291.000000   \n",
       "1       Group Quarter Population     42.000000      5.000000   \n",
       "2                 Percent Female      0.453918      0.518998   \n",
       "3                      Housholds   6240.000000   9545.000000   \n",
       "4              Family Households      0.392308      0.342693   \n",
       "..                           ...           ...           ...   \n",
       "112                         Bike      0.031070      0.038718   \n",
       "113                         Walk      0.235426      0.173408   \n",
       "114           Other Journey Type      0.020340      0.048192   \n",
       "115               Worked at Home      0.282031      0.315677   \n",
       "116  Population Density per Acre  11740.000000  17291.000000   \n",
       "\n",
       "     Financial District     Chinatown      Nob Hill    Tenderloin  \\\n",
       "0          23089.000000  13693.000000  24762.000000  32056.000000   \n",
       "1            637.000000     84.000000    899.000000   2500.000000   \n",
       "2              0.462904      0.533922      0.470479      0.414057   \n",
       "3          13017.000000   6561.000000  14430.000000  18122.000000   \n",
       "4              0.346009      0.509374      0.263202      0.239378   \n",
       "..                  ...           ...           ...           ...   \n",
       "112            0.026005      0.002064      0.029793      0.038525   \n",
       "113            0.356910      0.379494      0.350975      0.341762   \n",
       "114            0.032475      0.019611      0.050684      0.035944   \n",
       "115            0.286369      0.156030      0.191413      0.141722   \n",
       "116        23089.000000  13693.000000  24762.000000  32056.000000   \n",
       "\n",
       "           Marina  Pacific Heights  Presidio Heights  ...  Inner Richmond  \\\n",
       "0    23910.000000     22996.000000      10470.000000  ...    20992.000000   \n",
       "1      114.000000       550.000000         73.000000  ...      240.000000   \n",
       "2        0.526349         0.500565          0.511939  ...        0.531631   \n",
       "3    12390.000000     12782.000000       4948.000000  ...     8757.000000   \n",
       "4        0.344068         0.307855          0.475950  ...        0.513532   \n",
       "..            ...              ...               ...  ...             ...   \n",
       "112      0.034710         0.016433          0.015370  ...        0.039674   \n",
       "113      0.064487         0.112261          0.054360  ...        0.049094   \n",
       "114      0.066270         0.088997          0.027342  ...        0.023070   \n",
       "115      0.320594         0.286806          0.316777  ...        0.266544   \n",
       "116  23910.000000     22996.000000      10470.000000  ...    20992.000000   \n",
       "\n",
       "     Outer Richmond     Seacliff     Presidio   Mission Bay  Lincoln Park  \\\n",
       "0      44573.000000  2348.000000  3952.000000  16080.000000         186.0   \n",
       "1        285.000000     0.000000     1.000000    773.000000         186.0   \n",
       "2          0.525924     0.525980     0.537196      0.506219           0.0   \n",
       "3      18927.000000   878.000000  1331.000000   6961.000000           0.0   \n",
       "4          0.538754     0.731207     0.582269      0.516161           0.0   \n",
       "..              ...          ...          ...           ...           ...   \n",
       "112        0.025430     0.009053     0.059498      0.020429           0.0   \n",
       "113        0.033162     0.027160     0.095196      0.183766           0.0   \n",
       "114        0.030144     0.012346     0.035699      0.023425           0.0   \n",
       "115        0.241399     0.383539     0.252093      0.330035           0.0   \n",
       "116    44573.000000  2348.000000  3952.000000  16080.000000         186.0   \n",
       "\n",
       "     Golden Gate Park  McLaren Park             sf         Category  \n",
       "0           38.000000    129.000000  851036.000000       Population  \n",
       "1            0.000000      0.000000   23369.000000       Population  \n",
       "2            0.315789      0.953488       0.485224       Population  \n",
       "3           28.000000    118.000000  360842.000000       Households  \n",
       "4            0.392857      0.093220       0.470247       Households  \n",
       "..                ...           ...            ...              ...  \n",
       "112          0.000000      0.000000       0.034082  Journey to Work  \n",
       "113          0.176471      0.000000       0.105270  Journey to Work  \n",
       "114          0.000000      0.000000       0.036177  Journey to Work  \n",
       "115          0.352941      0.000000       0.233864  Journey to Work  \n",
       "116         38.000000    129.000000  851036.000000              NaN  \n",
       "\n",
       "[117 rows x 44 columns]"
      ]
     },
     "execution_count": 98,
     "metadata": {},
     "output_type": "execute_result"
    }
   ],
   "source": [
    "df_all_calcs = pd.merge(df_all_calcs, attribute_lookup_df[[\"category\",'attribute_name']], how='left', left_on = 'Attribute', right_on = 'attribute_name')\n",
    "df_all_calcs=df_all_calcs.drop(['attribute_name'], axis=1)\n",
    "df_all_calcs.rename(columns = {'category':'Category'}, inplace = True) \n",
    "df_all_calcs"
   ]
  },
  {
   "cell_type": "code",
   "execution_count": 99,
   "id": "about-imagination",
   "metadata": {},
   "outputs": [],
   "source": [
    "# export both dataset views to csv\n",
    "df_all_calcs.to_csv(os.path.join(download_path,geo_summary_variable+\"_\"+'profiles_by_attribute_{}.csv'.format(year)), index = False)\n",
    "df_all_calcs_tp.to_csv(os.path.join(download_path,geo_summary_variable+\"_\"+'profiles_by_geo_{}.csv'.format(year)), index = False)"
   ]
  },
  {
   "cell_type": "code",
   "execution_count": null,
   "id": "artificial-burlington",
   "metadata": {},
   "outputs": [],
   "source": []
  },
  {
   "cell_type": "code",
   "execution_count": null,
   "id": "smart-macedonia",
   "metadata": {},
   "outputs": [],
   "source": []
  }
 ],
 "metadata": {
  "kernelspec": {
   "display_name": "Python 3",
   "language": "python",
   "name": "python3"
  },
  "language_info": {
   "codemirror_mode": {
    "name": "ipython",
    "version": 3
   },
   "file_extension": ".py",
   "mimetype": "text/x-python",
   "name": "python",
   "nbconvert_exporter": "python",
   "pygments_lexer": "ipython3",
   "version": "3.9.4"
  },
  "toc": {
   "base_numbering": 1,
   "nav_menu": {},
   "number_sections": true,
   "sideBar": true,
   "skip_h1_title": false,
   "title_cell": "Table of Contents",
   "title_sidebar": "Contents",
   "toc_cell": false,
   "toc_position": {
    "height": "789px",
    "left": "46px",
    "top": "110px",
    "width": "299px"
   },
   "toc_section_display": true,
   "toc_window_display": true
  }
 },
 "nbformat": 4,
 "nbformat_minor": 5
}
