{
 "cells": [
  {
   "cell_type": "code",
   "execution_count": 1,
   "id": "lyric-headline",
   "metadata": {},
   "outputs": [],
   "source": [
    "# base libraries\n",
    "import requests, json, os\n",
    "import pandas as pd\n",
    "import numpy as np\n",
    "from collections import defaultdict"
   ]
  },
  {
   "cell_type": "code",
   "execution_count": 161,
   "id": "electric-waste",
   "metadata": {},
   "outputs": [],
   "source": [
    "year = 2020"
   ]
  },
  {
   "cell_type": "code",
   "execution_count": 162,
   "id": "external-overall",
   "metadata": {},
   "outputs": [],
   "source": [
    "all_attributes_df = pd.read_csv (r'./output/Neighborhood_profiles_by_attribute_{}.csv'.format(year), dtype=str)"
   ]
  },
  {
   "cell_type": "code",
   "execution_count": 163,
   "id": "overhead-pennsylvania",
   "metadata": {},
   "outputs": [],
   "source": [
    "all_attributes_df=all_attributes_df[[\"Attribute\", \"Mission\"]]"
   ]
  },
  {
   "cell_type": "code",
   "execution_count": 164,
   "id": "treated-aruba",
   "metadata": {},
   "outputs": [],
   "source": [
    "household_income_df=all_attributes_df[all_attributes_df.Attribute.isin([\"Household Income Less than 10000\",\n",
    "\"Household Income 10000 to 14999\",\n",
    "\"Household Income 15000 to 19999\",\n",
    "\"Household Income 20000 to 24999\",\n",
    "\"Household Income 25000 to 29999\",\n",
    "\"Household Income 30000 to 34999\",\n",
    "\"Household Income 35000 to 39999\",\n",
    "\"Household Income 40000 to 44999\",\n",
    "\"Household Income 45000 to 49999\",\n",
    "\"Household Income 50000 to 59999\",\n",
    "\"Household Income 60000 to 74999\",\n",
    "\"Household Income 75000 to 99999\",\n",
    "\"Household Income 100000 to 124999\",\n",
    "\"Household Income 125000 to 149999\",\n",
    "\"Household Income 150000 to 199999\",\n",
    "\"Household Income Greater than 200000\"                                                                           \n",
    "])]"
   ]
  },
  {
   "cell_type": "code",
   "execution_count": 165,
   "id": "italian-clinic",
   "metadata": {},
   "outputs": [],
   "source": [
    "median_income =all_attributes_df[all_attributes_df.Attribute.isin([\n",
    "\"Median Household Income (B19013_001)\"                                                                            \n",
    "])].to_dict('records')"
   ]
  },
  {
   "cell_type": "code",
   "execution_count": 166,
   "id": "complete-simon",
   "metadata": {},
   "outputs": [],
   "source": [
    "total_households =int(float(all_attributes_df[all_attributes_df.Attribute.isin([\n",
    "\"Housholds\"                                                                            \n",
    "])].to_dict('records')[0]['Mission']))\n"
   ]
  },
  {
   "cell_type": "code",
   "execution_count": 167,
   "id": "homeless-biodiversity",
   "metadata": {},
   "outputs": [],
   "source": [
    "median_income = float(median_income[0]['Mission'])"
   ]
  },
  {
   "cell_type": "code",
   "execution_count": 168,
   "id": "dietary-exemption",
   "metadata": {},
   "outputs": [
    {
     "data": {
      "text/plain": [
       "126892.34016887816"
      ]
     },
     "execution_count": 168,
     "metadata": {},
     "output_type": "execute_result"
    }
   ],
   "source": [
    "median_income"
   ]
  },
  {
   "cell_type": "code",
   "execution_count": 169,
   "id": "social-sponsorship",
   "metadata": {},
   "outputs": [],
   "source": [
    "ami_breaks = [30, 50, 80, 100, 120, 150]"
   ]
  },
  {
   "cell_type": "code",
   "execution_count": 170,
   "id": "automotive-funeral",
   "metadata": {},
   "outputs": [],
   "source": [
    "income_breaks = [(i/100) * median_income for i in ami_breaks]"
   ]
  },
  {
   "cell_type": "code",
   "execution_count": 171,
   "id": "later-refund",
   "metadata": {},
   "outputs": [],
   "source": [
    "breaks_dict = dict(zip(ami_breaks, income_breaks))"
   ]
  },
  {
   "cell_type": "code",
   "execution_count": 172,
   "id": "therapeutic-attachment",
   "metadata": {},
   "outputs": [],
   "source": [
    "min_dict = {\"Household Income Less than 10000\":0,\n",
    "\"Household Income 10000 to 14999\":10000,\n",
    "\"Household Income 15000 to 19999\":15000,\n",
    "\"Household Income 20000 to 24999\":20000,\n",
    "\"Household Income 25000 to 29999\":25000,\n",
    "\"Household Income 30000 to 34999\":30000,\n",
    "\"Household Income 35000 to 39999\":35000,\n",
    "\"Household Income 40000 to 44999\":40000,\n",
    "\"Household Income 45000 to 49999\":45000,\n",
    "\"Household Income 50000 to 59999\":50000,\n",
    "\"Household Income 60000 to 74999\":60000,\n",
    "\"Household Income 75000 to 99999\":75000,\n",
    "\"Household Income 100000 to 124999\":100000,\n",
    "\"Household Income 125000 to 149999\":125000,\n",
    "\"Household Income 150000 to 199999\":150000,\n",
    "\"Household Income Greater than 200000\":200000}       \n",
    "   \n",
    "\n",
    "max_dict = {\"Household Income Less than 10000\":9999,\n",
    "\"Household Income 10000 to 14999\":14999,\n",
    "\"Household Income 15000 to 19999\":19999,\n",
    "\"Household Income 20000 to 24999\":24999,\n",
    "\"Household Income 25000 to 29999\":29999,\n",
    "\"Household Income 30000 to 34999\":34999,\n",
    "\"Household Income 35000 to 39999\":39999,\n",
    "\"Household Income 40000 to 44999\":44999,\n",
    "\"Household Income 45000 to 49999\":49999,\n",
    "\"Household Income 50000 to 59999\":59999,\n",
    "\"Household Income 60000 to 74999\":74999,\n",
    "\"Household Income 75000 to 99999\":99999,\n",
    "\"Household Income 100000 to 124999\":124999,\n",
    "\"Household Income 125000 to 149999\":149999,\n",
    "\"Household Income 150000 to 199999\":199999,\n",
    "\"Household Income Greater than 200000\":1000000}        "
   ]
  },
  {
   "cell_type": "code",
   "execution_count": 173,
   "id": "liked-album",
   "metadata": {},
   "outputs": [
    {
     "name": "stderr",
     "output_type": "stream",
     "text": [
      "<ipython-input-173-292e0d80ef1c>:1: SettingWithCopyWarning: \n",
      "A value is trying to be set on a copy of a slice from a DataFrame.\n",
      "Try using .loc[row_indexer,col_indexer] = value instead\n",
      "\n",
      "See the caveats in the documentation: https://pandas.pydata.org/pandas-docs/stable/user_guide/indexing.html#returning-a-view-versus-a-copy\n",
      "  household_income_df['min_val'] = household_income_df[\"Attribute\"].map(min_dict)\n",
      "<ipython-input-173-292e0d80ef1c>:2: SettingWithCopyWarning: \n",
      "A value is trying to be set on a copy of a slice from a DataFrame.\n",
      "Try using .loc[row_indexer,col_indexer] = value instead\n",
      "\n",
      "See the caveats in the documentation: https://pandas.pydata.org/pandas-docs/stable/user_guide/indexing.html#returning-a-view-versus-a-copy\n",
      "  household_income_df['max_val'] = household_income_df[\"Attribute\"].map(max_dict)\n"
     ]
    }
   ],
   "source": [
    "household_income_df['min_val'] = household_income_df[\"Attribute\"].map(min_dict)\n",
    "household_income_df['max_val'] = household_income_df[\"Attribute\"].map(max_dict)"
   ]
  },
  {
   "cell_type": "code",
   "execution_count": 174,
   "id": "floating-rates",
   "metadata": {},
   "outputs": [
    {
     "name": "stderr",
     "output_type": "stream",
     "text": [
      "<ipython-input-174-4c16757f1157>:1: SettingWithCopyWarning: \n",
      "A value is trying to be set on a copy of a slice from a DataFrame.\n",
      "Try using .loc[row_indexer,col_indexer] = value instead\n",
      "\n",
      "See the caveats in the documentation: https://pandas.pydata.org/pandas-docs/stable/user_guide/indexing.html#returning-a-view-versus-a-copy\n",
      "  household_income_df[\"Mission\"]=household_income_df[\"Mission\"].astype(float)\n"
     ]
    }
   ],
   "source": [
    "household_income_df[\"Mission\"]=household_income_df[\"Mission\"].astype(float)"
   ]
  },
  {
   "cell_type": "code",
   "execution_count": 175,
   "id": "configured-spider",
   "metadata": {},
   "outputs": [],
   "source": [
    "household_income_dict = household_income_df.to_dict('records')"
   ]
  },
  {
   "cell_type": "code",
   "execution_count": 176,
   "id": "binding-abraham",
   "metadata": {},
   "outputs": [
    {
     "data": {
      "text/plain": [
       "[{'Attribute': 'Household Income Less than 10000',\n",
       "  'Mission': 822.0,\n",
       "  'min_val': 0,\n",
       "  'max_val': 9999},\n",
       " {'Attribute': 'Household Income 10000 to 14999',\n",
       "  'Mission': 859.0,\n",
       "  'min_val': 10000,\n",
       "  'max_val': 14999},\n",
       " {'Attribute': 'Household Income 15000 to 19999',\n",
       "  'Mission': 719.0,\n",
       "  'min_val': 15000,\n",
       "  'max_val': 19999},\n",
       " {'Attribute': 'Household Income 20000 to 24999',\n",
       "  'Mission': 827.0,\n",
       "  'min_val': 20000,\n",
       "  'max_val': 24999},\n",
       " {'Attribute': 'Household Income 25000 to 29999',\n",
       "  'Mission': 617.0,\n",
       "  'min_val': 25000,\n",
       "  'max_val': 29999},\n",
       " {'Attribute': 'Household Income 30000 to 34999',\n",
       "  'Mission': 573.0,\n",
       "  'min_val': 30000,\n",
       "  'max_val': 34999},\n",
       " {'Attribute': 'Household Income 35000 to 39999',\n",
       "  'Mission': 323.0,\n",
       "  'min_val': 35000,\n",
       "  'max_val': 39999},\n",
       " {'Attribute': 'Household Income 40000 to 44999',\n",
       "  'Mission': 329.0,\n",
       "  'min_val': 40000,\n",
       "  'max_val': 44999},\n",
       " {'Attribute': 'Household Income 45000 to 49999',\n",
       "  'Mission': 455.0,\n",
       "  'min_val': 45000,\n",
       "  'max_val': 49999},\n",
       " {'Attribute': 'Household Income 50000 to 59999',\n",
       "  'Mission': 782.0,\n",
       "  'min_val': 50000,\n",
       "  'max_val': 59999},\n",
       " {'Attribute': 'Household Income 60000 to 74999',\n",
       "  'Mission': 1445.0,\n",
       "  'min_val': 60000,\n",
       "  'max_val': 74999},\n",
       " {'Attribute': 'Household Income 75000 to 99999',\n",
       "  'Mission': 1812.0,\n",
       "  'min_val': 75000,\n",
       "  'max_val': 99999},\n",
       " {'Attribute': 'Household Income 100000 to 124999',\n",
       "  'Mission': 1920.0,\n",
       "  'min_val': 100000,\n",
       "  'max_val': 124999},\n",
       " {'Attribute': 'Household Income 125000 to 149999',\n",
       "  'Mission': 1658.0,\n",
       "  'min_val': 125000,\n",
       "  'max_val': 149999},\n",
       " {'Attribute': 'Household Income 150000 to 199999',\n",
       "  'Mission': 2976.0,\n",
       "  'min_val': 150000,\n",
       "  'max_val': 199999},\n",
       " {'Attribute': 'Household Income Greater than 200000',\n",
       "  'Mission': 7100.0,\n",
       "  'min_val': 200000,\n",
       "  'max_val': 1000000}]"
      ]
     },
     "execution_count": 176,
     "metadata": {},
     "output_type": "execute_result"
    }
   ],
   "source": [
    "household_income_dict"
   ]
  },
  {
   "cell_type": "code",
   "execution_count": 177,
   "id": "worth-fitness",
   "metadata": {
    "scrolled": true
   },
   "outputs": [
    {
     "data": {
      "text/plain": [
       "{30: 38067.70205066344,\n",
       " 50: 63446.17008443908,\n",
       " 80: 101513.87213510253,\n",
       " 100: 126892.34016887816,\n",
       " 120: 152270.80820265377,\n",
       " 150: 190338.51025331725}"
      ]
     },
     "execution_count": 177,
     "metadata": {},
     "output_type": "execute_result"
    }
   ],
   "source": [
    "breaks_dict"
   ]
  },
  {
   "cell_type": "code",
   "execution_count": 178,
   "id": "interested-charge",
   "metadata": {},
   "outputs": [
    {
     "name": "stdout",
     "output_type": "stream",
     "text": [
      "[]\n",
      "[]\n",
      "[]\n",
      "[]\n",
      "[]\n",
      "[]\n",
      "[{'break_interval': 30, 'break_value': 38067.70205066344, 'below': 30, 'above': 50}]\n",
      "[]\n",
      "[]\n",
      "[]\n",
      "[{'break_interval': 50, 'break_value': 63446.17008443908, 'below': 50, 'above': 80}]\n",
      "[]\n",
      "[{'break_interval': 80, 'break_value': 101513.87213510253, 'below': 80, 'above': 100}]\n",
      "[{'break_interval': 100, 'break_value': 126892.34016887816, 'below': 100, 'above': 120}]\n",
      "[{'break_interval': 120, 'break_value': 152270.80820265377, 'below': 120, 'above': 150}, {'break_interval': 150, 'break_value': 190338.51025331725, 'below': 150, 'above': '150+'}]\n",
      "[]\n"
     ]
    },
    {
     "data": {
      "text/plain": [
       "{0: {'attributes': 'Household Income 35000 to 39999',\n",
       "  30: 198.21319511188082,\n",
       "  50: 124.78680488811918},\n",
       " 1: {'attributes': 'Household Income 60000 to 74999',\n",
       "  50: 332.0031850132989,\n",
       "  80: 1112.996814986701},\n",
       " 2: {'attributes': 'Household Income 100000 to 124999',\n",
       "  80: 116.27003077710543,\n",
       "  100: 1803.7299692228946},\n",
       " 3: {'attributes': 'Household Income 125000 to 149999',\n",
       "  100: 125.50502020080759,\n",
       "  120: 1532.4949797991924},\n",
       " 4: {'attributes': 'Household Income 150000 to 199999',\n",
       "  120: 135.16120744610157,\n",
       "  150: 2265.834942754345,\n",
       "  '150+': 575.0038497995534}}"
      ]
     },
     "execution_count": 178,
     "metadata": {},
     "output_type": "execute_result"
    }
   ],
   "source": [
    "# deals with multiple break points in a range\n",
    "split_attributes = {}\n",
    "j = 0\n",
    "for value in household_income_dict:\n",
    "    all_breaks = []\n",
    "    \n",
    "    for i, break_interval in enumerate(breaks_dict):\n",
    "        break_value = breaks_dict[break_interval]\n",
    "        if break_value >=value['min_val'] and break_value <=value['max_val']:\n",
    "            portion_below = break_interval\n",
    "            \n",
    "            if len(list(breaks_dict.keys()))> (i+1):\n",
    "                next_interval = list(breaks_dict.keys())[i+1]\n",
    "            else:\n",
    "                next_interval = '150+'\n",
    "                \n",
    "            all_breaks.append({\"break_interval\":break_interval, \"break_value\":break_value, \"below\":portion_below, \"above\":next_interval})\n",
    "        \n",
    "    #for break_interval, break_value in breaks_dict.items():\n",
    "    #    if break_value >=value['min_val'] and break_value <=value['max_val']:\n",
    "    #        all_breaks.append({break_interval:break_value})\n",
    "    print(all_breaks)        \n",
    "    if len(all_breaks)==1:\n",
    "      \n",
    "        break_value = all_breaks[0][\"break_value\"]\n",
    "        break_interval = all_breaks[0][\"break_interval\"]\n",
    "        above = value['max_val']-break_value\n",
    "        below = break_value-value['min_val']\n",
    "        portion_below = value[\"Mission\"] * (below/(below+above))\n",
    "        portion_above = value[\"Mission\"] * (above/(below+above))\n",
    "        split_attributes[j] = {}\n",
    "        split_attributes[j]['attributes'] = value[\"Attribute\"]\n",
    "        split_attributes[j][all_breaks[0][\"below\"]] = portion_below\n",
    "        split_attributes[j][all_breaks[0][\"above\"]] = portion_above\n",
    "        j+=1\n",
    "        \n",
    "    if len(all_breaks)==2:\n",
    "      \n",
    "        break_value1 = all_breaks[0][\"break_value\"]\n",
    "        break_interval1 = all_breaks[0][\"break_interval\"]\n",
    "        break_value2 = all_breaks[1][\"break_value\"]\n",
    "        break_interval2 = all_breaks[1][\"break_interval\"]\n",
    "        above = value['max_val']-break_value2\n",
    "        middle = break_value2-break_value1\n",
    "        below = break_value1-value['min_val']\n",
    "        portion_below = value[\"Mission\"] * (below/(below+above+middle))\n",
    "        portion_middle = value[\"Mission\"] * (middle/(below+above+middle))\n",
    "        portion_above = value[\"Mission\"] * (above/(below+above+middle))\n",
    "        split_attributes[j] = {}\n",
    "        split_attributes[j]['attributes'] = value[\"Attribute\"]\n",
    "        split_attributes[j][all_breaks[0][\"below\"]] = portion_below\n",
    "        split_attributes[j][all_breaks[0][\"above\"]] = portion_middle\n",
    "        split_attributes[j][all_breaks[1][\"above\"]] = portion_above\n",
    "        j+=1\n",
    "     \n",
    "        \n",
    "\n",
    "split_attributes "
   ]
  },
  {
   "cell_type": "code",
   "execution_count": 179,
   "id": "downtown-oakland",
   "metadata": {},
   "outputs": [],
   "source": [
    "all_split_attributes = []"
   ]
  },
  {
   "cell_type": "code",
   "execution_count": 145,
   "id": "suspended-moscow",
   "metadata": {},
   "outputs": [],
   "source": [
    "for item in split_attributes.values():\n",
    "    all_split_attributes.append(item['attributes'])\n"
   ]
  },
  {
   "cell_type": "code",
   "execution_count": 146,
   "id": "recognized-father",
   "metadata": {},
   "outputs": [
    {
     "name": "stderr",
     "output_type": "stream",
     "text": [
      "<ipython-input-146-68a49f7a994a>:1: SettingWithCopyWarning: \n",
      "A value is trying to be set on a copy of a slice from a DataFrame.\n",
      "Try using .loc[row_indexer,col_indexer] = value instead\n",
      "\n",
      "See the caveats in the documentation: https://pandas.pydata.org/pandas-docs/stable/user_guide/indexing.html#returning-a-view-versus-a-copy\n",
      "  household_income_df[\"interval\"] = ''\n"
     ]
    }
   ],
   "source": [
    "household_income_df[\"interval\"] = ''\n",
    "household_income_df = household_income_df[~household_income_df.Attribute.isin(all_split_attributes)]\n",
    "\n",
    "for break_interval in breaks_dict:\n",
    "    break_val = breaks_dict[break_interval]\n",
    "    household_income_df[\"interval\"] = np.where((household_income_df['max_val']<=break_val) & (household_income_df[\"interval\"]==''), break_interval, household_income_df[\"interval\"])"
   ]
  },
  {
   "cell_type": "code",
   "execution_count": 147,
   "id": "powerful-party",
   "metadata": {},
   "outputs": [],
   "source": [
    "household_income_df['interval'] = np.where(household_income_df['interval']=='', '150+', household_income_df['interval'])"
   ]
  },
  {
   "cell_type": "code",
   "execution_count": 148,
   "id": "general-impression",
   "metadata": {},
   "outputs": [],
   "source": [
    "interval_sum = household_income_df.groupby('interval')['Mission'].sum().reset_index()"
   ]
  },
  {
   "cell_type": "code",
   "execution_count": 149,
   "id": "constitutional-measure",
   "metadata": {},
   "outputs": [
    {
     "data": {
      "text/html": [
       "<div>\n",
       "<style scoped>\n",
       "    .dataframe tbody tr th:only-of-type {\n",
       "        vertical-align: middle;\n",
       "    }\n",
       "\n",
       "    .dataframe tbody tr th {\n",
       "        vertical-align: top;\n",
       "    }\n",
       "\n",
       "    .dataframe thead th {\n",
       "        text-align: right;\n",
       "    }\n",
       "</style>\n",
       "<table border=\"1\" class=\"dataframe\">\n",
       "  <thead>\n",
       "    <tr style=\"text-align: right;\">\n",
       "      <th></th>\n",
       "      <th>interval</th>\n",
       "      <th>Mission</th>\n",
       "    </tr>\n",
       "  </thead>\n",
       "  <tbody>\n",
       "    <tr>\n",
       "      <th>0</th>\n",
       "      <td>30</td>\n",
       "      <td>4114.0</td>\n",
       "    </tr>\n",
       "    <tr>\n",
       "      <th>1</th>\n",
       "      <td>50</td>\n",
       "      <td>1433.0</td>\n",
       "    </tr>\n",
       "    <tr>\n",
       "      <th>2</th>\n",
       "      <td>80</td>\n",
       "      <td>2014.0</td>\n",
       "    </tr>\n",
       "  </tbody>\n",
       "</table>\n",
       "</div>"
      ],
      "text/plain": [
       "   interval  Mission\n",
       "0        30   4114.0\n",
       "1        50   1433.0\n",
       "2        80   2014.0"
      ]
     },
     "execution_count": 149,
     "metadata": {},
     "output_type": "execute_result"
    }
   ],
   "source": [
    "interval_sum"
   ]
  },
  {
   "cell_type": "code",
   "execution_count": 150,
   "id": "historic-canberra",
   "metadata": {},
   "outputs": [
    {
     "data": {
      "text/plain": [
       "{0: {'attributes': 'Household Income 40000 to 44999',\n",
       "  30: 260.14730770774685,\n",
       "  50: 58.85269229225314},\n",
       " 1: {'attributes': 'Household Income 60000 to 74999',\n",
       "  50: 833.7534475316902,\n",
       "  80: 95.24655246830982},\n",
       " 2: {'attributes': 'Household Income 100000 to 124999',\n",
       "  80: 1251.557650838917,\n",
       "  100: 532.442349161083},\n",
       " 3: {'attributes': 'Household Income 125000 to 149999',\n",
       "  100: 1040.041601664066,\n",
       "  120: 145.9583983359338},\n",
       " 4: {'attributes': 'Household Income 150000 to 199999',\n",
       "  120: 1536.3545044931236,\n",
       "  150: 1383.6454955068764},\n",
       " 5: {'attributes': 'Household Income Greater than 200000',\n",
       "  150: 218.28333157672853,\n",
       "  '150+': 8348.71666842327}}"
      ]
     },
     "execution_count": 150,
     "metadata": {},
     "output_type": "execute_result"
    }
   ],
   "source": [
    "split_attributes"
   ]
  },
  {
   "cell_type": "code",
   "execution_count": 151,
   "id": "characteristic-photographer",
   "metadata": {},
   "outputs": [],
   "source": [
    "portions = {}\n",
    "for values in split_attributes.values():\n",
    "    for key, value in values.items():\n",
    "        \n",
    "        if key != 'attributes':\n",
    "            if str(key) in portions:\n",
    "                portions[str(key)]+=value\n",
    "            else:\n",
    "                portions[str(key)]=value\n",
    "       "
   ]
  },
  {
   "cell_type": "code",
   "execution_count": 152,
   "id": "advisory-montreal",
   "metadata": {},
   "outputs": [
    {
     "data": {
      "text/plain": [
       "{'30': 260.14730770774685,\n",
       " '50': 892.6061398239433,\n",
       " '80': 1346.8042033072268,\n",
       " '100': 1572.4839508251491,\n",
       " '120': 1682.3129028290573,\n",
       " '150': 1601.928827083605,\n",
       " '150+': 8348.71666842327}"
      ]
     },
     "execution_count": 152,
     "metadata": {},
     "output_type": "execute_result"
    }
   ],
   "source": [
    "portions"
   ]
  },
  {
   "cell_type": "code",
   "execution_count": 153,
   "id": "upset-option",
   "metadata": {},
   "outputs": [],
   "source": [
    "interval_sum_dic = interval_sum.to_dict(\"records\")   "
   ]
  },
  {
   "cell_type": "code",
   "execution_count": 154,
   "id": "suspended-modeling",
   "metadata": {},
   "outputs": [],
   "source": [
    "for record in interval_sum_dic:\n",
    "    interval = str(record['interval'])\n",
    "    total = record['Mission']\n",
    "    portions[interval]+=total\n",
    "    "
   ]
  },
  {
   "cell_type": "code",
   "execution_count": 155,
   "id": "scheduled-dominant",
   "metadata": {},
   "outputs": [
    {
     "data": {
      "text/plain": [
       "{'30': 4374.147307707747,\n",
       " '50': 2325.6061398239435,\n",
       " '80': 3360.804203307227,\n",
       " '100': 1572.4839508251491,\n",
       " '120': 1682.3129028290573,\n",
       " '150': 1601.928827083605,\n",
       " '150+': 8348.71666842327}"
      ]
     },
     "execution_count": 155,
     "metadata": {},
     "output_type": "execute_result"
    }
   ],
   "source": [
    "portions"
   ]
  },
  {
   "cell_type": "code",
   "execution_count": 156,
   "id": "exclusive-malawi",
   "metadata": {},
   "outputs": [],
   "source": [
    "portion_percentage = {}\n",
    "for portion, val in portions.items():\n",
    "    portion_percentage[portion] = (val/total_households)*100"
   ]
  },
  {
   "cell_type": "code",
   "execution_count": 157,
   "id": "bacterial-government",
   "metadata": {},
   "outputs": [],
   "source": [
    "total_120 = 0\n",
    "for portion, val in portions.items():\n",
    "    if portion in ['30', '50', '80', '100', '120']:\n",
    "        total_120 += val\n",
    "        \n"
   ]
  },
  {
   "cell_type": "code",
   "execution_count": 158,
   "id": "motivated-twins",
   "metadata": {},
   "outputs": [],
   "source": [
    "portions['total_120'] = total_120"
   ]
  },
  {
   "cell_type": "code",
   "execution_count": 159,
   "id": "signed-begin",
   "metadata": {},
   "outputs": [],
   "source": [
    "portion_percentage['total_120'] = (total_120/total_households)*100"
   ]
  },
  {
   "cell_type": "code",
   "execution_count": 160,
   "id": "contained-utility",
   "metadata": {},
   "outputs": [
    {
     "data": {
      "text/plain": [
       "{'30': 18.800598760886047,\n",
       " '50': 9.995728272259708,\n",
       " '80': 14.4451311067963,\n",
       " '100': 6.758720668895165,\n",
       " '120': 7.23077840122521,\n",
       " '150': 6.885278204605884,\n",
       " '150+': 35.88376458533169,\n",
       " 'total_120': 57.23095721006243}"
      ]
     },
     "execution_count": 160,
     "metadata": {},
     "output_type": "execute_result"
    }
   ],
   "source": [
    "portion_percentage"
   ]
  },
  {
   "cell_type": "code",
   "execution_count": 681,
   "id": "portable-participant",
   "metadata": {},
   "outputs": [],
   "source": [
    "portion_percentage_dic = pd.DataFrame(portion_percentage.items(), columns=[\"ami\", \"percentage\"])"
   ]
  },
  {
   "cell_type": "code",
   "execution_count": 682,
   "id": "expired-begin",
   "metadata": {},
   "outputs": [],
   "source": [
    "download_path = r\"./output\""
   ]
  },
  {
   "cell_type": "code",
   "execution_count": 683,
   "id": "herbal-canadian",
   "metadata": {},
   "outputs": [],
   "source": [
    "portion_percentage_dic['percentage']=portion_percentage_dic['percentage'].astype(\"float\")"
   ]
  },
  {
   "cell_type": "code",
   "execution_count": 684,
   "id": "veterinary-hungary",
   "metadata": {},
   "outputs": [],
   "source": [
    "portion_percentage_dic.to_csv(os.path.join(download_path,'amis_{}.csv'.format(year)), index = False)"
   ]
  },
  {
   "cell_type": "code",
   "execution_count": null,
   "id": "intelligent-third",
   "metadata": {},
   "outputs": [],
   "source": []
  },
  {
   "cell_type": "code",
   "execution_count": 431,
   "id": "suspected-conspiracy",
   "metadata": {
    "scrolled": false
   },
   "outputs": [
    {
     "name": "stdout",
     "output_type": "stream",
     "text": [
      "                          Attribute  Mission  min_val  max_val\n",
      "87  Household Income 35000 to 39999    348.0    35000    39999\n",
      "                          Attribute  Mission  min_val  max_val\n",
      "91  Household Income 60000 to 74999   1359.0    60000    74999\n",
      "                            Attribute  Mission  min_val  max_val\n",
      "93  Household Income 100000 to 124999   1702.0   100000   124999\n",
      "                            Attribute  Mission  min_val  max_val\n",
      "94  Household Income 125000 to 149999   1390.0   125000   149999\n",
      "                            Attribute  Mission  min_val  max_val\n",
      "95  Household Income 150000 to 199999   2801.0   150000   199999\n",
      "                            Attribute  Mission  min_val  max_val\n",
      "95  Household Income 150000 to 199999   2801.0   150000   199999\n"
     ]
    },
    {
     "name": "stderr",
     "output_type": "stream",
     "text": [
      "<ipython-input-431-339b8db6a446>:13: SettingWithCopyWarning: \n",
      "A value is trying to be set on a copy of a slice from a DataFrame.\n",
      "Try using .loc[row_indexer,col_indexer] = value instead\n",
      "\n",
      "See the caveats in the documentation: https://pandas.pydata.org/pandas-docs/stable/user_guide/indexing.html#returning-a-view-versus-a-copy\n",
      "  household_income_df_split['break_val'] = break_val\n",
      "<ipython-input-431-339b8db6a446>:14: SettingWithCopyWarning: \n",
      "A value is trying to be set on a copy of a slice from a DataFrame.\n",
      "Try using .loc[row_indexer,col_indexer] = value instead\n",
      "\n",
      "See the caveats in the documentation: https://pandas.pydata.org/pandas-docs/stable/user_guide/indexing.html#returning-a-view-versus-a-copy\n",
      "  household_income_df_split['above'] = household_income_df_split['max_val']-break_val\n",
      "<ipython-input-431-339b8db6a446>:15: SettingWithCopyWarning: \n",
      "A value is trying to be set on a copy of a slice from a DataFrame.\n",
      "Try using .loc[row_indexer,col_indexer] = value instead\n",
      "\n",
      "See the caveats in the documentation: https://pandas.pydata.org/pandas-docs/stable/user_guide/indexing.html#returning-a-view-versus-a-copy\n",
      "  household_income_df_split['below'] = break_val-household_income_df_split['min_val']\n",
      "<ipython-input-431-339b8db6a446>:16: SettingWithCopyWarning: \n",
      "A value is trying to be set on a copy of a slice from a DataFrame.\n",
      "Try using .loc[row_indexer,col_indexer] = value instead\n",
      "\n",
      "See the caveats in the documentation: https://pandas.pydata.org/pandas-docs/stable/user_guide/indexing.html#returning-a-view-versus-a-copy\n",
      "  household_income_df_split[portion_below] = household_income_df_split[\"Mission\"]*(household_income_df_split['below']/(household_income_df_split['below']+household_income_df_split['above']))\n",
      "<ipython-input-431-339b8db6a446>:17: SettingWithCopyWarning: \n",
      "A value is trying to be set on a copy of a slice from a DataFrame.\n",
      "Try using .loc[row_indexer,col_indexer] = value instead\n",
      "\n",
      "See the caveats in the documentation: https://pandas.pydata.org/pandas-docs/stable/user_guide/indexing.html#returning-a-view-versus-a-copy\n",
      "  household_income_df_split[portion_above] = household_income_df_split[\"Mission\"]*(household_income_df_split['above']/(household_income_df_split['below']+household_income_df_split['above']))\n",
      "<ipython-input-431-339b8db6a446>:13: SettingWithCopyWarning: \n",
      "A value is trying to be set on a copy of a slice from a DataFrame.\n",
      "Try using .loc[row_indexer,col_indexer] = value instead\n",
      "\n",
      "See the caveats in the documentation: https://pandas.pydata.org/pandas-docs/stable/user_guide/indexing.html#returning-a-view-versus-a-copy\n",
      "  household_income_df_split['break_val'] = break_val\n",
      "<ipython-input-431-339b8db6a446>:14: SettingWithCopyWarning: \n",
      "A value is trying to be set on a copy of a slice from a DataFrame.\n",
      "Try using .loc[row_indexer,col_indexer] = value instead\n",
      "\n",
      "See the caveats in the documentation: https://pandas.pydata.org/pandas-docs/stable/user_guide/indexing.html#returning-a-view-versus-a-copy\n",
      "  household_income_df_split['above'] = household_income_df_split['max_val']-break_val\n",
      "<ipython-input-431-339b8db6a446>:15: SettingWithCopyWarning: \n",
      "A value is trying to be set on a copy of a slice from a DataFrame.\n",
      "Try using .loc[row_indexer,col_indexer] = value instead\n",
      "\n",
      "See the caveats in the documentation: https://pandas.pydata.org/pandas-docs/stable/user_guide/indexing.html#returning-a-view-versus-a-copy\n",
      "  household_income_df_split['below'] = break_val-household_income_df_split['min_val']\n",
      "<ipython-input-431-339b8db6a446>:16: SettingWithCopyWarning: \n",
      "A value is trying to be set on a copy of a slice from a DataFrame.\n",
      "Try using .loc[row_indexer,col_indexer] = value instead\n",
      "\n",
      "See the caveats in the documentation: https://pandas.pydata.org/pandas-docs/stable/user_guide/indexing.html#returning-a-view-versus-a-copy\n",
      "  household_income_df_split[portion_below] = household_income_df_split[\"Mission\"]*(household_income_df_split['below']/(household_income_df_split['below']+household_income_df_split['above']))\n",
      "<ipython-input-431-339b8db6a446>:17: SettingWithCopyWarning: \n",
      "A value is trying to be set on a copy of a slice from a DataFrame.\n",
      "Try using .loc[row_indexer,col_indexer] = value instead\n",
      "\n",
      "See the caveats in the documentation: https://pandas.pydata.org/pandas-docs/stable/user_guide/indexing.html#returning-a-view-versus-a-copy\n",
      "  household_income_df_split[portion_above] = household_income_df_split[\"Mission\"]*(household_income_df_split['above']/(household_income_df_split['below']+household_income_df_split['above']))\n",
      "<ipython-input-431-339b8db6a446>:13: SettingWithCopyWarning: \n",
      "A value is trying to be set on a copy of a slice from a DataFrame.\n",
      "Try using .loc[row_indexer,col_indexer] = value instead\n",
      "\n",
      "See the caveats in the documentation: https://pandas.pydata.org/pandas-docs/stable/user_guide/indexing.html#returning-a-view-versus-a-copy\n",
      "  household_income_df_split['break_val'] = break_val\n",
      "<ipython-input-431-339b8db6a446>:14: SettingWithCopyWarning: \n",
      "A value is trying to be set on a copy of a slice from a DataFrame.\n",
      "Try using .loc[row_indexer,col_indexer] = value instead\n",
      "\n",
      "See the caveats in the documentation: https://pandas.pydata.org/pandas-docs/stable/user_guide/indexing.html#returning-a-view-versus-a-copy\n",
      "  household_income_df_split['above'] = household_income_df_split['max_val']-break_val\n",
      "<ipython-input-431-339b8db6a446>:15: SettingWithCopyWarning: \n",
      "A value is trying to be set on a copy of a slice from a DataFrame.\n",
      "Try using .loc[row_indexer,col_indexer] = value instead\n",
      "\n",
      "See the caveats in the documentation: https://pandas.pydata.org/pandas-docs/stable/user_guide/indexing.html#returning-a-view-versus-a-copy\n",
      "  household_income_df_split['below'] = break_val-household_income_df_split['min_val']\n",
      "<ipython-input-431-339b8db6a446>:16: SettingWithCopyWarning: \n",
      "A value is trying to be set on a copy of a slice from a DataFrame.\n",
      "Try using .loc[row_indexer,col_indexer] = value instead\n",
      "\n",
      "See the caveats in the documentation: https://pandas.pydata.org/pandas-docs/stable/user_guide/indexing.html#returning-a-view-versus-a-copy\n",
      "  household_income_df_split[portion_below] = household_income_df_split[\"Mission\"]*(household_income_df_split['below']/(household_income_df_split['below']+household_income_df_split['above']))\n",
      "<ipython-input-431-339b8db6a446>:17: SettingWithCopyWarning: \n",
      "A value is trying to be set on a copy of a slice from a DataFrame.\n",
      "Try using .loc[row_indexer,col_indexer] = value instead\n",
      "\n",
      "See the caveats in the documentation: https://pandas.pydata.org/pandas-docs/stable/user_guide/indexing.html#returning-a-view-versus-a-copy\n",
      "  household_income_df_split[portion_above] = household_income_df_split[\"Mission\"]*(household_income_df_split['above']/(household_income_df_split['below']+household_income_df_split['above']))\n",
      "<ipython-input-431-339b8db6a446>:13: SettingWithCopyWarning: \n",
      "A value is trying to be set on a copy of a slice from a DataFrame.\n",
      "Try using .loc[row_indexer,col_indexer] = value instead\n",
      "\n",
      "See the caveats in the documentation: https://pandas.pydata.org/pandas-docs/stable/user_guide/indexing.html#returning-a-view-versus-a-copy\n",
      "  household_income_df_split['break_val'] = break_val\n",
      "<ipython-input-431-339b8db6a446>:14: SettingWithCopyWarning: \n",
      "A value is trying to be set on a copy of a slice from a DataFrame.\n",
      "Try using .loc[row_indexer,col_indexer] = value instead\n",
      "\n",
      "See the caveats in the documentation: https://pandas.pydata.org/pandas-docs/stable/user_guide/indexing.html#returning-a-view-versus-a-copy\n",
      "  household_income_df_split['above'] = household_income_df_split['max_val']-break_val\n",
      "<ipython-input-431-339b8db6a446>:15: SettingWithCopyWarning: \n",
      "A value is trying to be set on a copy of a slice from a DataFrame.\n",
      "Try using .loc[row_indexer,col_indexer] = value instead\n",
      "\n",
      "See the caveats in the documentation: https://pandas.pydata.org/pandas-docs/stable/user_guide/indexing.html#returning-a-view-versus-a-copy\n",
      "  household_income_df_split['below'] = break_val-household_income_df_split['min_val']\n",
      "<ipython-input-431-339b8db6a446>:16: SettingWithCopyWarning: \n",
      "A value is trying to be set on a copy of a slice from a DataFrame.\n",
      "Try using .loc[row_indexer,col_indexer] = value instead\n",
      "\n",
      "See the caveats in the documentation: https://pandas.pydata.org/pandas-docs/stable/user_guide/indexing.html#returning-a-view-versus-a-copy\n",
      "  household_income_df_split[portion_below] = household_income_df_split[\"Mission\"]*(household_income_df_split['below']/(household_income_df_split['below']+household_income_df_split['above']))\n",
      "<ipython-input-431-339b8db6a446>:17: SettingWithCopyWarning: \n",
      "A value is trying to be set on a copy of a slice from a DataFrame.\n",
      "Try using .loc[row_indexer,col_indexer] = value instead\n",
      "\n",
      "See the caveats in the documentation: https://pandas.pydata.org/pandas-docs/stable/user_guide/indexing.html#returning-a-view-versus-a-copy\n",
      "  household_income_df_split[portion_above] = household_income_df_split[\"Mission\"]*(household_income_df_split['above']/(household_income_df_split['below']+household_income_df_split['above']))\n",
      "<ipython-input-431-339b8db6a446>:13: SettingWithCopyWarning: \n",
      "A value is trying to be set on a copy of a slice from a DataFrame.\n",
      "Try using .loc[row_indexer,col_indexer] = value instead\n",
      "\n",
      "See the caveats in the documentation: https://pandas.pydata.org/pandas-docs/stable/user_guide/indexing.html#returning-a-view-versus-a-copy\n",
      "  household_income_df_split['break_val'] = break_val\n",
      "<ipython-input-431-339b8db6a446>:14: SettingWithCopyWarning: \n",
      "A value is trying to be set on a copy of a slice from a DataFrame.\n",
      "Try using .loc[row_indexer,col_indexer] = value instead\n",
      "\n",
      "See the caveats in the documentation: https://pandas.pydata.org/pandas-docs/stable/user_guide/indexing.html#returning-a-view-versus-a-copy\n",
      "  household_income_df_split['above'] = household_income_df_split['max_val']-break_val\n",
      "<ipython-input-431-339b8db6a446>:15: SettingWithCopyWarning: \n",
      "A value is trying to be set on a copy of a slice from a DataFrame.\n",
      "Try using .loc[row_indexer,col_indexer] = value instead\n",
      "\n",
      "See the caveats in the documentation: https://pandas.pydata.org/pandas-docs/stable/user_guide/indexing.html#returning-a-view-versus-a-copy\n",
      "  household_income_df_split['below'] = break_val-household_income_df_split['min_val']\n",
      "<ipython-input-431-339b8db6a446>:16: SettingWithCopyWarning: \n",
      "A value is trying to be set on a copy of a slice from a DataFrame.\n",
      "Try using .loc[row_indexer,col_indexer] = value instead\n",
      "\n",
      "See the caveats in the documentation: https://pandas.pydata.org/pandas-docs/stable/user_guide/indexing.html#returning-a-view-versus-a-copy\n",
      "  household_income_df_split[portion_below] = household_income_df_split[\"Mission\"]*(household_income_df_split['below']/(household_income_df_split['below']+household_income_df_split['above']))\n",
      "<ipython-input-431-339b8db6a446>:17: SettingWithCopyWarning: \n",
      "A value is trying to be set on a copy of a slice from a DataFrame.\n",
      "Try using .loc[row_indexer,col_indexer] = value instead\n",
      "\n",
      "See the caveats in the documentation: https://pandas.pydata.org/pandas-docs/stable/user_guide/indexing.html#returning-a-view-versus-a-copy\n",
      "  household_income_df_split[portion_above] = household_income_df_split[\"Mission\"]*(household_income_df_split['above']/(household_income_df_split['below']+household_income_df_split['above']))\n",
      "<ipython-input-431-339b8db6a446>:13: SettingWithCopyWarning: \n",
      "A value is trying to be set on a copy of a slice from a DataFrame.\n",
      "Try using .loc[row_indexer,col_indexer] = value instead\n",
      "\n",
      "See the caveats in the documentation: https://pandas.pydata.org/pandas-docs/stable/user_guide/indexing.html#returning-a-view-versus-a-copy\n",
      "  household_income_df_split['break_val'] = break_val\n",
      "<ipython-input-431-339b8db6a446>:14: SettingWithCopyWarning: \n",
      "A value is trying to be set on a copy of a slice from a DataFrame.\n",
      "Try using .loc[row_indexer,col_indexer] = value instead\n",
      "\n",
      "See the caveats in the documentation: https://pandas.pydata.org/pandas-docs/stable/user_guide/indexing.html#returning-a-view-versus-a-copy\n",
      "  household_income_df_split['above'] = household_income_df_split['max_val']-break_val\n",
      "<ipython-input-431-339b8db6a446>:15: SettingWithCopyWarning: \n",
      "A value is trying to be set on a copy of a slice from a DataFrame.\n",
      "Try using .loc[row_indexer,col_indexer] = value instead\n",
      "\n",
      "See the caveats in the documentation: https://pandas.pydata.org/pandas-docs/stable/user_guide/indexing.html#returning-a-view-versus-a-copy\n",
      "  household_income_df_split['below'] = break_val-household_income_df_split['min_val']\n",
      "<ipython-input-431-339b8db6a446>:16: SettingWithCopyWarning: \n",
      "A value is trying to be set on a copy of a slice from a DataFrame.\n",
      "Try using .loc[row_indexer,col_indexer] = value instead\n",
      "\n",
      "See the caveats in the documentation: https://pandas.pydata.org/pandas-docs/stable/user_guide/indexing.html#returning-a-view-versus-a-copy\n",
      "  household_income_df_split[portion_below] = household_income_df_split[\"Mission\"]*(household_income_df_split['below']/(household_income_df_split['below']+household_income_df_split['above']))\n",
      "<ipython-input-431-339b8db6a446>:17: SettingWithCopyWarning: \n",
      "A value is trying to be set on a copy of a slice from a DataFrame.\n",
      "Try using .loc[row_indexer,col_indexer] = value instead\n",
      "\n",
      "See the caveats in the documentation: https://pandas.pydata.org/pandas-docs/stable/user_guide/indexing.html#returning-a-view-versus-a-copy\n",
      "  household_income_df_split[portion_above] = household_income_df_split[\"Mission\"]*(household_income_df_split['above']/(household_income_df_split['below']+household_income_df_split['above']))\n"
     ]
    }
   ],
   "source": [
    "'''all_split_dfs = []\n",
    "split_attributes = {}\n",
    "for i, break_interval in enumerate(breaks_dict):\n",
    "    portion_below = 'portion_'+str(break_interval)\n",
    "    if len(list(breaks_dict.keys()))> (i+1):\n",
    "        next_interval = list(breaks_dict.keys())[i+1]\n",
    "    else:\n",
    "        next_interval = '150+'\n",
    "    portion_above = 'portion_'+str(next_interval)\n",
    "    break_val = breaks_dict[break_interval]\n",
    "    household_income_df_split = household_income_df[(household_income_df['max_val']>=break_val) & (household_income_df['min_val']<=break_val)]\n",
    "    print(household_income_df_split)\n",
    "    household_income_df_split['break_val'] = break_val\n",
    "    household_income_df_split['above'] = household_income_df_split['max_val']-break_val\n",
    "    household_income_df_split['below'] = break_val-household_income_df_split['min_val']\n",
    "    household_income_df_split[portion_below] = household_income_df_split[\"Mission\"]*(household_income_df_split['below']/(household_income_df_split['below']+household_income_df_split['above']))\n",
    "    household_income_df_split[portion_above] = household_income_df_split[\"Mission\"]*(household_income_df_split['above']/(household_income_df_split['below']+household_income_df_split['above']))\n",
    "    all_split_dfs.append(household_income_df_split)\n",
    "    split_attributes[i] = {}\n",
    "    split_attributes[i]['attributes'] = household_income_df_split['Attribute'].iloc[0]\n",
    "    split_attributes[i][portion_below] = household_income_df_split[portion_below].iloc[0]\n",
    "    split_attributes[i][portion_above] = household_income_df_split[portion_above].iloc[0]'''\n",
    "    "
   ]
  }
 ],
 "metadata": {
  "kernelspec": {
   "display_name": "Python 3",
   "language": "python",
   "name": "python3"
  },
  "language_info": {
   "codemirror_mode": {
    "name": "ipython",
    "version": 3
   },
   "file_extension": ".py",
   "mimetype": "text/x-python",
   "name": "python",
   "nbconvert_exporter": "python",
   "pygments_lexer": "ipython3",
   "version": "3.9.4"
  },
  "toc": {
   "base_numbering": 1,
   "nav_menu": {},
   "number_sections": true,
   "sideBar": true,
   "skip_h1_title": false,
   "title_cell": "Table of Contents",
   "title_sidebar": "Contents",
   "toc_cell": false,
   "toc_position": {},
   "toc_section_display": true,
   "toc_window_display": true
  }
 },
 "nbformat": 4,
 "nbformat_minor": 5
}
