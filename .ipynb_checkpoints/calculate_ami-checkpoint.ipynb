{
 "cells": [
  {
   "cell_type": "code",
   "execution_count": 561,
   "id": "wound-postcard",
   "metadata": {},
   "outputs": [],
   "source": [
    "# base libraries\n",
    "import requests, json, os\n",
    "import pandas as pd\n",
    "import numpy as np\n",
    "from collections import defaultdict"
   ]
  },
  {
   "cell_type": "code",
   "execution_count": 562,
   "id": "dependent-scottish",
   "metadata": {},
   "outputs": [],
   "source": [
    "year = 2021"
   ]
  },
  {
   "cell_type": "code",
   "execution_count": 563,
   "id": "rough-arrest",
   "metadata": {},
   "outputs": [],
   "source": [
    "all_attributes_df = pd.read_csv (r'./output/Neighborhood_profiles_by_attribute_{}.csv'.format(year), dtype=str)"
   ]
  },
  {
   "cell_type": "code",
   "execution_count": 564,
   "id": "intensive-bookmark",
   "metadata": {},
   "outputs": [],
   "source": [
    "all_attributes_df=all_attributes_df[[\"Attribute\", \"Mission\"]]"
   ]
  },
  {
   "cell_type": "code",
   "execution_count": 565,
   "id": "rising-basketball",
   "metadata": {},
   "outputs": [],
   "source": [
    "household_income_df=all_attributes_df[all_attributes_df.Attribute.isin([\"Household Income Less than 10000\",\n",
    "\"Household Income 10000 to 14999\",\n",
    "\"Household Income 15000 to 19999\",\n",
    "\"Household Income 20000 to 24999\",\n",
    "\"Household Income 25000 to 29999\",\n",
    "\"Household Income 30000 to 34999\",\n",
    "\"Household Income 35000 to 39999\",\n",
    "\"Household Income 40000 to 44999\",\n",
    "\"Household Income 45000 to 49999\",\n",
    "\"Household Income 50000 to 59999\",\n",
    "\"Household Income 60000 to 74999\",\n",
    "\"Household Income 75000 to 99999\",\n",
    "\"Household Income 100000 to 124999\",\n",
    "\"Household Income 125000 to 149999\",\n",
    "\"Household Income 150000 to 199999\",\n",
    "\"Household Income Greater than 200000\"                                                                           \n",
    "])]"
   ]
  },
  {
   "cell_type": "code",
   "execution_count": 566,
   "id": "appointed-confusion",
   "metadata": {},
   "outputs": [],
   "source": [
    "median_income =all_attributes_df[all_attributes_df.Attribute.isin([\n",
    "\"Median Household Income (B19013_001)\"                                                                            \n",
    "])].to_dict('records')"
   ]
  },
  {
   "cell_type": "code",
   "execution_count": 567,
   "id": "fantastic-moses",
   "metadata": {},
   "outputs": [],
   "source": [
    "total_households =int(float(all_attributes_df[all_attributes_df.Attribute.isin([\n",
    "\"Housholds\"                                                                            \n",
    "])].to_dict('records')[0]['Mission']))\n"
   ]
  },
  {
   "cell_type": "code",
   "execution_count": 568,
   "id": "quick-spyware",
   "metadata": {},
   "outputs": [],
   "source": [
    "median_income = float(median_income[0]['Mission'])"
   ]
  },
  {
   "cell_type": "code",
   "execution_count": 569,
   "id": "divine-metabolism",
   "metadata": {},
   "outputs": [],
   "source": [
    "ami_breaks = [30, 50, 80, 100, 120, 150]"
   ]
  },
  {
   "cell_type": "code",
   "execution_count": 570,
   "id": "thermal-princeton",
   "metadata": {},
   "outputs": [],
   "source": [
    "income_breaks = [(i/100) * median_income for i in ami_breaks]"
   ]
  },
  {
   "cell_type": "code",
   "execution_count": 571,
   "id": "unable-ready",
   "metadata": {},
   "outputs": [],
   "source": [
    "breaks_dict = dict(zip(ami_breaks, income_breaks))"
   ]
  },
  {
   "cell_type": "code",
   "execution_count": 572,
   "id": "surprised-strip",
   "metadata": {},
   "outputs": [],
   "source": [
    "min_dict = {\"Household Income Less than 10000\":0,\n",
    "\"Household Income 10000 to 14999\":10000,\n",
    "\"Household Income 15000 to 19999\":15000,\n",
    "\"Household Income 20000 to 24999\":20000,\n",
    "\"Household Income 25000 to 29999\":25000,\n",
    "\"Household Income 30000 to 34999\":30000,\n",
    "\"Household Income 35000 to 39999\":35000,\n",
    "\"Household Income 40000 to 44999\":40000,\n",
    "\"Household Income 45000 to 49999\":45000,\n",
    "\"Household Income 50000 to 59999\":50000,\n",
    "\"Household Income 60000 to 74999\":60000,\n",
    "\"Household Income 75000 to 99999\":75000,\n",
    "\"Household Income 100000 to 124999\":100000,\n",
    "\"Household Income 125000 to 149999\":125000,\n",
    "\"Household Income 150000 to 199999\":150000,\n",
    "\"Household Income Greater than 200000\":200000}       \n",
    "   \n",
    "\n",
    "max_dict = {\"Household Income Less than 10000\":9999,\n",
    "\"Household Income 10000 to 14999\":14999,\n",
    "\"Household Income 15000 to 19999\":19999,\n",
    "\"Household Income 20000 to 24999\":24999,\n",
    "\"Household Income 25000 to 29999\":29999,\n",
    "\"Household Income 30000 to 34999\":34999,\n",
    "\"Household Income 35000 to 39999\":39999,\n",
    "\"Household Income 40000 to 44999\":44999,\n",
    "\"Household Income 45000 to 49999\":49999,\n",
    "\"Household Income 50000 to 59999\":59999,\n",
    "\"Household Income 60000 to 74999\":74999,\n",
    "\"Household Income 75000 to 99999\":99999,\n",
    "\"Household Income 100000 to 124999\":124999,\n",
    "\"Household Income 125000 to 149999\":149999,\n",
    "\"Household Income 150000 to 199999\":199999,\n",
    "\"Household Income Greater than 200000\":250000}        "
   ]
  },
  {
   "cell_type": "code",
   "execution_count": 573,
   "id": "several-superintendent",
   "metadata": {},
   "outputs": [
    {
     "name": "stderr",
     "output_type": "stream",
     "text": [
      "<ipython-input-573-292e0d80ef1c>:1: SettingWithCopyWarning: \n",
      "A value is trying to be set on a copy of a slice from a DataFrame.\n",
      "Try using .loc[row_indexer,col_indexer] = value instead\n",
      "\n",
      "See the caveats in the documentation: https://pandas.pydata.org/pandas-docs/stable/user_guide/indexing.html#returning-a-view-versus-a-copy\n",
      "  household_income_df['min_val'] = household_income_df[\"Attribute\"].map(min_dict)\n",
      "<ipython-input-573-292e0d80ef1c>:2: SettingWithCopyWarning: \n",
      "A value is trying to be set on a copy of a slice from a DataFrame.\n",
      "Try using .loc[row_indexer,col_indexer] = value instead\n",
      "\n",
      "See the caveats in the documentation: https://pandas.pydata.org/pandas-docs/stable/user_guide/indexing.html#returning-a-view-versus-a-copy\n",
      "  household_income_df['max_val'] = household_income_df[\"Attribute\"].map(max_dict)\n"
     ]
    }
   ],
   "source": [
    "household_income_df['min_val'] = household_income_df[\"Attribute\"].map(min_dict)\n",
    "household_income_df['max_val'] = household_income_df[\"Attribute\"].map(max_dict)"
   ]
  },
  {
   "cell_type": "code",
   "execution_count": 574,
   "id": "complex-rotation",
   "metadata": {},
   "outputs": [
    {
     "name": "stderr",
     "output_type": "stream",
     "text": [
      "<ipython-input-574-4c16757f1157>:1: SettingWithCopyWarning: \n",
      "A value is trying to be set on a copy of a slice from a DataFrame.\n",
      "Try using .loc[row_indexer,col_indexer] = value instead\n",
      "\n",
      "See the caveats in the documentation: https://pandas.pydata.org/pandas-docs/stable/user_guide/indexing.html#returning-a-view-versus-a-copy\n",
      "  household_income_df[\"Mission\"]=household_income_df[\"Mission\"].astype(float)\n"
     ]
    }
   ],
   "source": [
    "household_income_df[\"Mission\"]=household_income_df[\"Mission\"].astype(float)"
   ]
  },
  {
   "cell_type": "code",
   "execution_count": 575,
   "id": "dramatic-pleasure",
   "metadata": {},
   "outputs": [],
   "source": [
    "household_income_dict = household_income_df.to_dict('records')"
   ]
  },
  {
   "cell_type": "code",
   "execution_count": 576,
   "id": "stylish-local",
   "metadata": {},
   "outputs": [
    {
     "name": "stdout",
     "output_type": "stream",
     "text": [
      "[{'break_interval': 120, 'break_value': 156852.5179856115, 'below': 120, 'above': 150}, {'break_interval': 150, 'break_value': 196065.64748201438, 'below': 150, 'above': '150+'}]\n"
     ]
    },
    {
     "data": {
      "text/plain": [
       "{0: {'attributes': 'Household Income 35000 to 39999',\n",
       "  30: 293.2924714439291,\n",
       "  50: 54.707528556070876},\n",
       " 1: {'attributes': 'Household Income 60000 to 74999',\n",
       "  50: 485.2149016169422,\n",
       "  80: 873.7850983830577},\n",
       " 2: {'attributes': 'Household Income 100000 to 124999',\n",
       "  80: 311.02539065591446,\n",
       "  100: 1390.9746093440856},\n",
       " 3: {'attributes': 'Household Income 125000 to 149999',\n",
       "  100: 317.5127005080202,\n",
       "  120: 1072.48729949198},\n",
       " 4: {'attributes': 'Household Income 150000 to 199999',\n",
       "  120: 383.88573526866236,\n",
       "  150: 2196.7634496574815,\n",
       "  '150+': 220.35081507385607}}"
      ]
     },
     "execution_count": 576,
     "metadata": {},
     "output_type": "execute_result"
    }
   ],
   "source": [
    "# deals with multiple break points in a range\n",
    "split_attributes = {}\n",
    "j = 0\n",
    "for value in household_income_dict:\n",
    "    all_breaks = []\n",
    "    \n",
    "    for i, break_interval in enumerate(breaks_dict):\n",
    "        break_value = breaks_dict[break_interval]\n",
    "        if break_value >=value['min_val'] and break_value <=value['max_val']:\n",
    "            portion_below = break_interval\n",
    "            \n",
    "            if len(list(breaks_dict.keys()))> (i+1):\n",
    "                next_interval = list(breaks_dict.keys())[i+1]\n",
    "            else:\n",
    "                next_interval = '150+'\n",
    "                \n",
    "            all_breaks.append({\"break_interval\":break_interval, \"break_value\":break_value, \"below\":portion_below, \"above\":next_interval})\n",
    "        \n",
    "    #for break_interval, break_value in breaks_dict.items():\n",
    "    #    if break_value >=value['min_val'] and break_value <=value['max_val']:\n",
    "    #        all_breaks.append({break_interval:break_value})\n",
    "            \n",
    "    if len(all_breaks)==1:\n",
    "      \n",
    "        break_value = all_breaks[0][\"break_value\"]\n",
    "        break_interval = all_breaks[0][\"break_interval\"]\n",
    "        above = value['max_val']-break_value\n",
    "        below = break_value-value['min_val']\n",
    "        portion_below = value[\"Mission\"] * (below/(below+above))\n",
    "        portion_above = value[\"Mission\"] * (above/(below+above))\n",
    "        split_attributes[j] = {}\n",
    "        split_attributes[j]['attributes'] = value[\"Attribute\"]\n",
    "        split_attributes[j][all_breaks[0][\"below\"]] = portion_below\n",
    "        split_attributes[j][all_breaks[0][\"above\"]] = portion_above\n",
    "        j+=1\n",
    "        \n",
    "    if len(all_breaks)==2:\n",
    "        print(all_breaks)\n",
    "        break_value1 = all_breaks[0][\"break_value\"]\n",
    "        break_interval1 = all_breaks[0][\"break_interval\"]\n",
    "        break_value2 = all_breaks[1][\"break_value\"]\n",
    "        break_interval2 = all_breaks[1][\"break_interval\"]\n",
    "        above = value['max_val']-break_value2\n",
    "        middle = break_value2-break_value1\n",
    "        below = break_value1-value['min_val']\n",
    "        portion_below = value[\"Mission\"] * (below/(below+above+middle))\n",
    "        portion_middle = value[\"Mission\"] * (middle/(below+above+middle))\n",
    "        portion_above = value[\"Mission\"] * (above/(below+above+middle))\n",
    "        split_attributes[j] = {}\n",
    "        split_attributes[j]['attributes'] = value[\"Attribute\"]\n",
    "        split_attributes[j][all_breaks[0][\"below\"]] = portion_below\n",
    "        split_attributes[j][all_breaks[0][\"above\"]] = portion_middle\n",
    "        split_attributes[j][all_breaks[1][\"above\"]] = portion_above\n",
    "        j+=1\n",
    "     \n",
    "        \n",
    "\n",
    "split_attributes "
   ]
  },
  {
   "cell_type": "code",
   "execution_count": 577,
   "id": "another-distributor",
   "metadata": {},
   "outputs": [],
   "source": [
    "all_split_attributes = []"
   ]
  },
  {
   "cell_type": "code",
   "execution_count": 578,
   "id": "fleet-vermont",
   "metadata": {},
   "outputs": [],
   "source": [
    "for item in split_attributes.values():\n",
    "    all_split_attributes.append(item['attributes'])\n"
   ]
  },
  {
   "cell_type": "code",
   "execution_count": 580,
   "id": "convertible-solomon",
   "metadata": {},
   "outputs": [
    {
     "name": "stderr",
     "output_type": "stream",
     "text": [
      "<ipython-input-580-68a49f7a994a>:1: SettingWithCopyWarning: \n",
      "A value is trying to be set on a copy of a slice from a DataFrame.\n",
      "Try using .loc[row_indexer,col_indexer] = value instead\n",
      "\n",
      "See the caveats in the documentation: https://pandas.pydata.org/pandas-docs/stable/user_guide/indexing.html#returning-a-view-versus-a-copy\n",
      "  household_income_df[\"interval\"] = ''\n"
     ]
    }
   ],
   "source": [
    "household_income_df[\"interval\"] = ''\n",
    "household_income_df = household_income_df[~household_income_df.Attribute.isin(all_split_attributes)]\n",
    "\n",
    "for break_interval in breaks_dict:\n",
    "    break_val = breaks_dict[break_interval]\n",
    "    household_income_df[\"interval\"] = np.where((household_income_df['max_val']<=break_val) & (household_income_df[\"interval\"]==''), break_interval, household_income_df[\"interval\"])"
   ]
  },
  {
   "cell_type": "code",
   "execution_count": 581,
   "id": "vocal-birthday",
   "metadata": {},
   "outputs": [],
   "source": [
    "household_income_df['interval'] = np.where(household_income_df['interval']=='', '150+', household_income_df['interval'])"
   ]
  },
  {
   "cell_type": "code",
   "execution_count": 583,
   "id": "civic-request",
   "metadata": {},
   "outputs": [],
   "source": [
    "interval_sum = household_income_df.groupby('interval')['Mission'].sum().reset_index()"
   ]
  },
  {
   "cell_type": "code",
   "execution_count": 584,
   "id": "moral-september",
   "metadata": {},
   "outputs": [
    {
     "data": {
      "text/html": [
       "<div>\n",
       "<style scoped>\n",
       "    .dataframe tbody tr th:only-of-type {\n",
       "        vertical-align: middle;\n",
       "    }\n",
       "\n",
       "    .dataframe tbody tr th {\n",
       "        vertical-align: top;\n",
       "    }\n",
       "\n",
       "    .dataframe thead th {\n",
       "        text-align: right;\n",
       "    }\n",
       "</style>\n",
       "<table border=\"1\" class=\"dataframe\">\n",
       "  <thead>\n",
       "    <tr style=\"text-align: right;\">\n",
       "      <th></th>\n",
       "      <th>interval</th>\n",
       "      <th>Mission</th>\n",
       "    </tr>\n",
       "  </thead>\n",
       "  <tbody>\n",
       "    <tr>\n",
       "      <th>0</th>\n",
       "      <td>30</td>\n",
       "      <td>4197.0</td>\n",
       "    </tr>\n",
       "    <tr>\n",
       "      <th>1</th>\n",
       "      <td>50</td>\n",
       "      <td>1727.0</td>\n",
       "    </tr>\n",
       "    <tr>\n",
       "      <th>2</th>\n",
       "      <td>80</td>\n",
       "      <td>1799.0</td>\n",
       "    </tr>\n",
       "    <tr>\n",
       "      <th>3</th>\n",
       "      <td>150+</td>\n",
       "      <td>7576.0</td>\n",
       "    </tr>\n",
       "  </tbody>\n",
       "</table>\n",
       "</div>"
      ],
      "text/plain": [
       "  interval  Mission\n",
       "0       30   4197.0\n",
       "1       50   1727.0\n",
       "2       80   1799.0\n",
       "3     150+   7576.0"
      ]
     },
     "execution_count": 584,
     "metadata": {},
     "output_type": "execute_result"
    }
   ],
   "source": [
    "interval_sum"
   ]
  },
  {
   "cell_type": "code",
   "execution_count": 585,
   "id": "first-excitement",
   "metadata": {},
   "outputs": [
    {
     "data": {
      "text/plain": [
       "{0: {'attributes': 'Household Income 35000 to 39999',\n",
       "  30: 293.2924714439291,\n",
       "  50: 54.707528556070876},\n",
       " 1: {'attributes': 'Household Income 60000 to 74999',\n",
       "  50: 485.2149016169422,\n",
       "  80: 873.7850983830577},\n",
       " 2: {'attributes': 'Household Income 100000 to 124999',\n",
       "  80: 311.02539065591446,\n",
       "  100: 1390.9746093440856},\n",
       " 3: {'attributes': 'Household Income 125000 to 149999',\n",
       "  100: 317.5127005080202,\n",
       "  120: 1072.48729949198},\n",
       " 4: {'attributes': 'Household Income 150000 to 199999',\n",
       "  120: 383.88573526866236,\n",
       "  150: 2196.7634496574815,\n",
       "  '150+': 220.35081507385607}}"
      ]
     },
     "execution_count": 585,
     "metadata": {},
     "output_type": "execute_result"
    }
   ],
   "source": [
    "split_attributes"
   ]
  },
  {
   "cell_type": "code",
   "execution_count": 592,
   "id": "governmental-badge",
   "metadata": {},
   "outputs": [],
   "source": [
    "portions = {}\n",
    "for values in split_attributes.values():\n",
    "    for key, value in values.items():\n",
    "        \n",
    "        if key != 'attributes':\n",
    "            if str(key) in portions:\n",
    "                portions[str(key)]+=value\n",
    "            else:\n",
    "                portions[str(key)]=value\n",
    "       "
   ]
  },
  {
   "cell_type": "code",
   "execution_count": 593,
   "id": "residential-signature",
   "metadata": {},
   "outputs": [
    {
     "data": {
      "text/plain": [
       "{'30': 293.2924714439291,\n",
       " '50': 539.922430173013,\n",
       " '80': 1184.8104890389723,\n",
       " '100': 1708.4873098521057,\n",
       " '120': 1456.3730347606422,\n",
       " '150': 2196.7634496574815,\n",
       " '150+': 220.35081507385607}"
      ]
     },
     "execution_count": 593,
     "metadata": {},
     "output_type": "execute_result"
    }
   ],
   "source": [
    "portions"
   ]
  },
  {
   "cell_type": "code",
   "execution_count": 594,
   "id": "golden-stanford",
   "metadata": {},
   "outputs": [],
   "source": [
    "interval_sum_dic = interval_sum.to_dict(\"records\")   "
   ]
  },
  {
   "cell_type": "code",
   "execution_count": 597,
   "id": "variable-talent",
   "metadata": {},
   "outputs": [],
   "source": [
    "for record in interval_sum_dic:\n",
    "    interval = str(record['interval'])\n",
    "    total = record['Mission']\n",
    "    portions[interval]+=total\n",
    "    "
   ]
  },
  {
   "cell_type": "code",
   "execution_count": 598,
   "id": "dependent-action",
   "metadata": {},
   "outputs": [
    {
     "data": {
      "text/plain": [
       "{'30': 4490.292471443929,\n",
       " '50': 2266.922430173013,\n",
       " '80': 2983.8104890389723,\n",
       " '100': 1708.4873098521057,\n",
       " '120': 1456.3730347606422,\n",
       " '150': 2196.7634496574815,\n",
       " '150+': 7796.350815073856}"
      ]
     },
     "execution_count": 598,
     "metadata": {},
     "output_type": "execute_result"
    }
   ],
   "source": [
    "portions"
   ]
  },
  {
   "cell_type": "code",
   "execution_count": 599,
   "id": "solar-energy",
   "metadata": {},
   "outputs": [],
   "source": [
    "portion_percentage = {}\n",
    "for portion, val in portions.items():\n",
    "    portion_percentage[portion] = (val/total_households)*100"
   ]
  },
  {
   "cell_type": "code",
   "execution_count": 601,
   "id": "molecular-greece",
   "metadata": {},
   "outputs": [],
   "source": [
    "total_120 = 0\n",
    "for portion, val in portions.items():\n",
    "    if portion in ['30', '50', '80', '100', '120']:\n",
    "        total_120 += val\n",
    "        \n"
   ]
  },
  {
   "cell_type": "code",
   "execution_count": 602,
   "id": "future-husband",
   "metadata": {},
   "outputs": [],
   "source": [
    "portions['total_120'] = total_120"
   ]
  },
  {
   "cell_type": "code",
   "execution_count": 603,
   "id": "assured-flight",
   "metadata": {},
   "outputs": [],
   "source": [
    "portion_percentage['total_120'] = (total_120/total_households)*100"
   ]
  },
  {
   "cell_type": "code",
   "execution_count": 604,
   "id": "second-suite",
   "metadata": {},
   "outputs": [
    {
     "data": {
      "text/plain": [
       "{'30': 19.609120360906278,\n",
       " '50': 9.89965688533566,\n",
       " '80': 13.030309135940312,\n",
       " '100': 7.46096908097343,\n",
       " '120': 6.359985303989878,\n",
       " '150': 9.593272412146737,\n",
       " '150+': 34.0466868207077,\n",
       " 'total_120': 56.360040767145556}"
      ]
     },
     "execution_count": 604,
     "metadata": {},
     "output_type": "execute_result"
    }
   ],
   "source": [
    "portion_percentage"
   ]
  },
  {
   "cell_type": "code",
   "execution_count": 605,
   "id": "logical-luxury",
   "metadata": {},
   "outputs": [],
   "source": [
    "portion_percentage_dic = pd.DataFrame(portion_percentage.items(), columns=[\"ami\", \"percentage\"])"
   ]
  },
  {
   "cell_type": "code",
   "execution_count": 606,
   "id": "careful-distinction",
   "metadata": {},
   "outputs": [],
   "source": [
    "download_path = r\"./output\""
   ]
  },
  {
   "cell_type": "code",
   "execution_count": 607,
   "id": "downtown-perry",
   "metadata": {},
   "outputs": [],
   "source": [
    "portion_percentage_dic['percentage']=portion_percentage_dic['percentage'].astype(\"float\")"
   ]
  },
  {
   "cell_type": "code",
   "execution_count": 608,
   "id": "refined-crisis",
   "metadata": {},
   "outputs": [],
   "source": [
    "portion_percentage_dic.to_csv(os.path.join(download_path,'amis_{}.csv'.format(year)), index = False)"
   ]
  },
  {
   "cell_type": "code",
   "execution_count": null,
   "id": "other-intellectual",
   "metadata": {},
   "outputs": [],
   "source": []
  },
  {
   "cell_type": "code",
   "execution_count": 431,
   "id": "arabic-bulgarian",
   "metadata": {
    "scrolled": false
   },
   "outputs": [
    {
     "name": "stdout",
     "output_type": "stream",
     "text": [
      "                          Attribute  Mission  min_val  max_val\n",
      "87  Household Income 35000 to 39999    348.0    35000    39999\n",
      "                          Attribute  Mission  min_val  max_val\n",
      "91  Household Income 60000 to 74999   1359.0    60000    74999\n",
      "                            Attribute  Mission  min_val  max_val\n",
      "93  Household Income 100000 to 124999   1702.0   100000   124999\n",
      "                            Attribute  Mission  min_val  max_val\n",
      "94  Household Income 125000 to 149999   1390.0   125000   149999\n",
      "                            Attribute  Mission  min_val  max_val\n",
      "95  Household Income 150000 to 199999   2801.0   150000   199999\n",
      "                            Attribute  Mission  min_val  max_val\n",
      "95  Household Income 150000 to 199999   2801.0   150000   199999\n"
     ]
    },
    {
     "name": "stderr",
     "output_type": "stream",
     "text": [
      "<ipython-input-431-339b8db6a446>:13: SettingWithCopyWarning: \n",
      "A value is trying to be set on a copy of a slice from a DataFrame.\n",
      "Try using .loc[row_indexer,col_indexer] = value instead\n",
      "\n",
      "See the caveats in the documentation: https://pandas.pydata.org/pandas-docs/stable/user_guide/indexing.html#returning-a-view-versus-a-copy\n",
      "  household_income_df_split['break_val'] = break_val\n",
      "<ipython-input-431-339b8db6a446>:14: SettingWithCopyWarning: \n",
      "A value is trying to be set on a copy of a slice from a DataFrame.\n",
      "Try using .loc[row_indexer,col_indexer] = value instead\n",
      "\n",
      "See the caveats in the documentation: https://pandas.pydata.org/pandas-docs/stable/user_guide/indexing.html#returning-a-view-versus-a-copy\n",
      "  household_income_df_split['above'] = household_income_df_split['max_val']-break_val\n",
      "<ipython-input-431-339b8db6a446>:15: SettingWithCopyWarning: \n",
      "A value is trying to be set on a copy of a slice from a DataFrame.\n",
      "Try using .loc[row_indexer,col_indexer] = value instead\n",
      "\n",
      "See the caveats in the documentation: https://pandas.pydata.org/pandas-docs/stable/user_guide/indexing.html#returning-a-view-versus-a-copy\n",
      "  household_income_df_split['below'] = break_val-household_income_df_split['min_val']\n",
      "<ipython-input-431-339b8db6a446>:16: SettingWithCopyWarning: \n",
      "A value is trying to be set on a copy of a slice from a DataFrame.\n",
      "Try using .loc[row_indexer,col_indexer] = value instead\n",
      "\n",
      "See the caveats in the documentation: https://pandas.pydata.org/pandas-docs/stable/user_guide/indexing.html#returning-a-view-versus-a-copy\n",
      "  household_income_df_split[portion_below] = household_income_df_split[\"Mission\"]*(household_income_df_split['below']/(household_income_df_split['below']+household_income_df_split['above']))\n",
      "<ipython-input-431-339b8db6a446>:17: SettingWithCopyWarning: \n",
      "A value is trying to be set on a copy of a slice from a DataFrame.\n",
      "Try using .loc[row_indexer,col_indexer] = value instead\n",
      "\n",
      "See the caveats in the documentation: https://pandas.pydata.org/pandas-docs/stable/user_guide/indexing.html#returning-a-view-versus-a-copy\n",
      "  household_income_df_split[portion_above] = household_income_df_split[\"Mission\"]*(household_income_df_split['above']/(household_income_df_split['below']+household_income_df_split['above']))\n",
      "<ipython-input-431-339b8db6a446>:13: SettingWithCopyWarning: \n",
      "A value is trying to be set on a copy of a slice from a DataFrame.\n",
      "Try using .loc[row_indexer,col_indexer] = value instead\n",
      "\n",
      "See the caveats in the documentation: https://pandas.pydata.org/pandas-docs/stable/user_guide/indexing.html#returning-a-view-versus-a-copy\n",
      "  household_income_df_split['break_val'] = break_val\n",
      "<ipython-input-431-339b8db6a446>:14: SettingWithCopyWarning: \n",
      "A value is trying to be set on a copy of a slice from a DataFrame.\n",
      "Try using .loc[row_indexer,col_indexer] = value instead\n",
      "\n",
      "See the caveats in the documentation: https://pandas.pydata.org/pandas-docs/stable/user_guide/indexing.html#returning-a-view-versus-a-copy\n",
      "  household_income_df_split['above'] = household_income_df_split['max_val']-break_val\n",
      "<ipython-input-431-339b8db6a446>:15: SettingWithCopyWarning: \n",
      "A value is trying to be set on a copy of a slice from a DataFrame.\n",
      "Try using .loc[row_indexer,col_indexer] = value instead\n",
      "\n",
      "See the caveats in the documentation: https://pandas.pydata.org/pandas-docs/stable/user_guide/indexing.html#returning-a-view-versus-a-copy\n",
      "  household_income_df_split['below'] = break_val-household_income_df_split['min_val']\n",
      "<ipython-input-431-339b8db6a446>:16: SettingWithCopyWarning: \n",
      "A value is trying to be set on a copy of a slice from a DataFrame.\n",
      "Try using .loc[row_indexer,col_indexer] = value instead\n",
      "\n",
      "See the caveats in the documentation: https://pandas.pydata.org/pandas-docs/stable/user_guide/indexing.html#returning-a-view-versus-a-copy\n",
      "  household_income_df_split[portion_below] = household_income_df_split[\"Mission\"]*(household_income_df_split['below']/(household_income_df_split['below']+household_income_df_split['above']))\n",
      "<ipython-input-431-339b8db6a446>:17: SettingWithCopyWarning: \n",
      "A value is trying to be set on a copy of a slice from a DataFrame.\n",
      "Try using .loc[row_indexer,col_indexer] = value instead\n",
      "\n",
      "See the caveats in the documentation: https://pandas.pydata.org/pandas-docs/stable/user_guide/indexing.html#returning-a-view-versus-a-copy\n",
      "  household_income_df_split[portion_above] = household_income_df_split[\"Mission\"]*(household_income_df_split['above']/(household_income_df_split['below']+household_income_df_split['above']))\n",
      "<ipython-input-431-339b8db6a446>:13: SettingWithCopyWarning: \n",
      "A value is trying to be set on a copy of a slice from a DataFrame.\n",
      "Try using .loc[row_indexer,col_indexer] = value instead\n",
      "\n",
      "See the caveats in the documentation: https://pandas.pydata.org/pandas-docs/stable/user_guide/indexing.html#returning-a-view-versus-a-copy\n",
      "  household_income_df_split['break_val'] = break_val\n",
      "<ipython-input-431-339b8db6a446>:14: SettingWithCopyWarning: \n",
      "A value is trying to be set on a copy of a slice from a DataFrame.\n",
      "Try using .loc[row_indexer,col_indexer] = value instead\n",
      "\n",
      "See the caveats in the documentation: https://pandas.pydata.org/pandas-docs/stable/user_guide/indexing.html#returning-a-view-versus-a-copy\n",
      "  household_income_df_split['above'] = household_income_df_split['max_val']-break_val\n",
      "<ipython-input-431-339b8db6a446>:15: SettingWithCopyWarning: \n",
      "A value is trying to be set on a copy of a slice from a DataFrame.\n",
      "Try using .loc[row_indexer,col_indexer] = value instead\n",
      "\n",
      "See the caveats in the documentation: https://pandas.pydata.org/pandas-docs/stable/user_guide/indexing.html#returning-a-view-versus-a-copy\n",
      "  household_income_df_split['below'] = break_val-household_income_df_split['min_val']\n",
      "<ipython-input-431-339b8db6a446>:16: SettingWithCopyWarning: \n",
      "A value is trying to be set on a copy of a slice from a DataFrame.\n",
      "Try using .loc[row_indexer,col_indexer] = value instead\n",
      "\n",
      "See the caveats in the documentation: https://pandas.pydata.org/pandas-docs/stable/user_guide/indexing.html#returning-a-view-versus-a-copy\n",
      "  household_income_df_split[portion_below] = household_income_df_split[\"Mission\"]*(household_income_df_split['below']/(household_income_df_split['below']+household_income_df_split['above']))\n",
      "<ipython-input-431-339b8db6a446>:17: SettingWithCopyWarning: \n",
      "A value is trying to be set on a copy of a slice from a DataFrame.\n",
      "Try using .loc[row_indexer,col_indexer] = value instead\n",
      "\n",
      "See the caveats in the documentation: https://pandas.pydata.org/pandas-docs/stable/user_guide/indexing.html#returning-a-view-versus-a-copy\n",
      "  household_income_df_split[portion_above] = household_income_df_split[\"Mission\"]*(household_income_df_split['above']/(household_income_df_split['below']+household_income_df_split['above']))\n",
      "<ipython-input-431-339b8db6a446>:13: SettingWithCopyWarning: \n",
      "A value is trying to be set on a copy of a slice from a DataFrame.\n",
      "Try using .loc[row_indexer,col_indexer] = value instead\n",
      "\n",
      "See the caveats in the documentation: https://pandas.pydata.org/pandas-docs/stable/user_guide/indexing.html#returning-a-view-versus-a-copy\n",
      "  household_income_df_split['break_val'] = break_val\n",
      "<ipython-input-431-339b8db6a446>:14: SettingWithCopyWarning: \n",
      "A value is trying to be set on a copy of a slice from a DataFrame.\n",
      "Try using .loc[row_indexer,col_indexer] = value instead\n",
      "\n",
      "See the caveats in the documentation: https://pandas.pydata.org/pandas-docs/stable/user_guide/indexing.html#returning-a-view-versus-a-copy\n",
      "  household_income_df_split['above'] = household_income_df_split['max_val']-break_val\n",
      "<ipython-input-431-339b8db6a446>:15: SettingWithCopyWarning: \n",
      "A value is trying to be set on a copy of a slice from a DataFrame.\n",
      "Try using .loc[row_indexer,col_indexer] = value instead\n",
      "\n",
      "See the caveats in the documentation: https://pandas.pydata.org/pandas-docs/stable/user_guide/indexing.html#returning-a-view-versus-a-copy\n",
      "  household_income_df_split['below'] = break_val-household_income_df_split['min_val']\n",
      "<ipython-input-431-339b8db6a446>:16: SettingWithCopyWarning: \n",
      "A value is trying to be set on a copy of a slice from a DataFrame.\n",
      "Try using .loc[row_indexer,col_indexer] = value instead\n",
      "\n",
      "See the caveats in the documentation: https://pandas.pydata.org/pandas-docs/stable/user_guide/indexing.html#returning-a-view-versus-a-copy\n",
      "  household_income_df_split[portion_below] = household_income_df_split[\"Mission\"]*(household_income_df_split['below']/(household_income_df_split['below']+household_income_df_split['above']))\n",
      "<ipython-input-431-339b8db6a446>:17: SettingWithCopyWarning: \n",
      "A value is trying to be set on a copy of a slice from a DataFrame.\n",
      "Try using .loc[row_indexer,col_indexer] = value instead\n",
      "\n",
      "See the caveats in the documentation: https://pandas.pydata.org/pandas-docs/stable/user_guide/indexing.html#returning-a-view-versus-a-copy\n",
      "  household_income_df_split[portion_above] = household_income_df_split[\"Mission\"]*(household_income_df_split['above']/(household_income_df_split['below']+household_income_df_split['above']))\n",
      "<ipython-input-431-339b8db6a446>:13: SettingWithCopyWarning: \n",
      "A value is trying to be set on a copy of a slice from a DataFrame.\n",
      "Try using .loc[row_indexer,col_indexer] = value instead\n",
      "\n",
      "See the caveats in the documentation: https://pandas.pydata.org/pandas-docs/stable/user_guide/indexing.html#returning-a-view-versus-a-copy\n",
      "  household_income_df_split['break_val'] = break_val\n",
      "<ipython-input-431-339b8db6a446>:14: SettingWithCopyWarning: \n",
      "A value is trying to be set on a copy of a slice from a DataFrame.\n",
      "Try using .loc[row_indexer,col_indexer] = value instead\n",
      "\n",
      "See the caveats in the documentation: https://pandas.pydata.org/pandas-docs/stable/user_guide/indexing.html#returning-a-view-versus-a-copy\n",
      "  household_income_df_split['above'] = household_income_df_split['max_val']-break_val\n",
      "<ipython-input-431-339b8db6a446>:15: SettingWithCopyWarning: \n",
      "A value is trying to be set on a copy of a slice from a DataFrame.\n",
      "Try using .loc[row_indexer,col_indexer] = value instead\n",
      "\n",
      "See the caveats in the documentation: https://pandas.pydata.org/pandas-docs/stable/user_guide/indexing.html#returning-a-view-versus-a-copy\n",
      "  household_income_df_split['below'] = break_val-household_income_df_split['min_val']\n",
      "<ipython-input-431-339b8db6a446>:16: SettingWithCopyWarning: \n",
      "A value is trying to be set on a copy of a slice from a DataFrame.\n",
      "Try using .loc[row_indexer,col_indexer] = value instead\n",
      "\n",
      "See the caveats in the documentation: https://pandas.pydata.org/pandas-docs/stable/user_guide/indexing.html#returning-a-view-versus-a-copy\n",
      "  household_income_df_split[portion_below] = household_income_df_split[\"Mission\"]*(household_income_df_split['below']/(household_income_df_split['below']+household_income_df_split['above']))\n",
      "<ipython-input-431-339b8db6a446>:17: SettingWithCopyWarning: \n",
      "A value is trying to be set on a copy of a slice from a DataFrame.\n",
      "Try using .loc[row_indexer,col_indexer] = value instead\n",
      "\n",
      "See the caveats in the documentation: https://pandas.pydata.org/pandas-docs/stable/user_guide/indexing.html#returning-a-view-versus-a-copy\n",
      "  household_income_df_split[portion_above] = household_income_df_split[\"Mission\"]*(household_income_df_split['above']/(household_income_df_split['below']+household_income_df_split['above']))\n",
      "<ipython-input-431-339b8db6a446>:13: SettingWithCopyWarning: \n",
      "A value is trying to be set on a copy of a slice from a DataFrame.\n",
      "Try using .loc[row_indexer,col_indexer] = value instead\n",
      "\n",
      "See the caveats in the documentation: https://pandas.pydata.org/pandas-docs/stable/user_guide/indexing.html#returning-a-view-versus-a-copy\n",
      "  household_income_df_split['break_val'] = break_val\n",
      "<ipython-input-431-339b8db6a446>:14: SettingWithCopyWarning: \n",
      "A value is trying to be set on a copy of a slice from a DataFrame.\n",
      "Try using .loc[row_indexer,col_indexer] = value instead\n",
      "\n",
      "See the caveats in the documentation: https://pandas.pydata.org/pandas-docs/stable/user_guide/indexing.html#returning-a-view-versus-a-copy\n",
      "  household_income_df_split['above'] = household_income_df_split['max_val']-break_val\n",
      "<ipython-input-431-339b8db6a446>:15: SettingWithCopyWarning: \n",
      "A value is trying to be set on a copy of a slice from a DataFrame.\n",
      "Try using .loc[row_indexer,col_indexer] = value instead\n",
      "\n",
      "See the caveats in the documentation: https://pandas.pydata.org/pandas-docs/stable/user_guide/indexing.html#returning-a-view-versus-a-copy\n",
      "  household_income_df_split['below'] = break_val-household_income_df_split['min_val']\n",
      "<ipython-input-431-339b8db6a446>:16: SettingWithCopyWarning: \n",
      "A value is trying to be set on a copy of a slice from a DataFrame.\n",
      "Try using .loc[row_indexer,col_indexer] = value instead\n",
      "\n",
      "See the caveats in the documentation: https://pandas.pydata.org/pandas-docs/stable/user_guide/indexing.html#returning-a-view-versus-a-copy\n",
      "  household_income_df_split[portion_below] = household_income_df_split[\"Mission\"]*(household_income_df_split['below']/(household_income_df_split['below']+household_income_df_split['above']))\n",
      "<ipython-input-431-339b8db6a446>:17: SettingWithCopyWarning: \n",
      "A value is trying to be set on a copy of a slice from a DataFrame.\n",
      "Try using .loc[row_indexer,col_indexer] = value instead\n",
      "\n",
      "See the caveats in the documentation: https://pandas.pydata.org/pandas-docs/stable/user_guide/indexing.html#returning-a-view-versus-a-copy\n",
      "  household_income_df_split[portion_above] = household_income_df_split[\"Mission\"]*(household_income_df_split['above']/(household_income_df_split['below']+household_income_df_split['above']))\n"
     ]
    }
   ],
   "source": [
    "'''all_split_dfs = []\n",
    "split_attributes = {}\n",
    "for i, break_interval in enumerate(breaks_dict):\n",
    "    portion_below = 'portion_'+str(break_interval)\n",
    "    if len(list(breaks_dict.keys()))> (i+1):\n",
    "        next_interval = list(breaks_dict.keys())[i+1]\n",
    "    else:\n",
    "        next_interval = '150+'\n",
    "    portion_above = 'portion_'+str(next_interval)\n",
    "    break_val = breaks_dict[break_interval]\n",
    "    household_income_df_split = household_income_df[(household_income_df['max_val']>=break_val) & (household_income_df['min_val']<=break_val)]\n",
    "    print(household_income_df_split)\n",
    "    household_income_df_split['break_val'] = break_val\n",
    "    household_income_df_split['above'] = household_income_df_split['max_val']-break_val\n",
    "    household_income_df_split['below'] = break_val-household_income_df_split['min_val']\n",
    "    household_income_df_split[portion_below] = household_income_df_split[\"Mission\"]*(household_income_df_split['below']/(household_income_df_split['below']+household_income_df_split['above']))\n",
    "    household_income_df_split[portion_above] = household_income_df_split[\"Mission\"]*(household_income_df_split['above']/(household_income_df_split['below']+household_income_df_split['above']))\n",
    "    all_split_dfs.append(household_income_df_split)\n",
    "    split_attributes[i] = {}\n",
    "    split_attributes[i]['attributes'] = household_income_df_split['Attribute'].iloc[0]\n",
    "    split_attributes[i][portion_below] = household_income_df_split[portion_below].iloc[0]\n",
    "    split_attributes[i][portion_above] = household_income_df_split[portion_above].iloc[0]'''\n",
    "    "
   ]
  }
 ],
 "metadata": {
  "kernelspec": {
   "display_name": "Python 3",
   "language": "python",
   "name": "python3"
  },
  "language_info": {
   "codemirror_mode": {
    "name": "ipython",
    "version": 3
   },
   "file_extension": ".py",
   "mimetype": "text/x-python",
   "name": "python",
   "nbconvert_exporter": "python",
   "pygments_lexer": "ipython3",
   "version": "3.9.4"
  },
  "toc": {
   "base_numbering": 1,
   "nav_menu": {},
   "number_sections": true,
   "sideBar": true,
   "skip_h1_title": false,
   "title_cell": "Table of Contents",
   "title_sidebar": "Contents",
   "toc_cell": false,
   "toc_position": {},
   "toc_section_display": true,
   "toc_window_display": true
  }
 },
 "nbformat": 4,
 "nbformat_minor": 5
}
