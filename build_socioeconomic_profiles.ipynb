{
 "cells": [
  {
   "cell_type": "markdown",
   "id": "revolutionary-slovak",
   "metadata": {},
   "source": [
    "# Socio-economic Profiles 2019\n",
    "\n",
    "This code creates the socio-economic profile data for the San Francisco Planning Department's Neighborhood Socio-Economic Profiles. Socio-economic profiles data is derived from the [American Community Survey](https://www.census.gov/programs-surveys/acs) 5-year data and is created annually by the Planning Department. Tract level socio-economic data from is combined at the neighborhood and district level for the City of San Francisco. This code is based off methods created by Michael Webster and others. Run the notebook to:\n",
    "\n",
    "- Download ACS data using the Census API\n",
    "- Calculate socio-economic profiles data\n",
    "- Visualize socio-economic data accross Neighborhoods and Supervisor Districts\n",
    "- Export data to csv. \n"
   ]
  },
  {
   "cell_type": "markdown",
   "id": "super-business",
   "metadata": {},
   "source": [
    "## Import packages"
   ]
  },
  {
   "cell_type": "code",
   "execution_count": 1,
   "id": "functional-stack",
   "metadata": {},
   "outputs": [],
   "source": [
    "# base libraries\n",
    "import requests, json, os\n",
    "import pandas as pd\n",
    "import numpy as np\n",
    "from collections import defaultdict\n",
    "\n",
    "# graph libraries\n",
    "import plotly.express as px\n",
    "from ipywidgets import interact, interactive, fixed, interact_manual\n",
    "import ipywidgets as widgets\n",
    "\n",
    "# map libraries\n",
    "import folium\n",
    "import branca.colormap as cm\n",
    "import geopandas"
   ]
  },
  {
   "cell_type": "markdown",
   "id": "informed-singles",
   "metadata": {},
   "source": [
    "## Retrieve data from Census API\n",
    "All socio-economic data comes from the Census ACS 5-year estimates and is available at the tract level through the census API. API documentation and data for the 2019 ACS data and previous years is available [here](https://www.census.gov/data/developers/data-sets/acs-5year.html)"
   ]
  },
  {
   "cell_type": "markdown",
   "id": "undefined-carol",
   "metadata": {},
   "source": [
    "### Census Attribute IDs\n",
    "The attribute ID list below is a list of ASC attribute IDs that correspond to attributes included in the socio-economic data calcs. For a list of attribute IDs and their meanings visit the API docs [here](https://api.census.gov/data/2019/acs/acs5/variables.html). \n",
    "\n",
    "Attributes included in the list below were derived from the attributes in the [Data_Items_and_Sources.xlsx](https://github.com/jsherba/socio-economic-profiles/raw/main/Data_Items_And_Sources_2019.xlsx) file developed by Michael Webster."
   ]
  },
  {
   "cell_type": "code",
   "execution_count": 2,
   "id": "awful-material",
   "metadata": {},
   "outputs": [
    {
     "data": {
      "text/plain": [
       "['B01001_028E',\n",
       " 'B23001_165E',\n",
       " 'B25007_001E',\n",
       " 'B23001_104E',\n",
       " 'B16007_004E',\n",
       " 'B25038_013E',\n",
       " 'B23001_094E',\n",
       " 'B25004_005E',\n",
       " 'B01001_011E',\n",
       " 'B25056_024E']"
      ]
     },
     "execution_count": 2,
     "metadata": {},
     "output_type": "execute_result"
    }
   ],
   "source": [
    "# list of attribute ids\n",
    "attribute_lookup_df = pd.read_csv (r'./lookup_tables/attribute_lookup.csv', dtype=str)\n",
    "attribute_ids_extracted = attribute_lookup_df['attribute_id'].tolist()\n",
    "attribute_ids = []\n",
    "for attribute_id in attribute_ids_extracted:\n",
    "    attribute_ids.extend(attribute_id.split(\", \"))\n",
    "attribute_ids = list(set([x+\"E\" for x in attribute_ids]))\n",
    "attribute_ids[:10]"
   ]
  },
  {
   "cell_type": "markdown",
   "id": "determined-grain",
   "metadata": {},
   "source": [
    "### Build Census API URL and Make Query\n",
    "The code below builds the Url for the census API call to get relevant 2019 ACS attribute data at the tract level for San Francisco County.The Census API accepts up to 50 attributes at a time. Therefore the attribute list is first grouped into sublists of 45. A recursive function queries the API for each group of 45 attributes and appends results together. Below define:\n",
    "- Tract code is '*' to collect all tracts\n",
    "- State code is '06' for CA\n",
    "- County code is '075' for San Francisco County\n",
    "- Attributes are defined by the attribute id list and includes all relevant attributes for the socio-economic data calcs"
   ]
  },
  {
   "cell_type": "code",
   "execution_count": 3,
   "id": "worse-detail",
   "metadata": {},
   "outputs": [],
   "source": [
    "# function builds the api URL from tract_code, state_code, county_code, and attribute ids. \n",
    "def build_census_url(tract_code, state_code, county_code, attribute_ids):\n",
    "    attributes = ','.join(attribute_ids)\n",
    "    census_url = r'https://api.census.gov/data/2019/acs/acs5?get={}&for=tract:{}&in=state:{}&in=county:{}'\\\n",
    "                .format(attributes, tract_code, state_code, county_code)\n",
    "    return census_url\n",
    "    "
   ]
  },
  {
   "cell_type": "code",
   "execution_count": 4,
   "id": "second-costume",
   "metadata": {},
   "outputs": [],
   "source": [
    "# function makes a single api call and collects results in a pandas dataframe\n",
    "def make_census_api_call(census_url):\n",
    "    # make API call to Census\n",
    "    resp = requests.get(census_url)\n",
    "    if resp.status_code != 200:\n",
    "        # this means something went wrong\n",
    "        resp.raise_for_status()\n",
    "       \n",
    "    # retrieve data as json and convert to Pandas Dataframe\n",
    "    data = resp.json()\n",
    "    headers = data.pop(0)\n",
    "    df = pd.DataFrame(data, columns=headers)\n",
    "\n",
    "    # convert values that are not state, county, or tract to numeric type\n",
    "    cols=[i for i in df.columns if i not in [\"state\",\"county\",\"tract\"]]\n",
    "    for col in cols:\n",
    "        df[col]=pd.to_numeric(df[col])\n",
    "        \n",
    "    return df"
   ]
  },
  {
   "cell_type": "code",
   "execution_count": 5,
   "id": "utility-detail",
   "metadata": {},
   "outputs": [
    {
     "data": {
      "text/html": [
       "<div>\n",
       "<style scoped>\n",
       "    .dataframe tbody tr th:only-of-type {\n",
       "        vertical-align: middle;\n",
       "    }\n",
       "\n",
       "    .dataframe tbody tr th {\n",
       "        vertical-align: top;\n",
       "    }\n",
       "\n",
       "    .dataframe thead th {\n",
       "        text-align: right;\n",
       "    }\n",
       "</style>\n",
       "<table border=\"1\" class=\"dataframe\">\n",
       "  <thead>\n",
       "    <tr style=\"text-align: right;\">\n",
       "      <th></th>\n",
       "      <th>B01001_028E</th>\n",
       "      <th>B23001_165E</th>\n",
       "      <th>B25007_001E</th>\n",
       "      <th>B23001_104E</th>\n",
       "      <th>B16007_004E</th>\n",
       "      <th>B25038_013E</th>\n",
       "      <th>B23001_094E</th>\n",
       "      <th>B25004_005E</th>\n",
       "      <th>B01001_011E</th>\n",
       "      <th>B25056_024E</th>\n",
       "      <th>...</th>\n",
       "      <th>B01001_012E</th>\n",
       "      <th>B25063_003E</th>\n",
       "      <th>B25041_006E</th>\n",
       "      <th>B23001_043E</th>\n",
       "      <th>B15003_007E</th>\n",
       "      <th>B01001_018E</th>\n",
       "      <th>B15003_011E</th>\n",
       "      <th>B15003_002E</th>\n",
       "      <th>B15003_009E</th>\n",
       "      <th>B02001_001E</th>\n",
       "    </tr>\n",
       "  </thead>\n",
       "  <tbody>\n",
       "    <tr>\n",
       "      <th>0</th>\n",
       "      <td>82</td>\n",
       "      <td>26</td>\n",
       "      <td>891</td>\n",
       "      <td>4</td>\n",
       "      <td>39</td>\n",
       "      <td>54</td>\n",
       "      <td>0</td>\n",
       "      <td>21</td>\n",
       "      <td>59</td>\n",
       "      <td>33</td>\n",
       "      <td>...</td>\n",
       "      <td>24</td>\n",
       "      <td>0</td>\n",
       "      <td>377</td>\n",
       "      <td>0</td>\n",
       "      <td>0</td>\n",
       "      <td>8</td>\n",
       "      <td>0</td>\n",
       "      <td>8</td>\n",
       "      <td>0</td>\n",
       "      <td>2507</td>\n",
       "    </tr>\n",
       "    <tr>\n",
       "      <th>1</th>\n",
       "      <td>116</td>\n",
       "      <td>7</td>\n",
       "      <td>715</td>\n",
       "      <td>42</td>\n",
       "      <td>150</td>\n",
       "      <td>135</td>\n",
       "      <td>5</td>\n",
       "      <td>0</td>\n",
       "      <td>101</td>\n",
       "      <td>18</td>\n",
       "      <td>...</td>\n",
       "      <td>76</td>\n",
       "      <td>0</td>\n",
       "      <td>247</td>\n",
       "      <td>0</td>\n",
       "      <td>13</td>\n",
       "      <td>28</td>\n",
       "      <td>16</td>\n",
       "      <td>248</td>\n",
       "      <td>3</td>\n",
       "      <td>2897</td>\n",
       "    </tr>\n",
       "    <tr>\n",
       "      <th>2</th>\n",
       "      <td>75</td>\n",
       "      <td>28</td>\n",
       "      <td>899</td>\n",
       "      <td>41</td>\n",
       "      <td>44</td>\n",
       "      <td>74</td>\n",
       "      <td>0</td>\n",
       "      <td>37</td>\n",
       "      <td>46</td>\n",
       "      <td>6</td>\n",
       "      <td>...</td>\n",
       "      <td>74</td>\n",
       "      <td>0</td>\n",
       "      <td>228</td>\n",
       "      <td>44</td>\n",
       "      <td>0</td>\n",
       "      <td>34</td>\n",
       "      <td>0</td>\n",
       "      <td>0</td>\n",
       "      <td>17</td>\n",
       "      <td>2495</td>\n",
       "    </tr>\n",
       "    <tr>\n",
       "      <th>3</th>\n",
       "      <td>59</td>\n",
       "      <td>8</td>\n",
       "      <td>1444</td>\n",
       "      <td>35</td>\n",
       "      <td>0</td>\n",
       "      <td>0</td>\n",
       "      <td>0</td>\n",
       "      <td>55</td>\n",
       "      <td>106</td>\n",
       "      <td>0</td>\n",
       "      <td>...</td>\n",
       "      <td>105</td>\n",
       "      <td>0</td>\n",
       "      <td>252</td>\n",
       "      <td>0</td>\n",
       "      <td>0</td>\n",
       "      <td>48</td>\n",
       "      <td>0</td>\n",
       "      <td>47</td>\n",
       "      <td>0</td>\n",
       "      <td>3804</td>\n",
       "    </tr>\n",
       "    <tr>\n",
       "      <th>4</th>\n",
       "      <td>14</td>\n",
       "      <td>0</td>\n",
       "      <td>645</td>\n",
       "      <td>113</td>\n",
       "      <td>34</td>\n",
       "      <td>95</td>\n",
       "      <td>393</td>\n",
       "      <td>0</td>\n",
       "      <td>33</td>\n",
       "      <td>31</td>\n",
       "      <td>...</td>\n",
       "      <td>34</td>\n",
       "      <td>0</td>\n",
       "      <td>0</td>\n",
       "      <td>0</td>\n",
       "      <td>0</td>\n",
       "      <td>0</td>\n",
       "      <td>0</td>\n",
       "      <td>0</td>\n",
       "      <td>0</td>\n",
       "      <td>4551</td>\n",
       "    </tr>\n",
       "  </tbody>\n",
       "</table>\n",
       "<p>5 rows × 377 columns</p>\n",
       "</div>"
      ],
      "text/plain": [
       "   B01001_028E  B23001_165E  B25007_001E  B23001_104E  B16007_004E  \\\n",
       "0           82           26          891            4           39   \n",
       "1          116            7          715           42          150   \n",
       "2           75           28          899           41           44   \n",
       "3           59            8         1444           35            0   \n",
       "4           14            0          645          113           34   \n",
       "\n",
       "   B25038_013E  B23001_094E  B25004_005E  B01001_011E  B25056_024E  ...  \\\n",
       "0           54            0           21           59           33  ...   \n",
       "1          135            5            0          101           18  ...   \n",
       "2           74            0           37           46            6  ...   \n",
       "3            0            0           55          106            0  ...   \n",
       "4           95          393            0           33           31  ...   \n",
       "\n",
       "   B01001_012E  B25063_003E  B25041_006E  B23001_043E  B15003_007E  \\\n",
       "0           24            0          377            0            0   \n",
       "1           76            0          247            0           13   \n",
       "2           74            0          228           44            0   \n",
       "3          105            0          252            0            0   \n",
       "4           34            0            0            0            0   \n",
       "\n",
       "   B01001_018E  B15003_011E  B15003_002E  B15003_009E  B02001_001E  \n",
       "0            8            0            8            0         2507  \n",
       "1           28           16          248            3         2897  \n",
       "2           34            0            0           17         2495  \n",
       "3           48            0           47            0         3804  \n",
       "4            0            0            0            0         4551  \n",
       "\n",
       "[5 rows x 377 columns]"
      ]
     },
     "execution_count": 5,
     "metadata": {},
     "output_type": "execute_result"
    }
   ],
   "source": [
    "# set geo variables for api call\n",
    "tract_code = \"*\"\n",
    "state_code = \"06\"\n",
    "county_code = \"075\"\n",
    "\n",
    "# split attributes into groups of 45, run a census query for each, merge outputs into a single df\n",
    "split_attribute_ids = [attribute_ids[i:i+45] for i in range(0, len(attribute_ids), 45)]\n",
    "df=None\n",
    "first = True\n",
    "for ids in split_attribute_ids:\n",
    "    census_url = build_census_url(tract_code, state_code, county_code, ids)\n",
    "    returned_df = make_census_api_call(census_url)\n",
    "    if first:\n",
    "        df = returned_df\n",
    "        first = False\n",
    "    else:\n",
    "        returned_df = returned_df.drop(columns=['state', 'county'])\n",
    "        df = pd.merge(df, returned_df, on='tract', how='left')\n",
    "\n",
    "df.head()"
   ]
  },
  {
   "cell_type": "markdown",
   "id": "organized-avenue",
   "metadata": {},
   "source": [
    "## Prepare Lookup Dictionaries and Helper Functions"
   ]
  },
  {
   "cell_type": "markdown",
   "id": "lasting-violence",
   "metadata": {},
   "source": [
    "### Tract/Neighborhood Lookup\n",
    "Two lookup dictionaries are created below that relate neghborhoods to tracts and supervisor districts to tracts. These dictionaries are used to subset the census dataframe for each neighborhood or district so that calcs can be run on each set of tracts. The lookup dictionaries are created from geo_lookup.csv in the repository."
   ]
  },
  {
   "cell_type": "code",
   "execution_count": 6,
   "id": "straight-poverty",
   "metadata": {},
   "outputs": [
    {
     "data": {
      "text/plain": [
       "[('North Beach', ['010100', '010400', '010600']),\n",
       " ('Russian Hill', ['010200', '010300', '010900', '011000']),\n",
       " ('Financial District', ['010500', '011700', '061500']),\n",
       " ('Chinatown', ['010700', '011300', '011800', '061100'])]"
      ]
     },
     "execution_count": 6,
     "metadata": {},
     "output_type": "execute_result"
    }
   ],
   "source": [
    "# import geo_lookup csv\n",
    "geo_lookup_df = pd.read_csv (r'./lookup_tables/geo_lookup.csv', dtype=str)\n",
    "\n",
    "tract_nb_lookup = defaultdict(list)\n",
    "tract_sd_lookup = defaultdict(list)\n",
    "\n",
    "# create tract lookup dictionary for neighborhoods\n",
    "for i, j in zip(geo_lookup_df['neighborhood'], geo_lookup_df['tractid']):\n",
    "    tract_nb_lookup[i].append(j)\n",
    "\n",
    "# create tract lookup dictionary for supervisor districts\n",
    "for i, j in zip(geo_lookup_df['supervisor_district'], geo_lookup_df['tractid']):\n",
    "    tract_sd_lookup[i].append(j)\n",
    "\n",
    "    \n",
    "first_4 = list(tract_nb_lookup.items())[:4]\n",
    "first_4"
   ]
  },
  {
   "cell_type": "markdown",
   "id": "surface-reply",
   "metadata": {},
   "source": [
    "### Calculating Medians\n",
    "To calculate median values of aggregated geographies you cannot use the mean of component geographies. Instead a statistical approximation of the median must be calculated from range tables. \n",
    "\n",
    "Range variables in the ACS have a unique ID like any other Census variable. They represent the amount of a variable within a select range. e.g. number of households with household incomes between $45000-50000. Range variable ID's and range information is stored in the median_ranges.csv file in the repository. These range variables and ranges are needed for calculating the median at the neighborhood level. \n",
    "\n",
    "The below function calculates a median based on range data. This method follows the offical ACS documentation for [calculating a median](https://www.dof.ca.gov/Forecasting/Demographics/Census_Data_Center_Network/documents/How_to_Recalculate_a_Median.pdf)\n"
   ]
  },
  {
   "cell_type": "code",
   "execution_count": 7,
   "id": "hollow-background",
   "metadata": {
    "scrolled": true
   },
   "outputs": [
    {
     "data": {
      "text/html": [
       "<div>\n",
       "<style scoped>\n",
       "    .dataframe tbody tr th:only-of-type {\n",
       "        vertical-align: middle;\n",
       "    }\n",
       "\n",
       "    .dataframe tbody tr th {\n",
       "        vertical-align: top;\n",
       "    }\n",
       "\n",
       "    .dataframe thead th {\n",
       "        text-align: right;\n",
       "    }\n",
       "</style>\n",
       "<table border=\"1\" class=\"dataframe\">\n",
       "  <thead>\n",
       "    <tr style=\"text-align: right;\">\n",
       "      <th></th>\n",
       "      <th>name</th>\n",
       "      <th>id</th>\n",
       "      <th>range_start</th>\n",
       "      <th>range_end</th>\n",
       "      <th>households</th>\n",
       "      <th>cumulative_total</th>\n",
       "    </tr>\n",
       "  </thead>\n",
       "  <tbody>\n",
       "    <tr>\n",
       "      <th>0</th>\n",
       "      <td>median_household_income</td>\n",
       "      <td>B19001_002E</td>\n",
       "      <td>2500.0</td>\n",
       "      <td>9999.0</td>\n",
       "      <td>0</td>\n",
       "      <td>0</td>\n",
       "    </tr>\n",
       "    <tr>\n",
       "      <th>1</th>\n",
       "      <td>median_household_income</td>\n",
       "      <td>B19001_003E</td>\n",
       "      <td>10000.0</td>\n",
       "      <td>14999.0</td>\n",
       "      <td>0</td>\n",
       "      <td>0</td>\n",
       "    </tr>\n",
       "    <tr>\n",
       "      <th>2</th>\n",
       "      <td>median_household_income</td>\n",
       "      <td>B19001_004E</td>\n",
       "      <td>15000.0</td>\n",
       "      <td>19999.0</td>\n",
       "      <td>0</td>\n",
       "      <td>0</td>\n",
       "    </tr>\n",
       "    <tr>\n",
       "      <th>3</th>\n",
       "      <td>median_household_income</td>\n",
       "      <td>B19001_005E</td>\n",
       "      <td>20000.0</td>\n",
       "      <td>24999.0</td>\n",
       "      <td>0</td>\n",
       "      <td>0</td>\n",
       "    </tr>\n",
       "    <tr>\n",
       "      <th>4</th>\n",
       "      <td>median_household_income</td>\n",
       "      <td>B19001_006E</td>\n",
       "      <td>25000.0</td>\n",
       "      <td>29999.0</td>\n",
       "      <td>0</td>\n",
       "      <td>0</td>\n",
       "    </tr>\n",
       "  </tbody>\n",
       "</table>\n",
       "</div>"
      ],
      "text/plain": [
       "                      name           id  range_start  range_end  households  \\\n",
       "0  median_household_income  B19001_002E       2500.0     9999.0           0   \n",
       "1  median_household_income  B19001_003E      10000.0    14999.0           0   \n",
       "2  median_household_income  B19001_004E      15000.0    19999.0           0   \n",
       "3  median_household_income  B19001_005E      20000.0    24999.0           0   \n",
       "4  median_household_income  B19001_006E      25000.0    29999.0           0   \n",
       "\n",
       "   cumulative_total  \n",
       "0                 0  \n",
       "1                 0  \n",
       "2                 0  \n",
       "3                 0  \n",
       "4                 0  "
      ]
     },
     "execution_count": 7,
     "metadata": {},
     "output_type": "execute_result"
    }
   ],
   "source": [
    "# import median tables from median_ranges csv and add empty columns for rows 'households and 'cumulative_totals'\n",
    "range_df = pd.read_csv (r'./lookup_tables/median_ranges.csv')\n",
    "range_df['households']=0\n",
    "range_df['cumulative_total']=0\n",
    "range_df.head()"
   ]
  },
  {
   "cell_type": "code",
   "execution_count": 8,
   "id": "julian-dietary",
   "metadata": {},
   "outputs": [],
   "source": [
    "# define median helper function\n",
    "def calc_median(tract_df, range_df, median_to_calc):\n",
    "    \n",
    "    # subset range df for current median variable to calc\n",
    "    range_df = range_df[range_df['name']==median_to_calc]\n",
    "    \n",
    "    # sort dataframe low to high by range start column\n",
    "    range_df = range_df.sort_values(by=['range_start'])\n",
    "    \n",
    "    # calculate households as sum of tract level households for each row based on range id\n",
    "    range_df['households'] = range_df.apply(lambda row : tract_df[row['id']].sum(), axis = 1)\n",
    "    \n",
    "    # calculate the cumulative total of households\n",
    "    range_df['cumulative_total'] = range_df['households'].cumsum()\n",
    "    \n",
    "    # calculate total households and return 0 if total households is 0\n",
    "    total_households = range_df['households'].sum()\n",
    "    \n",
    "    # if total households is 0 set median to 0\n",
    "    if total_households == 0:\n",
    "        return 0\n",
    "    \n",
    "    # calculate midpoint\n",
    "    midpoint = total_households/2\n",
    "\n",
    "    # if midpoint is below first range return median as end of first range value\n",
    "    if midpoint < range_df['cumulative_total'].min():\n",
    "        new_median = range_df['range_end'].min()\n",
    "        return new_median\n",
    "    \n",
    "    # if midpoint is above last range set median to end of last range value\n",
    "    if midpoint > range_df['cumulative_total'].max():\n",
    "        new_median = range_df['range_end'].max()\n",
    "        return new_median\n",
    "    \n",
    "    less_midpoint_df = range_df[range_df['cumulative_total']<midpoint]\n",
    "    \n",
    "    # get the single row containing the range just below the mid range by getting the row with the max range start from the subsetted median df\n",
    "    range_below_mid_range_df = less_midpoint_df[less_midpoint_df['range_start'] == less_midpoint_df['range_start'].max()]\n",
    "    \n",
    "    # get the cumulative total value for the first row of the range below mid range dictionary\n",
    "    total_hh_previous_range = range_below_mid_range_df['cumulative_total'].iloc[0]\n",
    "    hh_to_mid_range = midpoint - total_hh_previous_range\n",
    "    \n",
    "    # extract rows above midrange by subsetting median df for rows with cumulative total grearter than midpoint.\n",
    "    greater_midpoint_df = range_df[range_df['cumulative_total']>midpoint]\n",
    "    \n",
    "    # get the single row containing the mid range by getting the row with the min range start from the subsetted median df\n",
    "    mid_range_df = greater_midpoint_df[greater_midpoint_df['range_start'] == greater_midpoint_df['range_start'].min()]\n",
    "    \n",
    "    # get the households value for the first row of the mid range dictionary\n",
    "    hh_in_mid_range = mid_range_df['households'].iloc[0]\n",
    "    \n",
    "    # calculate proportion of number of households in the mid range that would be needed to get to the mid-point\n",
    "    prop_of_hh = hh_to_mid_range/hh_in_mid_range\n",
    "    \n",
    "    # calculate width of the mid range\n",
    "    width = (mid_range_df['range_end'].iloc[0]-mid_range_df['range_start'].iloc[0])+1\n",
    "    \n",
    "    # apply proportion to width of mid range\n",
    "    prop_to_width = prop_of_hh*width\n",
    "    beginning_of_mid_range = mid_range_df['range_start'].iloc[0]\n",
    "    \n",
    "    # calculate new median\n",
    "    new_median = beginning_of_mid_range + prop_to_width\n",
    "    \n",
    "    return new_median"
   ]
  },
  {
   "cell_type": "markdown",
   "id": "infrared-violation",
   "metadata": {},
   "source": [
    "## Define functions for calculating socio-economic data\n",
    "The `calc_socio_economic_data` function takes tract level data from the API call and the tract/neighborhood lookup dictionary. This function creates all of the socio-economic data calcs and returns a dictionary. The calcs in this function are derived from the [Data_Items_and_Sources.xlsx](https://github.com/jsherba/socio-economic-profiles/raw/main/Data_Items_And_Sources_2019.xlsx) file developed by Michael Webster"
   ]
  },
  {
   "cell_type": "code",
   "execution_count": 9,
   "id": "sensitive-estate",
   "metadata": {},
   "outputs": [],
   "source": [
    "# define other helper functions\n",
    "def calc_sum(df, attribute_id):\n",
    "    return df[attribute_id].sum()\n",
    "\n",
    "def calc_normalized(df, attribute_id, attribute_id2):\n",
    "    if df[attribute_id2].sum() == 0:\n",
    "        return 0\n",
    "    else:\n",
    "        return (df[attribute_id].sum()/df[attribute_id2].sum())\n",
    "\n",
    "def calc_sum_normalized(df, attribute_list, attribute_id2):\n",
    "    if df[attribute_id2].sum()==0:\n",
    "        return 0\n",
    "    else:\n",
    "        sum_of_attributes = 0\n",
    "        for attribute_id in attribute_list:\n",
    "            sum_of_attributes+=df[attribute_id].sum()\n",
    "        return sum_of_attributes/df[attribute_id2].sum()\n"
   ]
  },
  {
   "cell_type": "code",
   "execution_count": 10,
   "id": "likely-ownership",
   "metadata": {},
   "outputs": [],
   "source": [
    "# function runs all calcs for each neighborhood or supervisor district\n",
    "def calc_socio_economic_data(df, tract_lookup):\n",
    "    # create empty dictionary to add calculated attribute information to\n",
    "    all_calc_data = defaultdict(dict) \n",
    "    # calculate all stats for each neighborhood\n",
    "    for nb_name, tracts in tract_lookup.items():\n",
    "        # extract attribute information for tracks associated with a neighborhood\n",
    "        tract_df = df[df['tract'].isin(tracts)]\n",
    "        # build dictionary with all stats for a neighborhood\n",
    "        all_calc_data_nb = all_calc_data[nb_name]\n",
    "        # population\n",
    "        all_calc_data_nb[\"Total Population\"] = calc_sum(tract_df, 'B01001_001E')\n",
    "        all_calc_data_nb[\"Group Quarter Population\"] = calc_sum(tract_df, 'B26001_001E')\n",
    "        all_calc_data_nb[\"Percent Female\"] = calc_normalized(tract_df, 'B01001_026E', 'B01001_001E')\n",
    "        # household stats\n",
    "        all_calc_data_nb[\"Housholds\"] = calc_sum(tract_df, 'B11001_001E')\n",
    "        all_calc_data_nb[\"Family Households\"] = calc_normalized(tract_df, 'B11001_002E', 'B11001_001E')\n",
    "        all_calc_data_nb[\"Non-Family Households\"] = calc_normalized(tract_df, 'B11001_007E', 'B11001_001E')\n",
    "        all_calc_data_nb[\"Single Person Households, % of Total\"] = calc_normalized(tract_df, 'B11001_008E', 'B11001_001E')\n",
    "        all_calc_data_nb[\"Households with Children, % of Total\"] = calc_normalized(tract_df, 'B11005_002E', 'B11001_001E')\n",
    "        all_calc_data_nb[\"Households with 60 years and older, % of Total\"] = calc_normalized(tract_df, 'B11006_002E', 'B11001_001E')\n",
    "        all_calc_data_nb[\"Average Household Size\"] = calc_normalized(tract_df, 'B11002_001E', 'B11001_001E')\n",
    "        all_calc_data_nb[\"Average Family Household Size\"] = calc_normalized(tract_df, 'B11002_002E', 'B11001_002E')\n",
    "        # race and ethnicity stats\n",
    "        all_calc_data_nb[\"Asian\"] = calc_normalized(tract_df, 'B02001_005E', 'B02001_001E')\n",
    "        all_calc_data_nb[\"Black/African American\"] = calc_normalized(tract_df, 'B02001_003E', 'B02001_001E')\n",
    "        all_calc_data_nb[\"White\"] = calc_normalized(tract_df, 'B02001_002E', 'B02001_001E')\n",
    "        all_calc_data_nb[\"Native American Indian\"] = calc_normalized(tract_df, 'B02001_005E', 'B02001_001E')\n",
    "        all_calc_data_nb[\"Native Hawaiian/Pacific Islander\"] = calc_normalized(tract_df, 'B02001_006E', 'B02001_001E')\n",
    "        all_calc_data_nb[\"Other/Two or More Races\"] = calc_sum_normalized(tract_df, ['B02001_008E', 'B02001_007E'], 'B02001_001E')\n",
    "        all_calc_data_nb[\"% Latino (of Any Race)\"] = calc_normalized(tract_df, 'B03001_003E', 'B03001_001E')\n",
    "        # age\n",
    "        all_calc_data_nb[\"0-4 Years\"] = calc_sum_normalized(tract_df, ['B01001_003E', 'B01001_027E'], 'B01001_001E')\n",
    "        all_calc_data_nb[\"5-17 Years\"] = calc_sum_normalized(tract_df, ['B01001_004E', 'B01001_005E', 'B01001_006E', 'B01001_028E', 'B01001_029E', 'B01001_030E'],'B01001_001E')\n",
    "        all_calc_data_nb[\"18-34 Years\"] = calc_sum_normalized(tract_df, ['B01001_007E','B01001_008E','B01001_009E', 'B01001_010E', 'B01001_011E', 'B01001_012E','B01001_031E','B01001_032E','B01001_033E','B01001_034E','B01001_035E','B01001_036E'], 'B01001_001E')\n",
    "        all_calc_data_nb[\"35-59 Years\"] = calc_sum_normalized(tract_df, ['B01001_013E', 'B01001_014E', 'B01001_015E', 'B01001_016E', 'B01001_017E', 'B01001_037E', 'B01001_038E', 'B01001_039E', 'B01001_040E', 'B01001_041E'], 'B01001_001E')\n",
    "        all_calc_data_nb[\"60 and Older\"] = calc_sum_normalized(tract_df, ['B01001_018E', 'B01001_019E', 'B01001_020E', 'B01001_021E', 'B01001_022E', 'B01001_023E', 'B01001_024E', 'B01001_025E', 'B01001_042E', 'B01001_043E', 'B01001_044E', 'B01001_045E', 'B01001_046E', 'B01001_047E', 'B01001_048E', 'B01001_049E'], 'B01001_001E')\n",
    "        #all_calc_data_nb[\"Median Age\"]\n",
    "        # educationa attainment\n",
    "        all_calc_data_nb[\"High School or Less\"] = calc_sum_normalized(tract_df, ['B15003_002E', 'B15003_003E', 'B15003_004E', 'B15003_005E', 'B15003_006E', 'B15003_007E', 'B15003_008E', 'B15003_009E', 'B15003_010E', 'B15003_011E', 'B15003_012E', 'B15003_013E', 'B15003_014E', 'B15003_015E', 'B15003_016E', 'B15003_017E', 'B15003_018E'], 'B15003_001E')\n",
    "        all_calc_data_nb[\"Some College/Associate Degree\"] = calc_sum_normalized(tract_df, ['B15003_019E', 'B15003_020E', 'B15003_021E'], 'B15003_001E')\n",
    "        all_calc_data_nb[\"College Degree\"] = calc_normalized(tract_df, 'B15003_022E', 'B15003_001E')\n",
    "        all_calc_data_nb[\"Graduate/Professional Degree\"] = calc_sum_normalized(tract_df, ['B15003_023E', 'B15003_024E', 'B15003_025E'], 'B15003_001E')\n",
    "        # nativity\n",
    "        all_calc_data_nb[\"Foreign Born\"] = calc_normalized(tract_df, 'B05002_013E', 'B05002_001E')\n",
    "        # language spoken at home\n",
    "        all_calc_data_nb[\"English Only\"] = calc_sum_normalized(tract_df, ['B16007_003E', 'B16007_009E', 'B16007_015E'], 'B16007_001E')\n",
    "        all_calc_data_nb[\"Spanish Only\"] = calc_sum_normalized(tract_df, ['B16007_004E', 'B16007_010E', 'B16007_016E'], 'B16007_001E')\n",
    "        all_calc_data_nb[\"Asian/Pacific Islander\"] = calc_sum_normalized(tract_df, ['B16007_006E', 'B16007_012E', 'B16007_018E'], 'B16007_001E')\n",
    "        all_calc_data_nb[\"Other European Languages\"] = calc_sum_normalized(tract_df, ['B16007_005E', 'B16007_011E', 'B16007_017E'], 'B16007_001E')\n",
    "        all_calc_data_nb[\"Other Languages\"] = calc_sum_normalized(tract_df, ['B16007_007E', 'B16007_013E', 'B16007_019E'], 'B16007_001E')\n",
    "        # linguistic isolation\n",
    "        all_calc_data_nb[\"% of All Households\"] = calc_sum_normalized(tract_df, ['B16003_002E', 'B16003_008E'], 'B16004_001E')\n",
    "        all_calc_data_nb[\"% of Spanish-Speaking Households\"] = calc_sum_normalized(tract_df, ['B16003_004E', 'B16003_009E'], 'B16004_001E')\n",
    "        all_calc_data_nb[\"% of Asian-Speaking Households\"] = calc_sum_normalized(tract_df, ['B16003_006E', 'B16003_011E'], 'B16004_001E')\n",
    "        all_calc_data_nb[\"% of Other European-Speaking Households\"] = calc_sum_normalized(tract_df, ['B16003_005E', 'B16003_010E'], 'B16004_001E')\n",
    "        all_calc_data_nb[\"% of Households Speaking Other Languages\"] = calc_sum_normalized(tract_df, ['B16003_007E', 'B16003_012E'], 'B16004_001E')\n",
    "        # housing\n",
    "        all_calc_data_nb[\"Total Number of Units\"] = calc_sum(df, 'B25001_001E')\n",
    "        all_calc_data_nb[\"Median Year Structure Built\"] = calc_median(tract_df, range_df, 'median_year_structure_built')\n",
    "        all_calc_data_nb[\"Owner Occupied\"] = calc_normalized(tract_df, 'B25007_002E', 'B25007_001E')\n",
    "        all_calc_data_nb[\"Renter Occupied\"] = calc_normalized(tract_df, 'B25007_012E', 'B25007_001E')\n",
    "        all_calc_data_nb[\"Vacant Units\"] = calc_normalized(tract_df, 'B25004_001E', 'B25001_001E')\n",
    "        all_calc_data_nb[\"For Rent\"] = calc_normalized(tract_df, 'B25004_002E', 'B25004_001E')\n",
    "        all_calc_data_nb[\"For Sale Only\"] = calc_normalized(tract_df, 'B25004_004E', 'B25004_001E')\n",
    "        all_calc_data_nb[\"Rented or Sold, Not Occupied\"] = calc_sum_normalized(tract_df, ['B25004_003E', 'B25004_005E'], 'B25004_001E')\n",
    "        all_calc_data_nb[\"For Seasonal, Recreation or Occasional Use\"] = calc_normalized(tract_df, 'B25004_006E', 'B25004_001E')\n",
    "        all_calc_data_nb[\"Other Vacant\"] = calc_normalized(tract_df, 'B25004_008E', 'B25004_001E')\n",
    "        all_calc_data_nb[\"Median Year Moved in to Unit (Own)\"] = calc_median(tract_df, range_df, 'median_year_moved_owner')\n",
    "        all_calc_data_nb[\"Median Year Moved in to Unit (Rent)\"] = calc_median(tract_df, range_df, 'median_year_moved_renter')\n",
    "        all_calc_data_nb[\"Percent in Same House Last Year\"] = calc_normalized(tract_df, 'B07001_017E', 'B07001_001E')\n",
    "        all_calc_data_nb[\"Percent Abroad Last Year\"] = calc_normalized(tract_df, 'B07003_016E', 'B07003_001E')\n",
    "        # structure type\n",
    "        all_calc_data_nb[\"Single Family Housing\"] = calc_sum_normalized(tract_df, ['B25024_002E', 'B25024_003E'], 'B25024_001E')\n",
    "        all_calc_data_nb[\"2-4 Units\"] = calc_sum_normalized(tract_df, ['B25024_004E', 'B25024_005E'], 'B25024_001E')\n",
    "        all_calc_data_nb[\"5-9 Units\"] = calc_normalized(tract_df, 'B25024_006E', 'B25024_001E')\n",
    "        all_calc_data_nb[\"10-19 Units\"] = calc_normalized(tract_df, 'B25024_007E', 'B25024_001E')\n",
    "        all_calc_data_nb[\"20 Units or More\"] = calc_sum_normalized(tract_df, ['B25024_008E', 'B25024_009E'], 'B25024_001E')\n",
    "        all_calc_data_nb[\"Other\"] = calc_sum_normalized(tract_df, ['B25024_010E', 'B25024_011E'], 'B25024_001E')\n",
    "        # unit size\n",
    "        all_calc_data_nb[\"No Bedroom\"] = calc_normalized(tract_df,'B25041_002E', 'B25041_001E')\n",
    "        all_calc_data_nb[\"1 Bedroom\"] = calc_normalized(tract_df, 'B25041_003E', 'B25041_001E')\n",
    "        all_calc_data_nb[\"2 Bedrooms\"] = calc_normalized(tract_df, 'B25041_004E', 'B25041_001E')\n",
    "        all_calc_data_nb[\"3-4 Bedrooms\"] = calc_sum_normalized(tract_df, ['B25041_005E', 'B25041_006E'], 'B25041_001E')\n",
    "        all_calc_data_nb[\"5 Bedrooms\"] = calc_normalized(tract_df, 'B25041_007E', 'B25041_001E')\n",
    "        # housing prices\n",
    "        all_calc_data_nb[\"Median Rent\"] = calc_median(tract_df, range_df, 'median_rent')\n",
    "        all_calc_data_nb[\"Median Contract Rent\"] = calc_median(tract_df, range_df, 'median_rent_contract')\n",
    "        all_calc_data_nb[\"Median Rent as % of Household Income\"] = calc_median(tract_df, range_df, 'median_rent_percent_of_income')\n",
    "        all_calc_data_nb[\"Median Home Value\"] = calc_median(tract_df, range_df, 'median_home_value')\n",
    "        # vehicles available\n",
    "        all_calc_data_nb[\"Vehicles Available\"] = calc_sum(df, 'B25046_001E')\n",
    "        all_calc_data_nb[\"Vehicles Homeowners\"] = calc_normalized(tract_df, 'B25046_002E', 'B25046_001E')\n",
    "        all_calc_data_nb[\"Vehicles Renters\"] = calc_normalized(tract_df, 'B25046_003E', 'B25046_001E')\n",
    "        all_calc_data_nb[\"Vehicles Per Capita\"] = calc_normalized(tract_df, 'B25046_001E', 'B01001_001E')\n",
    "        all_calc_data_nb[\"Households with no Vehicle\"] = calc_sum_normalized(tract_df, ['B25044_003E', 'B25044_010E'], 'B25044_001E')\n",
    "        all_calc_data_nb[\"Percent of Homeowning Households\"] = calc_normalized(tract_df, 'B25044_003E', 'B25044_002E')\n",
    "        all_calc_data_nb[\"Percent of Renting Households\"] = calc_normalized(tract_df, 'B25044_010E', 'B25044_009E')\n",
    "        # income\n",
    "        all_calc_data_nb[\"Median Household Income\"] = calc_median(tract_df, range_df, 'median_household_income')\n",
    "        all_calc_data_nb[\"Median Family Income\"] = calc_median(tract_df, range_df, 'median_family_income')\n",
    "        all_calc_data_nb[\"Per Capita Income\"] = calc_normalized(tract_df, 'B19025_001E', 'B01001_001E')\n",
    "        all_calc_data_nb[\"Percent in Poverty\"] = calc_normalized(tract_df, 'B17001_002E', 'B17001_001E')\n",
    "        # employment\n",
    "        all_calc_data_nb[\"Unemployment Rate\"] = calc_normalized(tract_df, 'B23025_005E', 'B23025_002E')\n",
    "        all_calc_data_nb[\"Percent Unemployment Female\"] = calc_sum_normalized(tract_df, ['B23001_094E', 'B23001_101E', 'B23001_108E', 'B23001_115E', 'B23001_122E', 'B23001_129E', 'B23001_136E', 'B23001_143E', 'B23001_150E', 'B23001_157E', 'B23001_162E', 'B23001_167E', 'B23001_172E', 'B23001_090E', 'B23001_097E', 'B23001_104E', 'B23001_111E', 'B23001_118E', 'B23001_125E', 'B23001_132E', 'B23001_139E', 'B23001_146E', 'B23001_153E', 'B23001_160E', 'B23001_165E', 'B23001_170E'], 'B23025_002E')\n",
    "        all_calc_data_nb[\"Percent Unemployment Male\"] = calc_sum_normalized(tract_df, ['B23001_008E', 'B23001_015E', 'B23001_022E', 'B23001_029E', 'B23001_036E', 'B23001_043E', 'B23001_050E', 'B23001_057E', 'B23001_064E', 'B23001_071E', 'B23001_076E', 'B23001_081E', 'B23001_086E', 'B23001_004E', 'B23001_011E', 'B23001_018E', 'B23001_025E', 'B23001_032E', 'B23001_039E', 'B23001_046E', 'B23001_053E', 'B23001_060E', 'B23001_067E', 'B23001_074E', 'B23001_079E', 'B23001_084E'], 'B23025_002E')\n",
    "        all_calc_data_nb[\"Employed Residents\"] = calc_sum(df, 'C24050_001E')\n",
    "        all_calc_data_nb[\"Managerial Professional\"] = calc_normalized(tract_df, 'C24050_015E', 'C24050_001E')\n",
    "        all_calc_data_nb[\"Services\"] = calc_normalized(tract_df, 'C24050_029E', 'C24050_001E')\n",
    "        all_calc_data_nb[\"Sales and Office\"] = calc_normalized(tract_df, 'C24050_043E', 'C24050_001E')\n",
    "        all_calc_data_nb[\"Natural Resources\"] = calc_normalized(tract_df, 'C24050_057E', 'C24050_001E')\n",
    "        all_calc_data_nb[\"Production Transport Materials\"] = calc_normalized(tract_df, 'C24050_071E', 'C24050_001E')\n",
    "        # journey to work\n",
    "        all_calc_data_nb[\"Workers 16 Years and Older\"] = calc_sum(df, 'B08006_001E')\n",
    "        all_calc_data_nb[\"Car\"] = calc_normalized(tract_df, 'B08006_002E', 'B08006_001E')\n",
    "        all_calc_data_nb[\"Drove Alone\"] = calc_normalized(tract_df, 'B08006_003E', 'B08006_001E')\n",
    "        all_calc_data_nb[\"Carpooled\"] = calc_normalized(tract_df, 'B08006_004E', 'B08006_001E')\n",
    "        all_calc_data_nb[\"Transit\"] = calc_normalized(tract_df, 'B08006_008E', 'B08006_001E')\n",
    "        all_calc_data_nb[\"Bike\"] = calc_normalized(tract_df, 'B08006_014E', 'B08006_001E')\n",
    "        all_calc_data_nb[\"Walk\"] = calc_normalized(tract_df, 'B08006_015E', 'B08006_001E')\n",
    "        all_calc_data_nb[\"Other\"] = calc_normalized(tract_df, 'B08006_016E', 'B08006_001E')\n",
    "        all_calc_data_nb[\"Worked at Home\"] = calc_normalized(tract_df, 'B08006_017E', 'B08006_001E')\n",
    "        # population density\n",
    "        all_calc_data_nb[\"Population Density per Acre\"] = calc_sum(df, 'B01001_001E')\n",
    "            \n",
    "    #return calc dictionary\n",
    "    return all_calc_data"
   ]
  },
  {
   "cell_type": "markdown",
   "id": "greenhouse-negative",
   "metadata": {},
   "source": [
    "## Caculate Socioeconomic Profiles"
   ]
  },
  {
   "cell_type": "markdown",
   "id": "conceptual-concrete",
   "metadata": {},
   "source": [
    "### Set Summary Variables and Output Paths"
   ]
  },
  {
   "cell_type": "code",
   "execution_count": 18,
   "id": "human-george",
   "metadata": {},
   "outputs": [],
   "source": [
    "# set geography to summarize by. If supervisor districts set geo_summary_variable to \"Superisor District\"\n",
    "geo_summary_variable = 'Neighborhood' #'Supervisor District'\n",
    "\n",
    "# set path to download csvs\n",
    "download_path = r\"./\"\n",
    "\n",
    "# sets geo variables based on above choice\n",
    "if geo_summary_variable == 'Neighborhood':\n",
    "    tract_lookup = tract_nb_lookup\n",
    "    geo_path = r'.shp/neighborhoods/neighborhoods.shp'\n",
    "    geo_merge_variable = 'nhood'\n",
    "elif geo_summary_variable == 'Supervisor District':\n",
    "    tract_lookup = tract_sd_lookup\n",
    "    geo_path = r'.shp/supervisor_districts/supervisor_districts.shp'\n",
    "    geo_merge_variable = 'sup_dist'"
   ]
  },
  {
   "cell_type": "markdown",
   "id": "affiliated-layout",
   "metadata": {},
   "source": [
    "### Run Socioeconomic Profiles Calcs"
   ]
  },
  {
   "cell_type": "code",
   "execution_count": 12,
   "id": "central-merchandise",
   "metadata": {},
   "outputs": [
    {
     "data": {
      "text/html": [
       "<div>\n",
       "<style scoped>\n",
       "    .dataframe tbody tr th:only-of-type {\n",
       "        vertical-align: middle;\n",
       "    }\n",
       "\n",
       "    .dataframe tbody tr th {\n",
       "        vertical-align: top;\n",
       "    }\n",
       "\n",
       "    .dataframe thead th {\n",
       "        text-align: right;\n",
       "    }\n",
       "</style>\n",
       "<table border=\"1\" class=\"dataframe\">\n",
       "  <thead>\n",
       "    <tr style=\"text-align: right;\">\n",
       "      <th></th>\n",
       "      <th>Attribute</th>\n",
       "      <th>North Beach</th>\n",
       "      <th>Russian Hill</th>\n",
       "      <th>Financial District</th>\n",
       "      <th>Chinatown</th>\n",
       "      <th>Nob Hill</th>\n",
       "      <th>Tenderloin</th>\n",
       "      <th>Marina</th>\n",
       "      <th>Pacific Heights</th>\n",
       "      <th>Presidio Heights</th>\n",
       "      <th>...</th>\n",
       "      <th>Sunset/Parkside</th>\n",
       "      <th>Lakeshore</th>\n",
       "      <th>Inner Richmond</th>\n",
       "      <th>Outer Richmond</th>\n",
       "      <th>Seacliff</th>\n",
       "      <th>Presidio</th>\n",
       "      <th>Mission Bay</th>\n",
       "      <th>Lincoln Park</th>\n",
       "      <th>Golden Gate Park</th>\n",
       "      <th>McLaren Park</th>\n",
       "    </tr>\n",
       "  </thead>\n",
       "  <tbody>\n",
       "    <tr>\n",
       "      <th>0</th>\n",
       "      <td>Total Population</td>\n",
       "      <td>11854.000000</td>\n",
       "      <td>18139.000000</td>\n",
       "      <td>21537.000000</td>\n",
       "      <td>14438.000000</td>\n",
       "      <td>26445.000000</td>\n",
       "      <td>29927.000000</td>\n",
       "      <td>25375.000000</td>\n",
       "      <td>24279.000000</td>\n",
       "      <td>10585.000000</td>\n",
       "      <td>...</td>\n",
       "      <td>82682.000000</td>\n",
       "      <td>14801.000000</td>\n",
       "      <td>22572.000000</td>\n",
       "      <td>45921.000000</td>\n",
       "      <td>2507.000000</td>\n",
       "      <td>4226.000000</td>\n",
       "      <td>13222.000000</td>\n",
       "      <td>312.000000</td>\n",
       "      <td>63.000000</td>\n",
       "      <td>507.000000</td>\n",
       "    </tr>\n",
       "    <tr>\n",
       "      <th>1</th>\n",
       "      <td>Group Quarter Population</td>\n",
       "      <td>17.000000</td>\n",
       "      <td>5.000000</td>\n",
       "      <td>563.000000</td>\n",
       "      <td>53.000000</td>\n",
       "      <td>977.000000</td>\n",
       "      <td>1523.000000</td>\n",
       "      <td>97.000000</td>\n",
       "      <td>518.000000</td>\n",
       "      <td>196.000000</td>\n",
       "      <td>...</td>\n",
       "      <td>452.000000</td>\n",
       "      <td>2723.000000</td>\n",
       "      <td>147.000000</td>\n",
       "      <td>202.000000</td>\n",
       "      <td>0.000000</td>\n",
       "      <td>0.000000</td>\n",
       "      <td>342.000000</td>\n",
       "      <td>191.000000</td>\n",
       "      <td>0.000000</td>\n",
       "      <td>0.000000</td>\n",
       "    </tr>\n",
       "    <tr>\n",
       "      <th>2</th>\n",
       "      <td>Percent Female</td>\n",
       "      <td>0.486081</td>\n",
       "      <td>0.503501</td>\n",
       "      <td>0.465617</td>\n",
       "      <td>0.516207</td>\n",
       "      <td>0.490641</td>\n",
       "      <td>0.429913</td>\n",
       "      <td>0.515153</td>\n",
       "      <td>0.518226</td>\n",
       "      <td>0.514218</td>\n",
       "      <td>...</td>\n",
       "      <td>0.507922</td>\n",
       "      <td>0.538950</td>\n",
       "      <td>0.547891</td>\n",
       "      <td>0.512336</td>\n",
       "      <td>0.483845</td>\n",
       "      <td>0.539991</td>\n",
       "      <td>0.519286</td>\n",
       "      <td>0.227564</td>\n",
       "      <td>0.396825</td>\n",
       "      <td>0.585799</td>\n",
       "    </tr>\n",
       "    <tr>\n",
       "      <th>3</th>\n",
       "      <td>Housholds</td>\n",
       "      <td>6297.000000</td>\n",
       "      <td>9636.000000</td>\n",
       "      <td>11297.000000</td>\n",
       "      <td>6907.000000</td>\n",
       "      <td>15247.000000</td>\n",
       "      <td>17649.000000</td>\n",
       "      <td>13583.000000</td>\n",
       "      <td>12815.000000</td>\n",
       "      <td>4805.000000</td>\n",
       "      <td>...</td>\n",
       "      <td>28277.000000</td>\n",
       "      <td>4924.000000</td>\n",
       "      <td>9385.000000</td>\n",
       "      <td>18652.000000</td>\n",
       "      <td>891.000000</td>\n",
       "      <td>1324.000000</td>\n",
       "      <td>6312.000000</td>\n",
       "      <td>70.000000</td>\n",
       "      <td>48.000000</td>\n",
       "      <td>239.000000</td>\n",
       "    </tr>\n",
       "    <tr>\n",
       "      <th>4</th>\n",
       "      <td>Family Households</td>\n",
       "      <td>0.397332</td>\n",
       "      <td>0.365816</td>\n",
       "      <td>0.372754</td>\n",
       "      <td>0.522948</td>\n",
       "      <td>0.268840</td>\n",
       "      <td>0.234348</td>\n",
       "      <td>0.309578</td>\n",
       "      <td>0.353726</td>\n",
       "      <td>0.470760</td>\n",
       "      <td>...</td>\n",
       "      <td>0.658839</td>\n",
       "      <td>0.390739</td>\n",
       "      <td>0.483324</td>\n",
       "      <td>0.537905</td>\n",
       "      <td>0.775533</td>\n",
       "      <td>0.556647</td>\n",
       "      <td>0.504119</td>\n",
       "      <td>0.442857</td>\n",
       "      <td>0.000000</td>\n",
       "      <td>0.472803</td>\n",
       "    </tr>\n",
       "  </tbody>\n",
       "</table>\n",
       "<p>5 rows × 42 columns</p>\n",
       "</div>"
      ],
      "text/plain": [
       "                  Attribute   North Beach  Russian Hill  Financial District  \\\n",
       "0          Total Population  11854.000000  18139.000000        21537.000000   \n",
       "1  Group Quarter Population     17.000000      5.000000          563.000000   \n",
       "2            Percent Female      0.486081      0.503501            0.465617   \n",
       "3                 Housholds   6297.000000   9636.000000        11297.000000   \n",
       "4         Family Households      0.397332      0.365816            0.372754   \n",
       "\n",
       "      Chinatown      Nob Hill    Tenderloin        Marina  Pacific Heights  \\\n",
       "0  14438.000000  26445.000000  29927.000000  25375.000000     24279.000000   \n",
       "1     53.000000    977.000000   1523.000000     97.000000       518.000000   \n",
       "2      0.516207      0.490641      0.429913      0.515153         0.518226   \n",
       "3   6907.000000  15247.000000  17649.000000  13583.000000     12815.000000   \n",
       "4      0.522948      0.268840      0.234348      0.309578         0.353726   \n",
       "\n",
       "   Presidio Heights  ...  Sunset/Parkside     Lakeshore  Inner Richmond  \\\n",
       "0      10585.000000  ...     82682.000000  14801.000000    22572.000000   \n",
       "1        196.000000  ...       452.000000   2723.000000      147.000000   \n",
       "2          0.514218  ...         0.507922      0.538950        0.547891   \n",
       "3       4805.000000  ...     28277.000000   4924.000000     9385.000000   \n",
       "4          0.470760  ...         0.658839      0.390739        0.483324   \n",
       "\n",
       "   Outer Richmond     Seacliff     Presidio   Mission Bay  Lincoln Park  \\\n",
       "0    45921.000000  2507.000000  4226.000000  13222.000000    312.000000   \n",
       "1      202.000000     0.000000     0.000000    342.000000    191.000000   \n",
       "2        0.512336     0.483845     0.539991      0.519286      0.227564   \n",
       "3    18652.000000   891.000000  1324.000000   6312.000000     70.000000   \n",
       "4        0.537905     0.775533     0.556647      0.504119      0.442857   \n",
       "\n",
       "   Golden Gate Park  McLaren Park  \n",
       "0         63.000000    507.000000  \n",
       "1          0.000000      0.000000  \n",
       "2          0.396825      0.585799  \n",
       "3         48.000000    239.000000  \n",
       "4          0.000000      0.472803  \n",
       "\n",
       "[5 rows x 42 columns]"
      ]
     },
     "execution_count": 12,
     "metadata": {},
     "output_type": "execute_result"
    }
   ],
   "source": [
    "# run functions to calculate all stats and convert calc dictionary to pandas dataframe\n",
    "all_calc_data = calc_socio_economic_data(df, tract_lookup)\n",
    "df_all_calcs = pd.DataFrame.from_dict(all_calc_data).reset_index()\n",
    "df_all_calcs.rename(columns = {'index':'Attribute'}, inplace = True) \n",
    "df_all_calcs.head()\n"
   ]
  },
  {
   "cell_type": "code",
   "execution_count": 13,
   "id": "automatic-cleaning",
   "metadata": {},
   "outputs": [
    {
     "data": {
      "text/html": [
       "<div>\n",
       "<style scoped>\n",
       "    .dataframe tbody tr th:only-of-type {\n",
       "        vertical-align: middle;\n",
       "    }\n",
       "\n",
       "    .dataframe tbody tr th {\n",
       "        vertical-align: top;\n",
       "    }\n",
       "\n",
       "    .dataframe thead th {\n",
       "        text-align: right;\n",
       "    }\n",
       "</style>\n",
       "<table border=\"1\" class=\"dataframe\">\n",
       "  <thead>\n",
       "    <tr style=\"text-align: right;\">\n",
       "      <th></th>\n",
       "      <th>Neighborhood</th>\n",
       "      <th>Total Population</th>\n",
       "      <th>Group Quarter Population</th>\n",
       "      <th>Percent Female</th>\n",
       "      <th>Housholds</th>\n",
       "      <th>Family Households</th>\n",
       "      <th>Non-Family Households</th>\n",
       "      <th>Single Person Households, % of Total</th>\n",
       "      <th>Households with Children, % of Total</th>\n",
       "      <th>Households with 60 years and older, % of Total</th>\n",
       "      <th>...</th>\n",
       "      <th>Production Transport Materials</th>\n",
       "      <th>Workers 16 Years and Older</th>\n",
       "      <th>Car</th>\n",
       "      <th>Drove Alone</th>\n",
       "      <th>Carpooled</th>\n",
       "      <th>Transit</th>\n",
       "      <th>Bike</th>\n",
       "      <th>Walk</th>\n",
       "      <th>Worked at Home</th>\n",
       "      <th>Population Density per Acre</th>\n",
       "    </tr>\n",
       "  </thead>\n",
       "  <tbody>\n",
       "    <tr>\n",
       "      <th>23</th>\n",
       "      <td>Bayview Hunters Point</td>\n",
       "      <td>37917.0</td>\n",
       "      <td>222.0</td>\n",
       "      <td>0.519925</td>\n",
       "      <td>11925.0</td>\n",
       "      <td>0.687799</td>\n",
       "      <td>0.312201</td>\n",
       "      <td>0.23304</td>\n",
       "      <td>0.355975</td>\n",
       "      <td>0.442013</td>\n",
       "      <td>...</td>\n",
       "      <td>0.137894</td>\n",
       "      <td>512455.0</td>\n",
       "      <td>0.593776</td>\n",
       "      <td>0.472998</td>\n",
       "      <td>0.120778</td>\n",
       "      <td>0.299707</td>\n",
       "      <td>0.014372</td>\n",
       "      <td>0.030457</td>\n",
       "      <td>0.03007</td>\n",
       "      <td>874961.0</td>\n",
       "    </tr>\n",
       "    <tr>\n",
       "      <th>24</th>\n",
       "      <td>Bernal Heights</td>\n",
       "      <td>25167.0</td>\n",
       "      <td>201.0</td>\n",
       "      <td>0.483252</td>\n",
       "      <td>9196.0</td>\n",
       "      <td>0.597651</td>\n",
       "      <td>0.402349</td>\n",
       "      <td>0.223358</td>\n",
       "      <td>0.307199</td>\n",
       "      <td>0.31405</td>\n",
       "      <td>...</td>\n",
       "      <td>0.038444</td>\n",
       "      <td>512455.0</td>\n",
       "      <td>0.477276</td>\n",
       "      <td>0.384086</td>\n",
       "      <td>0.093189</td>\n",
       "      <td>0.271274</td>\n",
       "      <td>0.068577</td>\n",
       "      <td>0.047067</td>\n",
       "      <td>0.098921</td>\n",
       "      <td>874961.0</td>\n",
       "    </tr>\n",
       "    <tr>\n",
       "      <th>15</th>\n",
       "      <td>Castro/Upper Market</td>\n",
       "      <td>22502.0</td>\n",
       "      <td>72.0</td>\n",
       "      <td>0.382499</td>\n",
       "      <td>11330.0</td>\n",
       "      <td>0.351898</td>\n",
       "      <td>0.648102</td>\n",
       "      <td>0.38323</td>\n",
       "      <td>0.115799</td>\n",
       "      <td>0.252427</td>\n",
       "      <td>...</td>\n",
       "      <td>0.02043</td>\n",
       "      <td>512455.0</td>\n",
       "      <td>0.274514</td>\n",
       "      <td>0.239068</td>\n",
       "      <td>0.035446</td>\n",
       "      <td>0.480896</td>\n",
       "      <td>0.048546</td>\n",
       "      <td>0.069543</td>\n",
       "      <td>0.086046</td>\n",
       "      <td>874961.0</td>\n",
       "    </tr>\n",
       "    <tr>\n",
       "      <th>4</th>\n",
       "      <td>Chinatown</td>\n",
       "      <td>14438.0</td>\n",
       "      <td>53.0</td>\n",
       "      <td>0.516207</td>\n",
       "      <td>6907.0</td>\n",
       "      <td>0.522948</td>\n",
       "      <td>0.477052</td>\n",
       "      <td>0.411901</td>\n",
       "      <td>0.159693</td>\n",
       "      <td>0.581439</td>\n",
       "      <td>...</td>\n",
       "      <td>0.089981</td>\n",
       "      <td>512455.0</td>\n",
       "      <td>0.153299</td>\n",
       "      <td>0.124243</td>\n",
       "      <td>0.029056</td>\n",
       "      <td>0.334292</td>\n",
       "      <td>0.010139</td>\n",
       "      <td>0.440527</td>\n",
       "      <td>0.039649</td>\n",
       "      <td>874961.0</td>\n",
       "    </tr>\n",
       "    <tr>\n",
       "      <th>26</th>\n",
       "      <td>Excelsior</td>\n",
       "      <td>39879.0</td>\n",
       "      <td>527.0</td>\n",
       "      <td>0.498759</td>\n",
       "      <td>10976.0</td>\n",
       "      <td>0.776695</td>\n",
       "      <td>0.223305</td>\n",
       "      <td>0.143039</td>\n",
       "      <td>0.335733</td>\n",
       "      <td>0.507471</td>\n",
       "      <td>...</td>\n",
       "      <td>0.104502</td>\n",
       "      <td>512455.0</td>\n",
       "      <td>0.583281</td>\n",
       "      <td>0.46426</td>\n",
       "      <td>0.119021</td>\n",
       "      <td>0.345383</td>\n",
       "      <td>0.011197</td>\n",
       "      <td>0.017761</td>\n",
       "      <td>0.030841</td>\n",
       "      <td>874961.0</td>\n",
       "    </tr>\n",
       "  </tbody>\n",
       "</table>\n",
       "<p>5 rows × 97 columns</p>\n",
       "</div>"
      ],
      "text/plain": [
       "0            Neighborhood Total Population Group Quarter Population  \\\n",
       "23  Bayview Hunters Point          37917.0                    222.0   \n",
       "24         Bernal Heights          25167.0                    201.0   \n",
       "15    Castro/Upper Market          22502.0                     72.0   \n",
       "4               Chinatown          14438.0                     53.0   \n",
       "26              Excelsior          39879.0                    527.0   \n",
       "\n",
       "0  Percent Female Housholds Family Households Non-Family Households  \\\n",
       "23       0.519925   11925.0          0.687799              0.312201   \n",
       "24       0.483252    9196.0          0.597651              0.402349   \n",
       "15       0.382499   11330.0          0.351898              0.648102   \n",
       "4        0.516207    6907.0          0.522948              0.477052   \n",
       "26       0.498759   10976.0          0.776695              0.223305   \n",
       "\n",
       "0  Single Person Households, % of Total Households with Children, % of Total  \\\n",
       "23                              0.23304                             0.355975   \n",
       "24                             0.223358                             0.307199   \n",
       "15                              0.38323                             0.115799   \n",
       "4                              0.411901                             0.159693   \n",
       "26                             0.143039                             0.335733   \n",
       "\n",
       "0  Households with 60 years and older, % of Total  ...  \\\n",
       "23                                       0.442013  ...   \n",
       "24                                        0.31405  ...   \n",
       "15                                       0.252427  ...   \n",
       "4                                        0.581439  ...   \n",
       "26                                       0.507471  ...   \n",
       "\n",
       "0  Production Transport Materials Workers 16 Years and Older       Car  \\\n",
       "23                       0.137894                   512455.0  0.593776   \n",
       "24                       0.038444                   512455.0  0.477276   \n",
       "15                        0.02043                   512455.0  0.274514   \n",
       "4                        0.089981                   512455.0  0.153299   \n",
       "26                       0.104502                   512455.0  0.583281   \n",
       "\n",
       "0  Drove Alone Carpooled   Transit      Bike      Walk Worked at Home  \\\n",
       "23    0.472998  0.120778  0.299707  0.014372  0.030457        0.03007   \n",
       "24    0.384086  0.093189  0.271274  0.068577  0.047067       0.098921   \n",
       "15    0.239068  0.035446  0.480896  0.048546  0.069543       0.086046   \n",
       "4     0.124243  0.029056  0.334292  0.010139  0.440527       0.039649   \n",
       "26     0.46426  0.119021  0.345383  0.011197  0.017761       0.030841   \n",
       "\n",
       "0  Population Density per Acre  \n",
       "23                    874961.0  \n",
       "24                    874961.0  \n",
       "15                    874961.0  \n",
       "4                     874961.0  \n",
       "26                    874961.0  \n",
       "\n",
       "[5 rows x 97 columns]"
      ]
     },
     "execution_count": 13,
     "metadata": {},
     "output_type": "execute_result"
    }
   ],
   "source": [
    "# transpose dataset for second geo view of dataset\n",
    "df_all_calcs_tp = df_all_calcs.T.reset_index()\n",
    "df_all_calcs_tp.columns = df_all_calcs_tp.iloc[0]\n",
    "df_all_calcs_tp = df_all_calcs_tp[1:].rename(columns={'Attribute': geo_summary_variable})\n",
    "df_all_calcs_tp = df_all_calcs_tp.sort_values(by=[geo_summary_variable])\n",
    "df_all_calcs_tp.head()"
   ]
  },
  {
   "cell_type": "markdown",
   "id": "liked-updating",
   "metadata": {},
   "source": [
    "## Visualizations"
   ]
  },
  {
   "cell_type": "code",
   "execution_count": 14,
   "id": "raised-russia",
   "metadata": {},
   "outputs": [
    {
     "data": {
      "application/vnd.jupyter.widget-view+json": {
       "model_id": "60391c815f3a483ca3ce482577ecc2fe",
       "version_major": 2,
       "version_minor": 0
      },
      "text/plain": [
       "interactive(children=(Dropdown(description='Variable', options=('% Latino (of Any Race)', '% of All Households…"
      ]
     },
     "metadata": {},
     "output_type": "display_data"
    },
    {
     "data": {
      "text/plain": [
       "<function __main__.f(Variable)>"
      ]
     },
     "execution_count": 14,
     "metadata": {},
     "output_type": "execute_result"
    }
   ],
   "source": [
    "def f(Variable):\n",
    "    fig = px.bar(df_all_calcs_tp, x=geo_summary_variable, y=Variable)\n",
    "    fig.update_xaxes(tickangle=45)\n",
    "    fig.show()\n",
    "\n",
    "variables = df_all_calcs_tp.columns[1:].sort_values()\n",
    "\n",
    "interact(f, Variable=variables)"
   ]
  },
  {
   "cell_type": "code",
   "execution_count": 15,
   "id": "contrary-destination",
   "metadata": {
    "scrolled": false
   },
   "outputs": [
    {
     "data": {
      "application/vnd.plotly.v1+json": {
       "config": {
        "plotlyServerURL": "https://plot.ly"
       },
       "data": [
        {
         "alignmentgroup": "True",
         "hovertemplate": "=Renter Occupied<br>Neighborhood=%{x}<br>Percent Occupied=%{y}<extra></extra>",
         "legendgroup": "Renter Occupied",
         "marker": {
          "color": "#636efa"
         },
         "name": "Renter Occupied",
         "offsetgroup": "Renter Occupied",
         "orientation": "v",
         "showlegend": true,
         "textposition": "auto",
         "type": "bar",
         "x": [
          "Bayview Hunters Point",
          "Bernal Heights",
          "Castro/Upper Market",
          "Chinatown",
          "Excelsior",
          "Financial District",
          "Glen Park",
          "Golden Gate Park",
          "Haight Ashbury",
          "Hayes Valley",
          "Inner Richmond",
          "Inner Sunset",
          "Japantown",
          "Lakeshore",
          "Lincoln Park",
          "Lone Mountain/USF",
          "Marina",
          "McLaren Park",
          "Mission",
          "Mission Bay",
          "Nob Hill",
          "Noe Valley",
          "North Beach",
          "Oceanview/Merced/Ingleside",
          "Outer Mission",
          "Outer Richmond",
          "Pacific Heights",
          "Portola",
          "Potrero Hill",
          "Presidio",
          "Presidio Heights",
          "Russian Hill",
          "Seacliff",
          "South of Market",
          "Sunset/Parkside",
          "Tenderloin",
          "Treasure Island",
          "Twin Peaks",
          "Visitacion Valley",
          "West of Twin Peaks",
          "Western Addition"
         ],
         "xaxis": "x",
         "y": [
          0.47958071278826,
          0.4227925184862984,
          0.6090909090909091,
          0.9390473432749384,
          0.3268039358600583,
          0.6777020447906524,
          0.3296733461432885,
          1,
          0.6763954761036118,
          0.7973476999585578,
          0.6435801811401172,
          0.5690345785988719,
          0.8662842012356575,
          0.9486190089358245,
          0.37142857142857144,
          0.6855881425417849,
          0.7452698225723331,
          0.8535564853556485,
          0.7501261988894498,
          0.6582699619771863,
          0.862858267200105,
          0.47121535181236673,
          0.7886295061140226,
          0.3072526355899911,
          0.34959469417833455,
          0.6014368432339695,
          0.7345298478345689,
          0.335874716670101,
          0.546100340387746,
          0.974320241691843,
          0.6206035379812695,
          0.7525944375259443,
          0.24691358024691357,
          0.8405103668261563,
          0.37012412915090004,
          0.974502804691484,
          1,
          0.5983347688774046,
          0.46608527131782945,
          0.2174319177983761,
          0.7734007022351631
         ],
         "yaxis": "y"
        },
        {
         "alignmentgroup": "True",
         "hovertemplate": "=Owner Occupied<br>Neighborhood=%{x}<br>Percent Occupied=%{y}<extra></extra>",
         "legendgroup": "Owner Occupied",
         "marker": {
          "color": "#EF553B"
         },
         "name": "Owner Occupied",
         "offsetgroup": "Owner Occupied",
         "orientation": "v",
         "showlegend": true,
         "textposition": "auto",
         "type": "bar",
         "x": [
          "Bayview Hunters Point",
          "Bernal Heights",
          "Castro/Upper Market",
          "Chinatown",
          "Excelsior",
          "Financial District",
          "Glen Park",
          "Golden Gate Park",
          "Haight Ashbury",
          "Hayes Valley",
          "Inner Richmond",
          "Inner Sunset",
          "Japantown",
          "Lakeshore",
          "Lincoln Park",
          "Lone Mountain/USF",
          "Marina",
          "McLaren Park",
          "Mission",
          "Mission Bay",
          "Nob Hill",
          "Noe Valley",
          "North Beach",
          "Oceanview/Merced/Ingleside",
          "Outer Mission",
          "Outer Richmond",
          "Pacific Heights",
          "Portola",
          "Potrero Hill",
          "Presidio",
          "Presidio Heights",
          "Russian Hill",
          "Seacliff",
          "South of Market",
          "Sunset/Parkside",
          "Tenderloin",
          "Treasure Island",
          "Twin Peaks",
          "Visitacion Valley",
          "West of Twin Peaks",
          "Western Addition"
         ],
         "xaxis": "x",
         "y": [
          0.52041928721174,
          0.5772074815137016,
          0.39090909090909093,
          0.06095265672506153,
          0.6731960641399417,
          0.3222979552093476,
          0.6703266538567115,
          0,
          0.32360452389638816,
          0.2026523000414422,
          0.3564198188598828,
          0.4309654214011281,
          0.13371579876434245,
          0.051380991064175464,
          0.6285714285714286,
          0.3144118574582151,
          0.25473017742766696,
          0.14644351464435146,
          0.24987380111055021,
          0.3417300380228137,
          0.13714173279989506,
          0.5287846481876333,
          0.21137049388597745,
          0.6927473644100088,
          0.6504053058216654,
          0.39856315676603044,
          0.26547015216543113,
          0.6641252833298991,
          0.453899659612254,
          0.0256797583081571,
          0.3793964620187305,
          0.24740556247405562,
          0.7530864197530864,
          0.1594896331738437,
          0.6298758708491,
          0.025497195308516064,
          0,
          0.40166523112259545,
          0.5339147286821705,
          0.7825680822016239,
          0.22659929776483687
         ],
         "yaxis": "y"
        }
       ],
       "layout": {
        "barmode": "relative",
        "legend": {
         "title": {
          "text": ""
         },
         "tracegroupgap": 0
        },
        "template": {
         "data": {
          "bar": [
           {
            "error_x": {
             "color": "#2a3f5f"
            },
            "error_y": {
             "color": "#2a3f5f"
            },
            "marker": {
             "line": {
              "color": "#E5ECF6",
              "width": 0.5
             }
            },
            "type": "bar"
           }
          ],
          "barpolar": [
           {
            "marker": {
             "line": {
              "color": "#E5ECF6",
              "width": 0.5
             }
            },
            "type": "barpolar"
           }
          ],
          "carpet": [
           {
            "aaxis": {
             "endlinecolor": "#2a3f5f",
             "gridcolor": "white",
             "linecolor": "white",
             "minorgridcolor": "white",
             "startlinecolor": "#2a3f5f"
            },
            "baxis": {
             "endlinecolor": "#2a3f5f",
             "gridcolor": "white",
             "linecolor": "white",
             "minorgridcolor": "white",
             "startlinecolor": "#2a3f5f"
            },
            "type": "carpet"
           }
          ],
          "choropleth": [
           {
            "colorbar": {
             "outlinewidth": 0,
             "ticks": ""
            },
            "type": "choropleth"
           }
          ],
          "contour": [
           {
            "colorbar": {
             "outlinewidth": 0,
             "ticks": ""
            },
            "colorscale": [
             [
              0,
              "#0d0887"
             ],
             [
              0.1111111111111111,
              "#46039f"
             ],
             [
              0.2222222222222222,
              "#7201a8"
             ],
             [
              0.3333333333333333,
              "#9c179e"
             ],
             [
              0.4444444444444444,
              "#bd3786"
             ],
             [
              0.5555555555555556,
              "#d8576b"
             ],
             [
              0.6666666666666666,
              "#ed7953"
             ],
             [
              0.7777777777777778,
              "#fb9f3a"
             ],
             [
              0.8888888888888888,
              "#fdca26"
             ],
             [
              1,
              "#f0f921"
             ]
            ],
            "type": "contour"
           }
          ],
          "contourcarpet": [
           {
            "colorbar": {
             "outlinewidth": 0,
             "ticks": ""
            },
            "type": "contourcarpet"
           }
          ],
          "heatmap": [
           {
            "colorbar": {
             "outlinewidth": 0,
             "ticks": ""
            },
            "colorscale": [
             [
              0,
              "#0d0887"
             ],
             [
              0.1111111111111111,
              "#46039f"
             ],
             [
              0.2222222222222222,
              "#7201a8"
             ],
             [
              0.3333333333333333,
              "#9c179e"
             ],
             [
              0.4444444444444444,
              "#bd3786"
             ],
             [
              0.5555555555555556,
              "#d8576b"
             ],
             [
              0.6666666666666666,
              "#ed7953"
             ],
             [
              0.7777777777777778,
              "#fb9f3a"
             ],
             [
              0.8888888888888888,
              "#fdca26"
             ],
             [
              1,
              "#f0f921"
             ]
            ],
            "type": "heatmap"
           }
          ],
          "heatmapgl": [
           {
            "colorbar": {
             "outlinewidth": 0,
             "ticks": ""
            },
            "colorscale": [
             [
              0,
              "#0d0887"
             ],
             [
              0.1111111111111111,
              "#46039f"
             ],
             [
              0.2222222222222222,
              "#7201a8"
             ],
             [
              0.3333333333333333,
              "#9c179e"
             ],
             [
              0.4444444444444444,
              "#bd3786"
             ],
             [
              0.5555555555555556,
              "#d8576b"
             ],
             [
              0.6666666666666666,
              "#ed7953"
             ],
             [
              0.7777777777777778,
              "#fb9f3a"
             ],
             [
              0.8888888888888888,
              "#fdca26"
             ],
             [
              1,
              "#f0f921"
             ]
            ],
            "type": "heatmapgl"
           }
          ],
          "histogram": [
           {
            "marker": {
             "colorbar": {
              "outlinewidth": 0,
              "ticks": ""
             }
            },
            "type": "histogram"
           }
          ],
          "histogram2d": [
           {
            "colorbar": {
             "outlinewidth": 0,
             "ticks": ""
            },
            "colorscale": [
             [
              0,
              "#0d0887"
             ],
             [
              0.1111111111111111,
              "#46039f"
             ],
             [
              0.2222222222222222,
              "#7201a8"
             ],
             [
              0.3333333333333333,
              "#9c179e"
             ],
             [
              0.4444444444444444,
              "#bd3786"
             ],
             [
              0.5555555555555556,
              "#d8576b"
             ],
             [
              0.6666666666666666,
              "#ed7953"
             ],
             [
              0.7777777777777778,
              "#fb9f3a"
             ],
             [
              0.8888888888888888,
              "#fdca26"
             ],
             [
              1,
              "#f0f921"
             ]
            ],
            "type": "histogram2d"
           }
          ],
          "histogram2dcontour": [
           {
            "colorbar": {
             "outlinewidth": 0,
             "ticks": ""
            },
            "colorscale": [
             [
              0,
              "#0d0887"
             ],
             [
              0.1111111111111111,
              "#46039f"
             ],
             [
              0.2222222222222222,
              "#7201a8"
             ],
             [
              0.3333333333333333,
              "#9c179e"
             ],
             [
              0.4444444444444444,
              "#bd3786"
             ],
             [
              0.5555555555555556,
              "#d8576b"
             ],
             [
              0.6666666666666666,
              "#ed7953"
             ],
             [
              0.7777777777777778,
              "#fb9f3a"
             ],
             [
              0.8888888888888888,
              "#fdca26"
             ],
             [
              1,
              "#f0f921"
             ]
            ],
            "type": "histogram2dcontour"
           }
          ],
          "mesh3d": [
           {
            "colorbar": {
             "outlinewidth": 0,
             "ticks": ""
            },
            "type": "mesh3d"
           }
          ],
          "parcoords": [
           {
            "line": {
             "colorbar": {
              "outlinewidth": 0,
              "ticks": ""
             }
            },
            "type": "parcoords"
           }
          ],
          "pie": [
           {
            "automargin": true,
            "type": "pie"
           }
          ],
          "scatter": [
           {
            "marker": {
             "colorbar": {
              "outlinewidth": 0,
              "ticks": ""
             }
            },
            "type": "scatter"
           }
          ],
          "scatter3d": [
           {
            "line": {
             "colorbar": {
              "outlinewidth": 0,
              "ticks": ""
             }
            },
            "marker": {
             "colorbar": {
              "outlinewidth": 0,
              "ticks": ""
             }
            },
            "type": "scatter3d"
           }
          ],
          "scattercarpet": [
           {
            "marker": {
             "colorbar": {
              "outlinewidth": 0,
              "ticks": ""
             }
            },
            "type": "scattercarpet"
           }
          ],
          "scattergeo": [
           {
            "marker": {
             "colorbar": {
              "outlinewidth": 0,
              "ticks": ""
             }
            },
            "type": "scattergeo"
           }
          ],
          "scattergl": [
           {
            "marker": {
             "colorbar": {
              "outlinewidth": 0,
              "ticks": ""
             }
            },
            "type": "scattergl"
           }
          ],
          "scattermapbox": [
           {
            "marker": {
             "colorbar": {
              "outlinewidth": 0,
              "ticks": ""
             }
            },
            "type": "scattermapbox"
           }
          ],
          "scatterpolar": [
           {
            "marker": {
             "colorbar": {
              "outlinewidth": 0,
              "ticks": ""
             }
            },
            "type": "scatterpolar"
           }
          ],
          "scatterpolargl": [
           {
            "marker": {
             "colorbar": {
              "outlinewidth": 0,
              "ticks": ""
             }
            },
            "type": "scatterpolargl"
           }
          ],
          "scatterternary": [
           {
            "marker": {
             "colorbar": {
              "outlinewidth": 0,
              "ticks": ""
             }
            },
            "type": "scatterternary"
           }
          ],
          "surface": [
           {
            "colorbar": {
             "outlinewidth": 0,
             "ticks": ""
            },
            "colorscale": [
             [
              0,
              "#0d0887"
             ],
             [
              0.1111111111111111,
              "#46039f"
             ],
             [
              0.2222222222222222,
              "#7201a8"
             ],
             [
              0.3333333333333333,
              "#9c179e"
             ],
             [
              0.4444444444444444,
              "#bd3786"
             ],
             [
              0.5555555555555556,
              "#d8576b"
             ],
             [
              0.6666666666666666,
              "#ed7953"
             ],
             [
              0.7777777777777778,
              "#fb9f3a"
             ],
             [
              0.8888888888888888,
              "#fdca26"
             ],
             [
              1,
              "#f0f921"
             ]
            ],
            "type": "surface"
           }
          ],
          "table": [
           {
            "cells": {
             "fill": {
              "color": "#EBF0F8"
             },
             "line": {
              "color": "white"
             }
            },
            "header": {
             "fill": {
              "color": "#C8D4E3"
             },
             "line": {
              "color": "white"
             }
            },
            "type": "table"
           }
          ]
         },
         "layout": {
          "annotationdefaults": {
           "arrowcolor": "#2a3f5f",
           "arrowhead": 0,
           "arrowwidth": 1
          },
          "autotypenumbers": "strict",
          "coloraxis": {
           "colorbar": {
            "outlinewidth": 0,
            "ticks": ""
           }
          },
          "colorscale": {
           "diverging": [
            [
             0,
             "#8e0152"
            ],
            [
             0.1,
             "#c51b7d"
            ],
            [
             0.2,
             "#de77ae"
            ],
            [
             0.3,
             "#f1b6da"
            ],
            [
             0.4,
             "#fde0ef"
            ],
            [
             0.5,
             "#f7f7f7"
            ],
            [
             0.6,
             "#e6f5d0"
            ],
            [
             0.7,
             "#b8e186"
            ],
            [
             0.8,
             "#7fbc41"
            ],
            [
             0.9,
             "#4d9221"
            ],
            [
             1,
             "#276419"
            ]
           ],
           "sequential": [
            [
             0,
             "#0d0887"
            ],
            [
             0.1111111111111111,
             "#46039f"
            ],
            [
             0.2222222222222222,
             "#7201a8"
            ],
            [
             0.3333333333333333,
             "#9c179e"
            ],
            [
             0.4444444444444444,
             "#bd3786"
            ],
            [
             0.5555555555555556,
             "#d8576b"
            ],
            [
             0.6666666666666666,
             "#ed7953"
            ],
            [
             0.7777777777777778,
             "#fb9f3a"
            ],
            [
             0.8888888888888888,
             "#fdca26"
            ],
            [
             1,
             "#f0f921"
            ]
           ],
           "sequentialminus": [
            [
             0,
             "#0d0887"
            ],
            [
             0.1111111111111111,
             "#46039f"
            ],
            [
             0.2222222222222222,
             "#7201a8"
            ],
            [
             0.3333333333333333,
             "#9c179e"
            ],
            [
             0.4444444444444444,
             "#bd3786"
            ],
            [
             0.5555555555555556,
             "#d8576b"
            ],
            [
             0.6666666666666666,
             "#ed7953"
            ],
            [
             0.7777777777777778,
             "#fb9f3a"
            ],
            [
             0.8888888888888888,
             "#fdca26"
            ],
            [
             1,
             "#f0f921"
            ]
           ]
          },
          "colorway": [
           "#636efa",
           "#EF553B",
           "#00cc96",
           "#ab63fa",
           "#FFA15A",
           "#19d3f3",
           "#FF6692",
           "#B6E880",
           "#FF97FF",
           "#FECB52"
          ],
          "font": {
           "color": "#2a3f5f"
          },
          "geo": {
           "bgcolor": "white",
           "lakecolor": "white",
           "landcolor": "#E5ECF6",
           "showlakes": true,
           "showland": true,
           "subunitcolor": "white"
          },
          "hoverlabel": {
           "align": "left"
          },
          "hovermode": "closest",
          "mapbox": {
           "style": "light"
          },
          "paper_bgcolor": "white",
          "plot_bgcolor": "#E5ECF6",
          "polar": {
           "angularaxis": {
            "gridcolor": "white",
            "linecolor": "white",
            "ticks": ""
           },
           "bgcolor": "#E5ECF6",
           "radialaxis": {
            "gridcolor": "white",
            "linecolor": "white",
            "ticks": ""
           }
          },
          "scene": {
           "xaxis": {
            "backgroundcolor": "#E5ECF6",
            "gridcolor": "white",
            "gridwidth": 2,
            "linecolor": "white",
            "showbackground": true,
            "ticks": "",
            "zerolinecolor": "white"
           },
           "yaxis": {
            "backgroundcolor": "#E5ECF6",
            "gridcolor": "white",
            "gridwidth": 2,
            "linecolor": "white",
            "showbackground": true,
            "ticks": "",
            "zerolinecolor": "white"
           },
           "zaxis": {
            "backgroundcolor": "#E5ECF6",
            "gridcolor": "white",
            "gridwidth": 2,
            "linecolor": "white",
            "showbackground": true,
            "ticks": "",
            "zerolinecolor": "white"
           }
          },
          "shapedefaults": {
           "line": {
            "color": "#2a3f5f"
           }
          },
          "ternary": {
           "aaxis": {
            "gridcolor": "white",
            "linecolor": "white",
            "ticks": ""
           },
           "baxis": {
            "gridcolor": "white",
            "linecolor": "white",
            "ticks": ""
           },
           "bgcolor": "#E5ECF6",
           "caxis": {
            "gridcolor": "white",
            "linecolor": "white",
            "ticks": ""
           }
          },
          "title": {
           "x": 0.05
          },
          "xaxis": {
           "automargin": true,
           "gridcolor": "white",
           "linecolor": "white",
           "ticks": "",
           "title": {
            "standoff": 15
           },
           "zerolinecolor": "white",
           "zerolinewidth": 2
          },
          "yaxis": {
           "automargin": true,
           "gridcolor": "white",
           "linecolor": "white",
           "ticks": "",
           "title": {
            "standoff": 15
           },
           "zerolinecolor": "white",
           "zerolinewidth": 2
          }
         }
        },
        "title": {
         "text": "Renter vs Owner Occupied"
        },
        "xaxis": {
         "anchor": "y",
         "domain": [
          0,
          1
         ],
         "tickangle": 45,
         "title": {
          "text": "Neighborhood"
         }
        },
        "yaxis": {
         "anchor": "x",
         "domain": [
          0,
          1
         ],
         "title": {
          "text": "Percent Occupied"
         }
        }
       }
      },
      "text/html": [
       "<div>                            <div id=\"b0497aba-1d20-4a4d-8afd-45b187117cf8\" class=\"plotly-graph-div\" style=\"height:525px; width:100%;\"></div>            <script type=\"text/javascript\">                require([\"plotly\"], function(Plotly) {                    window.PLOTLYENV=window.PLOTLYENV || {};                                    if (document.getElementById(\"b0497aba-1d20-4a4d-8afd-45b187117cf8\")) {                    Plotly.newPlot(                        \"b0497aba-1d20-4a4d-8afd-45b187117cf8\",                        [{\"alignmentgroup\": \"True\", \"hovertemplate\": \"=Renter Occupied<br>Neighborhood=%{x}<br>Percent Occupied=%{y}<extra></extra>\", \"legendgroup\": \"Renter Occupied\", \"marker\": {\"color\": \"#636efa\"}, \"name\": \"Renter Occupied\", \"offsetgroup\": \"Renter Occupied\", \"orientation\": \"v\", \"showlegend\": true, \"textposition\": \"auto\", \"type\": \"bar\", \"x\": [\"Bayview Hunters Point\", \"Bernal Heights\", \"Castro/Upper Market\", \"Chinatown\", \"Excelsior\", \"Financial District\", \"Glen Park\", \"Golden Gate Park\", \"Haight Ashbury\", \"Hayes Valley\", \"Inner Richmond\", \"Inner Sunset\", \"Japantown\", \"Lakeshore\", \"Lincoln Park\", \"Lone Mountain/USF\", \"Marina\", \"McLaren Park\", \"Mission\", \"Mission Bay\", \"Nob Hill\", \"Noe Valley\", \"North Beach\", \"Oceanview/Merced/Ingleside\", \"Outer Mission\", \"Outer Richmond\", \"Pacific Heights\", \"Portola\", \"Potrero Hill\", \"Presidio\", \"Presidio Heights\", \"Russian Hill\", \"Seacliff\", \"South of Market\", \"Sunset/Parkside\", \"Tenderloin\", \"Treasure Island\", \"Twin Peaks\", \"Visitacion Valley\", \"West of Twin Peaks\", \"Western Addition\"], \"xaxis\": \"x\", \"y\": [0.47958071278826, 0.4227925184862984, 0.6090909090909091, 0.9390473432749384, 0.3268039358600583, 0.6777020447906524, 0.3296733461432885, 1.0, 0.6763954761036118, 0.7973476999585578, 0.6435801811401172, 0.5690345785988719, 0.8662842012356575, 0.9486190089358245, 0.37142857142857144, 0.6855881425417849, 0.7452698225723331, 0.8535564853556485, 0.7501261988894498, 0.6582699619771863, 0.862858267200105, 0.47121535181236673, 0.7886295061140226, 0.3072526355899911, 0.34959469417833455, 0.6014368432339695, 0.7345298478345689, 0.335874716670101, 0.546100340387746, 0.974320241691843, 0.6206035379812695, 0.7525944375259443, 0.24691358024691357, 0.8405103668261563, 0.37012412915090004, 0.974502804691484, 1.0, 0.5983347688774046, 0.46608527131782945, 0.2174319177983761, 0.7734007022351631], \"yaxis\": \"y\"}, {\"alignmentgroup\": \"True\", \"hovertemplate\": \"=Owner Occupied<br>Neighborhood=%{x}<br>Percent Occupied=%{y}<extra></extra>\", \"legendgroup\": \"Owner Occupied\", \"marker\": {\"color\": \"#EF553B\"}, \"name\": \"Owner Occupied\", \"offsetgroup\": \"Owner Occupied\", \"orientation\": \"v\", \"showlegend\": true, \"textposition\": \"auto\", \"type\": \"bar\", \"x\": [\"Bayview Hunters Point\", \"Bernal Heights\", \"Castro/Upper Market\", \"Chinatown\", \"Excelsior\", \"Financial District\", \"Glen Park\", \"Golden Gate Park\", \"Haight Ashbury\", \"Hayes Valley\", \"Inner Richmond\", \"Inner Sunset\", \"Japantown\", \"Lakeshore\", \"Lincoln Park\", \"Lone Mountain/USF\", \"Marina\", \"McLaren Park\", \"Mission\", \"Mission Bay\", \"Nob Hill\", \"Noe Valley\", \"North Beach\", \"Oceanview/Merced/Ingleside\", \"Outer Mission\", \"Outer Richmond\", \"Pacific Heights\", \"Portola\", \"Potrero Hill\", \"Presidio\", \"Presidio Heights\", \"Russian Hill\", \"Seacliff\", \"South of Market\", \"Sunset/Parkside\", \"Tenderloin\", \"Treasure Island\", \"Twin Peaks\", \"Visitacion Valley\", \"West of Twin Peaks\", \"Western Addition\"], \"xaxis\": \"x\", \"y\": [0.52041928721174, 0.5772074815137016, 0.39090909090909093, 0.06095265672506153, 0.6731960641399417, 0.3222979552093476, 0.6703266538567115, 0.0, 0.32360452389638816, 0.2026523000414422, 0.3564198188598828, 0.4309654214011281, 0.13371579876434245, 0.051380991064175464, 0.6285714285714286, 0.3144118574582151, 0.25473017742766696, 0.14644351464435146, 0.24987380111055021, 0.3417300380228137, 0.13714173279989506, 0.5287846481876333, 0.21137049388597745, 0.6927473644100088, 0.6504053058216654, 0.39856315676603044, 0.26547015216543113, 0.6641252833298991, 0.453899659612254, 0.0256797583081571, 0.3793964620187305, 0.24740556247405562, 0.7530864197530864, 0.1594896331738437, 0.6298758708491, 0.025497195308516064, 0.0, 0.40166523112259545, 0.5339147286821705, 0.7825680822016239, 0.22659929776483687], \"yaxis\": \"y\"}],                        {\"barmode\": \"relative\", \"legend\": {\"title\": {\"text\": \"\"}, \"tracegroupgap\": 0}, \"template\": {\"data\": {\"bar\": [{\"error_x\": {\"color\": \"#2a3f5f\"}, \"error_y\": {\"color\": \"#2a3f5f\"}, \"marker\": {\"line\": {\"color\": \"#E5ECF6\", \"width\": 0.5}}, \"type\": \"bar\"}], \"barpolar\": [{\"marker\": {\"line\": {\"color\": \"#E5ECF6\", \"width\": 0.5}}, \"type\": \"barpolar\"}], \"carpet\": [{\"aaxis\": {\"endlinecolor\": \"#2a3f5f\", \"gridcolor\": \"white\", \"linecolor\": \"white\", \"minorgridcolor\": \"white\", \"startlinecolor\": \"#2a3f5f\"}, \"baxis\": {\"endlinecolor\": \"#2a3f5f\", \"gridcolor\": \"white\", \"linecolor\": \"white\", \"minorgridcolor\": \"white\", \"startlinecolor\": \"#2a3f5f\"}, \"type\": \"carpet\"}], \"choropleth\": [{\"colorbar\": {\"outlinewidth\": 0, \"ticks\": \"\"}, \"type\": \"choropleth\"}], \"contour\": [{\"colorbar\": {\"outlinewidth\": 0, \"ticks\": \"\"}, \"colorscale\": [[0.0, \"#0d0887\"], [0.1111111111111111, \"#46039f\"], [0.2222222222222222, \"#7201a8\"], [0.3333333333333333, \"#9c179e\"], [0.4444444444444444, \"#bd3786\"], [0.5555555555555556, \"#d8576b\"], [0.6666666666666666, \"#ed7953\"], [0.7777777777777778, \"#fb9f3a\"], [0.8888888888888888, \"#fdca26\"], [1.0, \"#f0f921\"]], \"type\": \"contour\"}], \"contourcarpet\": [{\"colorbar\": {\"outlinewidth\": 0, \"ticks\": \"\"}, \"type\": \"contourcarpet\"}], \"heatmap\": [{\"colorbar\": {\"outlinewidth\": 0, \"ticks\": \"\"}, \"colorscale\": [[0.0, \"#0d0887\"], [0.1111111111111111, \"#46039f\"], [0.2222222222222222, \"#7201a8\"], [0.3333333333333333, \"#9c179e\"], [0.4444444444444444, \"#bd3786\"], [0.5555555555555556, \"#d8576b\"], [0.6666666666666666, \"#ed7953\"], [0.7777777777777778, \"#fb9f3a\"], [0.8888888888888888, \"#fdca26\"], [1.0, \"#f0f921\"]], \"type\": \"heatmap\"}], \"heatmapgl\": [{\"colorbar\": {\"outlinewidth\": 0, \"ticks\": \"\"}, \"colorscale\": [[0.0, \"#0d0887\"], [0.1111111111111111, \"#46039f\"], [0.2222222222222222, \"#7201a8\"], [0.3333333333333333, \"#9c179e\"], [0.4444444444444444, \"#bd3786\"], [0.5555555555555556, \"#d8576b\"], [0.6666666666666666, \"#ed7953\"], [0.7777777777777778, \"#fb9f3a\"], [0.8888888888888888, \"#fdca26\"], [1.0, \"#f0f921\"]], \"type\": \"heatmapgl\"}], \"histogram\": [{\"marker\": {\"colorbar\": {\"outlinewidth\": 0, \"ticks\": \"\"}}, \"type\": \"histogram\"}], \"histogram2d\": [{\"colorbar\": {\"outlinewidth\": 0, \"ticks\": \"\"}, \"colorscale\": [[0.0, \"#0d0887\"], [0.1111111111111111, \"#46039f\"], [0.2222222222222222, \"#7201a8\"], [0.3333333333333333, \"#9c179e\"], [0.4444444444444444, \"#bd3786\"], [0.5555555555555556, \"#d8576b\"], [0.6666666666666666, \"#ed7953\"], [0.7777777777777778, \"#fb9f3a\"], [0.8888888888888888, \"#fdca26\"], [1.0, \"#f0f921\"]], \"type\": \"histogram2d\"}], \"histogram2dcontour\": [{\"colorbar\": {\"outlinewidth\": 0, \"ticks\": \"\"}, \"colorscale\": [[0.0, \"#0d0887\"], [0.1111111111111111, \"#46039f\"], [0.2222222222222222, \"#7201a8\"], [0.3333333333333333, \"#9c179e\"], [0.4444444444444444, \"#bd3786\"], [0.5555555555555556, \"#d8576b\"], [0.6666666666666666, \"#ed7953\"], [0.7777777777777778, \"#fb9f3a\"], [0.8888888888888888, \"#fdca26\"], [1.0, \"#f0f921\"]], \"type\": \"histogram2dcontour\"}], \"mesh3d\": [{\"colorbar\": {\"outlinewidth\": 0, \"ticks\": \"\"}, \"type\": \"mesh3d\"}], \"parcoords\": [{\"line\": {\"colorbar\": {\"outlinewidth\": 0, \"ticks\": \"\"}}, \"type\": \"parcoords\"}], \"pie\": [{\"automargin\": true, \"type\": \"pie\"}], \"scatter\": [{\"marker\": {\"colorbar\": {\"outlinewidth\": 0, \"ticks\": \"\"}}, \"type\": \"scatter\"}], \"scatter3d\": [{\"line\": {\"colorbar\": {\"outlinewidth\": 0, \"ticks\": \"\"}}, \"marker\": {\"colorbar\": {\"outlinewidth\": 0, \"ticks\": \"\"}}, \"type\": \"scatter3d\"}], \"scattercarpet\": [{\"marker\": {\"colorbar\": {\"outlinewidth\": 0, \"ticks\": \"\"}}, \"type\": \"scattercarpet\"}], \"scattergeo\": [{\"marker\": {\"colorbar\": {\"outlinewidth\": 0, \"ticks\": \"\"}}, \"type\": \"scattergeo\"}], \"scattergl\": [{\"marker\": {\"colorbar\": {\"outlinewidth\": 0, \"ticks\": \"\"}}, \"type\": \"scattergl\"}], \"scattermapbox\": [{\"marker\": {\"colorbar\": {\"outlinewidth\": 0, \"ticks\": \"\"}}, \"type\": \"scattermapbox\"}], \"scatterpolar\": [{\"marker\": {\"colorbar\": {\"outlinewidth\": 0, \"ticks\": \"\"}}, \"type\": \"scatterpolar\"}], \"scatterpolargl\": [{\"marker\": {\"colorbar\": {\"outlinewidth\": 0, \"ticks\": \"\"}}, \"type\": \"scatterpolargl\"}], \"scatterternary\": [{\"marker\": {\"colorbar\": {\"outlinewidth\": 0, \"ticks\": \"\"}}, \"type\": \"scatterternary\"}], \"surface\": [{\"colorbar\": {\"outlinewidth\": 0, \"ticks\": \"\"}, \"colorscale\": [[0.0, \"#0d0887\"], [0.1111111111111111, \"#46039f\"], [0.2222222222222222, \"#7201a8\"], [0.3333333333333333, \"#9c179e\"], [0.4444444444444444, \"#bd3786\"], [0.5555555555555556, \"#d8576b\"], [0.6666666666666666, \"#ed7953\"], [0.7777777777777778, \"#fb9f3a\"], [0.8888888888888888, \"#fdca26\"], [1.0, \"#f0f921\"]], \"type\": \"surface\"}], \"table\": [{\"cells\": {\"fill\": {\"color\": \"#EBF0F8\"}, \"line\": {\"color\": \"white\"}}, \"header\": {\"fill\": {\"color\": \"#C8D4E3\"}, \"line\": {\"color\": \"white\"}}, \"type\": \"table\"}]}, \"layout\": {\"annotationdefaults\": {\"arrowcolor\": \"#2a3f5f\", \"arrowhead\": 0, \"arrowwidth\": 1}, \"autotypenumbers\": \"strict\", \"coloraxis\": {\"colorbar\": {\"outlinewidth\": 0, \"ticks\": \"\"}}, \"colorscale\": {\"diverging\": [[0, \"#8e0152\"], [0.1, \"#c51b7d\"], [0.2, \"#de77ae\"], [0.3, \"#f1b6da\"], [0.4, \"#fde0ef\"], [0.5, \"#f7f7f7\"], [0.6, \"#e6f5d0\"], [0.7, \"#b8e186\"], [0.8, \"#7fbc41\"], [0.9, \"#4d9221\"], [1, \"#276419\"]], \"sequential\": [[0.0, \"#0d0887\"], [0.1111111111111111, \"#46039f\"], [0.2222222222222222, \"#7201a8\"], [0.3333333333333333, \"#9c179e\"], [0.4444444444444444, \"#bd3786\"], [0.5555555555555556, \"#d8576b\"], [0.6666666666666666, \"#ed7953\"], [0.7777777777777778, \"#fb9f3a\"], [0.8888888888888888, \"#fdca26\"], [1.0, \"#f0f921\"]], \"sequentialminus\": [[0.0, \"#0d0887\"], [0.1111111111111111, \"#46039f\"], [0.2222222222222222, \"#7201a8\"], [0.3333333333333333, \"#9c179e\"], [0.4444444444444444, \"#bd3786\"], [0.5555555555555556, \"#d8576b\"], [0.6666666666666666, \"#ed7953\"], [0.7777777777777778, \"#fb9f3a\"], [0.8888888888888888, \"#fdca26\"], [1.0, \"#f0f921\"]]}, \"colorway\": [\"#636efa\", \"#EF553B\", \"#00cc96\", \"#ab63fa\", \"#FFA15A\", \"#19d3f3\", \"#FF6692\", \"#B6E880\", \"#FF97FF\", \"#FECB52\"], \"font\": {\"color\": \"#2a3f5f\"}, \"geo\": {\"bgcolor\": \"white\", \"lakecolor\": \"white\", \"landcolor\": \"#E5ECF6\", \"showlakes\": true, \"showland\": true, \"subunitcolor\": \"white\"}, \"hoverlabel\": {\"align\": \"left\"}, \"hovermode\": \"closest\", \"mapbox\": {\"style\": \"light\"}, \"paper_bgcolor\": \"white\", \"plot_bgcolor\": \"#E5ECF6\", \"polar\": {\"angularaxis\": {\"gridcolor\": \"white\", \"linecolor\": \"white\", \"ticks\": \"\"}, \"bgcolor\": \"#E5ECF6\", \"radialaxis\": {\"gridcolor\": \"white\", \"linecolor\": \"white\", \"ticks\": \"\"}}, \"scene\": {\"xaxis\": {\"backgroundcolor\": \"#E5ECF6\", \"gridcolor\": \"white\", \"gridwidth\": 2, \"linecolor\": \"white\", \"showbackground\": true, \"ticks\": \"\", \"zerolinecolor\": \"white\"}, \"yaxis\": {\"backgroundcolor\": \"#E5ECF6\", \"gridcolor\": \"white\", \"gridwidth\": 2, \"linecolor\": \"white\", \"showbackground\": true, \"ticks\": \"\", \"zerolinecolor\": \"white\"}, \"zaxis\": {\"backgroundcolor\": \"#E5ECF6\", \"gridcolor\": \"white\", \"gridwidth\": 2, \"linecolor\": \"white\", \"showbackground\": true, \"ticks\": \"\", \"zerolinecolor\": \"white\"}}, \"shapedefaults\": {\"line\": {\"color\": \"#2a3f5f\"}}, \"ternary\": {\"aaxis\": {\"gridcolor\": \"white\", \"linecolor\": \"white\", \"ticks\": \"\"}, \"baxis\": {\"gridcolor\": \"white\", \"linecolor\": \"white\", \"ticks\": \"\"}, \"bgcolor\": \"#E5ECF6\", \"caxis\": {\"gridcolor\": \"white\", \"linecolor\": \"white\", \"ticks\": \"\"}}, \"title\": {\"x\": 0.05}, \"xaxis\": {\"automargin\": true, \"gridcolor\": \"white\", \"linecolor\": \"white\", \"ticks\": \"\", \"title\": {\"standoff\": 15}, \"zerolinecolor\": \"white\", \"zerolinewidth\": 2}, \"yaxis\": {\"automargin\": true, \"gridcolor\": \"white\", \"linecolor\": \"white\", \"ticks\": \"\", \"title\": {\"standoff\": 15}, \"zerolinecolor\": \"white\", \"zerolinewidth\": 2}}}, \"title\": {\"text\": \"Renter vs Owner Occupied\"}, \"xaxis\": {\"anchor\": \"y\", \"domain\": [0.0, 1.0], \"tickangle\": 45, \"title\": {\"text\": \"Neighborhood\"}}, \"yaxis\": {\"anchor\": \"x\", \"domain\": [0.0, 1.0], \"title\": {\"text\": \"Percent Occupied\"}}},                        {\"responsive\": true}                    ).then(function(){\n",
       "                            \n",
       "var gd = document.getElementById('b0497aba-1d20-4a4d-8afd-45b187117cf8');\n",
       "var x = new MutationObserver(function (mutations, observer) {{\n",
       "        var display = window.getComputedStyle(gd).display;\n",
       "        if (!display || display === 'none') {{\n",
       "            console.log([gd, 'removed!']);\n",
       "            Plotly.purge(gd);\n",
       "            observer.disconnect();\n",
       "        }}\n",
       "}});\n",
       "\n",
       "// Listen for the removal of the full notebook cells\n",
       "var notebookContainer = gd.closest('#notebook-container');\n",
       "if (notebookContainer) {{\n",
       "    x.observe(notebookContainer, {childList: true});\n",
       "}}\n",
       "\n",
       "// Listen for the clearing of the current output cell\n",
       "var outputEl = gd.closest('.output');\n",
       "if (outputEl) {{\n",
       "    x.observe(outputEl, {childList: true});\n",
       "}}\n",
       "\n",
       "                        })                };                });            </script>        </div>"
      ]
     },
     "metadata": {},
     "output_type": "display_data"
    }
   ],
   "source": [
    "melted = pd.melt(df_all_calcs_tp, id_vars=geo_summary_variable, value_vars=['Renter Occupied', 'Owner Occupied'])\n",
    "\n",
    "fig2 = px.bar(melted, x=geo_summary_variable, y=\"value\", color=0, title=\"Renter vs Owner Occupied\", labels={\n",
    "                     \"value\": \"Percent Occupied\",\n",
    "                     '0': \"\"\n",
    "                 },)\n",
    "\n",
    "fig2.update_xaxes(tickangle=45)\n",
    "fig2.show()"
   ]
  },
  {
   "cell_type": "code",
   "execution_count": 16,
   "id": "after-dynamics",
   "metadata": {},
   "outputs": [
    {
     "data": {
      "application/vnd.jupyter.widget-view+json": {
       "model_id": "08febbbc2de942238cddb3f84748f5f0",
       "version_major": 2,
       "version_minor": 0
      },
      "text/plain": [
       "interactive(children=(Dropdown(description='Variable', options=('% Latino (of Any Race)', '% of All Households…"
      ]
     },
     "metadata": {},
     "output_type": "display_data"
    },
    {
     "data": {
      "text/plain": [
       "<function __main__.initiate_map(Variable)>"
      ]
     },
     "execution_count": 16,
     "metadata": {},
     "output_type": "execute_result"
    }
   ],
   "source": [
    "# import neighborhood shapefiles and reproject to web mercator\n",
    "geo_df = geopandas.read_file(geo_path)\n",
    "geo_df = geo_df.to_crs(\"EPSG:4326\")\n",
    "\n",
    "# function to create folium map\n",
    "def initiate_map(Variable):\n",
    "    # subset dataframe for selected variable\n",
    "    df_all_calcs_map = df_all_calcs_tp[[geo_summary_variable, Variable]]\n",
    "\n",
    "    # join dataframe to neighborhoods geodataframe by neighborhood name\n",
    "    neighborhoods_var_df= geo_df.merge(df_all_calcs_map,left_on=geo_merge_variable, right_on=geo_summary_variable)\n",
    "    \n",
    "    # set map details\n",
    "    mymap = folium.Map(location=[37.77,-122.44], zoom_start=12,tiles=None)\n",
    "    folium.TileLayer('CartoDB positron',name=\"Light Map\",control=False).add_to(mymap)\n",
    "\n",
    "    # set legend to 5 equal intervals \n",
    "    var_min = neighborhoods_var_df[Variable].min()\n",
    "    var_max = neighborhoods_var_df[Variable].max()\n",
    "    myscale= np.linspace(var_min, var_max,5)\n",
    "    \n",
    "    # set choropleth details\n",
    "    mymap.choropleth(\n",
    "     geo_data=neighborhoods_var_df,\n",
    "     name='Choropleth',\n",
    "     data=neighborhoods_var_df,\n",
    "     columns=[geo_summary_variable, Variable],\n",
    "     key_on=\"feature.properties.\"+geo_summary_variable,\n",
    "     fill_color='YlGnBu',\n",
    "     threshold_scale=myscale,\n",
    "     fill_opacity=1,\n",
    "     line_opacity=.2,\n",
    "     line_weight = 1,\n",
    "     legend_name=Variable,\n",
    "     smooth_factor=0\n",
    "    )\n",
    "\n",
    "    return mymap\n",
    "\n",
    "variables = df_all_calcs_tp.columns[1:].sort_values()\n",
    "\n",
    "interact(initiate_map, Variable=variables)\n",
    "\n",
    "\n"
   ]
  },
  {
   "cell_type": "markdown",
   "id": "answering-bread",
   "metadata": {},
   "source": [
    "### Export"
   ]
  },
  {
   "cell_type": "code",
   "execution_count": 17,
   "id": "about-imagination",
   "metadata": {},
   "outputs": [],
   "source": [
    "# export both dataset views to csv\n",
    "df_all_calcs.to_csv(os.path.join(supervisor_districts.shp,\"profiles_by_attribute.csv\"), index = False)\n",
    "df_all_calcs_tp.to_csv(os.path.join(download_path,\"profiles_by_geo.csv\"), index = False)"
   ]
  },
  {
   "cell_type": "code",
   "execution_count": null,
   "id": "artificial-burlington",
   "metadata": {},
   "outputs": [],
   "source": []
  }
 ],
 "metadata": {
  "kernelspec": {
   "display_name": "myenv",
   "language": "python",
   "name": "myenv"
  },
  "language_info": {
   "codemirror_mode": {
    "name": "ipython",
    "version": 3
   },
   "file_extension": ".py",
   "mimetype": "text/x-python",
   "name": "python",
   "nbconvert_exporter": "python",
   "pygments_lexer": "ipython3",
   "version": "3.7.8"
  },
  "toc": {
   "base_numbering": 1,
   "nav_menu": {},
   "number_sections": true,
   "sideBar": true,
   "skip_h1_title": false,
   "title_cell": "Table of Contents",
   "title_sidebar": "Contents",
   "toc_cell": false,
   "toc_position": {
    "height": "789px",
    "left": "46px",
    "top": "110px",
    "width": "345px"
   },
   "toc_section_display": true,
   "toc_window_display": true
  }
 },
 "nbformat": 4,
 "nbformat_minor": 5
}
