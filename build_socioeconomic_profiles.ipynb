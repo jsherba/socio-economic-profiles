{
 "cells": [
  {
   "cell_type": "markdown",
   "id": "revolutionary-slovak",
   "metadata": {},
   "source": [
    "# Socio-economic Profiles 2019\n",
    "\n",
    "This code creates the socio-economic profile data for the San Francisco Planning Department's Neighborhood Socio-Economic Profiles. Socio-economic profiles data is derived from the [American Community Survey](https://www.census.gov/programs-surveys/acs) 5-year data and is created annually by the Planning Department. Tract level socio-economic data from is combined at the neighborhood and district level for the City of San Francisco. This code is based off methods created by Michael Webster and others. Run the notebook to:\n",
    "\n",
    "- Download ACS data using the Census API\n",
    "- Calculate socio-economic profiles data\n",
    "- Visualize socio-economic data accross Neighborhoods and Supervisor Districts\n",
    "- Export data to csv. \n"
   ]
  },
  {
   "cell_type": "markdown",
   "id": "super-business",
   "metadata": {},
   "source": [
    "## Import packages"
   ]
  },
  {
   "cell_type": "code",
   "execution_count": 1,
   "id": "functional-stack",
   "metadata": {},
   "outputs": [],
   "source": [
    "# base libraries\n",
    "import requests, json, os\n",
    "import pandas as pd\n",
    "import numpy as np\n",
    "from collections import defaultdict\n",
    "\n",
    "# graph libraries\n",
    "import plotly.express as px\n",
    "from ipywidgets import interact, interactive, fixed, interact_manual\n",
    "import ipywidgets as widgets\n",
    "\n",
    "# map libraries\n",
    "import folium\n",
    "import branca.colormap as cm\n",
    "import geopandas"
   ]
  },
  {
   "cell_type": "markdown",
   "id": "informed-singles",
   "metadata": {},
   "source": [
    "## Retrieve data from Census API\n",
    "All socio-economic data comes from the Census ACS 5-year estimates and is available at the tract level through the census API. API documentation and data for the 2019 ACS data and previous years is available [here](https://www.census.gov/data/developers/data-sets/acs-5year.html)"
   ]
  },
  {
   "cell_type": "markdown",
   "id": "undefined-carol",
   "metadata": {},
   "source": [
    "### Census Attribute IDs\n",
    "The census API returns ACS attribute vales for provided attribute IDs. A list of relevant attribute ID's needed for calculating the socio-economic profile data is compiled below from IDs stored in [attribute_lookup.csv](https://github.com/jsherba/socio-economic-profiles/blob/main/lookup_tables/attribute_lookup.csv). These attribute ID's were derived from the attributes in the [Data_Items_and_Sources.xlsx](https://github.com/jsherba/socio-economic-profiles/raw/main/Data_Items_And_Sources_2019.xlsx) file developed by Michael Webster.\n",
    "\n",
    "For a full list of ACS attribute IDs and their meanings visit the API docs [here](https://api.census.gov/data/2019/acs/acs5/variables.html)."
   ]
  },
  {
   "cell_type": "code",
   "execution_count": 2,
   "id": "awful-material",
   "metadata": {},
   "outputs": [
    {
     "data": {
      "text/plain": [
       "['B25063_015E',\n",
       " 'B19101_011E',\n",
       " 'B16007_003E',\n",
       " 'B25063_022E',\n",
       " 'B16003_011E',\n",
       " 'B25056_003E',\n",
       " 'B23001_094E',\n",
       " 'B01001_003E',\n",
       " 'B01001_016E',\n",
       " 'B16003_006E']"
      ]
     },
     "execution_count": 2,
     "metadata": {},
     "output_type": "execute_result"
    }
   ],
   "source": [
    "# Create list of attribute IDs from attribute_lookup.csv\n",
    "attribute_lookup_df = pd.read_csv (r'./lookup_tables/attribute_lookup.csv', dtype=str)\n",
    "\n",
    "attribute_ids_extracted = attribute_lookup_df['attribute_id'].tolist()\n",
    "attribute_ids = []\n",
    "for attribute_id in attribute_ids_extracted:\n",
    "    attribute_ids.extend(attribute_id.split(\", \"))\n",
    "attribute_ids = list(set([x+\"E\" for x in attribute_ids]))\n",
    "attribute_ids[:10]"
   ]
  },
  {
   "cell_type": "markdown",
   "id": "determined-grain",
   "metadata": {},
   "source": [
    "### Build Census API URL and Make Query\n",
    "The code below builds the URL for the census API call to get relevant 2019 ACS attribute data at the tract level for San Francisco County. The Census API accepts up to 50 attributes at a time. Therefore the attribute list is first grouped into sublists of 45 attribute IDs. An API call is. Below define:\n",
    "- Tract code is '*' to collect all tracts\n",
    "- State code is '06' for CA\n",
    "- County code is '075' for San Francisco County\n",
    "- Attributes are defined by the attribute id list and includes all relevant attributes for the socio-economic data calcs"
   ]
  },
  {
   "cell_type": "code",
   "execution_count": 3,
   "id": "worse-detail",
   "metadata": {},
   "outputs": [],
   "source": [
    "# function builds the api URL from tract_code, state_code, county_code, and attribute ids. \n",
    "def build_census_url(tract_code, state_code, county_code, attribute_ids):\n",
    "    attributes = ','.join(attribute_ids)\n",
    "    census_url = r'https://api.census.gov/data/2019/acs/acs5?get={}&for=tract:{}&in=state:{}&in=county:{}'\\\n",
    "                .format(attributes, tract_code, state_code, county_code)\n",
    "    return census_url\n",
    "    "
   ]
  },
  {
   "cell_type": "code",
   "execution_count": 4,
   "id": "second-costume",
   "metadata": {},
   "outputs": [],
   "source": [
    "# function makes a single api call and collects results in a pandas dataframe\n",
    "def make_census_api_call(census_url):\n",
    "    # make API call to Census\n",
    "    resp = requests.get(census_url)\n",
    "    if resp.status_code != 200:\n",
    "        # this means something went wrong\n",
    "        resp.raise_for_status()\n",
    "       \n",
    "    # retrieve data as json and convert to Pandas Dataframe\n",
    "    data = resp.json()\n",
    "    headers = data.pop(0)\n",
    "    df = pd.DataFrame(data, columns=headers)\n",
    "\n",
    "    # convert values that are not state, county, or tract to numeric type\n",
    "    cols=[i for i in df.columns if i not in [\"state\",\"county\",\"tract\"]]\n",
    "    for col in cols:\n",
    "        df[col]=pd.to_numeric(df[col])\n",
    "        \n",
    "    return df"
   ]
  },
  {
   "cell_type": "code",
   "execution_count": 5,
   "id": "utility-detail",
   "metadata": {},
   "outputs": [
    {
     "data": {
      "text/html": [
       "<div>\n",
       "<style scoped>\n",
       "    .dataframe tbody tr th:only-of-type {\n",
       "        vertical-align: middle;\n",
       "    }\n",
       "\n",
       "    .dataframe tbody tr th {\n",
       "        vertical-align: top;\n",
       "    }\n",
       "\n",
       "    .dataframe thead th {\n",
       "        text-align: right;\n",
       "    }\n",
       "</style>\n",
       "<table border=\"1\" class=\"dataframe\">\n",
       "  <thead>\n",
       "    <tr style=\"text-align: right;\">\n",
       "      <th></th>\n",
       "      <th>B25063_015E</th>\n",
       "      <th>B19101_011E</th>\n",
       "      <th>B16007_003E</th>\n",
       "      <th>B25063_022E</th>\n",
       "      <th>B16003_011E</th>\n",
       "      <th>B25056_003E</th>\n",
       "      <th>B23001_094E</th>\n",
       "      <th>B01001_003E</th>\n",
       "      <th>B01001_016E</th>\n",
       "      <th>B16003_006E</th>\n",
       "      <th>...</th>\n",
       "      <th>B16007_011E</th>\n",
       "      <th>B25070_005E</th>\n",
       "      <th>B25024_011E</th>\n",
       "      <th>B25075_007E</th>\n",
       "      <th>B25056_020E</th>\n",
       "      <th>B16003_009E</th>\n",
       "      <th>B25063_020E</th>\n",
       "      <th>B01001_029E</th>\n",
       "      <th>B25070_009E</th>\n",
       "      <th>B25075_004E</th>\n",
       "    </tr>\n",
       "  </thead>\n",
       "  <tbody>\n",
       "    <tr>\n",
       "      <th>0</th>\n",
       "      <td>0</td>\n",
       "      <td>16</td>\n",
       "      <td>505</td>\n",
       "      <td>20</td>\n",
       "      <td>51</td>\n",
       "      <td>0</td>\n",
       "      <td>0</td>\n",
       "      <td>87</td>\n",
       "      <td>103</td>\n",
       "      <td>0</td>\n",
       "      <td>...</td>\n",
       "      <td>74</td>\n",
       "      <td>26</td>\n",
       "      <td>0</td>\n",
       "      <td>0</td>\n",
       "      <td>40</td>\n",
       "      <td>0</td>\n",
       "      <td>12</td>\n",
       "      <td>103</td>\n",
       "      <td>14</td>\n",
       "      <td>0</td>\n",
       "    </tr>\n",
       "    <tr>\n",
       "      <th>1</th>\n",
       "      <td>25</td>\n",
       "      <td>90</td>\n",
       "      <td>146</td>\n",
       "      <td>44</td>\n",
       "      <td>195</td>\n",
       "      <td>0</td>\n",
       "      <td>5</td>\n",
       "      <td>67</td>\n",
       "      <td>77</td>\n",
       "      <td>34</td>\n",
       "      <td>...</td>\n",
       "      <td>37</td>\n",
       "      <td>44</td>\n",
       "      <td>0</td>\n",
       "      <td>0</td>\n",
       "      <td>45</td>\n",
       "      <td>157</td>\n",
       "      <td>15</td>\n",
       "      <td>66</td>\n",
       "      <td>20</td>\n",
       "      <td>0</td>\n",
       "    </tr>\n",
       "    <tr>\n",
       "      <th>2</th>\n",
       "      <td>0</td>\n",
       "      <td>19</td>\n",
       "      <td>254</td>\n",
       "      <td>27</td>\n",
       "      <td>38</td>\n",
       "      <td>0</td>\n",
       "      <td>0</td>\n",
       "      <td>114</td>\n",
       "      <td>119</td>\n",
       "      <td>7</td>\n",
       "      <td>...</td>\n",
       "      <td>39</td>\n",
       "      <td>22</td>\n",
       "      <td>0</td>\n",
       "      <td>0</td>\n",
       "      <td>14</td>\n",
       "      <td>0</td>\n",
       "      <td>14</td>\n",
       "      <td>99</td>\n",
       "      <td>20</td>\n",
       "      <td>0</td>\n",
       "    </tr>\n",
       "    <tr>\n",
       "      <th>3</th>\n",
       "      <td>0</td>\n",
       "      <td>25</td>\n",
       "      <td>326</td>\n",
       "      <td>50</td>\n",
       "      <td>206</td>\n",
       "      <td>0</td>\n",
       "      <td>0</td>\n",
       "      <td>68</td>\n",
       "      <td>91</td>\n",
       "      <td>12</td>\n",
       "      <td>...</td>\n",
       "      <td>179</td>\n",
       "      <td>70</td>\n",
       "      <td>0</td>\n",
       "      <td>0</td>\n",
       "      <td>0</td>\n",
       "      <td>0</td>\n",
       "      <td>11</td>\n",
       "      <td>86</td>\n",
       "      <td>16</td>\n",
       "      <td>0</td>\n",
       "    </tr>\n",
       "    <tr>\n",
       "      <th>4</th>\n",
       "      <td>0</td>\n",
       "      <td>18</td>\n",
       "      <td>84</td>\n",
       "      <td>136</td>\n",
       "      <td>6</td>\n",
       "      <td>0</td>\n",
       "      <td>393</td>\n",
       "      <td>13</td>\n",
       "      <td>5</td>\n",
       "      <td>0</td>\n",
       "      <td>...</td>\n",
       "      <td>199</td>\n",
       "      <td>69</td>\n",
       "      <td>0</td>\n",
       "      <td>0</td>\n",
       "      <td>85</td>\n",
       "      <td>0</td>\n",
       "      <td>85</td>\n",
       "      <td>0</td>\n",
       "      <td>16</td>\n",
       "      <td>0</td>\n",
       "    </tr>\n",
       "  </tbody>\n",
       "</table>\n",
       "<p>5 rows × 377 columns</p>\n",
       "</div>"
      ],
      "text/plain": [
       "   B25063_015E  B19101_011E  B16007_003E  B25063_022E  B16003_011E  \\\n",
       "0            0           16          505           20           51   \n",
       "1           25           90          146           44          195   \n",
       "2            0           19          254           27           38   \n",
       "3            0           25          326           50          206   \n",
       "4            0           18           84          136            6   \n",
       "\n",
       "   B25056_003E  B23001_094E  B01001_003E  B01001_016E  B16003_006E  ...  \\\n",
       "0            0            0           87          103            0  ...   \n",
       "1            0            5           67           77           34  ...   \n",
       "2            0            0          114          119            7  ...   \n",
       "3            0            0           68           91           12  ...   \n",
       "4            0          393           13            5            0  ...   \n",
       "\n",
       "   B16007_011E  B25070_005E  B25024_011E  B25075_007E  B25056_020E  \\\n",
       "0           74           26            0            0           40   \n",
       "1           37           44            0            0           45   \n",
       "2           39           22            0            0           14   \n",
       "3          179           70            0            0            0   \n",
       "4          199           69            0            0           85   \n",
       "\n",
       "   B16003_009E  B25063_020E  B01001_029E  B25070_009E  B25075_004E  \n",
       "0            0           12          103           14            0  \n",
       "1          157           15           66           20            0  \n",
       "2            0           14           99           20            0  \n",
       "3            0           11           86           16            0  \n",
       "4            0           85            0           16            0  \n",
       "\n",
       "[5 rows x 377 columns]"
      ]
     },
     "execution_count": 5,
     "metadata": {},
     "output_type": "execute_result"
    }
   ],
   "source": [
    "# set geo variables for api call\n",
    "tract_code = \"*\"\n",
    "state_code = \"06\"\n",
    "county_code = \"075\"\n",
    "\n",
    "# split attributes into groups of 45, run a census query for each, merge outputs into a single df\n",
    "split_attribute_ids = [attribute_ids[i:i+45] for i in range(0, len(attribute_ids), 45)]\n",
    "df=None\n",
    "first = True\n",
    "for ids in split_attribute_ids:\n",
    "    census_url = build_census_url(tract_code, state_code, county_code, ids)\n",
    "    returned_df = make_census_api_call(census_url)\n",
    "    if first:\n",
    "        df = returned_df\n",
    "        first = False\n",
    "    else:\n",
    "        returned_df = returned_df.drop(columns=['state', 'county'])\n",
    "        df = pd.merge(df, returned_df, on='tract', how='left')\n",
    "\n",
    "df.head()"
   ]
  },
  {
   "cell_type": "markdown",
   "id": "organized-avenue",
   "metadata": {},
   "source": [
    "## Prepare Lookup Dictionaries and Helper Functions"
   ]
  },
  {
   "cell_type": "markdown",
   "id": "lasting-violence",
   "metadata": {},
   "source": [
    "### Tract/Neighborhood Lookup\n",
    "Two lookup dictionaries are created below that relate neghborhoods to tracts and supervisor districts to tracts. These dictionaries are used to subset the census dataframe for each neighborhood or district so that calcs can be run on each set of tracts. The lookup dictionaries are created from geo_lookup.csv in the repository."
   ]
  },
  {
   "cell_type": "code",
   "execution_count": 6,
   "id": "straight-poverty",
   "metadata": {
    "scrolled": false
   },
   "outputs": [],
   "source": [
    "# import geo_lookup csv\n",
    "geo_lookup_df = pd.read_csv (r'./lookup_tables/geo_lookup.csv', dtype=str)\n",
    "\n",
    "tract_nb_lookup = defaultdict(list)\n",
    "tract_sd_lookup = defaultdict(list)\n",
    "all_tracts = list(set(df['tract'].tolist()))\n",
    "# create tract lookup dictionary for neighborhoods\n",
    "for i, j in zip(geo_lookup_df['neighborhood'], geo_lookup_df['tractid']):\n",
    "    tract_nb_lookup[i].append(j)\n",
    "tract_nb_lookup[\"sf\"]= all_tracts\n",
    "# create tract lookup dictionary for supervisor districts\n",
    "for i, j in zip(geo_lookup_df['supervisor_district'], geo_lookup_df['tractid']):\n",
    "    tract_sd_lookup[i].append(j)\n",
    "tract_sd_lookup[\"sf\"]= all_tracts\n",
    "    \n",
    "first_4 = list(tract_nb_lookup.items())\n"
   ]
  },
  {
   "cell_type": "markdown",
   "id": "surface-reply",
   "metadata": {},
   "source": [
    "### Calculating Medians\n",
    "To calculate median values of aggregated geographies you cannot use the mean of component geographies. Instead a statistical approximation of the median must be calculated from range tables. \n",
    "\n",
    "Range variables in the ACS have a unique ID like any other Census variable. They represent the amount of a variable within a select range. e.g. number of households with household incomes between $45000-50000. Range variable ID's and range information is stored in the median_ranges.csv file in the repository. These range variables and ranges are needed for calculating the median at the neighborhood level. \n",
    "\n",
    "The below function calculates a median based on range data. This method follows the offical ACS documentation for [calculating a median](https://www.dof.ca.gov/Forecasting/Demographics/Census_Data_Center_Network/documents/How_to_Recalculate_a_Median.pdf)\n"
   ]
  },
  {
   "cell_type": "code",
   "execution_count": 7,
   "id": "hollow-background",
   "metadata": {
    "scrolled": true
   },
   "outputs": [
    {
     "data": {
      "text/html": [
       "<div>\n",
       "<style scoped>\n",
       "    .dataframe tbody tr th:only-of-type {\n",
       "        vertical-align: middle;\n",
       "    }\n",
       "\n",
       "    .dataframe tbody tr th {\n",
       "        vertical-align: top;\n",
       "    }\n",
       "\n",
       "    .dataframe thead th {\n",
       "        text-align: right;\n",
       "    }\n",
       "</style>\n",
       "<table border=\"1\" class=\"dataframe\">\n",
       "  <thead>\n",
       "    <tr style=\"text-align: right;\">\n",
       "      <th></th>\n",
       "      <th>name</th>\n",
       "      <th>id</th>\n",
       "      <th>range_start</th>\n",
       "      <th>range_end</th>\n",
       "      <th>households</th>\n",
       "      <th>cumulative_total</th>\n",
       "    </tr>\n",
       "  </thead>\n",
       "  <tbody>\n",
       "    <tr>\n",
       "      <th>0</th>\n",
       "      <td>median_household_income</td>\n",
       "      <td>B19001_002E</td>\n",
       "      <td>2500.0</td>\n",
       "      <td>9999.0</td>\n",
       "      <td>0</td>\n",
       "      <td>0</td>\n",
       "    </tr>\n",
       "    <tr>\n",
       "      <th>1</th>\n",
       "      <td>median_household_income</td>\n",
       "      <td>B19001_003E</td>\n",
       "      <td>10000.0</td>\n",
       "      <td>14999.0</td>\n",
       "      <td>0</td>\n",
       "      <td>0</td>\n",
       "    </tr>\n",
       "    <tr>\n",
       "      <th>2</th>\n",
       "      <td>median_household_income</td>\n",
       "      <td>B19001_004E</td>\n",
       "      <td>15000.0</td>\n",
       "      <td>19999.0</td>\n",
       "      <td>0</td>\n",
       "      <td>0</td>\n",
       "    </tr>\n",
       "    <tr>\n",
       "      <th>3</th>\n",
       "      <td>median_household_income</td>\n",
       "      <td>B19001_005E</td>\n",
       "      <td>20000.0</td>\n",
       "      <td>24999.0</td>\n",
       "      <td>0</td>\n",
       "      <td>0</td>\n",
       "    </tr>\n",
       "    <tr>\n",
       "      <th>4</th>\n",
       "      <td>median_household_income</td>\n",
       "      <td>B19001_006E</td>\n",
       "      <td>25000.0</td>\n",
       "      <td>29999.0</td>\n",
       "      <td>0</td>\n",
       "      <td>0</td>\n",
       "    </tr>\n",
       "  </tbody>\n",
       "</table>\n",
       "</div>"
      ],
      "text/plain": [
       "                      name           id  range_start  range_end  households  \\\n",
       "0  median_household_income  B19001_002E       2500.0     9999.0           0   \n",
       "1  median_household_income  B19001_003E      10000.0    14999.0           0   \n",
       "2  median_household_income  B19001_004E      15000.0    19999.0           0   \n",
       "3  median_household_income  B19001_005E      20000.0    24999.0           0   \n",
       "4  median_household_income  B19001_006E      25000.0    29999.0           0   \n",
       "\n",
       "   cumulative_total  \n",
       "0                 0  \n",
       "1                 0  \n",
       "2                 0  \n",
       "3                 0  \n",
       "4                 0  "
      ]
     },
     "execution_count": 7,
     "metadata": {},
     "output_type": "execute_result"
    }
   ],
   "source": [
    "# import median tables from median_ranges csv and add empty columns for rows 'households and 'cumulative_totals'\n",
    "range_df = pd.read_csv (r'./lookup_tables/median_ranges.csv')\n",
    "range_df['households']=0\n",
    "range_df['cumulative_total']=0\n",
    "range_df.head()"
   ]
  },
  {
   "cell_type": "code",
   "execution_count": 8,
   "id": "julian-dietary",
   "metadata": {},
   "outputs": [],
   "source": [
    "# define median helper function\n",
    "def calc_median(tract_df, range_df, median_to_calc):\n",
    "    \n",
    "    # subset range df for current median variable to calc\n",
    "    range_df = range_df[range_df['name']==median_to_calc]\n",
    "    \n",
    "    # sort dataframe low to high by range start column\n",
    "    range_df = range_df.sort_values(by=['range_start'])\n",
    "    \n",
    "    # calculate households as sum of tract level households for each row based on range id\n",
    "    range_df['households'] = range_df.apply(lambda row : tract_df[row['id']].sum(), axis = 1)\n",
    "    \n",
    "    # calculate the cumulative total of households\n",
    "    range_df['cumulative_total'] = range_df['households'].cumsum()\n",
    "    \n",
    "    # calculate total households and return 0 if total households is 0\n",
    "    total_households = range_df['households'].sum()\n",
    "    \n",
    "    # if total households is 0 set median to 0\n",
    "    if total_households == 0:\n",
    "        return 0\n",
    "    \n",
    "    # calculate midpoint\n",
    "    midpoint = total_households/2\n",
    "\n",
    "    # if midpoint is below first range return median as end of first range value\n",
    "    if midpoint < range_df['cumulative_total'].min():\n",
    "        new_median = range_df['range_end'].min()\n",
    "        return new_median\n",
    "    \n",
    "    # if midpoint is above last range set median to end of last range value\n",
    "    if midpoint > range_df['cumulative_total'].max():\n",
    "        new_median = range_df['range_end'].max()\n",
    "        return new_median\n",
    "    \n",
    "    less_midpoint_df = range_df[range_df['cumulative_total']<midpoint]\n",
    "    \n",
    "    # get the single row containing the range just below the mid range by getting the row with the max range start from the subsetted median df\n",
    "    range_below_mid_range_df = less_midpoint_df[less_midpoint_df['range_start'] == less_midpoint_df['range_start'].max()]\n",
    "    \n",
    "    # get the cumulative total value for the first row of the range below mid range dictionary\n",
    "    total_hh_previous_range = range_below_mid_range_df['cumulative_total'].iloc[0]\n",
    "    hh_to_mid_range = midpoint - total_hh_previous_range\n",
    "    \n",
    "    # extract rows above midrange by subsetting median df for rows with cumulative total grearter than midpoint.\n",
    "    greater_midpoint_df = range_df[range_df['cumulative_total']>midpoint]\n",
    "    \n",
    "    # get the single row containing the mid range by getting the row with the min range start from the subsetted median df\n",
    "    mid_range_df = greater_midpoint_df[greater_midpoint_df['range_start'] == greater_midpoint_df['range_start'].min()]\n",
    "    \n",
    "    # get the households value for the first row of the mid range dictionary\n",
    "    hh_in_mid_range = mid_range_df['households'].iloc[0]\n",
    "    \n",
    "    # calculate proportion of number of households in the mid range that would be needed to get to the mid-point\n",
    "    prop_of_hh = hh_to_mid_range/hh_in_mid_range\n",
    "    \n",
    "    # calculate width of the mid range\n",
    "    width = (mid_range_df['range_end'].iloc[0]-mid_range_df['range_start'].iloc[0])+1\n",
    "    \n",
    "    # apply proportion to width of mid range\n",
    "    prop_to_width = prop_of_hh*width\n",
    "    beginning_of_mid_range = mid_range_df['range_start'].iloc[0]\n",
    "    \n",
    "    # calculate new median\n",
    "    new_median = beginning_of_mid_range + prop_to_width\n",
    "    \n",
    "    return new_median"
   ]
  },
  {
   "cell_type": "markdown",
   "id": "infrared-violation",
   "metadata": {},
   "source": [
    "## Define functions for calculating socio-economic data\n",
    "The `calc_socio_economic_data` function takes tract level data from the API call and the tract/neighborhood lookup dictionary. This function creates all of the socio-economic data calcs and returns a dictionary. The calcs in this function are derived from the [Data_Items_and_Sources.xlsx](https://github.com/jsherba/socio-economic-profiles/raw/main/Data_Items_And_Sources_2019.xlsx) file developed by Michael Webster"
   ]
  },
  {
   "cell_type": "code",
   "execution_count": 9,
   "id": "sensitive-estate",
   "metadata": {},
   "outputs": [],
   "source": [
    "# define other helper functions\n",
    "def calc_sum(df, attribute_id):\n",
    "    return df[attribute_id].sum()\n",
    "\n",
    "def calc_normalized(df, attribute_id, attribute_id2):\n",
    "    if df[attribute_id2].sum() == 0:\n",
    "        return 0\n",
    "    else:\n",
    "        return (df[attribute_id].sum()/df[attribute_id2].sum())\n",
    "\n",
    "def calc_sum_normalized(df, attribute_list, attribute_id2):\n",
    "    if df[attribute_id2].sum()==0:\n",
    "        return 0\n",
    "    else:\n",
    "        sum_of_attributes = 0\n",
    "        for attribute_id in attribute_list:\n",
    "            sum_of_attributes+=df[attribute_id].sum()\n",
    "        return sum_of_attributes/df[attribute_id2].sum()\n"
   ]
  },
  {
   "cell_type": "code",
   "execution_count": 10,
   "id": "likely-ownership",
   "metadata": {},
   "outputs": [],
   "source": [
    "# function runs all calcs for each neighborhood or supervisor district\n",
    "def calc_socio_economic_data(df, tract_lookup):\n",
    "    # create empty dictionary to add calculated attribute information to\n",
    "    all_calc_data = defaultdict(dict) \n",
    "    # calculate all stats for each neighborhood\n",
    "    for nb_name, tracts in tract_lookup.items():\n",
    "        # extract attribute information for tracks associated with a neighborhood\n",
    "        tract_df = df[df['tract'].isin(tracts)]\n",
    "        # build dictionary with all stats for a neighborhood\n",
    "        all_calc_data_nb = all_calc_data[nb_name]\n",
    "        # population\n",
    "        all_calc_data_nb[\"Total Population\"] = calc_sum(tract_df, 'B01001_001E')\n",
    "        all_calc_data_nb[\"Group Quarter Population\"] = calc_sum(tract_df, 'B26001_001E')\n",
    "        all_calc_data_nb[\"Percent Female\"] = calc_normalized(tract_df, 'B01001_026E', 'B01001_001E')\n",
    "        # household stats\n",
    "        all_calc_data_nb[\"Housholds\"] = calc_sum(tract_df, 'B11001_001E')\n",
    "        all_calc_data_nb[\"Family Households\"] = calc_normalized(tract_df, 'B11001_002E', 'B11001_001E')\n",
    "        all_calc_data_nb[\"Non-Family Households\"] = calc_normalized(tract_df, 'B11001_007E', 'B11001_001E')\n",
    "        all_calc_data_nb[\"Single Person Households, % of Total\"] = calc_normalized(tract_df, 'B11001_008E', 'B11001_001E')\n",
    "        all_calc_data_nb[\"Households with Children, % of Total\"] = calc_normalized(tract_df, 'B11005_002E', 'B11001_001E')\n",
    "        all_calc_data_nb[\"Households with 60 years and older, % of Total\"] = calc_normalized(tract_df, 'B11006_002E', 'B11001_001E')\n",
    "        all_calc_data_nb[\"Average Household Size\"] = calc_normalized(tract_df, 'B11002_001E', 'B11001_001E')\n",
    "        all_calc_data_nb[\"Average Family Household Size\"] = calc_normalized(tract_df, 'B11002_002E', 'B11001_002E')\n",
    "        # race and ethnicity stats\n",
    "        all_calc_data_nb[\"Asian\"] = calc_normalized(tract_df, 'B02001_005E', 'B02001_001E')\n",
    "        all_calc_data_nb[\"Black/African American\"] = calc_normalized(tract_df, 'B02001_003E', 'B02001_001E')\n",
    "        all_calc_data_nb[\"White\"] = calc_normalized(tract_df, 'B02001_002E', 'B02001_001E')\n",
    "        all_calc_data_nb[\"Native American Indian\"] = calc_normalized(tract_df, 'B02001_004E', 'B02001_001E')\n",
    "        all_calc_data_nb[\"Native Hawaiian/Pacific Islander\"] = calc_normalized(tract_df, 'B02001_006E', 'B02001_001E')\n",
    "        all_calc_data_nb[\"Other/Two or More Races\"] = calc_sum_normalized(tract_df, ['B02001_008E', 'B02001_007E'], 'B02001_001E')\n",
    "        all_calc_data_nb[\"% Latino (of Any Race)\"] = calc_normalized(tract_df, 'B03001_003E', 'B03001_001E')\n",
    "        # age\n",
    "        all_calc_data_nb[\"0-4 Years\"] = calc_sum_normalized(tract_df, ['B01001_003E', 'B01001_027E'], 'B01001_001E')\n",
    "        all_calc_data_nb[\"5-17 Years\"] = calc_sum_normalized(tract_df, ['B01001_004E', 'B01001_005E', 'B01001_006E', 'B01001_028E', 'B01001_029E', 'B01001_030E'],'B01001_001E')\n",
    "        all_calc_data_nb[\"18-34 Years\"] = calc_sum_normalized(tract_df, ['B01001_007E','B01001_008E','B01001_009E', 'B01001_010E', 'B01001_011E', 'B01001_012E','B01001_031E','B01001_032E','B01001_033E','B01001_034E','B01001_035E','B01001_036E'], 'B01001_001E')\n",
    "        all_calc_data_nb[\"35-59 Years\"] = calc_sum_normalized(tract_df, ['B01001_013E', 'B01001_014E', 'B01001_015E', 'B01001_016E', 'B01001_017E', 'B01001_037E', 'B01001_038E', 'B01001_039E', 'B01001_040E', 'B01001_041E'], 'B01001_001E')\n",
    "        all_calc_data_nb[\"60 and older\"] = calc_sum_normalized(tract_df, ['B01001_018E', 'B01001_019E', 'B01001_020E', 'B01001_021E', 'B01001_022E', 'B01001_023E', 'B01001_024E', 'B01001_025E', 'B01001_042E', 'B01001_043E', 'B01001_044E', 'B01001_045E', 'B01001_046E', 'B01001_047E', 'B01001_048E', 'B01001_049E'], 'B01001_001E')\n",
    "        #all_calc_data_nb[\"Median Age\"]\n",
    "        # educationa attainment\n",
    "        all_calc_data_nb[\"High School or Less\"] = calc_sum_normalized(tract_df, ['B15003_002E', 'B15003_003E', 'B15003_004E', 'B15003_005E', 'B15003_006E', 'B15003_007E', 'B15003_008E', 'B15003_009E', 'B15003_010E', 'B15003_011E', 'B15003_012E', 'B15003_013E', 'B15003_014E', 'B15003_015E', 'B15003_016E', 'B15003_017E', 'B15003_018E'], 'B15003_001E')\n",
    "        all_calc_data_nb[\"Some College/Associate Degree\"] = calc_sum_normalized(tract_df, ['B15003_019E', 'B15003_020E', 'B15003_021E'], 'B15003_001E')\n",
    "        all_calc_data_nb[\"College Degree\"] = calc_normalized(tract_df, 'B15003_022E', 'B15003_001E')\n",
    "        all_calc_data_nb[\"Graduate/Professional Degree\"] = calc_sum_normalized(tract_df, ['B15003_023E', 'B15003_024E', 'B15003_025E'], 'B15003_001E')\n",
    "        # nativity\n",
    "        all_calc_data_nb[\"Foreign Born\"] = calc_normalized(tract_df, 'B05002_013E', 'B05002_001E')\n",
    "        # language spoken at home\n",
    "        all_calc_data_nb[\"English Only\"] = calc_sum_normalized(tract_df, ['B16007_003E', 'B16007_009E', 'B16007_015E'], 'B16007_001E')\n",
    "        all_calc_data_nb[\"Spanish Only\"] = calc_sum_normalized(tract_df, ['B16007_004E', 'B16007_010E', 'B16007_016E'], 'B16007_001E')\n",
    "        all_calc_data_nb[\"Asian/Pacific Islander\"] = calc_sum_normalized(tract_df, ['B16007_006E', 'B16007_012E', 'B16007_018E'], 'B16007_001E')\n",
    "        all_calc_data_nb[\"Other European Languages\"] = calc_sum_normalized(tract_df, ['B16007_005E', 'B16007_011E', 'B16007_017E'], 'B16007_001E')\n",
    "        all_calc_data_nb[\"Other Languages\"] = calc_sum_normalized(tract_df, ['B16007_007E', 'B16007_013E', 'B16007_019E'], 'B16007_001E')\n",
    "        # linguistic isolation\n",
    "        all_calc_data_nb[\"% of All Households\"] = calc_sum_normalized(tract_df, ['B16003_002E', 'B16003_008E'], 'B16004_001E')\n",
    "        all_calc_data_nb[\"% of Spanish-Speaking Households\"] = calc_sum_normalized(tract_df, ['B16003_004E', 'B16003_009E'], 'B16004_001E')\n",
    "        all_calc_data_nb[\"% of Asian-Speaking Households\"] = calc_sum_normalized(tract_df, ['B16003_006E', 'B16003_011E'], 'B16004_001E')\n",
    "        all_calc_data_nb[\"% of Other European-Speaking Households\"] = calc_sum_normalized(tract_df, ['B16003_005E', 'B16003_010E'], 'B16004_001E')\n",
    "        all_calc_data_nb[\"% of Households Speaking Other Languages\"] = calc_sum_normalized(tract_df, ['B16003_007E', 'B16003_012E'], 'B16004_001E')\n",
    "        # housing\n",
    "        all_calc_data_nb[\"Total Number of Units\"] = calc_sum(tract_df, 'B25001_001E')\n",
    "        all_calc_data_nb[\"Median Year Structure Built\"] = calc_median(tract_df, range_df, 'median_year_structure_built')\n",
    "        all_calc_data_nb[\"Owner Occupied\"] = calc_normalized(tract_df, 'B25007_002E', 'B25007_001E')\n",
    "        all_calc_data_nb[\"Renter Occupied\"] = calc_normalized(tract_df, 'B25007_012E', 'B25007_001E')\n",
    "        all_calc_data_nb[\"Vacant Units\"] = calc_normalized(tract_df, 'B25004_001E', 'B25001_001E')\n",
    "        all_calc_data_nb[\"For Rent\"] = calc_normalized(tract_df, 'B25004_002E', 'B25004_001E')\n",
    "        all_calc_data_nb[\"For Sale Only\"] = calc_normalized(tract_df, 'B25004_004E', 'B25004_001E')\n",
    "        all_calc_data_nb[\"Rented or Sold, Not Occupied\"] = calc_sum_normalized(tract_df, ['B25004_003E', 'B25004_005E'], 'B25004_001E')\n",
    "        all_calc_data_nb[\"For Seasonal, Recreation or Occasional Use\"] = calc_normalized(tract_df, 'B25004_006E', 'B25004_001E')\n",
    "        all_calc_data_nb[\"Other Vacant\"] = calc_normalized(tract_df, 'B25004_008E', 'B25004_001E')\n",
    "        all_calc_data_nb[\"Median Year Moved in to Unit (Own)\"] = calc_median(tract_df, range_df, 'median_year_moved_owner')\n",
    "        all_calc_data_nb[\"Median Year Moved in to Unit (Rent)\"] = calc_median(tract_df, range_df, 'median_year_moved_renter')\n",
    "        all_calc_data_nb[\"Percent in Same House Last Year\"] = calc_normalized(tract_df, 'B07001_017E', 'B07001_001E')\n",
    "        all_calc_data_nb[\"Percent Abroad Last Year\"] = calc_normalized(tract_df, 'B07003_016E', 'B07003_001E')\n",
    "        # structure type\n",
    "        all_calc_data_nb[\"Single Family Housing\"] = calc_sum_normalized(tract_df, ['B25024_002E', 'B25024_003E'], 'B25024_001E')\n",
    "        all_calc_data_nb[\"2-4 Units\"] = calc_sum_normalized(tract_df, ['B25024_004E', 'B25024_005E'], 'B25024_001E')\n",
    "        all_calc_data_nb[\"5-9 Units\"] = calc_normalized(tract_df, 'B25024_006E', 'B25024_001E')\n",
    "        all_calc_data_nb[\"10-19 Units\"] = calc_normalized(tract_df, 'B25024_007E', 'B25024_001E')\n",
    "        all_calc_data_nb[\"20 Units or More\"] = calc_sum_normalized(tract_df, ['B25024_008E', 'B25024_009E'], 'B25024_001E')\n",
    "        all_calc_data_nb[\"Other\"] = calc_sum_normalized(tract_df, ['B25024_010E', 'B25024_011E'], 'B25024_001E')\n",
    "        # unit size\n",
    "        all_calc_data_nb[\"No Bedroom\"] = calc_normalized(tract_df,'B25041_002E', 'B25041_001E')\n",
    "        all_calc_data_nb[\"1 Bedroom\"] = calc_normalized(tract_df, 'B25041_003E', 'B25041_001E')\n",
    "        all_calc_data_nb[\"2 Bedrooms\"] = calc_normalized(tract_df, 'B25041_004E', 'B25041_001E')\n",
    "        all_calc_data_nb[\"3-4 Bedrooms\"] = calc_sum_normalized(tract_df, ['B25041_005E', 'B25041_006E'], 'B25041_001E')\n",
    "        all_calc_data_nb[\"5 or More Bedrooms\"] = calc_normalized(tract_df, 'B25041_007E', 'B25041_001E')\n",
    "        # housing prices\n",
    "        all_calc_data_nb[\"Median Rent\"] = calc_median(tract_df, range_df, 'median_rent')\n",
    "        all_calc_data_nb[\"Median Contract Rent\"] = calc_median(tract_df, range_df, 'median_rent_contract')\n",
    "        all_calc_data_nb[\"Median Rent as % of Household Income\"] = calc_median(tract_df, range_df, 'median_rent_percent_of_income')\n",
    "        all_calc_data_nb[\"Median Home Value\"] = calc_median(tract_df, range_df, 'median_home_value')\n",
    "        # vehicles available\n",
    "        all_calc_data_nb[\"Vehicles Available\"] = calc_sum(tract_df, 'B25046_001E')\n",
    "        all_calc_data_nb[\"Vehicles Homeowners\"] = calc_normalized(tract_df, 'B25046_002E', 'B25046_001E')\n",
    "        all_calc_data_nb[\"Vehicles Renters\"] = calc_normalized(tract_df, 'B25046_003E', 'B25046_001E')\n",
    "        all_calc_data_nb[\"Vehicles Per Capita\"] = calc_normalized(tract_df, 'B25046_001E', 'B01001_001E')\n",
    "        all_calc_data_nb[\"Households with no Vehicle\"] = calc_sum_normalized(tract_df, ['B25044_003E', 'B25044_010E'], 'B25044_001E')\n",
    "        all_calc_data_nb[\"Percent of Homeowning Households\"] = calc_normalized(tract_df, 'B25044_003E', 'B25044_002E')\n",
    "        all_calc_data_nb[\"Percent of Renting Households\"] = calc_normalized(tract_df, 'B25044_010E', 'B25044_009E')\n",
    "        # income\n",
    "        all_calc_data_nb[\"Median Household Income (B19013_001)\"] = calc_median(tract_df, range_df, 'median_household_income')\n",
    "        all_calc_data_nb[\"Median Family Income (B19113_001)\"] = calc_median(tract_df, range_df, 'median_family_income')\n",
    "        all_calc_data_nb[\"Per Capita Income\"] = calc_normalized(tract_df, 'B19025_001E', 'B01001_001E')\n",
    "        all_calc_data_nb[\"Percent in Poverty\"] = calc_normalized(tract_df, 'B17001_002E', 'B17001_001E')\n",
    "        # employment\n",
    "        all_calc_data_nb[\"Unemployment Rate\"] = calc_normalized(tract_df, 'B23025_005E', 'B23025_002E')\n",
    "        all_calc_data_nb[\"Percent Unemployment Female\"] = calc_sum_normalized(tract_df, ['B23001_094E', 'B23001_101E', 'B23001_108E', 'B23001_115E', 'B23001_122E', 'B23001_129E', 'B23001_136E', 'B23001_143E', 'B23001_150E', 'B23001_157E', 'B23001_162E', 'B23001_167E', 'B23001_172E', 'B23001_090E', 'B23001_097E', 'B23001_104E', 'B23001_111E', 'B23001_118E', 'B23001_125E', 'B23001_132E', 'B23001_139E', 'B23001_146E', 'B23001_153E', 'B23001_160E', 'B23001_165E', 'B23001_170E'], 'B23025_002E')\n",
    "        all_calc_data_nb[\"Percent Unemployment Male\"] = calc_sum_normalized(tract_df, ['B23001_008E', 'B23001_015E', 'B23001_022E', 'B23001_029E', 'B23001_036E', 'B23001_043E', 'B23001_050E', 'B23001_057E', 'B23001_064E', 'B23001_071E', 'B23001_076E', 'B23001_081E', 'B23001_086E', 'B23001_004E', 'B23001_011E', 'B23001_018E', 'B23001_025E', 'B23001_032E', 'B23001_039E', 'B23001_046E', 'B23001_053E', 'B23001_060E', 'B23001_067E', 'B23001_074E', 'B23001_079E', 'B23001_084E'], 'B23025_002E')\n",
    "        all_calc_data_nb[\"Employed Residents\"] = calc_sum(tract_df, 'C24050_001E')\n",
    "        all_calc_data_nb[\"Managerial Professional\"] = calc_normalized(tract_df, 'C24050_015E', 'C24050_001E')\n",
    "        all_calc_data_nb[\"Services\"] = calc_normalized(tract_df, 'C24050_029E', 'C24050_001E')\n",
    "        all_calc_data_nb[\"Sales and Office\"] = calc_normalized(tract_df, 'C24050_043E', 'C24050_001E')\n",
    "        all_calc_data_nb[\"Natural Resources\"] = calc_normalized(tract_df, 'C24050_057E', 'C24050_001E')\n",
    "        all_calc_data_nb[\"Production Transport Materials\"] = calc_normalized(tract_df, 'C24050_071E', 'C24050_001E')\n",
    "        # journey to work\n",
    "        all_calc_data_nb[\"Workers 16 Years and Older\"] = calc_sum(tract_df, 'B08006_001E')\n",
    "        all_calc_data_nb[\"Car\"] = calc_normalized(tract_df, 'B08006_002E', 'B08006_001E')\n",
    "        all_calc_data_nb[\"Drove Alone\"] = calc_normalized(tract_df, 'B08006_003E', 'B08006_001E')\n",
    "        all_calc_data_nb[\"Carpooled\"] = calc_normalized(tract_df, 'B08006_004E', 'B08006_001E')\n",
    "        all_calc_data_nb[\"Transit\"] = calc_normalized(tract_df, 'B08006_008E', 'B08006_001E')\n",
    "        all_calc_data_nb[\"Bike\"] = calc_normalized(tract_df, 'B08006_014E', 'B08006_001E')\n",
    "        all_calc_data_nb[\"Walk\"] = calc_normalized(tract_df, 'B08006_015E', 'B08006_001E')\n",
    "        all_calc_data_nb[\"Other\"] = calc_normalized(tract_df, 'B08006_016E', 'B08006_001E')\n",
    "        all_calc_data_nb[\"Worked at Home\"] = calc_normalized(tract_df, 'B08006_017E', 'B08006_001E')\n",
    "        # population density\n",
    "        all_calc_data_nb[\"Population Density per Acre\"] = calc_sum(tract_df, 'B01001_001E')\n",
    "            \n",
    "    #return calc dictionary\n",
    "    return all_calc_data"
   ]
  },
  {
   "cell_type": "markdown",
   "id": "greenhouse-negative",
   "metadata": {},
   "source": [
    "## Caculate Socioeconomic Profiles"
   ]
  },
  {
   "cell_type": "markdown",
   "id": "conceptual-concrete",
   "metadata": {},
   "source": [
    "### Set Summary Variables and Output Paths"
   ]
  },
  {
   "cell_type": "code",
   "execution_count": 11,
   "id": "human-george",
   "metadata": {},
   "outputs": [],
   "source": [
    "# set geography to summarize by. If supervisor districts set geo_summary_variable to \"Superisor District\"\n",
    "geo_summary_variable = 'Supervisor District' #'Neighborhood'# \n",
    "\n",
    "# set path to download csvs\n",
    "download_path = r\"./output\"\n",
    "\n",
    "# sets geo variables based on above choice\n",
    "if geo_summary_variable == 'Neighborhood':\n",
    "    tract_lookup = tract_nb_lookup\n",
    "    geo_path = r'./shps/neighborhoods/neighborhoods.shp'\n",
    "    geo_merge_variable = 'nhood'\n",
    "elif geo_summary_variable == 'Supervisor District':\n",
    "    tract_lookup = tract_sd_lookup\n",
    "    geo_path = r'./shps/supervisor_districts/supervisor_districts.shp'\n",
    "    geo_merge_variable = 'sup_dist'"
   ]
  },
  {
   "cell_type": "markdown",
   "id": "affiliated-layout",
   "metadata": {},
   "source": [
    "### Run Socioeconomic Profiles Calcs"
   ]
  },
  {
   "cell_type": "code",
   "execution_count": 12,
   "id": "central-merchandise",
   "metadata": {},
   "outputs": [
    {
     "data": {
      "text/html": [
       "<div>\n",
       "<style scoped>\n",
       "    .dataframe tbody tr th:only-of-type {\n",
       "        vertical-align: middle;\n",
       "    }\n",
       "\n",
       "    .dataframe tbody tr th {\n",
       "        vertical-align: top;\n",
       "    }\n",
       "\n",
       "    .dataframe thead th {\n",
       "        text-align: right;\n",
       "    }\n",
       "</style>\n",
       "<table border=\"1\" class=\"dataframe\">\n",
       "  <thead>\n",
       "    <tr style=\"text-align: right;\">\n",
       "      <th></th>\n",
       "      <th>Attribute</th>\n",
       "      <th>3</th>\n",
       "      <th>2</th>\n",
       "      <th>6</th>\n",
       "      <th>5</th>\n",
       "      <th>1</th>\n",
       "      <th>8</th>\n",
       "      <th>9</th>\n",
       "      <th>10</th>\n",
       "      <th>11</th>\n",
       "      <th>7</th>\n",
       "      <th>4</th>\n",
       "      <th>sf</th>\n",
       "    </tr>\n",
       "  </thead>\n",
       "  <tbody>\n",
       "    <tr>\n",
       "      <th>0</th>\n",
       "      <td>Total Population</td>\n",
       "      <td>73991.000000</td>\n",
       "      <td>69486.000000</td>\n",
       "      <td>84470.000000</td>\n",
       "      <td>86079.000000</td>\n",
       "      <td>81278.000000</td>\n",
       "      <td>74571.000000</td>\n",
       "      <td>87697.000000</td>\n",
       "      <td>75353.000000</td>\n",
       "      <td>87137.000000</td>\n",
       "      <td>76112.000000</td>\n",
       "      <td>78787.000000</td>\n",
       "      <td>874961.000000</td>\n",
       "    </tr>\n",
       "    <tr>\n",
       "      <th>1</th>\n",
       "      <td>Group Quarter Population</td>\n",
       "      <td>1128.000000</td>\n",
       "      <td>761.000000</td>\n",
       "      <td>4992.000000</td>\n",
       "      <td>1912.000000</td>\n",
       "      <td>3292.000000</td>\n",
       "      <td>542.000000</td>\n",
       "      <td>1115.000000</td>\n",
       "      <td>872.000000</td>\n",
       "      <td>1018.000000</td>\n",
       "      <td>4313.000000</td>\n",
       "      <td>422.000000</td>\n",
       "      <td>20367.000000</td>\n",
       "    </tr>\n",
       "    <tr>\n",
       "      <th>2</th>\n",
       "      <td>Percent Female</td>\n",
       "      <td>0.494817</td>\n",
       "      <td>0.514089</td>\n",
       "      <td>0.443021</td>\n",
       "      <td>0.484102</td>\n",
       "      <td>0.525136</td>\n",
       "      <td>0.443617</td>\n",
       "      <td>0.467450</td>\n",
       "      <td>0.507133</td>\n",
       "      <td>0.499627</td>\n",
       "      <td>0.510314</td>\n",
       "      <td>0.506429</td>\n",
       "      <td>0.489936</td>\n",
       "    </tr>\n",
       "    <tr>\n",
       "      <th>3</th>\n",
       "      <td>Housholds</td>\n",
       "      <td>40343.000000</td>\n",
       "      <td>35268.000000</td>\n",
       "      <td>43633.000000</td>\n",
       "      <td>40853.000000</td>\n",
       "      <td>32272.000000</td>\n",
       "      <td>35850.000000</td>\n",
       "      <td>30993.000000</td>\n",
       "      <td>24768.000000</td>\n",
       "      <td>24154.000000</td>\n",
       "      <td>27358.000000</td>\n",
       "      <td>26862.000000</td>\n",
       "      <td>362354.000000</td>\n",
       "    </tr>\n",
       "    <tr>\n",
       "      <th>4</th>\n",
       "      <td>Family Households</td>\n",
       "      <td>0.348883</td>\n",
       "      <td>0.373540</td>\n",
       "      <td>0.338987</td>\n",
       "      <td>0.363939</td>\n",
       "      <td>0.506972</td>\n",
       "      <td>0.416206</td>\n",
       "      <td>0.539799</td>\n",
       "      <td>0.648861</td>\n",
       "      <td>0.742817</td>\n",
       "      <td>0.624461</td>\n",
       "      <td>0.656727</td>\n",
       "      <td>0.479250</td>\n",
       "    </tr>\n",
       "  </tbody>\n",
       "</table>\n",
       "</div>"
      ],
      "text/plain": [
       "                  Attribute             3             2             6  \\\n",
       "0          Total Population  73991.000000  69486.000000  84470.000000   \n",
       "1  Group Quarter Population   1128.000000    761.000000   4992.000000   \n",
       "2            Percent Female      0.494817      0.514089      0.443021   \n",
       "3                 Housholds  40343.000000  35268.000000  43633.000000   \n",
       "4         Family Households      0.348883      0.373540      0.338987   \n",
       "\n",
       "              5             1             8             9            10  \\\n",
       "0  86079.000000  81278.000000  74571.000000  87697.000000  75353.000000   \n",
       "1   1912.000000   3292.000000    542.000000   1115.000000    872.000000   \n",
       "2      0.484102      0.525136      0.443617      0.467450      0.507133   \n",
       "3  40853.000000  32272.000000  35850.000000  30993.000000  24768.000000   \n",
       "4      0.363939      0.506972      0.416206      0.539799      0.648861   \n",
       "\n",
       "             11             7             4             sf  \n",
       "0  87137.000000  76112.000000  78787.000000  874961.000000  \n",
       "1   1018.000000   4313.000000    422.000000   20367.000000  \n",
       "2      0.499627      0.510314      0.506429       0.489936  \n",
       "3  24154.000000  27358.000000  26862.000000  362354.000000  \n",
       "4      0.742817      0.624461      0.656727       0.479250  "
      ]
     },
     "execution_count": 12,
     "metadata": {},
     "output_type": "execute_result"
    }
   ],
   "source": [
    "# run functions to calculate all stats and convert calc dictionary to pandas dataframe\n",
    "all_calc_data = calc_socio_economic_data(df, tract_lookup)\n",
    "df_all_calcs = pd.DataFrame.from_dict(all_calc_data).reset_index()\n",
    "df_all_calcs.rename(columns = {'index':'Attribute'}, inplace = True) \n",
    "df_all_calcs.head()\n"
   ]
  },
  {
   "cell_type": "code",
   "execution_count": 13,
   "id": "automatic-cleaning",
   "metadata": {},
   "outputs": [
    {
     "data": {
      "text/html": [
       "<div>\n",
       "<style scoped>\n",
       "    .dataframe tbody tr th:only-of-type {\n",
       "        vertical-align: middle;\n",
       "    }\n",
       "\n",
       "    .dataframe tbody tr th {\n",
       "        vertical-align: top;\n",
       "    }\n",
       "\n",
       "    .dataframe thead th {\n",
       "        text-align: right;\n",
       "    }\n",
       "</style>\n",
       "<table border=\"1\" class=\"dataframe\">\n",
       "  <thead>\n",
       "    <tr style=\"text-align: right;\">\n",
       "      <th></th>\n",
       "      <th>Supervisor District</th>\n",
       "      <th>Total Population</th>\n",
       "      <th>Group Quarter Population</th>\n",
       "      <th>Percent Female</th>\n",
       "      <th>Housholds</th>\n",
       "      <th>Family Households</th>\n",
       "      <th>Non-Family Households</th>\n",
       "      <th>Single Person Households, % of Total</th>\n",
       "      <th>Households with Children, % of Total</th>\n",
       "      <th>Households with 60 years and older, % of Total</th>\n",
       "      <th>...</th>\n",
       "      <th>Production Transport Materials</th>\n",
       "      <th>Workers 16 Years and Older</th>\n",
       "      <th>Car</th>\n",
       "      <th>Drove Alone</th>\n",
       "      <th>Carpooled</th>\n",
       "      <th>Transit</th>\n",
       "      <th>Bike</th>\n",
       "      <th>Walk</th>\n",
       "      <th>Worked at Home</th>\n",
       "      <th>Population Density per Acre</th>\n",
       "    </tr>\n",
       "  </thead>\n",
       "  <tbody>\n",
       "    <tr>\n",
       "      <th>5</th>\n",
       "      <td>1</td>\n",
       "      <td>81278.0</td>\n",
       "      <td>3292.0</td>\n",
       "      <td>0.525136</td>\n",
       "      <td>32272.0</td>\n",
       "      <td>0.506972</td>\n",
       "      <td>0.493028</td>\n",
       "      <td>0.313182</td>\n",
       "      <td>0.199771</td>\n",
       "      <td>0.392383</td>\n",
       "      <td>...</td>\n",
       "      <td>0.061358</td>\n",
       "      <td>46865.0</td>\n",
       "      <td>0.443999</td>\n",
       "      <td>0.367438</td>\n",
       "      <td>0.07656</td>\n",
       "      <td>0.36125</td>\n",
       "      <td>0.042078</td>\n",
       "      <td>0.056204</td>\n",
       "      <td>0.066937</td>\n",
       "      <td>81278.0</td>\n",
       "    </tr>\n",
       "    <tr>\n",
       "      <th>8</th>\n",
       "      <td>10</td>\n",
       "      <td>75353.0</td>\n",
       "      <td>872.0</td>\n",
       "      <td>0.507133</td>\n",
       "      <td>24768.0</td>\n",
       "      <td>0.648861</td>\n",
       "      <td>0.351139</td>\n",
       "      <td>0.23385</td>\n",
       "      <td>0.331961</td>\n",
       "      <td>0.378916</td>\n",
       "      <td>...</td>\n",
       "      <td>0.10942</td>\n",
       "      <td>38452.0</td>\n",
       "      <td>0.532404</td>\n",
       "      <td>0.424685</td>\n",
       "      <td>0.107719</td>\n",
       "      <td>0.304405</td>\n",
       "      <td>0.034433</td>\n",
       "      <td>0.043899</td>\n",
       "      <td>0.046031</td>\n",
       "      <td>75353.0</td>\n",
       "    </tr>\n",
       "    <tr>\n",
       "      <th>9</th>\n",
       "      <td>11</td>\n",
       "      <td>87137.0</td>\n",
       "      <td>1018.0</td>\n",
       "      <td>0.499627</td>\n",
       "      <td>24154.0</td>\n",
       "      <td>0.742817</td>\n",
       "      <td>0.257183</td>\n",
       "      <td>0.160263</td>\n",
       "      <td>0.302352</td>\n",
       "      <td>0.516892</td>\n",
       "      <td>...</td>\n",
       "      <td>0.108029</td>\n",
       "      <td>46682.0</td>\n",
       "      <td>0.570177</td>\n",
       "      <td>0.464247</td>\n",
       "      <td>0.105929</td>\n",
       "      <td>0.352191</td>\n",
       "      <td>0.010432</td>\n",
       "      <td>0.016023</td>\n",
       "      <td>0.037616</td>\n",
       "      <td>87137.0</td>\n",
       "    </tr>\n",
       "    <tr>\n",
       "      <th>2</th>\n",
       "      <td>2</td>\n",
       "      <td>69486.0</td>\n",
       "      <td>761.0</td>\n",
       "      <td>0.514089</td>\n",
       "      <td>35268.0</td>\n",
       "      <td>0.37354</td>\n",
       "      <td>0.62646</td>\n",
       "      <td>0.446439</td>\n",
       "      <td>0.142169</td>\n",
       "      <td>0.270869</td>\n",
       "      <td>...</td>\n",
       "      <td>0.016079</td>\n",
       "      <td>45855.0</td>\n",
       "      <td>0.382205</td>\n",
       "      <td>0.312005</td>\n",
       "      <td>0.0702</td>\n",
       "      <td>0.327751</td>\n",
       "      <td>0.029375</td>\n",
       "      <td>0.093708</td>\n",
       "      <td>0.092269</td>\n",
       "      <td>69486.0</td>\n",
       "    </tr>\n",
       "    <tr>\n",
       "      <th>1</th>\n",
       "      <td>3</td>\n",
       "      <td>73991.0</td>\n",
       "      <td>1128.0</td>\n",
       "      <td>0.494817</td>\n",
       "      <td>40343.0</td>\n",
       "      <td>0.348883</td>\n",
       "      <td>0.651117</td>\n",
       "      <td>0.495922</td>\n",
       "      <td>0.088293</td>\n",
       "      <td>0.35508</td>\n",
       "      <td>...</td>\n",
       "      <td>0.046243</td>\n",
       "      <td>45465.0</td>\n",
       "      <td>0.188519</td>\n",
       "      <td>0.153459</td>\n",
       "      <td>0.03506</td>\n",
       "      <td>0.292577</td>\n",
       "      <td>0.028813</td>\n",
       "      <td>0.380732</td>\n",
       "      <td>0.061454</td>\n",
       "      <td>73991.0</td>\n",
       "    </tr>\n",
       "  </tbody>\n",
       "</table>\n",
       "<p>5 rows × 97 columns</p>\n",
       "</div>"
      ],
      "text/plain": [
       "0 Supervisor District Total Population Group Quarter Population  \\\n",
       "5                   1          81278.0                   3292.0   \n",
       "8                  10          75353.0                    872.0   \n",
       "9                  11          87137.0                   1018.0   \n",
       "2                   2          69486.0                    761.0   \n",
       "1                   3          73991.0                   1128.0   \n",
       "\n",
       "0 Percent Female Housholds Family Households Non-Family Households  \\\n",
       "5       0.525136   32272.0          0.506972              0.493028   \n",
       "8       0.507133   24768.0          0.648861              0.351139   \n",
       "9       0.499627   24154.0          0.742817              0.257183   \n",
       "2       0.514089   35268.0           0.37354               0.62646   \n",
       "1       0.494817   40343.0          0.348883              0.651117   \n",
       "\n",
       "0 Single Person Households, % of Total Households with Children, % of Total  \\\n",
       "5                             0.313182                             0.199771   \n",
       "8                              0.23385                             0.331961   \n",
       "9                             0.160263                             0.302352   \n",
       "2                             0.446439                             0.142169   \n",
       "1                             0.495922                             0.088293   \n",
       "\n",
       "0 Households with 60 years and older, % of Total  ...  \\\n",
       "5                                       0.392383  ...   \n",
       "8                                       0.378916  ...   \n",
       "9                                       0.516892  ...   \n",
       "2                                       0.270869  ...   \n",
       "1                                        0.35508  ...   \n",
       "\n",
       "0 Production Transport Materials Workers 16 Years and Older       Car  \\\n",
       "5                       0.061358                    46865.0  0.443999   \n",
       "8                        0.10942                    38452.0  0.532404   \n",
       "9                       0.108029                    46682.0  0.570177   \n",
       "2                       0.016079                    45855.0  0.382205   \n",
       "1                       0.046243                    45465.0  0.188519   \n",
       "\n",
       "0 Drove Alone Carpooled   Transit      Bike      Walk Worked at Home  \\\n",
       "5    0.367438   0.07656   0.36125  0.042078  0.056204       0.066937   \n",
       "8    0.424685  0.107719  0.304405  0.034433  0.043899       0.046031   \n",
       "9    0.464247  0.105929  0.352191  0.010432  0.016023       0.037616   \n",
       "2    0.312005    0.0702  0.327751  0.029375  0.093708       0.092269   \n",
       "1    0.153459   0.03506  0.292577  0.028813  0.380732       0.061454   \n",
       "\n",
       "0 Population Density per Acre  \n",
       "5                     81278.0  \n",
       "8                     75353.0  \n",
       "9                     87137.0  \n",
       "2                     69486.0  \n",
       "1                     73991.0  \n",
       "\n",
       "[5 rows x 97 columns]"
      ]
     },
     "execution_count": 13,
     "metadata": {},
     "output_type": "execute_result"
    }
   ],
   "source": [
    "# transpose dataset for second geo view of dataset\n",
    "df_all_calcs_tp = df_all_calcs.T.reset_index()\n",
    "df_all_calcs_tp.columns = df_all_calcs_tp.iloc[0]\n",
    "df_all_calcs_tp = df_all_calcs_tp[1:].rename(columns={'Attribute': geo_summary_variable})\n",
    "df_all_calcs_tp = df_all_calcs_tp.sort_values(by=[geo_summary_variable])\n",
    "df_all_calcs_tp.head()"
   ]
  },
  {
   "cell_type": "markdown",
   "id": "liked-updating",
   "metadata": {},
   "source": [
    "## Visualizations"
   ]
  },
  {
   "cell_type": "code",
   "execution_count": 14,
   "id": "raised-russia",
   "metadata": {},
   "outputs": [
    {
     "data": {
      "application/vnd.jupyter.widget-view+json": {
       "model_id": "abc0f917060142c580705ee582b9ec3b",
       "version_major": 2,
       "version_minor": 0
      },
      "text/plain": [
       "interactive(children=(Dropdown(description='Variable', options=('% Latino (of Any Race)', '% of All Households…"
      ]
     },
     "metadata": {},
     "output_type": "display_data"
    },
    {
     "data": {
      "text/plain": [
       "<function __main__.f(Variable)>"
      ]
     },
     "execution_count": 14,
     "metadata": {},
     "output_type": "execute_result"
    }
   ],
   "source": [
    "def f(Variable):\n",
    "    fig = px.bar(df_all_calcs_tp, x=geo_summary_variable, y=Variable)\n",
    "    fig.update_xaxes(tickangle=45)\n",
    "    fig.show()\n",
    "\n",
    "variables = df_all_calcs_tp.columns[1:].sort_values()\n",
    "\n",
    "interact(f, Variable=variables)"
   ]
  },
  {
   "cell_type": "code",
   "execution_count": 15,
   "id": "contrary-destination",
   "metadata": {
    "scrolled": false
   },
   "outputs": [
    {
     "data": {
      "application/vnd.plotly.v1+json": {
       "config": {
        "plotlyServerURL": "https://plot.ly"
       },
       "data": [
        {
         "alignmentgroup": "True",
         "hovertemplate": "=Renter Occupied<br>Supervisor District=%{x}<br>Percent Occupied=%{y}<extra></extra>",
         "legendgroup": "Renter Occupied",
         "marker": {
          "color": "#636efa"
         },
         "name": "Renter Occupied",
         "offsetgroup": "Renter Occupied",
         "orientation": "v",
         "showlegend": true,
         "textposition": "auto",
         "type": "bar",
         "x": [
          "1",
          "10",
          "11",
          "2",
          "3",
          "4",
          "5",
          "6",
          "7",
          "8",
          "9",
          "sf"
         ],
         "xaxis": "x",
         "y": [
          0.6233886960832921,
          0.505248708010336,
          0.3332781319864205,
          0.7048599296812975,
          0.8601492204347718,
          0.38169160896433624,
          0.7577656475656622,
          0.8197236036944514,
          0.3921704802982674,
          0.5802510460251046,
          0.5602878069241441,
          0.6240168454053219
         ],
         "yaxis": "y"
        },
        {
         "alignmentgroup": "True",
         "hovertemplate": "=Owner Occupied<br>Supervisor District=%{x}<br>Percent Occupied=%{y}<extra></extra>",
         "legendgroup": "Owner Occupied",
         "marker": {
          "color": "#EF553B"
         },
         "name": "Owner Occupied",
         "offsetgroup": "Owner Occupied",
         "orientation": "v",
         "showlegend": true,
         "textposition": "auto",
         "type": "bar",
         "x": [
          "1",
          "10",
          "11",
          "2",
          "3",
          "4",
          "5",
          "6",
          "7",
          "8",
          "9",
          "sf"
         ],
         "xaxis": "x",
         "y": [
          0.376611303916708,
          0.4947512919896641,
          0.6667218680135796,
          0.2951400703187025,
          0.13985077956522818,
          0.6183083910356638,
          0.24223435243433775,
          0.18027639630554856,
          0.6078295197017326,
          0.4197489539748954,
          0.43971219307585585,
          0.3759831545946781
         ],
         "yaxis": "y"
        }
       ],
       "layout": {
        "barmode": "relative",
        "legend": {
         "title": {
          "text": ""
         },
         "tracegroupgap": 0
        },
        "template": {
         "data": {
          "bar": [
           {
            "error_x": {
             "color": "#2a3f5f"
            },
            "error_y": {
             "color": "#2a3f5f"
            },
            "marker": {
             "line": {
              "color": "#E5ECF6",
              "width": 0.5
             }
            },
            "type": "bar"
           }
          ],
          "barpolar": [
           {
            "marker": {
             "line": {
              "color": "#E5ECF6",
              "width": 0.5
             }
            },
            "type": "barpolar"
           }
          ],
          "carpet": [
           {
            "aaxis": {
             "endlinecolor": "#2a3f5f",
             "gridcolor": "white",
             "linecolor": "white",
             "minorgridcolor": "white",
             "startlinecolor": "#2a3f5f"
            },
            "baxis": {
             "endlinecolor": "#2a3f5f",
             "gridcolor": "white",
             "linecolor": "white",
             "minorgridcolor": "white",
             "startlinecolor": "#2a3f5f"
            },
            "type": "carpet"
           }
          ],
          "choropleth": [
           {
            "colorbar": {
             "outlinewidth": 0,
             "ticks": ""
            },
            "type": "choropleth"
           }
          ],
          "contour": [
           {
            "colorbar": {
             "outlinewidth": 0,
             "ticks": ""
            },
            "colorscale": [
             [
              0,
              "#0d0887"
             ],
             [
              0.1111111111111111,
              "#46039f"
             ],
             [
              0.2222222222222222,
              "#7201a8"
             ],
             [
              0.3333333333333333,
              "#9c179e"
             ],
             [
              0.4444444444444444,
              "#bd3786"
             ],
             [
              0.5555555555555556,
              "#d8576b"
             ],
             [
              0.6666666666666666,
              "#ed7953"
             ],
             [
              0.7777777777777778,
              "#fb9f3a"
             ],
             [
              0.8888888888888888,
              "#fdca26"
             ],
             [
              1,
              "#f0f921"
             ]
            ],
            "type": "contour"
           }
          ],
          "contourcarpet": [
           {
            "colorbar": {
             "outlinewidth": 0,
             "ticks": ""
            },
            "type": "contourcarpet"
           }
          ],
          "heatmap": [
           {
            "colorbar": {
             "outlinewidth": 0,
             "ticks": ""
            },
            "colorscale": [
             [
              0,
              "#0d0887"
             ],
             [
              0.1111111111111111,
              "#46039f"
             ],
             [
              0.2222222222222222,
              "#7201a8"
             ],
             [
              0.3333333333333333,
              "#9c179e"
             ],
             [
              0.4444444444444444,
              "#bd3786"
             ],
             [
              0.5555555555555556,
              "#d8576b"
             ],
             [
              0.6666666666666666,
              "#ed7953"
             ],
             [
              0.7777777777777778,
              "#fb9f3a"
             ],
             [
              0.8888888888888888,
              "#fdca26"
             ],
             [
              1,
              "#f0f921"
             ]
            ],
            "type": "heatmap"
           }
          ],
          "heatmapgl": [
           {
            "colorbar": {
             "outlinewidth": 0,
             "ticks": ""
            },
            "colorscale": [
             [
              0,
              "#0d0887"
             ],
             [
              0.1111111111111111,
              "#46039f"
             ],
             [
              0.2222222222222222,
              "#7201a8"
             ],
             [
              0.3333333333333333,
              "#9c179e"
             ],
             [
              0.4444444444444444,
              "#bd3786"
             ],
             [
              0.5555555555555556,
              "#d8576b"
             ],
             [
              0.6666666666666666,
              "#ed7953"
             ],
             [
              0.7777777777777778,
              "#fb9f3a"
             ],
             [
              0.8888888888888888,
              "#fdca26"
             ],
             [
              1,
              "#f0f921"
             ]
            ],
            "type": "heatmapgl"
           }
          ],
          "histogram": [
           {
            "marker": {
             "colorbar": {
              "outlinewidth": 0,
              "ticks": ""
             }
            },
            "type": "histogram"
           }
          ],
          "histogram2d": [
           {
            "colorbar": {
             "outlinewidth": 0,
             "ticks": ""
            },
            "colorscale": [
             [
              0,
              "#0d0887"
             ],
             [
              0.1111111111111111,
              "#46039f"
             ],
             [
              0.2222222222222222,
              "#7201a8"
             ],
             [
              0.3333333333333333,
              "#9c179e"
             ],
             [
              0.4444444444444444,
              "#bd3786"
             ],
             [
              0.5555555555555556,
              "#d8576b"
             ],
             [
              0.6666666666666666,
              "#ed7953"
             ],
             [
              0.7777777777777778,
              "#fb9f3a"
             ],
             [
              0.8888888888888888,
              "#fdca26"
             ],
             [
              1,
              "#f0f921"
             ]
            ],
            "type": "histogram2d"
           }
          ],
          "histogram2dcontour": [
           {
            "colorbar": {
             "outlinewidth": 0,
             "ticks": ""
            },
            "colorscale": [
             [
              0,
              "#0d0887"
             ],
             [
              0.1111111111111111,
              "#46039f"
             ],
             [
              0.2222222222222222,
              "#7201a8"
             ],
             [
              0.3333333333333333,
              "#9c179e"
             ],
             [
              0.4444444444444444,
              "#bd3786"
             ],
             [
              0.5555555555555556,
              "#d8576b"
             ],
             [
              0.6666666666666666,
              "#ed7953"
             ],
             [
              0.7777777777777778,
              "#fb9f3a"
             ],
             [
              0.8888888888888888,
              "#fdca26"
             ],
             [
              1,
              "#f0f921"
             ]
            ],
            "type": "histogram2dcontour"
           }
          ],
          "mesh3d": [
           {
            "colorbar": {
             "outlinewidth": 0,
             "ticks": ""
            },
            "type": "mesh3d"
           }
          ],
          "parcoords": [
           {
            "line": {
             "colorbar": {
              "outlinewidth": 0,
              "ticks": ""
             }
            },
            "type": "parcoords"
           }
          ],
          "pie": [
           {
            "automargin": true,
            "type": "pie"
           }
          ],
          "scatter": [
           {
            "marker": {
             "colorbar": {
              "outlinewidth": 0,
              "ticks": ""
             }
            },
            "type": "scatter"
           }
          ],
          "scatter3d": [
           {
            "line": {
             "colorbar": {
              "outlinewidth": 0,
              "ticks": ""
             }
            },
            "marker": {
             "colorbar": {
              "outlinewidth": 0,
              "ticks": ""
             }
            },
            "type": "scatter3d"
           }
          ],
          "scattercarpet": [
           {
            "marker": {
             "colorbar": {
              "outlinewidth": 0,
              "ticks": ""
             }
            },
            "type": "scattercarpet"
           }
          ],
          "scattergeo": [
           {
            "marker": {
             "colorbar": {
              "outlinewidth": 0,
              "ticks": ""
             }
            },
            "type": "scattergeo"
           }
          ],
          "scattergl": [
           {
            "marker": {
             "colorbar": {
              "outlinewidth": 0,
              "ticks": ""
             }
            },
            "type": "scattergl"
           }
          ],
          "scattermapbox": [
           {
            "marker": {
             "colorbar": {
              "outlinewidth": 0,
              "ticks": ""
             }
            },
            "type": "scattermapbox"
           }
          ],
          "scatterpolar": [
           {
            "marker": {
             "colorbar": {
              "outlinewidth": 0,
              "ticks": ""
             }
            },
            "type": "scatterpolar"
           }
          ],
          "scatterpolargl": [
           {
            "marker": {
             "colorbar": {
              "outlinewidth": 0,
              "ticks": ""
             }
            },
            "type": "scatterpolargl"
           }
          ],
          "scatterternary": [
           {
            "marker": {
             "colorbar": {
              "outlinewidth": 0,
              "ticks": ""
             }
            },
            "type": "scatterternary"
           }
          ],
          "surface": [
           {
            "colorbar": {
             "outlinewidth": 0,
             "ticks": ""
            },
            "colorscale": [
             [
              0,
              "#0d0887"
             ],
             [
              0.1111111111111111,
              "#46039f"
             ],
             [
              0.2222222222222222,
              "#7201a8"
             ],
             [
              0.3333333333333333,
              "#9c179e"
             ],
             [
              0.4444444444444444,
              "#bd3786"
             ],
             [
              0.5555555555555556,
              "#d8576b"
             ],
             [
              0.6666666666666666,
              "#ed7953"
             ],
             [
              0.7777777777777778,
              "#fb9f3a"
             ],
             [
              0.8888888888888888,
              "#fdca26"
             ],
             [
              1,
              "#f0f921"
             ]
            ],
            "type": "surface"
           }
          ],
          "table": [
           {
            "cells": {
             "fill": {
              "color": "#EBF0F8"
             },
             "line": {
              "color": "white"
             }
            },
            "header": {
             "fill": {
              "color": "#C8D4E3"
             },
             "line": {
              "color": "white"
             }
            },
            "type": "table"
           }
          ]
         },
         "layout": {
          "annotationdefaults": {
           "arrowcolor": "#2a3f5f",
           "arrowhead": 0,
           "arrowwidth": 1
          },
          "autotypenumbers": "strict",
          "coloraxis": {
           "colorbar": {
            "outlinewidth": 0,
            "ticks": ""
           }
          },
          "colorscale": {
           "diverging": [
            [
             0,
             "#8e0152"
            ],
            [
             0.1,
             "#c51b7d"
            ],
            [
             0.2,
             "#de77ae"
            ],
            [
             0.3,
             "#f1b6da"
            ],
            [
             0.4,
             "#fde0ef"
            ],
            [
             0.5,
             "#f7f7f7"
            ],
            [
             0.6,
             "#e6f5d0"
            ],
            [
             0.7,
             "#b8e186"
            ],
            [
             0.8,
             "#7fbc41"
            ],
            [
             0.9,
             "#4d9221"
            ],
            [
             1,
             "#276419"
            ]
           ],
           "sequential": [
            [
             0,
             "#0d0887"
            ],
            [
             0.1111111111111111,
             "#46039f"
            ],
            [
             0.2222222222222222,
             "#7201a8"
            ],
            [
             0.3333333333333333,
             "#9c179e"
            ],
            [
             0.4444444444444444,
             "#bd3786"
            ],
            [
             0.5555555555555556,
             "#d8576b"
            ],
            [
             0.6666666666666666,
             "#ed7953"
            ],
            [
             0.7777777777777778,
             "#fb9f3a"
            ],
            [
             0.8888888888888888,
             "#fdca26"
            ],
            [
             1,
             "#f0f921"
            ]
           ],
           "sequentialminus": [
            [
             0,
             "#0d0887"
            ],
            [
             0.1111111111111111,
             "#46039f"
            ],
            [
             0.2222222222222222,
             "#7201a8"
            ],
            [
             0.3333333333333333,
             "#9c179e"
            ],
            [
             0.4444444444444444,
             "#bd3786"
            ],
            [
             0.5555555555555556,
             "#d8576b"
            ],
            [
             0.6666666666666666,
             "#ed7953"
            ],
            [
             0.7777777777777778,
             "#fb9f3a"
            ],
            [
             0.8888888888888888,
             "#fdca26"
            ],
            [
             1,
             "#f0f921"
            ]
           ]
          },
          "colorway": [
           "#636efa",
           "#EF553B",
           "#00cc96",
           "#ab63fa",
           "#FFA15A",
           "#19d3f3",
           "#FF6692",
           "#B6E880",
           "#FF97FF",
           "#FECB52"
          ],
          "font": {
           "color": "#2a3f5f"
          },
          "geo": {
           "bgcolor": "white",
           "lakecolor": "white",
           "landcolor": "#E5ECF6",
           "showlakes": true,
           "showland": true,
           "subunitcolor": "white"
          },
          "hoverlabel": {
           "align": "left"
          },
          "hovermode": "closest",
          "mapbox": {
           "style": "light"
          },
          "paper_bgcolor": "white",
          "plot_bgcolor": "#E5ECF6",
          "polar": {
           "angularaxis": {
            "gridcolor": "white",
            "linecolor": "white",
            "ticks": ""
           },
           "bgcolor": "#E5ECF6",
           "radialaxis": {
            "gridcolor": "white",
            "linecolor": "white",
            "ticks": ""
           }
          },
          "scene": {
           "xaxis": {
            "backgroundcolor": "#E5ECF6",
            "gridcolor": "white",
            "gridwidth": 2,
            "linecolor": "white",
            "showbackground": true,
            "ticks": "",
            "zerolinecolor": "white"
           },
           "yaxis": {
            "backgroundcolor": "#E5ECF6",
            "gridcolor": "white",
            "gridwidth": 2,
            "linecolor": "white",
            "showbackground": true,
            "ticks": "",
            "zerolinecolor": "white"
           },
           "zaxis": {
            "backgroundcolor": "#E5ECF6",
            "gridcolor": "white",
            "gridwidth": 2,
            "linecolor": "white",
            "showbackground": true,
            "ticks": "",
            "zerolinecolor": "white"
           }
          },
          "shapedefaults": {
           "line": {
            "color": "#2a3f5f"
           }
          },
          "ternary": {
           "aaxis": {
            "gridcolor": "white",
            "linecolor": "white",
            "ticks": ""
           },
           "baxis": {
            "gridcolor": "white",
            "linecolor": "white",
            "ticks": ""
           },
           "bgcolor": "#E5ECF6",
           "caxis": {
            "gridcolor": "white",
            "linecolor": "white",
            "ticks": ""
           }
          },
          "title": {
           "x": 0.05
          },
          "xaxis": {
           "automargin": true,
           "gridcolor": "white",
           "linecolor": "white",
           "ticks": "",
           "title": {
            "standoff": 15
           },
           "zerolinecolor": "white",
           "zerolinewidth": 2
          },
          "yaxis": {
           "automargin": true,
           "gridcolor": "white",
           "linecolor": "white",
           "ticks": "",
           "title": {
            "standoff": 15
           },
           "zerolinecolor": "white",
           "zerolinewidth": 2
          }
         }
        },
        "title": {
         "text": "Renter vs Owner Occupied"
        },
        "xaxis": {
         "anchor": "y",
         "domain": [
          0,
          1
         ],
         "tickangle": 45,
         "title": {
          "text": "Supervisor District"
         }
        },
        "yaxis": {
         "anchor": "x",
         "domain": [
          0,
          1
         ],
         "title": {
          "text": "Percent Occupied"
         }
        }
       }
      },
      "text/html": [
       "<div>                            <div id=\"22557ff7-e20f-44ee-8df6-edc2e208a23a\" class=\"plotly-graph-div\" style=\"height:525px; width:100%;\"></div>            <script type=\"text/javascript\">                require([\"plotly\"], function(Plotly) {                    window.PLOTLYENV=window.PLOTLYENV || {};                                    if (document.getElementById(\"22557ff7-e20f-44ee-8df6-edc2e208a23a\")) {                    Plotly.newPlot(                        \"22557ff7-e20f-44ee-8df6-edc2e208a23a\",                        [{\"alignmentgroup\": \"True\", \"hovertemplate\": \"=Renter Occupied<br>Supervisor District=%{x}<br>Percent Occupied=%{y}<extra></extra>\", \"legendgroup\": \"Renter Occupied\", \"marker\": {\"color\": \"#636efa\"}, \"name\": \"Renter Occupied\", \"offsetgroup\": \"Renter Occupied\", \"orientation\": \"v\", \"showlegend\": true, \"textposition\": \"auto\", \"type\": \"bar\", \"x\": [\"1\", \"10\", \"11\", \"2\", \"3\", \"4\", \"5\", \"6\", \"7\", \"8\", \"9\", \"sf\"], \"xaxis\": \"x\", \"y\": [0.6233886960832921, 0.505248708010336, 0.3332781319864205, 0.7048599296812975, 0.8601492204347718, 0.38169160896433624, 0.7577656475656622, 0.8197236036944514, 0.3921704802982674, 0.5802510460251046, 0.5602878069241441, 0.6240168454053219], \"yaxis\": \"y\"}, {\"alignmentgroup\": \"True\", \"hovertemplate\": \"=Owner Occupied<br>Supervisor District=%{x}<br>Percent Occupied=%{y}<extra></extra>\", \"legendgroup\": \"Owner Occupied\", \"marker\": {\"color\": \"#EF553B\"}, \"name\": \"Owner Occupied\", \"offsetgroup\": \"Owner Occupied\", \"orientation\": \"v\", \"showlegend\": true, \"textposition\": \"auto\", \"type\": \"bar\", \"x\": [\"1\", \"10\", \"11\", \"2\", \"3\", \"4\", \"5\", \"6\", \"7\", \"8\", \"9\", \"sf\"], \"xaxis\": \"x\", \"y\": [0.376611303916708, 0.4947512919896641, 0.6667218680135796, 0.2951400703187025, 0.13985077956522818, 0.6183083910356638, 0.24223435243433775, 0.18027639630554856, 0.6078295197017326, 0.4197489539748954, 0.43971219307585585, 0.3759831545946781], \"yaxis\": \"y\"}],                        {\"barmode\": \"relative\", \"legend\": {\"title\": {\"text\": \"\"}, \"tracegroupgap\": 0}, \"template\": {\"data\": {\"bar\": [{\"error_x\": {\"color\": \"#2a3f5f\"}, \"error_y\": {\"color\": \"#2a3f5f\"}, \"marker\": {\"line\": {\"color\": \"#E5ECF6\", \"width\": 0.5}}, \"type\": \"bar\"}], \"barpolar\": [{\"marker\": {\"line\": {\"color\": \"#E5ECF6\", \"width\": 0.5}}, \"type\": \"barpolar\"}], \"carpet\": [{\"aaxis\": {\"endlinecolor\": \"#2a3f5f\", \"gridcolor\": \"white\", \"linecolor\": \"white\", \"minorgridcolor\": \"white\", \"startlinecolor\": \"#2a3f5f\"}, \"baxis\": {\"endlinecolor\": \"#2a3f5f\", \"gridcolor\": \"white\", \"linecolor\": \"white\", \"minorgridcolor\": \"white\", \"startlinecolor\": \"#2a3f5f\"}, \"type\": \"carpet\"}], \"choropleth\": [{\"colorbar\": {\"outlinewidth\": 0, \"ticks\": \"\"}, \"type\": \"choropleth\"}], \"contour\": [{\"colorbar\": {\"outlinewidth\": 0, \"ticks\": \"\"}, \"colorscale\": [[0.0, \"#0d0887\"], [0.1111111111111111, \"#46039f\"], [0.2222222222222222, \"#7201a8\"], [0.3333333333333333, \"#9c179e\"], [0.4444444444444444, \"#bd3786\"], [0.5555555555555556, \"#d8576b\"], [0.6666666666666666, \"#ed7953\"], [0.7777777777777778, \"#fb9f3a\"], [0.8888888888888888, \"#fdca26\"], [1.0, \"#f0f921\"]], \"type\": \"contour\"}], \"contourcarpet\": [{\"colorbar\": {\"outlinewidth\": 0, \"ticks\": \"\"}, \"type\": \"contourcarpet\"}], \"heatmap\": [{\"colorbar\": {\"outlinewidth\": 0, \"ticks\": \"\"}, \"colorscale\": [[0.0, \"#0d0887\"], [0.1111111111111111, \"#46039f\"], [0.2222222222222222, \"#7201a8\"], [0.3333333333333333, \"#9c179e\"], [0.4444444444444444, \"#bd3786\"], [0.5555555555555556, \"#d8576b\"], [0.6666666666666666, \"#ed7953\"], [0.7777777777777778, \"#fb9f3a\"], [0.8888888888888888, \"#fdca26\"], [1.0, \"#f0f921\"]], \"type\": \"heatmap\"}], \"heatmapgl\": [{\"colorbar\": {\"outlinewidth\": 0, \"ticks\": \"\"}, \"colorscale\": [[0.0, \"#0d0887\"], [0.1111111111111111, \"#46039f\"], [0.2222222222222222, \"#7201a8\"], [0.3333333333333333, \"#9c179e\"], [0.4444444444444444, \"#bd3786\"], [0.5555555555555556, \"#d8576b\"], [0.6666666666666666, \"#ed7953\"], [0.7777777777777778, \"#fb9f3a\"], [0.8888888888888888, \"#fdca26\"], [1.0, \"#f0f921\"]], \"type\": \"heatmapgl\"}], \"histogram\": [{\"marker\": {\"colorbar\": {\"outlinewidth\": 0, \"ticks\": \"\"}}, \"type\": \"histogram\"}], \"histogram2d\": [{\"colorbar\": {\"outlinewidth\": 0, \"ticks\": \"\"}, \"colorscale\": [[0.0, \"#0d0887\"], [0.1111111111111111, \"#46039f\"], [0.2222222222222222, \"#7201a8\"], [0.3333333333333333, \"#9c179e\"], [0.4444444444444444, \"#bd3786\"], [0.5555555555555556, \"#d8576b\"], [0.6666666666666666, \"#ed7953\"], [0.7777777777777778, \"#fb9f3a\"], [0.8888888888888888, \"#fdca26\"], [1.0, \"#f0f921\"]], \"type\": \"histogram2d\"}], \"histogram2dcontour\": [{\"colorbar\": {\"outlinewidth\": 0, \"ticks\": \"\"}, \"colorscale\": [[0.0, \"#0d0887\"], [0.1111111111111111, \"#46039f\"], [0.2222222222222222, \"#7201a8\"], [0.3333333333333333, \"#9c179e\"], [0.4444444444444444, \"#bd3786\"], [0.5555555555555556, \"#d8576b\"], [0.6666666666666666, \"#ed7953\"], [0.7777777777777778, \"#fb9f3a\"], [0.8888888888888888, \"#fdca26\"], [1.0, \"#f0f921\"]], \"type\": \"histogram2dcontour\"}], \"mesh3d\": [{\"colorbar\": {\"outlinewidth\": 0, \"ticks\": \"\"}, \"type\": \"mesh3d\"}], \"parcoords\": [{\"line\": {\"colorbar\": {\"outlinewidth\": 0, \"ticks\": \"\"}}, \"type\": \"parcoords\"}], \"pie\": [{\"automargin\": true, \"type\": \"pie\"}], \"scatter\": [{\"marker\": {\"colorbar\": {\"outlinewidth\": 0, \"ticks\": \"\"}}, \"type\": \"scatter\"}], \"scatter3d\": [{\"line\": {\"colorbar\": {\"outlinewidth\": 0, \"ticks\": \"\"}}, \"marker\": {\"colorbar\": {\"outlinewidth\": 0, \"ticks\": \"\"}}, \"type\": \"scatter3d\"}], \"scattercarpet\": [{\"marker\": {\"colorbar\": {\"outlinewidth\": 0, \"ticks\": \"\"}}, \"type\": \"scattercarpet\"}], \"scattergeo\": [{\"marker\": {\"colorbar\": {\"outlinewidth\": 0, \"ticks\": \"\"}}, \"type\": \"scattergeo\"}], \"scattergl\": [{\"marker\": {\"colorbar\": {\"outlinewidth\": 0, \"ticks\": \"\"}}, \"type\": \"scattergl\"}], \"scattermapbox\": [{\"marker\": {\"colorbar\": {\"outlinewidth\": 0, \"ticks\": \"\"}}, \"type\": \"scattermapbox\"}], \"scatterpolar\": [{\"marker\": {\"colorbar\": {\"outlinewidth\": 0, \"ticks\": \"\"}}, \"type\": \"scatterpolar\"}], \"scatterpolargl\": [{\"marker\": {\"colorbar\": {\"outlinewidth\": 0, \"ticks\": \"\"}}, \"type\": \"scatterpolargl\"}], \"scatterternary\": [{\"marker\": {\"colorbar\": {\"outlinewidth\": 0, \"ticks\": \"\"}}, \"type\": \"scatterternary\"}], \"surface\": [{\"colorbar\": {\"outlinewidth\": 0, \"ticks\": \"\"}, \"colorscale\": [[0.0, \"#0d0887\"], [0.1111111111111111, \"#46039f\"], [0.2222222222222222, \"#7201a8\"], [0.3333333333333333, \"#9c179e\"], [0.4444444444444444, \"#bd3786\"], [0.5555555555555556, \"#d8576b\"], [0.6666666666666666, \"#ed7953\"], [0.7777777777777778, \"#fb9f3a\"], [0.8888888888888888, \"#fdca26\"], [1.0, \"#f0f921\"]], \"type\": \"surface\"}], \"table\": [{\"cells\": {\"fill\": {\"color\": \"#EBF0F8\"}, \"line\": {\"color\": \"white\"}}, \"header\": {\"fill\": {\"color\": \"#C8D4E3\"}, \"line\": {\"color\": \"white\"}}, \"type\": \"table\"}]}, \"layout\": {\"annotationdefaults\": {\"arrowcolor\": \"#2a3f5f\", \"arrowhead\": 0, \"arrowwidth\": 1}, \"autotypenumbers\": \"strict\", \"coloraxis\": {\"colorbar\": {\"outlinewidth\": 0, \"ticks\": \"\"}}, \"colorscale\": {\"diverging\": [[0, \"#8e0152\"], [0.1, \"#c51b7d\"], [0.2, \"#de77ae\"], [0.3, \"#f1b6da\"], [0.4, \"#fde0ef\"], [0.5, \"#f7f7f7\"], [0.6, \"#e6f5d0\"], [0.7, \"#b8e186\"], [0.8, \"#7fbc41\"], [0.9, \"#4d9221\"], [1, \"#276419\"]], \"sequential\": [[0.0, \"#0d0887\"], [0.1111111111111111, \"#46039f\"], [0.2222222222222222, \"#7201a8\"], [0.3333333333333333, \"#9c179e\"], [0.4444444444444444, \"#bd3786\"], [0.5555555555555556, \"#d8576b\"], [0.6666666666666666, \"#ed7953\"], [0.7777777777777778, \"#fb9f3a\"], [0.8888888888888888, \"#fdca26\"], [1.0, \"#f0f921\"]], \"sequentialminus\": [[0.0, \"#0d0887\"], [0.1111111111111111, \"#46039f\"], [0.2222222222222222, \"#7201a8\"], [0.3333333333333333, \"#9c179e\"], [0.4444444444444444, \"#bd3786\"], [0.5555555555555556, \"#d8576b\"], [0.6666666666666666, \"#ed7953\"], [0.7777777777777778, \"#fb9f3a\"], [0.8888888888888888, \"#fdca26\"], [1.0, \"#f0f921\"]]}, \"colorway\": [\"#636efa\", \"#EF553B\", \"#00cc96\", \"#ab63fa\", \"#FFA15A\", \"#19d3f3\", \"#FF6692\", \"#B6E880\", \"#FF97FF\", \"#FECB52\"], \"font\": {\"color\": \"#2a3f5f\"}, \"geo\": {\"bgcolor\": \"white\", \"lakecolor\": \"white\", \"landcolor\": \"#E5ECF6\", \"showlakes\": true, \"showland\": true, \"subunitcolor\": \"white\"}, \"hoverlabel\": {\"align\": \"left\"}, \"hovermode\": \"closest\", \"mapbox\": {\"style\": \"light\"}, \"paper_bgcolor\": \"white\", \"plot_bgcolor\": \"#E5ECF6\", \"polar\": {\"angularaxis\": {\"gridcolor\": \"white\", \"linecolor\": \"white\", \"ticks\": \"\"}, \"bgcolor\": \"#E5ECF6\", \"radialaxis\": {\"gridcolor\": \"white\", \"linecolor\": \"white\", \"ticks\": \"\"}}, \"scene\": {\"xaxis\": {\"backgroundcolor\": \"#E5ECF6\", \"gridcolor\": \"white\", \"gridwidth\": 2, \"linecolor\": \"white\", \"showbackground\": true, \"ticks\": \"\", \"zerolinecolor\": \"white\"}, \"yaxis\": {\"backgroundcolor\": \"#E5ECF6\", \"gridcolor\": \"white\", \"gridwidth\": 2, \"linecolor\": \"white\", \"showbackground\": true, \"ticks\": \"\", \"zerolinecolor\": \"white\"}, \"zaxis\": {\"backgroundcolor\": \"#E5ECF6\", \"gridcolor\": \"white\", \"gridwidth\": 2, \"linecolor\": \"white\", \"showbackground\": true, \"ticks\": \"\", \"zerolinecolor\": \"white\"}}, \"shapedefaults\": {\"line\": {\"color\": \"#2a3f5f\"}}, \"ternary\": {\"aaxis\": {\"gridcolor\": \"white\", \"linecolor\": \"white\", \"ticks\": \"\"}, \"baxis\": {\"gridcolor\": \"white\", \"linecolor\": \"white\", \"ticks\": \"\"}, \"bgcolor\": \"#E5ECF6\", \"caxis\": {\"gridcolor\": \"white\", \"linecolor\": \"white\", \"ticks\": \"\"}}, \"title\": {\"x\": 0.05}, \"xaxis\": {\"automargin\": true, \"gridcolor\": \"white\", \"linecolor\": \"white\", \"ticks\": \"\", \"title\": {\"standoff\": 15}, \"zerolinecolor\": \"white\", \"zerolinewidth\": 2}, \"yaxis\": {\"automargin\": true, \"gridcolor\": \"white\", \"linecolor\": \"white\", \"ticks\": \"\", \"title\": {\"standoff\": 15}, \"zerolinecolor\": \"white\", \"zerolinewidth\": 2}}}, \"title\": {\"text\": \"Renter vs Owner Occupied\"}, \"xaxis\": {\"anchor\": \"y\", \"domain\": [0.0, 1.0], \"tickangle\": 45, \"title\": {\"text\": \"Supervisor District\"}}, \"yaxis\": {\"anchor\": \"x\", \"domain\": [0.0, 1.0], \"title\": {\"text\": \"Percent Occupied\"}}},                        {\"responsive\": true}                    ).then(function(){\n",
       "                            \n",
       "var gd = document.getElementById('22557ff7-e20f-44ee-8df6-edc2e208a23a');\n",
       "var x = new MutationObserver(function (mutations, observer) {{\n",
       "        var display = window.getComputedStyle(gd).display;\n",
       "        if (!display || display === 'none') {{\n",
       "            console.log([gd, 'removed!']);\n",
       "            Plotly.purge(gd);\n",
       "            observer.disconnect();\n",
       "        }}\n",
       "}});\n",
       "\n",
       "// Listen for the removal of the full notebook cells\n",
       "var notebookContainer = gd.closest('#notebook-container');\n",
       "if (notebookContainer) {{\n",
       "    x.observe(notebookContainer, {childList: true});\n",
       "}}\n",
       "\n",
       "// Listen for the clearing of the current output cell\n",
       "var outputEl = gd.closest('.output');\n",
       "if (outputEl) {{\n",
       "    x.observe(outputEl, {childList: true});\n",
       "}}\n",
       "\n",
       "                        })                };                });            </script>        </div>"
      ]
     },
     "metadata": {},
     "output_type": "display_data"
    }
   ],
   "source": [
    "melted = pd.melt(df_all_calcs_tp, id_vars=geo_summary_variable, value_vars=['Renter Occupied', 'Owner Occupied'])\n",
    "\n",
    "fig2 = px.bar(melted, x=geo_summary_variable, y=\"value\", color=0, title=\"Renter vs Owner Occupied\", labels={\n",
    "                     \"value\": \"Percent Occupied\",\n",
    "                     '0': \"\"\n",
    "                 },)\n",
    "\n",
    "fig2.update_xaxes(tickangle=45)\n",
    "fig2.show()"
   ]
  },
  {
   "cell_type": "code",
   "execution_count": 16,
   "id": "after-dynamics",
   "metadata": {
    "scrolled": false
   },
   "outputs": [
    {
     "ename": "DriverError",
     "evalue": "./shps/supervisor_districts/supervisor_districts.shp: No such file or directory",
     "output_type": "error",
     "traceback": [
      "\u001b[1;31m---------------------------------------------------------------------------\u001b[0m",
      "\u001b[1;31mCPLE_OpenFailedError\u001b[0m                      Traceback (most recent call last)",
      "\u001b[1;32mfiona\\_shim.pyx\u001b[0m in \u001b[0;36mfiona._shim.gdal_open_vector\u001b[1;34m()\u001b[0m\n",
      "\u001b[1;32mfiona\\_err.pyx\u001b[0m in \u001b[0;36mfiona._err.exc_wrap_pointer\u001b[1;34m()\u001b[0m\n",
      "\u001b[1;31mCPLE_OpenFailedError\u001b[0m: ./shps/supervisor_districts/supervisor_districts.shp: No such file or directory",
      "\nDuring handling of the above exception, another exception occurred:\n",
      "\u001b[1;31mDriverError\u001b[0m                               Traceback (most recent call last)",
      "\u001b[1;32m<ipython-input-16-a5af082f3439>\u001b[0m in \u001b[0;36m<module>\u001b[1;34m\u001b[0m\n\u001b[0;32m      1\u001b[0m \u001b[1;31m# import neighborhood shapefiles and reproject to web mercator\u001b[0m\u001b[1;33m\u001b[0m\u001b[1;33m\u001b[0m\u001b[1;33m\u001b[0m\u001b[0m\n\u001b[1;32m----> 2\u001b[1;33m \u001b[0mgeo_df\u001b[0m \u001b[1;33m=\u001b[0m \u001b[0mgeopandas\u001b[0m\u001b[1;33m.\u001b[0m\u001b[0mread_file\u001b[0m\u001b[1;33m(\u001b[0m\u001b[0mgeo_path\u001b[0m\u001b[1;33m)\u001b[0m\u001b[1;33m\u001b[0m\u001b[1;33m\u001b[0m\u001b[0m\n\u001b[0m\u001b[0;32m      3\u001b[0m \u001b[0mgeo_df\u001b[0m \u001b[1;33m=\u001b[0m \u001b[0mgeo_df\u001b[0m\u001b[1;33m.\u001b[0m\u001b[0mto_crs\u001b[0m\u001b[1;33m(\u001b[0m\u001b[1;34m\"EPSG:4326\"\u001b[0m\u001b[1;33m)\u001b[0m\u001b[1;33m\u001b[0m\u001b[1;33m\u001b[0m\u001b[0m\n\u001b[0;32m      4\u001b[0m \u001b[1;33m\u001b[0m\u001b[0m\n\u001b[0;32m      5\u001b[0m \u001b[1;31m# function to create folium map\u001b[0m\u001b[1;33m\u001b[0m\u001b[1;33m\u001b[0m\u001b[1;33m\u001b[0m\u001b[0m\n",
      "\u001b[1;32m~\\Documents\\2021_03_10_socioeconomic_profiles\\myenv\\lib\\site-packages\\geopandas\\io\\file.py\u001b[0m in \u001b[0;36m_read_file\u001b[1;34m(filename, bbox, mask, rows, **kwargs)\u001b[0m\n\u001b[0;32m    158\u001b[0m \u001b[1;33m\u001b[0m\u001b[0m\n\u001b[0;32m    159\u001b[0m     \u001b[1;32mwith\u001b[0m \u001b[0mfiona_env\u001b[0m\u001b[1;33m(\u001b[0m\u001b[1;33m)\u001b[0m\u001b[1;33m:\u001b[0m\u001b[1;33m\u001b[0m\u001b[1;33m\u001b[0m\u001b[0m\n\u001b[1;32m--> 160\u001b[1;33m         \u001b[1;32mwith\u001b[0m \u001b[0mreader\u001b[0m\u001b[1;33m(\u001b[0m\u001b[0mpath_or_bytes\u001b[0m\u001b[1;33m,\u001b[0m \u001b[1;33m**\u001b[0m\u001b[0mkwargs\u001b[0m\u001b[1;33m)\u001b[0m \u001b[1;32mas\u001b[0m \u001b[0mfeatures\u001b[0m\u001b[1;33m:\u001b[0m\u001b[1;33m\u001b[0m\u001b[1;33m\u001b[0m\u001b[0m\n\u001b[0m\u001b[0;32m    161\u001b[0m \u001b[1;33m\u001b[0m\u001b[0m\n\u001b[0;32m    162\u001b[0m             \u001b[1;31m# In a future Fiona release the crs attribute of features will\u001b[0m\u001b[1;33m\u001b[0m\u001b[1;33m\u001b[0m\u001b[1;33m\u001b[0m\u001b[0m\n",
      "\u001b[1;32m~\\Documents\\2021_03_10_socioeconomic_profiles\\myenv\\lib\\site-packages\\fiona\\env.py\u001b[0m in \u001b[0;36mwrapper\u001b[1;34m(*args, **kwargs)\u001b[0m\n\u001b[0;32m    406\u001b[0m     \u001b[1;32mdef\u001b[0m \u001b[0mwrapper\u001b[0m\u001b[1;33m(\u001b[0m\u001b[1;33m*\u001b[0m\u001b[0margs\u001b[0m\u001b[1;33m,\u001b[0m \u001b[1;33m**\u001b[0m\u001b[0mkwargs\u001b[0m\u001b[1;33m)\u001b[0m\u001b[1;33m:\u001b[0m\u001b[1;33m\u001b[0m\u001b[1;33m\u001b[0m\u001b[0m\n\u001b[0;32m    407\u001b[0m         \u001b[1;32mif\u001b[0m \u001b[0mlocal\u001b[0m\u001b[1;33m.\u001b[0m\u001b[0m_env\u001b[0m\u001b[1;33m:\u001b[0m\u001b[1;33m\u001b[0m\u001b[1;33m\u001b[0m\u001b[0m\n\u001b[1;32m--> 408\u001b[1;33m             \u001b[1;32mreturn\u001b[0m \u001b[0mf\u001b[0m\u001b[1;33m(\u001b[0m\u001b[1;33m*\u001b[0m\u001b[0margs\u001b[0m\u001b[1;33m,\u001b[0m \u001b[1;33m**\u001b[0m\u001b[0mkwargs\u001b[0m\u001b[1;33m)\u001b[0m\u001b[1;33m\u001b[0m\u001b[1;33m\u001b[0m\u001b[0m\n\u001b[0m\u001b[0;32m    409\u001b[0m         \u001b[1;32melse\u001b[0m\u001b[1;33m:\u001b[0m\u001b[1;33m\u001b[0m\u001b[1;33m\u001b[0m\u001b[0m\n\u001b[0;32m    410\u001b[0m             \u001b[1;32mif\u001b[0m \u001b[0misinstance\u001b[0m\u001b[1;33m(\u001b[0m\u001b[0margs\u001b[0m\u001b[1;33m[\u001b[0m\u001b[1;36m0\u001b[0m\u001b[1;33m]\u001b[0m\u001b[1;33m,\u001b[0m \u001b[0mstr\u001b[0m\u001b[1;33m)\u001b[0m\u001b[1;33m:\u001b[0m\u001b[1;33m\u001b[0m\u001b[1;33m\u001b[0m\u001b[0m\n",
      "\u001b[1;32m~\\Documents\\2021_03_10_socioeconomic_profiles\\myenv\\lib\\site-packages\\fiona\\__init__.py\u001b[0m in \u001b[0;36mopen\u001b[1;34m(fp, mode, driver, schema, crs, encoding, layer, vfs, enabled_drivers, crs_wkt, **kwargs)\u001b[0m\n\u001b[0;32m    258\u001b[0m         \u001b[1;32mif\u001b[0m \u001b[0mmode\u001b[0m \u001b[1;32min\u001b[0m \u001b[1;33m(\u001b[0m\u001b[1;34m'a'\u001b[0m\u001b[1;33m,\u001b[0m \u001b[1;34m'r'\u001b[0m\u001b[1;33m)\u001b[0m\u001b[1;33m:\u001b[0m\u001b[1;33m\u001b[0m\u001b[1;33m\u001b[0m\u001b[0m\n\u001b[0;32m    259\u001b[0m             c = Collection(path, mode, driver=driver, encoding=encoding,\n\u001b[1;32m--> 260\u001b[1;33m                            layer=layer, enabled_drivers=enabled_drivers, **kwargs)\n\u001b[0m\u001b[0;32m    261\u001b[0m         \u001b[1;32melif\u001b[0m \u001b[0mmode\u001b[0m \u001b[1;33m==\u001b[0m \u001b[1;34m'w'\u001b[0m\u001b[1;33m:\u001b[0m\u001b[1;33m\u001b[0m\u001b[1;33m\u001b[0m\u001b[0m\n\u001b[0;32m    262\u001b[0m             \u001b[1;32mif\u001b[0m \u001b[0mschema\u001b[0m\u001b[1;33m:\u001b[0m\u001b[1;33m\u001b[0m\u001b[1;33m\u001b[0m\u001b[0m\n",
      "\u001b[1;32m~\\Documents\\2021_03_10_socioeconomic_profiles\\myenv\\lib\\site-packages\\fiona\\collection.py\u001b[0m in \u001b[0;36m__init__\u001b[1;34m(self, path, mode, driver, schema, crs, encoding, layer, vsi, archive, enabled_drivers, crs_wkt, ignore_fields, ignore_geometry, **kwargs)\u001b[0m\n\u001b[0;32m    160\u001b[0m             \u001b[1;32mif\u001b[0m \u001b[0mself\u001b[0m\u001b[1;33m.\u001b[0m\u001b[0mmode\u001b[0m \u001b[1;33m==\u001b[0m \u001b[1;34m'r'\u001b[0m\u001b[1;33m:\u001b[0m\u001b[1;33m\u001b[0m\u001b[1;33m\u001b[0m\u001b[0m\n\u001b[0;32m    161\u001b[0m                 \u001b[0mself\u001b[0m\u001b[1;33m.\u001b[0m\u001b[0msession\u001b[0m \u001b[1;33m=\u001b[0m \u001b[0mSession\u001b[0m\u001b[1;33m(\u001b[0m\u001b[1;33m)\u001b[0m\u001b[1;33m\u001b[0m\u001b[1;33m\u001b[0m\u001b[0m\n\u001b[1;32m--> 162\u001b[1;33m                 \u001b[0mself\u001b[0m\u001b[1;33m.\u001b[0m\u001b[0msession\u001b[0m\u001b[1;33m.\u001b[0m\u001b[0mstart\u001b[0m\u001b[1;33m(\u001b[0m\u001b[0mself\u001b[0m\u001b[1;33m,\u001b[0m \u001b[1;33m**\u001b[0m\u001b[0mkwargs\u001b[0m\u001b[1;33m)\u001b[0m\u001b[1;33m\u001b[0m\u001b[1;33m\u001b[0m\u001b[0m\n\u001b[0m\u001b[0;32m    163\u001b[0m             \u001b[1;32melif\u001b[0m \u001b[0mself\u001b[0m\u001b[1;33m.\u001b[0m\u001b[0mmode\u001b[0m \u001b[1;32min\u001b[0m \u001b[1;33m(\u001b[0m\u001b[1;34m'a'\u001b[0m\u001b[1;33m,\u001b[0m \u001b[1;34m'w'\u001b[0m\u001b[1;33m)\u001b[0m\u001b[1;33m:\u001b[0m\u001b[1;33m\u001b[0m\u001b[1;33m\u001b[0m\u001b[0m\n\u001b[0;32m    164\u001b[0m                 \u001b[0mself\u001b[0m\u001b[1;33m.\u001b[0m\u001b[0msession\u001b[0m \u001b[1;33m=\u001b[0m \u001b[0mWritingSession\u001b[0m\u001b[1;33m(\u001b[0m\u001b[1;33m)\u001b[0m\u001b[1;33m\u001b[0m\u001b[1;33m\u001b[0m\u001b[0m\n",
      "\u001b[1;32mfiona\\ogrext.pyx\u001b[0m in \u001b[0;36mfiona.ogrext.Session.start\u001b[1;34m()\u001b[0m\n",
      "\u001b[1;32mfiona\\_shim.pyx\u001b[0m in \u001b[0;36mfiona._shim.gdal_open_vector\u001b[1;34m()\u001b[0m\n",
      "\u001b[1;31mDriverError\u001b[0m: ./shps/supervisor_districts/supervisor_districts.shp: No such file or directory"
     ]
    }
   ],
   "source": [
    "# import neighborhood shapefiles and reproject to web mercator\n",
    "geo_df = geopandas.read_file(geo_path)\n",
    "geo_df = geo_df.to_crs(\"EPSG:4326\")\n",
    "\n",
    "# function to create folium map\n",
    "def initiate_map(Variable):\n",
    "    # subset dataframe for selected variable\n",
    "    df_all_calcs_map = df_all_calcs_tp[[geo_summary_variable, Variable]]\n",
    "\n",
    "    # join dataframe to neighborhoods geodataframe by neighborhood name\n",
    "    neighborhoods_var_df= geo_df.merge(df_all_calcs_map,left_on=geo_merge_variable, right_on=geo_summary_variable)\n",
    "    \n",
    "    # set map details\n",
    "    mymap = folium.Map(location=[37.77,-122.44], zoom_start=12,tiles=None)\n",
    "    folium.TileLayer('CartoDB positron',name=\"Light Map\",control=False).add_to(mymap)\n",
    "\n",
    "    # set legend to 5 equal intervals \n",
    "    var_min = neighborhoods_var_df[Variable].min()\n",
    "    var_max = neighborhoods_var_df[Variable].max()\n",
    "    myscale= np.linspace(var_min, var_max,5)\n",
    "    \n",
    "    # set choropleth details\n",
    "    mymap.choropleth(\n",
    "     geo_data=neighborhoods_var_df,\n",
    "     name='Choropleth',\n",
    "     data=neighborhoods_var_df,\n",
    "     columns=[geo_summary_variable, Variable],\n",
    "     key_on=\"feature.properties.\"+geo_summary_variable,\n",
    "     fill_color='YlGnBu',\n",
    "     threshold_scale=myscale,\n",
    "     fill_opacity=1,\n",
    "     line_opacity=.2,\n",
    "     line_weight = 1,\n",
    "     legend_name=Variable,\n",
    "     smooth_factor=0\n",
    "    )\n",
    "\n",
    "    return mymap\n",
    "\n",
    "variables = df_all_calcs_tp.columns[1:].sort_values()\n",
    "\n",
    "interact(initiate_map, Variable=variables)\n",
    "\n",
    "\n"
   ]
  },
  {
   "cell_type": "markdown",
   "id": "answering-bread",
   "metadata": {},
   "source": [
    "## Export"
   ]
  },
  {
   "cell_type": "code",
   "execution_count": 17,
   "id": "black-thunder",
   "metadata": {},
   "outputs": [
    {
     "data": {
      "text/html": [
       "<div>\n",
       "<style scoped>\n",
       "    .dataframe tbody tr th:only-of-type {\n",
       "        vertical-align: middle;\n",
       "    }\n",
       "\n",
       "    .dataframe tbody tr th {\n",
       "        vertical-align: top;\n",
       "    }\n",
       "\n",
       "    .dataframe thead th {\n",
       "        text-align: right;\n",
       "    }\n",
       "</style>\n",
       "<table border=\"1\" class=\"dataframe\">\n",
       "  <thead>\n",
       "    <tr style=\"text-align: right;\">\n",
       "      <th></th>\n",
       "      <th>Attribute</th>\n",
       "      <th>3</th>\n",
       "      <th>2</th>\n",
       "      <th>6</th>\n",
       "      <th>5</th>\n",
       "      <th>1</th>\n",
       "      <th>8</th>\n",
       "      <th>9</th>\n",
       "      <th>10</th>\n",
       "      <th>11</th>\n",
       "      <th>7</th>\n",
       "      <th>4</th>\n",
       "      <th>sf</th>\n",
       "      <th>Category</th>\n",
       "    </tr>\n",
       "  </thead>\n",
       "  <tbody>\n",
       "    <tr>\n",
       "      <th>0</th>\n",
       "      <td>Total Population</td>\n",
       "      <td>73991.000000</td>\n",
       "      <td>69486.000000</td>\n",
       "      <td>84470.000000</td>\n",
       "      <td>86079.000000</td>\n",
       "      <td>81278.000000</td>\n",
       "      <td>74571.000000</td>\n",
       "      <td>87697.000000</td>\n",
       "      <td>75353.000000</td>\n",
       "      <td>87137.000000</td>\n",
       "      <td>76112.000000</td>\n",
       "      <td>78787.000000</td>\n",
       "      <td>874961.000000</td>\n",
       "      <td>Population</td>\n",
       "    </tr>\n",
       "    <tr>\n",
       "      <th>1</th>\n",
       "      <td>Group Quarter Population</td>\n",
       "      <td>1128.000000</td>\n",
       "      <td>761.000000</td>\n",
       "      <td>4992.000000</td>\n",
       "      <td>1912.000000</td>\n",
       "      <td>3292.000000</td>\n",
       "      <td>542.000000</td>\n",
       "      <td>1115.000000</td>\n",
       "      <td>872.000000</td>\n",
       "      <td>1018.000000</td>\n",
       "      <td>4313.000000</td>\n",
       "      <td>422.000000</td>\n",
       "      <td>20367.000000</td>\n",
       "      <td>Population</td>\n",
       "    </tr>\n",
       "    <tr>\n",
       "      <th>2</th>\n",
       "      <td>Percent Female</td>\n",
       "      <td>0.494817</td>\n",
       "      <td>0.514089</td>\n",
       "      <td>0.443021</td>\n",
       "      <td>0.484102</td>\n",
       "      <td>0.525136</td>\n",
       "      <td>0.443617</td>\n",
       "      <td>0.467450</td>\n",
       "      <td>0.507133</td>\n",
       "      <td>0.499627</td>\n",
       "      <td>0.510314</td>\n",
       "      <td>0.506429</td>\n",
       "      <td>0.489936</td>\n",
       "      <td>Population</td>\n",
       "    </tr>\n",
       "    <tr>\n",
       "      <th>3</th>\n",
       "      <td>Housholds</td>\n",
       "      <td>40343.000000</td>\n",
       "      <td>35268.000000</td>\n",
       "      <td>43633.000000</td>\n",
       "      <td>40853.000000</td>\n",
       "      <td>32272.000000</td>\n",
       "      <td>35850.000000</td>\n",
       "      <td>30993.000000</td>\n",
       "      <td>24768.000000</td>\n",
       "      <td>24154.000000</td>\n",
       "      <td>27358.000000</td>\n",
       "      <td>26862.000000</td>\n",
       "      <td>362354.000000</td>\n",
       "      <td>Households</td>\n",
       "    </tr>\n",
       "    <tr>\n",
       "      <th>4</th>\n",
       "      <td>Family Households</td>\n",
       "      <td>0.348883</td>\n",
       "      <td>0.373540</td>\n",
       "      <td>0.338987</td>\n",
       "      <td>0.363939</td>\n",
       "      <td>0.506972</td>\n",
       "      <td>0.416206</td>\n",
       "      <td>0.539799</td>\n",
       "      <td>0.648861</td>\n",
       "      <td>0.742817</td>\n",
       "      <td>0.624461</td>\n",
       "      <td>0.656727</td>\n",
       "      <td>0.479250</td>\n",
       "      <td>Households</td>\n",
       "    </tr>\n",
       "    <tr>\n",
       "      <th>...</th>\n",
       "      <td>...</td>\n",
       "      <td>...</td>\n",
       "      <td>...</td>\n",
       "      <td>...</td>\n",
       "      <td>...</td>\n",
       "      <td>...</td>\n",
       "      <td>...</td>\n",
       "      <td>...</td>\n",
       "      <td>...</td>\n",
       "      <td>...</td>\n",
       "      <td>...</td>\n",
       "      <td>...</td>\n",
       "      <td>...</td>\n",
       "      <td>...</td>\n",
       "    </tr>\n",
       "    <tr>\n",
       "      <th>92</th>\n",
       "      <td>Transit</td>\n",
       "      <td>0.292577</td>\n",
       "      <td>0.327751</td>\n",
       "      <td>0.327383</td>\n",
       "      <td>0.422904</td>\n",
       "      <td>0.361250</td>\n",
       "      <td>0.421265</td>\n",
       "      <td>0.352988</td>\n",
       "      <td>0.304405</td>\n",
       "      <td>0.352191</td>\n",
       "      <td>0.298572</td>\n",
       "      <td>0.326699</td>\n",
       "      <td>0.347673</td>\n",
       "      <td>Journey to Work</td>\n",
       "    </tr>\n",
       "    <tr>\n",
       "      <th>93</th>\n",
       "      <td>Bike</td>\n",
       "      <td>0.028813</td>\n",
       "      <td>0.029375</td>\n",
       "      <td>0.038452</td>\n",
       "      <td>0.068298</td>\n",
       "      <td>0.042078</td>\n",
       "      <td>0.048914</td>\n",
       "      <td>0.075752</td>\n",
       "      <td>0.034433</td>\n",
       "      <td>0.010432</td>\n",
       "      <td>0.015655</td>\n",
       "      <td>0.026216</td>\n",
       "      <td>0.039551</td>\n",
       "      <td>Journey to Work</td>\n",
       "    </tr>\n",
       "    <tr>\n",
       "      <th>94</th>\n",
       "      <td>Walk</td>\n",
       "      <td>0.380732</td>\n",
       "      <td>0.093708</td>\n",
       "      <td>0.355087</td>\n",
       "      <td>0.106346</td>\n",
       "      <td>0.056204</td>\n",
       "      <td>0.058066</td>\n",
       "      <td>0.070803</td>\n",
       "      <td>0.043899</td>\n",
       "      <td>0.016023</td>\n",
       "      <td>0.061970</td>\n",
       "      <td>0.027694</td>\n",
       "      <td>0.117657</td>\n",
       "      <td>Journey to Work</td>\n",
       "    </tr>\n",
       "    <tr>\n",
       "      <th>95</th>\n",
       "      <td>Worked at Home</td>\n",
       "      <td>0.061454</td>\n",
       "      <td>0.092269</td>\n",
       "      <td>0.062004</td>\n",
       "      <td>0.074044</td>\n",
       "      <td>0.066937</td>\n",
       "      <td>0.096394</td>\n",
       "      <td>0.059840</td>\n",
       "      <td>0.046031</td>\n",
       "      <td>0.037616</td>\n",
       "      <td>0.068597</td>\n",
       "      <td>0.054732</td>\n",
       "      <td>0.065977</td>\n",
       "      <td>Journey to Work</td>\n",
       "    </tr>\n",
       "    <tr>\n",
       "      <th>96</th>\n",
       "      <td>Population Density per Acre</td>\n",
       "      <td>73991.000000</td>\n",
       "      <td>69486.000000</td>\n",
       "      <td>84470.000000</td>\n",
       "      <td>86079.000000</td>\n",
       "      <td>81278.000000</td>\n",
       "      <td>74571.000000</td>\n",
       "      <td>87697.000000</td>\n",
       "      <td>75353.000000</td>\n",
       "      <td>87137.000000</td>\n",
       "      <td>76112.000000</td>\n",
       "      <td>78787.000000</td>\n",
       "      <td>874961.000000</td>\n",
       "      <td>Population Density</td>\n",
       "    </tr>\n",
       "  </tbody>\n",
       "</table>\n",
       "<p>97 rows × 14 columns</p>\n",
       "</div>"
      ],
      "text/plain": [
       "                      Attribute             3             2             6  \\\n",
       "0              Total Population  73991.000000  69486.000000  84470.000000   \n",
       "1      Group Quarter Population   1128.000000    761.000000   4992.000000   \n",
       "2                Percent Female      0.494817      0.514089      0.443021   \n",
       "3                     Housholds  40343.000000  35268.000000  43633.000000   \n",
       "4             Family Households      0.348883      0.373540      0.338987   \n",
       "..                          ...           ...           ...           ...   \n",
       "92                      Transit      0.292577      0.327751      0.327383   \n",
       "93                         Bike      0.028813      0.029375      0.038452   \n",
       "94                         Walk      0.380732      0.093708      0.355087   \n",
       "95               Worked at Home      0.061454      0.092269      0.062004   \n",
       "96  Population Density per Acre  73991.000000  69486.000000  84470.000000   \n",
       "\n",
       "               5             1             8             9            10  \\\n",
       "0   86079.000000  81278.000000  74571.000000  87697.000000  75353.000000   \n",
       "1    1912.000000   3292.000000    542.000000   1115.000000    872.000000   \n",
       "2       0.484102      0.525136      0.443617      0.467450      0.507133   \n",
       "3   40853.000000  32272.000000  35850.000000  30993.000000  24768.000000   \n",
       "4       0.363939      0.506972      0.416206      0.539799      0.648861   \n",
       "..           ...           ...           ...           ...           ...   \n",
       "92      0.422904      0.361250      0.421265      0.352988      0.304405   \n",
       "93      0.068298      0.042078      0.048914      0.075752      0.034433   \n",
       "94      0.106346      0.056204      0.058066      0.070803      0.043899   \n",
       "95      0.074044      0.066937      0.096394      0.059840      0.046031   \n",
       "96  86079.000000  81278.000000  74571.000000  87697.000000  75353.000000   \n",
       "\n",
       "              11             7             4             sf  \\\n",
       "0   87137.000000  76112.000000  78787.000000  874961.000000   \n",
       "1    1018.000000   4313.000000    422.000000   20367.000000   \n",
       "2       0.499627      0.510314      0.506429       0.489936   \n",
       "3   24154.000000  27358.000000  26862.000000  362354.000000   \n",
       "4       0.742817      0.624461      0.656727       0.479250   \n",
       "..           ...           ...           ...            ...   \n",
       "92      0.352191      0.298572      0.326699       0.347673   \n",
       "93      0.010432      0.015655      0.026216       0.039551   \n",
       "94      0.016023      0.061970      0.027694       0.117657   \n",
       "95      0.037616      0.068597      0.054732       0.065977   \n",
       "96  87137.000000  76112.000000  78787.000000  874961.000000   \n",
       "\n",
       "              Category  \n",
       "0           Population  \n",
       "1           Population  \n",
       "2           Population  \n",
       "3           Households  \n",
       "4           Households  \n",
       "..                 ...  \n",
       "92     Journey to Work  \n",
       "93     Journey to Work  \n",
       "94     Journey to Work  \n",
       "95     Journey to Work  \n",
       "96  Population Density  \n",
       "\n",
       "[97 rows x 14 columns]"
      ]
     },
     "execution_count": 17,
     "metadata": {},
     "output_type": "execute_result"
    }
   ],
   "source": [
    "df_all_calcs = pd.merge(df_all_calcs, attribute_lookup_df[[\"category\",'attribute_name']], how='left', left_on = 'Attribute', right_on = 'attribute_name')\n",
    "df_all_calcs=df_all_calcs.drop(['attribute_name'], axis=1)\n",
    "df_all_calcs.rename(columns = {'category':'Category'}, inplace = True) \n",
    "df_all_calcs"
   ]
  },
  {
   "cell_type": "code",
   "execution_count": 18,
   "id": "about-imagination",
   "metadata": {},
   "outputs": [],
   "source": [
    "# export both dataset views to csv\n",
    "df_all_calcs.to_csv(os.path.join(download_path,geo_summary_variable+\"_\"+\"profiles_by_attribute.csv\"), index = False)\n",
    "df_all_calcs_tp.to_csv(os.path.join(download_path,geo_summary_variable+\"_\"+\"profiles_by_geo.csv\"), index = False)"
   ]
  },
  {
   "cell_type": "code",
   "execution_count": null,
   "id": "artificial-burlington",
   "metadata": {},
   "outputs": [],
   "source": []
  },
  {
   "cell_type": "code",
   "execution_count": null,
   "id": "smart-macedonia",
   "metadata": {},
   "outputs": [],
   "source": []
  }
 ],
 "metadata": {
  "kernelspec": {
   "display_name": "myenv",
   "language": "python",
   "name": "myenv"
  },
  "language_info": {
   "codemirror_mode": {
    "name": "ipython",
    "version": 3
   },
   "file_extension": ".py",
   "mimetype": "text/x-python",
   "name": "python",
   "nbconvert_exporter": "python",
   "pygments_lexer": "ipython3",
   "version": "3.7.8"
  },
  "toc": {
   "base_numbering": 1,
   "nav_menu": {},
   "number_sections": true,
   "sideBar": true,
   "skip_h1_title": false,
   "title_cell": "Table of Contents",
   "title_sidebar": "Contents",
   "toc_cell": false,
   "toc_position": {
    "height": "789px",
    "left": "46px",
    "top": "110px",
    "width": "299px"
   },
   "toc_section_display": true,
   "toc_window_display": true
  }
 },
 "nbformat": 4,
 "nbformat_minor": 5
}
