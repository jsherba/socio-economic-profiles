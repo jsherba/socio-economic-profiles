{
 "cells": [
  {
   "cell_type": "markdown",
   "id": "revolutionary-slovak",
   "metadata": {},
   "source": [
    "# Socio-economic Profiles 2019\n",
    "\n",
    "This code creates the socio-economic profile data for the San Francisco Planning Department's Neighborhood Socio-Economic Profiles. Socio-economic profiles data is derived from the [American Community Survey](https://www.census.gov/programs-surveys/acs) 5-year data and is created annually by the Planning Department. Tract level socio-economic data from is combined at the neighborhood and zip code level for the City of San Francisco. This code is based off methods created by Michael Webster and others. Run the notebook to:\n",
    "\n",
    "- Download ACS data using the Census API\n",
    "- Calculate socio-economic profiles data\n",
    "- Export data to csv in two formats. \n"
   ]
  },
  {
   "cell_type": "markdown",
   "id": "super-business",
   "metadata": {},
   "source": [
    "## Import packages"
   ]
  },
  {
   "cell_type": "code",
   "execution_count": 1,
   "id": "functional-stack",
   "metadata": {},
   "outputs": [],
   "source": [
    "# base libraries\n",
    "import requests, json, os\n",
    "import pandas as pd\n",
    "import numpy as np\n",
    "from collections import defaultdict\n",
    "\n",
    "# graph libraries\n",
    "import plotly.express as px\n",
    "from ipywidgets import interact, interactive, fixed, interact_manual\n",
    "import ipywidgets as widgets\n",
    "\n",
    "# map libraries\n",
    "import folium\n",
    "import branca.colormap as cm\n",
    "import geopandas"
   ]
  },
  {
   "cell_type": "markdown",
   "id": "informed-singles",
   "metadata": {},
   "source": [
    "## Retrieve data from Census API\n",
    "All socio-economic data comes from the Census ACS 5-year estimates and is available at the tract level through the census API. API documentation and data for the 2019 ACS data and previous years is available [here](https://www.census.gov/data/developers/data-sets/acs-5year.html)"
   ]
  },
  {
   "cell_type": "markdown",
   "id": "undefined-carol",
   "metadata": {},
   "source": [
    "### Census Attribute IDs\n",
    "The attribute ID list below is a list of ASC attribute IDs that correspond to attributes included in the socio-economic data calcs. For a list of attribute ID and their meanings visit the API docs [here](https://api.census.gov/data/2019/acs/acs5/variables.html). \n",
    "\n",
    "Attributes included in the list below were derived from the attributes in the [Data_Items_and_Sources.xlsx](https://github.com/jsherba/socio-economic-profiles/raw/main/Data_Items_And_Sources_2019.xlsx) file developed by Michael Webster."
   ]
  },
  {
   "cell_type": "code",
   "execution_count": 2,
   "id": "awful-material",
   "metadata": {},
   "outputs": [
    {
     "data": {
      "text/plain": [
       "['B01001_044E',\n",
       " 'B11001_007E',\n",
       " 'B25007_001E',\n",
       " 'B19101_013E',\n",
       " 'B23001_025E',\n",
       " 'B11002_001E',\n",
       " 'B02001_008E',\n",
       " 'B25004_001E',\n",
       " 'B19101_012E',\n",
       " 'B25034_004E']"
      ]
     },
     "execution_count": 2,
     "metadata": {},
     "output_type": "execute_result"
    }
   ],
   "source": [
    "# list of attribute ids\n",
    "attribute_lookup_df = pd.read_csv (r'./attribute_lookup.csv', dtype=str)\n",
    "attribute_ids_extracted = attribute_lookup_df['attribute_id'].tolist()\n",
    "attribute_ids = []\n",
    "for attribute_id in attribute_ids_extracted:\n",
    "    attribute_ids.extend(attribute_id.split(\", \"))\n",
    "attribute_ids = list(set([x+\"E\" for x in attribute_ids]))\n",
    "attribute_ids[:10]"
   ]
  },
  {
   "cell_type": "markdown",
   "id": "determined-grain",
   "metadata": {},
   "source": [
    "### Build Census API URL and Make Query\n",
    "The code below builds the Url for the census API call to get relevant 2019 ACS attribute data at the tract level for San Francisco County.The Census API accepts up to 50 attributes at a time. Therefore a the attribute list is first grouped into sublists of 45. A recursive function queries the API for each group of 45 attributes and appends results together. Below define:\n",
    "- Tract code is '*' to collect all tracts\n",
    "- State code is '06' for CA\n",
    "- County code is '075' for San Francisco County\n",
    "- Attributes are defined by the attribute id list and includes all relevant attributes for the socio-economic data calcs"
   ]
  },
  {
   "cell_type": "code",
   "execution_count": 3,
   "id": "worse-detail",
   "metadata": {},
   "outputs": [],
   "source": [
    "# function builds the api URL from tract_code, state_code, county_code, and attribute ids. \n",
    "def build_census_url(tract_code, state_code, county_code, attribute_ids):\n",
    "    attributes = ','.join(attribute_ids)\n",
    "    census_url = r'https://api.census.gov/data/2019/acs/acs5?get={}&for=tract:{}&in=state:{}&in=county:{}'\\\n",
    "                .format(attributes, tract_code, state_code, county_code)\n",
    "    return census_url\n",
    "    "
   ]
  },
  {
   "cell_type": "code",
   "execution_count": 4,
   "id": "second-costume",
   "metadata": {},
   "outputs": [],
   "source": [
    "# function makes a single api call and collects results in a pandas dataframe\n",
    "def make_census_api_call(census_url):\n",
    "    # make API call to Census\n",
    "    resp = requests.get(census_url)\n",
    "    if resp.status_code != 200:\n",
    "        # this means something went wrong\n",
    "        resp.raise_for_status()\n",
    "       \n",
    "    # retrieve data as json and convert to Pandas Dataframe\n",
    "    data = resp.json()\n",
    "    headers = data.pop(0)\n",
    "    df = pd.DataFrame(data, columns=headers)\n",
    "\n",
    "    # convert values that are not state, county, or tract to numeric type\n",
    "    cols=[i for i in df.columns if i not in [\"state\",\"county\",\"tract\"]]\n",
    "    for col in cols:\n",
    "        df[col]=pd.to_numeric(df[col])\n",
    "        \n",
    "    return df"
   ]
  },
  {
   "cell_type": "code",
   "execution_count": 5,
   "id": "utility-detail",
   "metadata": {},
   "outputs": [
    {
     "data": {
      "text/html": [
       "<div>\n",
       "<style scoped>\n",
       "    .dataframe tbody tr th:only-of-type {\n",
       "        vertical-align: middle;\n",
       "    }\n",
       "\n",
       "    .dataframe tbody tr th {\n",
       "        vertical-align: top;\n",
       "    }\n",
       "\n",
       "    .dataframe thead th {\n",
       "        text-align: right;\n",
       "    }\n",
       "</style>\n",
       "<table border=\"1\" class=\"dataframe\">\n",
       "  <thead>\n",
       "    <tr style=\"text-align: right;\">\n",
       "      <th></th>\n",
       "      <th>B01001_044E</th>\n",
       "      <th>B11001_007E</th>\n",
       "      <th>B25007_001E</th>\n",
       "      <th>B19101_013E</th>\n",
       "      <th>B23001_025E</th>\n",
       "      <th>B11002_001E</th>\n",
       "      <th>B02001_008E</th>\n",
       "      <th>B25004_001E</th>\n",
       "      <th>B19101_012E</th>\n",
       "      <th>B25034_004E</th>\n",
       "      <th>...</th>\n",
       "      <th>B25024_002E</th>\n",
       "      <th>B16007_015E</th>\n",
       "      <th>B25075_015E</th>\n",
       "      <th>B16007_017E</th>\n",
       "      <th>B16003_004E</th>\n",
       "      <th>B25063_003E</th>\n",
       "      <th>B23001_076E</th>\n",
       "      <th>B25063_012E</th>\n",
       "      <th>B01001_007E</th>\n",
       "      <th>B23001_160E</th>\n",
       "    </tr>\n",
       "  </thead>\n",
       "  <tbody>\n",
       "    <tr>\n",
       "      <th>0</th>\n",
       "      <td>49</td>\n",
       "      <td>200</td>\n",
       "      <td>891</td>\n",
       "      <td>45</td>\n",
       "      <td>51</td>\n",
       "      <td>2507</td>\n",
       "      <td>230</td>\n",
       "      <td>129</td>\n",
       "      <td>42</td>\n",
       "      <td>15</td>\n",
       "      <td>...</td>\n",
       "      <td>711</td>\n",
       "      <td>371</td>\n",
       "      <td>0</td>\n",
       "      <td>27</td>\n",
       "      <td>0</td>\n",
       "      <td>0</td>\n",
       "      <td>0</td>\n",
       "      <td>0</td>\n",
       "      <td>31</td>\n",
       "      <td>27</td>\n",
       "    </tr>\n",
       "    <tr>\n",
       "      <th>1</th>\n",
       "      <td>53</td>\n",
       "      <td>102</td>\n",
       "      <td>715</td>\n",
       "      <td>87</td>\n",
       "      <td>98</td>\n",
       "      <td>2897</td>\n",
       "      <td>137</td>\n",
       "      <td>0</td>\n",
       "      <td>52</td>\n",
       "      <td>85</td>\n",
       "      <td>...</td>\n",
       "      <td>269</td>\n",
       "      <td>63</td>\n",
       "      <td>0</td>\n",
       "      <td>0</td>\n",
       "      <td>21</td>\n",
       "      <td>0</td>\n",
       "      <td>0</td>\n",
       "      <td>0</td>\n",
       "      <td>47</td>\n",
       "      <td>16</td>\n",
       "    </tr>\n",
       "    <tr>\n",
       "      <th>2</th>\n",
       "      <td>33</td>\n",
       "      <td>250</td>\n",
       "      <td>899</td>\n",
       "      <td>33</td>\n",
       "      <td>39</td>\n",
       "      <td>2487</td>\n",
       "      <td>241</td>\n",
       "      <td>37</td>\n",
       "      <td>0</td>\n",
       "      <td>29</td>\n",
       "      <td>...</td>\n",
       "      <td>805</td>\n",
       "      <td>249</td>\n",
       "      <td>0</td>\n",
       "      <td>49</td>\n",
       "      <td>0</td>\n",
       "      <td>0</td>\n",
       "      <td>0</td>\n",
       "      <td>0</td>\n",
       "      <td>10</td>\n",
       "      <td>22</td>\n",
       "    </tr>\n",
       "    <tr>\n",
       "      <th>3</th>\n",
       "      <td>122</td>\n",
       "      <td>306</td>\n",
       "      <td>1444</td>\n",
       "      <td>87</td>\n",
       "      <td>85</td>\n",
       "      <td>3798</td>\n",
       "      <td>179</td>\n",
       "      <td>153</td>\n",
       "      <td>73</td>\n",
       "      <td>35</td>\n",
       "      <td>...</td>\n",
       "      <td>1125</td>\n",
       "      <td>625</td>\n",
       "      <td>12</td>\n",
       "      <td>38</td>\n",
       "      <td>0</td>\n",
       "      <td>0</td>\n",
       "      <td>0</td>\n",
       "      <td>0</td>\n",
       "      <td>35</td>\n",
       "      <td>59</td>\n",
       "    </tr>\n",
       "    <tr>\n",
       "      <th>4</th>\n",
       "      <td>6</td>\n",
       "      <td>453</td>\n",
       "      <td>645</td>\n",
       "      <td>20</td>\n",
       "      <td>33</td>\n",
       "      <td>1838</td>\n",
       "      <td>380</td>\n",
       "      <td>77</td>\n",
       "      <td>0</td>\n",
       "      <td>15</td>\n",
       "      <td>...</td>\n",
       "      <td>0</td>\n",
       "      <td>33</td>\n",
       "      <td>0</td>\n",
       "      <td>66</td>\n",
       "      <td>0</td>\n",
       "      <td>0</td>\n",
       "      <td>0</td>\n",
       "      <td>0</td>\n",
       "      <td>768</td>\n",
       "      <td>0</td>\n",
       "    </tr>\n",
       "  </tbody>\n",
       "</table>\n",
       "<p>5 rows × 377 columns</p>\n",
       "</div>"
      ],
      "text/plain": [
       "   B01001_044E  B11001_007E  B25007_001E  B19101_013E  B23001_025E  \\\n",
       "0           49          200          891           45           51   \n",
       "1           53          102          715           87           98   \n",
       "2           33          250          899           33           39   \n",
       "3          122          306         1444           87           85   \n",
       "4            6          453          645           20           33   \n",
       "\n",
       "   B11002_001E  B02001_008E  B25004_001E  B19101_012E  B25034_004E  ...  \\\n",
       "0         2507          230          129           42           15  ...   \n",
       "1         2897          137            0           52           85  ...   \n",
       "2         2487          241           37            0           29  ...   \n",
       "3         3798          179          153           73           35  ...   \n",
       "4         1838          380           77            0           15  ...   \n",
       "\n",
       "   B25024_002E  B16007_015E  B25075_015E  B16007_017E  B16003_004E  \\\n",
       "0          711          371            0           27            0   \n",
       "1          269           63            0            0           21   \n",
       "2          805          249            0           49            0   \n",
       "3         1125          625           12           38            0   \n",
       "4            0           33            0           66            0   \n",
       "\n",
       "   B25063_003E  B23001_076E  B25063_012E  B01001_007E  B23001_160E  \n",
       "0            0            0            0           31           27  \n",
       "1            0            0            0           47           16  \n",
       "2            0            0            0           10           22  \n",
       "3            0            0            0           35           59  \n",
       "4            0            0            0          768            0  \n",
       "\n",
       "[5 rows x 377 columns]"
      ]
     },
     "execution_count": 5,
     "metadata": {},
     "output_type": "execute_result"
    }
   ],
   "source": [
    "# set geo variables for api call\n",
    "tract_code = \"*\"\n",
    "state_code = \"06\"\n",
    "county_code = \"075\"\n",
    "\n",
    "# split attributes into groups of 45, run a census query for each, merge outputs into a single df\n",
    "split_attribute_ids = [attribute_ids[i:i+45] for i in range(0, len(attribute_ids), 45)]\n",
    "df=None\n",
    "first = True\n",
    "for ids in split_attribute_ids:\n",
    "    census_url = build_census_url(tract_code, state_code, county_code, ids)\n",
    "    returned_df = make_census_api_call(census_url)\n",
    "    if first:\n",
    "        df = returned_df\n",
    "        first = False\n",
    "    else:\n",
    "        returned_df = returned_df.drop(columns=['state', 'county'])\n",
    "        df = pd.merge(df, returned_df, on='tract', how='left')\n",
    "\n",
    "df.head()"
   ]
  },
  {
   "cell_type": "markdown",
   "id": "organized-avenue",
   "metadata": {},
   "source": [
    "## Prepare Lookup Dictionaries and Helper Functions"
   ]
  },
  {
   "cell_type": "markdown",
   "id": "lasting-violence",
   "metadata": {},
   "source": [
    "### Tract/Neighborhood Lookup\n",
    "Two lookup dictionaries are created below that relate neghborhoods to tracts and supervisor districts to tracts. These dictionaries are used to subset the census dataframe for each neighborhood or district so that calcs can be run on each set of tracts. The lookup dictionaries are created from geo_lookup.csv in the repository."
   ]
  },
  {
   "cell_type": "code",
   "execution_count": 6,
   "id": "straight-poverty",
   "metadata": {},
   "outputs": [],
   "source": [
    "# import geo_lookup csv\n",
    "geo_lookup_df = pd.read_csv (r'./geo_lookup.csv', dtype=str)\n",
    "\n",
    "tract_nb_lookup = defaultdict(list)\n",
    "tract_sd_lookup = defaultdict(list)\n",
    "\n",
    "# create tract lookup dictionary for neighborhoods\n",
    "for i, j in zip(geo_lookup_df['neighborhood'], geo_lookup_df['tractid']):\n",
    "    tract_nb_lookup[i].append(j)\n",
    "\n",
    "# create tract lookup dictionary for supervisor districts\n",
    "for i, j in zip(geo_lookup_df['supervisor_district'], geo_lookup_df['tractid']):\n",
    "    tract_sd_lookup[i].append(j)\n"
   ]
  },
  {
   "cell_type": "markdown",
   "id": "surface-reply",
   "metadata": {},
   "source": [
    "### Calculating Medians\n",
    "To calculate median values of aggregated geographies you cannot use the mean of component geographies. Instead a statistical approximation of the median must be calculated from range tables. \n",
    "\n",
    "Range variables in the ACS have a unique ID like any other Census variable. They represent the amount of a variable within a select range. e.g. number of households with household incomes between $45000-50000. Range variable ID's and range information is stored in the median_ranges.csv file in the repository. These range variables and ranges are needed for calculating the median at the neighborhood level. \n",
    "\n",
    "The below function calculates a median based on range data. This method follows the offical ACS documentation for [calculating a median](https://www.dof.ca.gov/Forecasting/Demographics/Census_Data_Center_Network/documents/How_to_Recalculate_a_Median.pdf)\n"
   ]
  },
  {
   "cell_type": "code",
   "execution_count": 7,
   "id": "hollow-background",
   "metadata": {
    "scrolled": true
   },
   "outputs": [
    {
     "data": {
      "text/html": [
       "<div>\n",
       "<style scoped>\n",
       "    .dataframe tbody tr th:only-of-type {\n",
       "        vertical-align: middle;\n",
       "    }\n",
       "\n",
       "    .dataframe tbody tr th {\n",
       "        vertical-align: top;\n",
       "    }\n",
       "\n",
       "    .dataframe thead th {\n",
       "        text-align: right;\n",
       "    }\n",
       "</style>\n",
       "<table border=\"1\" class=\"dataframe\">\n",
       "  <thead>\n",
       "    <tr style=\"text-align: right;\">\n",
       "      <th></th>\n",
       "      <th>name</th>\n",
       "      <th>id</th>\n",
       "      <th>range_start</th>\n",
       "      <th>range_end</th>\n",
       "      <th>households</th>\n",
       "      <th>cumulative_total</th>\n",
       "    </tr>\n",
       "  </thead>\n",
       "  <tbody>\n",
       "    <tr>\n",
       "      <th>0</th>\n",
       "      <td>median_household_income</td>\n",
       "      <td>B19001_002E</td>\n",
       "      <td>2500.0</td>\n",
       "      <td>9999.0</td>\n",
       "      <td>0</td>\n",
       "      <td>0</td>\n",
       "    </tr>\n",
       "    <tr>\n",
       "      <th>1</th>\n",
       "      <td>median_household_income</td>\n",
       "      <td>B19001_003E</td>\n",
       "      <td>10000.0</td>\n",
       "      <td>14999.0</td>\n",
       "      <td>0</td>\n",
       "      <td>0</td>\n",
       "    </tr>\n",
       "    <tr>\n",
       "      <th>2</th>\n",
       "      <td>median_household_income</td>\n",
       "      <td>B19001_004E</td>\n",
       "      <td>15000.0</td>\n",
       "      <td>19999.0</td>\n",
       "      <td>0</td>\n",
       "      <td>0</td>\n",
       "    </tr>\n",
       "    <tr>\n",
       "      <th>3</th>\n",
       "      <td>median_household_income</td>\n",
       "      <td>B19001_005E</td>\n",
       "      <td>20000.0</td>\n",
       "      <td>24999.0</td>\n",
       "      <td>0</td>\n",
       "      <td>0</td>\n",
       "    </tr>\n",
       "    <tr>\n",
       "      <th>4</th>\n",
       "      <td>median_household_income</td>\n",
       "      <td>B19001_006E</td>\n",
       "      <td>25000.0</td>\n",
       "      <td>29999.0</td>\n",
       "      <td>0</td>\n",
       "      <td>0</td>\n",
       "    </tr>\n",
       "  </tbody>\n",
       "</table>\n",
       "</div>"
      ],
      "text/plain": [
       "                      name           id  range_start  range_end  households  \\\n",
       "0  median_household_income  B19001_002E       2500.0     9999.0           0   \n",
       "1  median_household_income  B19001_003E      10000.0    14999.0           0   \n",
       "2  median_household_income  B19001_004E      15000.0    19999.0           0   \n",
       "3  median_household_income  B19001_005E      20000.0    24999.0           0   \n",
       "4  median_household_income  B19001_006E      25000.0    29999.0           0   \n",
       "\n",
       "   cumulative_total  \n",
       "0                 0  \n",
       "1                 0  \n",
       "2                 0  \n",
       "3                 0  \n",
       "4                 0  "
      ]
     },
     "execution_count": 7,
     "metadata": {},
     "output_type": "execute_result"
    }
   ],
   "source": [
    "# import median tables from median_ranges csv and add empty columns for rows 'households and 'cumulative_totals'\n",
    "range_df = pd.read_csv (r'./median_ranges.csv')\n",
    "range_df['households']=0\n",
    "range_df['cumulative_total']=0\n",
    "range_df.head()"
   ]
  },
  {
   "cell_type": "code",
   "execution_count": 8,
   "id": "julian-dietary",
   "metadata": {},
   "outputs": [],
   "source": [
    "# define median helper function\n",
    "def calc_median(tract_df, range_df, median_to_calc):\n",
    "    \n",
    "    # subset range df for current median variable to calc\n",
    "    range_df = range_df[range_df['name']==median_to_calc]\n",
    "    \n",
    "    # sort dataframe low to high by range start column\n",
    "    range_df = range_df.sort_values(by=['range_start'])\n",
    "    \n",
    "    # calculate households as sum of tract level households for each row based on range id\n",
    "    range_df['households'] = range_df.apply(lambda row : tract_df[row['id']].sum(), axis = 1)\n",
    "    \n",
    "    # calculate the cumulative total of households\n",
    "    range_df['cumulative_total'] = range_df['households'].cumsum()\n",
    "    \n",
    "    # calculate total households and return 0 if total households is 0\n",
    "    total_households = range_df['households'].sum()\n",
    "    \n",
    "    # if total households is 0 set median to 0\n",
    "    if total_households == 0:\n",
    "        return 0\n",
    "    \n",
    "    # calculate midpoint\n",
    "    midpoint = total_households/2\n",
    "\n",
    "    # if midpoint is below first range return median as end of first range value\n",
    "    if midpoint < range_df['cumulative_total'].min():\n",
    "        new_median = range_df['range_end'].min()\n",
    "        return new_median\n",
    "    \n",
    "    # if midpoint is above last range set median to end of last range value\n",
    "    if midpoint > range_df['cumulative_total'].max():\n",
    "        new_median = range_df['range_end'].max()\n",
    "        return new_median\n",
    "    \n",
    "    less_midpoint_df = range_df[range_df['cumulative_total']<midpoint]\n",
    "    \n",
    "    # get the single row containing the range just below the mid range by getting the row with the max range start from the subsetted median df\n",
    "    range_below_mid_range_df = less_midpoint_df[less_midpoint_df['range_start'] == less_midpoint_df['range_start'].max()]\n",
    "    \n",
    "    # get the cumulative total value for the first row of the range below mid range dictionary\n",
    "    total_hh_previous_range = range_below_mid_range_df['cumulative_total'].iloc[0]\n",
    "    hh_to_mid_range = midpoint - total_hh_previous_range\n",
    "    \n",
    "    # extract rows above midrange by subsetting median df for rows with cumulative total grearter than midpoint.\n",
    "    greater_midpoint_df = range_df[range_df['cumulative_total']>midpoint]\n",
    "    \n",
    "    # get the single row containing the mid range by getting the row with the min range start from the subsetted median df\n",
    "    mid_range_df = greater_midpoint_df[greater_midpoint_df['range_start'] == greater_midpoint_df['range_start'].min()]\n",
    "    \n",
    "    # get the households value for the first row of the mid range dictionary\n",
    "    hh_in_mid_range = mid_range_df['households'].iloc[0]\n",
    "    \n",
    "    # calculate proportion of number of households in the mid range that would be needed to get to the mid-point\n",
    "    prop_of_hh = hh_to_mid_range/hh_in_mid_range\n",
    "    \n",
    "    # calculate width of the mid range\n",
    "    width = (mid_range_df['range_end'].iloc[0]-mid_range_df['range_start'].iloc[0])+1\n",
    "    \n",
    "    # apply proportion to width of mid range\n",
    "    prop_to_width = prop_of_hh*width\n",
    "    beginning_of_mid_range = mid_range_df['range_start'].iloc[0]\n",
    "    \n",
    "    # calculate new median\n",
    "    new_median = beginning_of_mid_range + prop_to_width\n",
    "    \n",
    "    return new_median"
   ]
  },
  {
   "cell_type": "markdown",
   "id": "infrared-violation",
   "metadata": {},
   "source": [
    "## Define functions for calculating socio-economic data\n",
    "The `calc_socio_economic_data` function takes tract level data from the API call and the tract/neighborhood lookup dictionary. This function creates all of the socio-economic data calcs and returns a dictionary. The calcs in this function are derived from the [Data_Items_and_Sources.xlsx](https://github.com/jsherba/socio-economic-profiles/raw/main/Data_Items_And_Sources_2019.xlsx) file developed by Michael Webster"
   ]
  },
  {
   "cell_type": "code",
   "execution_count": 9,
   "id": "sensitive-estate",
   "metadata": {},
   "outputs": [],
   "source": [
    "# define other helper functions\n",
    "def calc_sum(df, attribute_id):\n",
    "    return df[attribute_id].sum()\n",
    "\n",
    "def calc_normalized(df, attribute_id, attribute_id2):\n",
    "    if df[attribute_id2].sum() == 0:\n",
    "        return 0\n",
    "    else:\n",
    "        return (df[attribute_id].sum()/df[attribute_id2].sum())\n",
    "\n",
    "def calc_sum_normalized(df, attribute_list, attribute_id2):\n",
    "    if df[attribute_id2].sum()==0:\n",
    "        return 0\n",
    "    else:\n",
    "        sum_of_attributes = 0\n",
    "        for attribute_id in attribute_list:\n",
    "            sum_of_attributes+=df[attribute_id].sum()\n",
    "        return sum_of_attributes/df[attribute_id2].sum()\n"
   ]
  },
  {
   "cell_type": "code",
   "execution_count": 10,
   "id": "likely-ownership",
   "metadata": {},
   "outputs": [],
   "source": [
    "# function runs all calcs for each neighborhood or supervisor district\n",
    "def calc_socio_economic_data(df, tract_lookup):\n",
    "    # create empty dictionary to add calculated attribute information to\n",
    "    all_calc_data = defaultdict(dict) \n",
    "    # calculate all stats for each neighborhood\n",
    "    for nb_name, tracts in tract_lookup.items():\n",
    "        # extract attribute information for tracks associated with a neighborhood\n",
    "        tract_df = df[df['tract'].isin(tracts)]\n",
    "        # build dictionary with all stats for a neighborhood\n",
    "        all_calc_data_nb = all_calc_data[nb_name]\n",
    "        # population\n",
    "        all_calc_data_nb[\"Total Population\"] = calc_sum(tract_df, 'B01001_001E')\n",
    "        all_calc_data_nb[\"Group Quarter Population\"] = calc_sum(tract_df, 'B26001_001E')\n",
    "        all_calc_data_nb[\"Percent Female\"] = calc_normalized(tract_df, 'B01001_026E', 'B01001_001E')\n",
    "        # household stats\n",
    "        all_calc_data_nb[\"Housholds\"] = calc_sum(tract_df, 'B11001_001E')\n",
    "        all_calc_data_nb[\"Family Households\"] = calc_normalized(tract_df, 'B11001_002E', 'B11001_001E')\n",
    "        all_calc_data_nb[\"Non-Family Households\"] = calc_normalized(tract_df, 'B11001_007E', 'B11001_001E')\n",
    "        all_calc_data_nb[\"Single Person Households, % of Total\"] = calc_normalized(tract_df, 'B11001_008E', 'B11001_001E')\n",
    "        all_calc_data_nb[\"Households with Children, % of Total\"] = calc_normalized(tract_df, 'B11005_002E', 'B11001_001E')\n",
    "        all_calc_data_nb[\"Households with 60 years and older, % of Total\"] = calc_normalized(tract_df, 'B11006_002E', 'B11001_001E')\n",
    "        all_calc_data_nb[\"Average Household Size\"] = calc_normalized(tract_df, 'B11002_001E', 'B11001_001E')\n",
    "        all_calc_data_nb[\"Average Family Household Size\"] = calc_normalized(tract_df, 'B11002_002E', 'B11001_002E')\n",
    "        # race and ethnicity stats\n",
    "        all_calc_data_nb[\"Asian\"] = calc_normalized(tract_df, 'B02001_005E', 'B02001_001E')\n",
    "        all_calc_data_nb[\"Black/African American\"] = calc_normalized(tract_df, 'B02001_003E', 'B02001_001E')\n",
    "        all_calc_data_nb[\"White\"] = calc_normalized(tract_df, 'B02001_002E', 'B02001_001E')\n",
    "        all_calc_data_nb[\"Native American Indian\"] = calc_normalized(tract_df, 'B02001_005E', 'B02001_001E')\n",
    "        all_calc_data_nb[\"Native Hawaiian/Pacific Islander\"] = calc_normalized(tract_df, 'B02001_006E', 'B02001_001E')\n",
    "        all_calc_data_nb[\"Other/Two or More Races\"] = calc_sum_normalized(tract_df, ['B02001_008E', 'B02001_007E'], 'B02001_001E')\n",
    "        all_calc_data_nb[\"% Latino (of Any Race)\"] = calc_normalized(tract_df, 'B03001_003E', 'B03001_001E')\n",
    "        # age\n",
    "        all_calc_data_nb[\"0-4 Years\"] = calc_sum_normalized(tract_df, ['B01001_003E', 'B01001_027E'], 'B01001_001E')\n",
    "        all_calc_data_nb[\"5-17 Years\"] = calc_sum_normalized(tract_df, ['B01001_004E', 'B01001_005E', 'B01001_006E', 'B01001_028E', 'B01001_029E', 'B01001_030E'],'B01001_001E')\n",
    "        all_calc_data_nb[\"18-34 Years\"] = calc_sum_normalized(tract_df, ['B01001_007E','B01001_008E','B01001_009E', 'B01001_010E', 'B01001_011E', 'B01001_012E','B01001_031E','B01001_032E','B01001_033E','B01001_034E','B01001_035E','B01001_036E'], 'B01001_001E')\n",
    "        all_calc_data_nb[\"35-59 Years\"] = calc_sum_normalized(tract_df, ['B01001_013E', 'B01001_014E', 'B01001_015E', 'B01001_016E', 'B01001_017E', 'B01001_037E', 'B01001_038E', 'B01001_039E', 'B01001_040E', 'B01001_041E'], 'B01001_001E')\n",
    "        all_calc_data_nb[\"60 and Older\"] = calc_sum_normalized(tract_df, ['B01001_018E', 'B01001_019E', 'B01001_020E', 'B01001_021E', 'B01001_022E', 'B01001_023E', 'B01001_024E', 'B01001_025E', 'B01001_042E', 'B01001_043E', 'B01001_044E', 'B01001_045E', 'B01001_046E', 'B01001_047E', 'B01001_048E', 'B01001_049E'], 'B01001_001E')\n",
    "        #all_calc_data_nb[\"Median Age\"]\n",
    "        # educationa attainment\n",
    "        all_calc_data_nb[\"High School or Less\"] = calc_sum_normalized(tract_df, ['B15003_002E', 'B15003_003E', 'B15003_004E', 'B15003_005E', 'B15003_006E', 'B15003_007E', 'B15003_008E', 'B15003_009E', 'B15003_010E', 'B15003_011E', 'B15003_012E', 'B15003_013E', 'B15003_014E', 'B15003_015E', 'B15003_016E', 'B15003_017E', 'B15003_018E'], 'B15003_001E')\n",
    "        all_calc_data_nb[\"Some College/Associate Degree\"] = calc_sum_normalized(tract_df, ['B15003_019E', 'B15003_020E', 'B15003_021E'], 'B15003_001E')\n",
    "        all_calc_data_nb[\"College Degree\"] = calc_normalized(tract_df, 'B15003_022E', 'B15003_001E')\n",
    "        all_calc_data_nb[\"Graduate/Professional Degree\"] = calc_sum_normalized(tract_df, ['B15003_023E', 'B15003_024E', 'B15003_025E'], 'B15003_001E')\n",
    "        # nativity\n",
    "        all_calc_data_nb[\"Foreign Born\"] = calc_normalized(tract_df, 'B05002_013E', 'B05002_001E')\n",
    "        # language spoken at home\n",
    "        all_calc_data_nb[\"English Only\"] = calc_sum_normalized(tract_df, ['B16007_003E', 'B16007_009E', 'B16007_015E'], 'B16007_001E')\n",
    "        all_calc_data_nb[\"Spanish Only\"] = calc_sum_normalized(tract_df, ['B16007_004E', 'B16007_010E', 'B16007_016E'], 'B16007_001E')\n",
    "        all_calc_data_nb[\"Asian/Pacific Islander\"] = calc_sum_normalized(tract_df, ['B16007_006E', 'B16007_012E', 'B16007_018E'], 'B16007_001E')\n",
    "        all_calc_data_nb[\"Other European Languages\"] = calc_sum_normalized(tract_df, ['B16007_005E', 'B16007_011E', 'B16007_017E'], 'B16007_001E')\n",
    "        all_calc_data_nb[\"Other Languages\"] = calc_sum_normalized(tract_df, ['B16007_007E', 'B16007_013E', 'B16007_019E'], 'B16007_001E')\n",
    "        # linguistic isolation\n",
    "        all_calc_data_nb[\"% of All Households\"] = calc_sum_normalized(tract_df, ['B16003_002E', 'B16003_008E'], 'B16004_001E')\n",
    "        all_calc_data_nb[\"% of Spanish-Speaking Households\"] = calc_sum_normalized(tract_df, ['B16003_004E', 'B16003_009E'], 'B16004_001E')\n",
    "        all_calc_data_nb[\"% of Asian-Speaking Households\"] = calc_sum_normalized(tract_df, ['B16003_006E', 'B16003_011E'], 'B16004_001E')\n",
    "        all_calc_data_nb[\"% of Other European-Speaking Households\"] = calc_sum_normalized(tract_df, ['B16003_005E', 'B16003_010E'], 'B16004_001E')\n",
    "        all_calc_data_nb[\"% of Households Speaking Other Languages\"] = calc_sum_normalized(tract_df, ['B16003_007E', 'B16003_012E'], 'B16004_001E')\n",
    "        # housing\n",
    "        all_calc_data_nb[\"Total Number of Units\"] = calc_sum(df, 'B25001_001E')\n",
    "        all_calc_data_nb[\"Median Year Structure Built\"] = calc_median(tract_df, range_df, 'median_year_structure_built')\n",
    "        all_calc_data_nb[\"Owner Occupied\"] = calc_normalized(tract_df, 'B25007_002E', 'B25007_001E')\n",
    "        all_calc_data_nb[\"Renter Occupied\"] = calc_normalized(tract_df, 'B25007_012E', 'B25007_001E')\n",
    "        all_calc_data_nb[\"Vacant Units\"] = calc_normalized(tract_df, 'B25004_001E', 'B25001_001E')\n",
    "        all_calc_data_nb[\"For Rent\"] = calc_normalized(tract_df, 'B25004_002E', 'B25004_001E')\n",
    "        all_calc_data_nb[\"For Sale Only\"] = calc_normalized(tract_df, 'B25004_004E', 'B25004_001E')\n",
    "        all_calc_data_nb[\"Rented or Sold, Not Occupied\"] = calc_sum_normalized(tract_df, ['B25004_003E', 'B25004_005E'], 'B25004_001E')\n",
    "        all_calc_data_nb[\"For Seasonal, Recreation or Occasional Use\"] = calc_normalized(tract_df, 'B25004_006E', 'B25004_001E')\n",
    "        all_calc_data_nb[\"Other Vacant\"] = calc_normalized(tract_df, 'B25004_008E', 'B25004_001E')\n",
    "        all_calc_data_nb[\"Median Year Moved in to Unit (Own)\"] = calc_median(tract_df, range_df, 'median_year_moved_owner')\n",
    "        all_calc_data_nb[\"Median Year Moved in to Unit (Rent)\"] = calc_median(tract_df, range_df, 'median_year_moved_renter')\n",
    "        all_calc_data_nb[\"Percent in Same House Last Year\"] = calc_normalized(tract_df, 'B07001_017E', 'B07001_001E')\n",
    "        all_calc_data_nb[\"Percent Abroad Last Year\"] = calc_normalized(tract_df, 'B07003_016E', 'B07003_001E')\n",
    "        # structure type\n",
    "        all_calc_data_nb[\"Single Family Housing\"] = calc_sum_normalized(tract_df, ['B25024_002E', 'B25024_003E'], 'B25024_001E')\n",
    "        all_calc_data_nb[\"2-4 Units\"] = calc_sum_normalized(tract_df, ['B25024_004E', 'B25024_005E'], 'B25024_001E')\n",
    "        all_calc_data_nb[\"5-9 Units\"] = calc_normalized(tract_df, 'B25024_006E', 'B25024_001E')\n",
    "        all_calc_data_nb[\"10-19 Units\"] = calc_normalized(tract_df, 'B25024_007E', 'B25024_001E')\n",
    "        all_calc_data_nb[\"20 Units or More\"] = calc_sum_normalized(tract_df, ['B25024_008E', 'B25024_009E'], 'B25024_001E')\n",
    "        all_calc_data_nb[\"Other\"] = calc_sum_normalized(tract_df, ['B25024_010E', 'B25024_011E'], 'B25024_001E')\n",
    "        # unit size\n",
    "        all_calc_data_nb[\"No Bedroom\"] = calc_normalized(tract_df,'B25041_002E', 'B25041_001E')\n",
    "        all_calc_data_nb[\"1 Bedroom\"] = calc_normalized(tract_df, 'B25041_003E', 'B25041_001E')\n",
    "        all_calc_data_nb[\"2 Bedrooms\"] = calc_normalized(tract_df, 'B25041_004E', 'B25041_001E')\n",
    "        all_calc_data_nb[\"3-4 Bedrooms\"] = calc_sum_normalized(tract_df, ['B25041_005E', 'B25041_006E'], 'B25041_001E')\n",
    "        all_calc_data_nb[\"5 Bedrooms\"] = calc_normalized(tract_df, 'B25041_007E', 'B25041_001E')\n",
    "        # housing prices\n",
    "        all_calc_data_nb[\"Median Rent\"] = calc_median(tract_df, range_df, 'median_rent')\n",
    "        all_calc_data_nb[\"Median Contract Rent\"] = calc_median(tract_df, range_df, 'median_rent_contract')\n",
    "        all_calc_data_nb[\"Median Rent as % of Household Income\"] = calc_median(tract_df, range_df, 'median_rent_percent_of_income')\n",
    "        all_calc_data_nb[\"Median Home Value\"] = calc_median(tract_df, range_df, 'median_home_value')\n",
    "        # vehicles available\n",
    "        all_calc_data_nb[\"Vehicles Available\"] = calc_sum(df, 'B25046_001E')\n",
    "        all_calc_data_nb[\"Vehicles Homeowners\"] = calc_normalized(tract_df, 'B25046_002E', 'B25046_001E')\n",
    "        all_calc_data_nb[\"Vehicles Renters\"] = calc_normalized(tract_df, 'B25046_003E', 'B25046_001E')\n",
    "        all_calc_data_nb[\"Vehicles Per Capita\"] = calc_normalized(tract_df, 'B25046_001E', 'B01001_001E')\n",
    "        all_calc_data_nb[\"Households with no Vehicle\"] = calc_sum_normalized(tract_df, ['B25044_003E', 'B25044_010E'], 'B25044_001E')\n",
    "        all_calc_data_nb[\"Percent of Homeowning Households\"] = calc_normalized(tract_df, 'B25044_003E', 'B25044_002E')\n",
    "        all_calc_data_nb[\"Percent of Renting Households\"] = calc_normalized(tract_df, 'B25044_010E', 'B25044_009E')\n",
    "        # income\n",
    "        all_calc_data_nb[\"Median Household Income\"] = calc_median(tract_df, range_df, 'median_household_income')\n",
    "        all_calc_data_nb[\"Median Family Income\"] = calc_median(tract_df, range_df, 'median_family_income')\n",
    "        all_calc_data_nb[\"Per Capita Income\"] = calc_normalized(tract_df, 'B19025_001E', 'B01001_001E')\n",
    "        all_calc_data_nb[\"Percent in Poverty\"] = calc_normalized(tract_df, 'B17001_002E', 'B17001_001E')\n",
    "        # employment\n",
    "        all_calc_data_nb[\"Unemployment Rate\"] = calc_normalized(tract_df, 'B23025_005E', 'B23025_002E')\n",
    "        all_calc_data_nb[\"Percent Unemployment Female\"] = calc_sum_normalized(tract_df, ['B23001_094E', 'B23001_101E', 'B23001_108E', 'B23001_115E', 'B23001_122E', 'B23001_129E', 'B23001_136E', 'B23001_143E', 'B23001_150E', 'B23001_157E', 'B23001_162E', 'B23001_167E', 'B23001_172E', 'B23001_090E', 'B23001_097E', 'B23001_104E', 'B23001_111E', 'B23001_118E', 'B23001_125E', 'B23001_132E', 'B23001_139E', 'B23001_146E', 'B23001_153E', 'B23001_160E', 'B23001_165E', 'B23001_170E'], 'B23025_002E')\n",
    "        all_calc_data_nb[\"Percent Unemployment Male\"] = calc_sum_normalized(tract_df, ['B23001_008E', 'B23001_015E', 'B23001_022E', 'B23001_029E', 'B23001_036E', 'B23001_043E', 'B23001_050E', 'B23001_057E', 'B23001_064E', 'B23001_071E', 'B23001_076E', 'B23001_081E', 'B23001_086E', 'B23001_004E', 'B23001_011E', 'B23001_018E', 'B23001_025E', 'B23001_032E', 'B23001_039E', 'B23001_046E', 'B23001_053E', 'B23001_060E', 'B23001_067E', 'B23001_074E', 'B23001_079E', 'B23001_084E'], 'B23025_002E')\n",
    "        all_calc_data_nb[\"Employed Residents\"] = calc_sum(df, 'C24050_001E')\n",
    "        all_calc_data_nb[\"Managerial Professional\"] = calc_normalized(tract_df, 'C24050_015E', 'C24050_001E')\n",
    "        all_calc_data_nb[\"Services\"] = calc_normalized(tract_df, 'C24050_029E', 'C24050_001E')\n",
    "        all_calc_data_nb[\"Sales and Office\"] = calc_normalized(tract_df, 'C24050_043E', 'C24050_001E')\n",
    "        all_calc_data_nb[\"Natural Resources\"] = calc_normalized(tract_df, 'C24050_057E', 'C24050_001E')\n",
    "        all_calc_data_nb[\"Production Transport Materials\"] = calc_normalized(tract_df, 'C24050_071E', 'C24050_001E')\n",
    "        # journey to work\n",
    "        all_calc_data_nb[\"Workers 16 Years and Older\"] = calc_sum(df, 'B08006_001E')\n",
    "        all_calc_data_nb[\"Car\"] = calc_normalized(tract_df, 'B08006_002E', 'B08006_001E')\n",
    "        all_calc_data_nb[\"Drove Alone\"] = calc_normalized(tract_df, 'B08006_003E', 'B08006_001E')\n",
    "        all_calc_data_nb[\"Carpooled\"] = calc_normalized(tract_df, 'B08006_004E', 'B08006_001E')\n",
    "        all_calc_data_nb[\"Transit\"] = calc_normalized(tract_df, 'B08006_008E', 'B08006_001E')\n",
    "        all_calc_data_nb[\"Bike\"] = calc_normalized(tract_df, 'B08006_014E', 'B08006_001E')\n",
    "        all_calc_data_nb[\"Walk\"] = calc_normalized(tract_df, 'B08006_015E', 'B08006_001E')\n",
    "        all_calc_data_nb[\"Other\"] = calc_normalized(tract_df, 'B08006_016E', 'B08006_001E')\n",
    "        all_calc_data_nb[\"Worked at Home\"] = calc_normalized(tract_df, 'B08006_017E', 'B08006_001E')\n",
    "        # population density\n",
    "        all_calc_data_nb[\"Population Density per Acre\"] = calc_sum(df, 'B01001_001E')\n",
    "            \n",
    "    #return calc dictionary\n",
    "    return all_calc_data"
   ]
  },
  {
   "cell_type": "markdown",
   "id": "modular-letters",
   "metadata": {},
   "source": [
    "## Caculate Socioeconomic Profiles"
   ]
  },
  {
   "cell_type": "markdown",
   "id": "complicated-macro",
   "metadata": {},
   "source": [
    "### Set Summary Variables and Output Paths"
   ]
  },
  {
   "cell_type": "code",
   "execution_count": 18,
   "id": "confident-pollution",
   "metadata": {},
   "outputs": [],
   "source": [
    "# set geography to summarize by. If supervisor districts set geo_summary_variable to \"Superisor District\"\n",
    "geo_summary_variable = 'Neighborhood' #'Supervisor District'\n",
    "\n",
    "# sets geo variables based on above choice\n",
    "if geo_summary_variable == 'Neighborhood':\n",
    "    tract_lookup = tract_nb_lookup\n",
    "    geo_path = os.path.join(os.path.dirname(os.path.abspath(\"__file__\")), 'neighborhoods', 'neighborhoods.shp')\n",
    "    geo_merge_variable = 'nhood'\n",
    "elif geo_summary_variable == 'Supervisor District':\n",
    "    tract_lookup = tract_sd_lookup\n",
    "    geo_path = os.path.join(os.path.dirname(os.path.abspath(\"__file__\")), 'supervisor_districts', 'supervisor_districts.shp')\n",
    "    geo_merge_variable = 'sup_dist'\n",
    "\n",
    "# set path to download csvs\n",
    "download_path = r\"./\""
   ]
  },
  {
   "cell_type": "code",
   "execution_count": 19,
   "id": "central-merchandise",
   "metadata": {},
   "outputs": [
    {
     "data": {
      "text/html": [
       "<div>\n",
       "<style scoped>\n",
       "    .dataframe tbody tr th:only-of-type {\n",
       "        vertical-align: middle;\n",
       "    }\n",
       "\n",
       "    .dataframe tbody tr th {\n",
       "        vertical-align: top;\n",
       "    }\n",
       "\n",
       "    .dataframe thead th {\n",
       "        text-align: right;\n",
       "    }\n",
       "</style>\n",
       "<table border=\"1\" class=\"dataframe\">\n",
       "  <thead>\n",
       "    <tr style=\"text-align: right;\">\n",
       "      <th></th>\n",
       "      <th>Attribute</th>\n",
       "      <th>North Beach</th>\n",
       "      <th>Russian Hill</th>\n",
       "      <th>Financial District</th>\n",
       "      <th>Chinatown</th>\n",
       "      <th>Nob Hill</th>\n",
       "      <th>Tenderloin</th>\n",
       "      <th>Marina</th>\n",
       "      <th>Pacific Heights</th>\n",
       "      <th>Presidio Heights</th>\n",
       "      <th>...</th>\n",
       "      <th>Sunset/Parkside</th>\n",
       "      <th>Lakeshore</th>\n",
       "      <th>Inner Richmond</th>\n",
       "      <th>Outer Richmond</th>\n",
       "      <th>Seacliff</th>\n",
       "      <th>Presidio</th>\n",
       "      <th>Mission Bay</th>\n",
       "      <th>Lincoln Park</th>\n",
       "      <th>Golden Gate Park</th>\n",
       "      <th>McLaren Park</th>\n",
       "    </tr>\n",
       "  </thead>\n",
       "  <tbody>\n",
       "    <tr>\n",
       "      <th>0</th>\n",
       "      <td>Total Population</td>\n",
       "      <td>11854.000000</td>\n",
       "      <td>18139.000000</td>\n",
       "      <td>21537.000000</td>\n",
       "      <td>14438.000000</td>\n",
       "      <td>26445.000000</td>\n",
       "      <td>29927.000000</td>\n",
       "      <td>25375.000000</td>\n",
       "      <td>24279.000000</td>\n",
       "      <td>10585.000000</td>\n",
       "      <td>...</td>\n",
       "      <td>82682.000000</td>\n",
       "      <td>14801.000000</td>\n",
       "      <td>22572.000000</td>\n",
       "      <td>45921.000000</td>\n",
       "      <td>2507.000000</td>\n",
       "      <td>4226.000000</td>\n",
       "      <td>13222.000000</td>\n",
       "      <td>312.000000</td>\n",
       "      <td>63.000000</td>\n",
       "      <td>507.000000</td>\n",
       "    </tr>\n",
       "    <tr>\n",
       "      <th>1</th>\n",
       "      <td>Group Quarter Population</td>\n",
       "      <td>17.000000</td>\n",
       "      <td>5.000000</td>\n",
       "      <td>563.000000</td>\n",
       "      <td>53.000000</td>\n",
       "      <td>977.000000</td>\n",
       "      <td>1523.000000</td>\n",
       "      <td>97.000000</td>\n",
       "      <td>518.000000</td>\n",
       "      <td>196.000000</td>\n",
       "      <td>...</td>\n",
       "      <td>452.000000</td>\n",
       "      <td>2723.000000</td>\n",
       "      <td>147.000000</td>\n",
       "      <td>202.000000</td>\n",
       "      <td>0.000000</td>\n",
       "      <td>0.000000</td>\n",
       "      <td>342.000000</td>\n",
       "      <td>191.000000</td>\n",
       "      <td>0.000000</td>\n",
       "      <td>0.000000</td>\n",
       "    </tr>\n",
       "    <tr>\n",
       "      <th>2</th>\n",
       "      <td>Percent Female</td>\n",
       "      <td>0.486081</td>\n",
       "      <td>0.503501</td>\n",
       "      <td>0.465617</td>\n",
       "      <td>0.516207</td>\n",
       "      <td>0.490641</td>\n",
       "      <td>0.429913</td>\n",
       "      <td>0.515153</td>\n",
       "      <td>0.518226</td>\n",
       "      <td>0.514218</td>\n",
       "      <td>...</td>\n",
       "      <td>0.507922</td>\n",
       "      <td>0.538950</td>\n",
       "      <td>0.547891</td>\n",
       "      <td>0.512336</td>\n",
       "      <td>0.483845</td>\n",
       "      <td>0.539991</td>\n",
       "      <td>0.519286</td>\n",
       "      <td>0.227564</td>\n",
       "      <td>0.396825</td>\n",
       "      <td>0.585799</td>\n",
       "    </tr>\n",
       "    <tr>\n",
       "      <th>3</th>\n",
       "      <td>Housholds</td>\n",
       "      <td>6297.000000</td>\n",
       "      <td>9636.000000</td>\n",
       "      <td>11297.000000</td>\n",
       "      <td>6907.000000</td>\n",
       "      <td>15247.000000</td>\n",
       "      <td>17649.000000</td>\n",
       "      <td>13583.000000</td>\n",
       "      <td>12815.000000</td>\n",
       "      <td>4805.000000</td>\n",
       "      <td>...</td>\n",
       "      <td>28277.000000</td>\n",
       "      <td>4924.000000</td>\n",
       "      <td>9385.000000</td>\n",
       "      <td>18652.000000</td>\n",
       "      <td>891.000000</td>\n",
       "      <td>1324.000000</td>\n",
       "      <td>6312.000000</td>\n",
       "      <td>70.000000</td>\n",
       "      <td>48.000000</td>\n",
       "      <td>239.000000</td>\n",
       "    </tr>\n",
       "    <tr>\n",
       "      <th>4</th>\n",
       "      <td>Family Households</td>\n",
       "      <td>0.397332</td>\n",
       "      <td>0.365816</td>\n",
       "      <td>0.372754</td>\n",
       "      <td>0.522948</td>\n",
       "      <td>0.268840</td>\n",
       "      <td>0.234348</td>\n",
       "      <td>0.309578</td>\n",
       "      <td>0.353726</td>\n",
       "      <td>0.470760</td>\n",
       "      <td>...</td>\n",
       "      <td>0.658839</td>\n",
       "      <td>0.390739</td>\n",
       "      <td>0.483324</td>\n",
       "      <td>0.537905</td>\n",
       "      <td>0.775533</td>\n",
       "      <td>0.556647</td>\n",
       "      <td>0.504119</td>\n",
       "      <td>0.442857</td>\n",
       "      <td>0.000000</td>\n",
       "      <td>0.472803</td>\n",
       "    </tr>\n",
       "  </tbody>\n",
       "</table>\n",
       "<p>5 rows × 42 columns</p>\n",
       "</div>"
      ],
      "text/plain": [
       "                  Attribute   North Beach  Russian Hill  Financial District  \\\n",
       "0          Total Population  11854.000000  18139.000000        21537.000000   \n",
       "1  Group Quarter Population     17.000000      5.000000          563.000000   \n",
       "2            Percent Female      0.486081      0.503501            0.465617   \n",
       "3                 Housholds   6297.000000   9636.000000        11297.000000   \n",
       "4         Family Households      0.397332      0.365816            0.372754   \n",
       "\n",
       "      Chinatown      Nob Hill    Tenderloin        Marina  Pacific Heights  \\\n",
       "0  14438.000000  26445.000000  29927.000000  25375.000000     24279.000000   \n",
       "1     53.000000    977.000000   1523.000000     97.000000       518.000000   \n",
       "2      0.516207      0.490641      0.429913      0.515153         0.518226   \n",
       "3   6907.000000  15247.000000  17649.000000  13583.000000     12815.000000   \n",
       "4      0.522948      0.268840      0.234348      0.309578         0.353726   \n",
       "\n",
       "   Presidio Heights  ...  Sunset/Parkside     Lakeshore  Inner Richmond  \\\n",
       "0      10585.000000  ...     82682.000000  14801.000000    22572.000000   \n",
       "1        196.000000  ...       452.000000   2723.000000      147.000000   \n",
       "2          0.514218  ...         0.507922      0.538950        0.547891   \n",
       "3       4805.000000  ...     28277.000000   4924.000000     9385.000000   \n",
       "4          0.470760  ...         0.658839      0.390739        0.483324   \n",
       "\n",
       "   Outer Richmond     Seacliff     Presidio   Mission Bay  Lincoln Park  \\\n",
       "0    45921.000000  2507.000000  4226.000000  13222.000000    312.000000   \n",
       "1      202.000000     0.000000     0.000000    342.000000    191.000000   \n",
       "2        0.512336     0.483845     0.539991      0.519286      0.227564   \n",
       "3    18652.000000   891.000000  1324.000000   6312.000000     70.000000   \n",
       "4        0.537905     0.775533     0.556647      0.504119      0.442857   \n",
       "\n",
       "   Golden Gate Park  McLaren Park  \n",
       "0         63.000000    507.000000  \n",
       "1          0.000000      0.000000  \n",
       "2          0.396825      0.585799  \n",
       "3         48.000000    239.000000  \n",
       "4          0.000000      0.472803  \n",
       "\n",
       "[5 rows x 42 columns]"
      ]
     },
     "execution_count": 19,
     "metadata": {},
     "output_type": "execute_result"
    }
   ],
   "source": [
    "# run functions to calculate all stats and convert calc dictionary to pandas dataframe\n",
    "all_calc_data = calc_socio_economic_data(df, tract_lookup)\n",
    "df_all_calcs = pd.DataFrame.from_dict(all_calc_data).reset_index()\n",
    "df_all_calcs.rename(columns = {'index':'Attribute'}, inplace = True) \n",
    "df_all_calcs.head()\n"
   ]
  },
  {
   "cell_type": "code",
   "execution_count": 20,
   "id": "automatic-cleaning",
   "metadata": {},
   "outputs": [
    {
     "data": {
      "text/html": [
       "<div>\n",
       "<style scoped>\n",
       "    .dataframe tbody tr th:only-of-type {\n",
       "        vertical-align: middle;\n",
       "    }\n",
       "\n",
       "    .dataframe tbody tr th {\n",
       "        vertical-align: top;\n",
       "    }\n",
       "\n",
       "    .dataframe thead th {\n",
       "        text-align: right;\n",
       "    }\n",
       "</style>\n",
       "<table border=\"1\" class=\"dataframe\">\n",
       "  <thead>\n",
       "    <tr style=\"text-align: right;\">\n",
       "      <th></th>\n",
       "      <th>Neighborhood</th>\n",
       "      <th>Total Population</th>\n",
       "      <th>Group Quarter Population</th>\n",
       "      <th>Percent Female</th>\n",
       "      <th>Housholds</th>\n",
       "      <th>Family Households</th>\n",
       "      <th>Non-Family Households</th>\n",
       "      <th>Single Person Households, % of Total</th>\n",
       "      <th>Households with Children, % of Total</th>\n",
       "      <th>Households with 60 years and older, % of Total</th>\n",
       "      <th>...</th>\n",
       "      <th>Production Transport Materials</th>\n",
       "      <th>Workers 16 Years and Older</th>\n",
       "      <th>Car</th>\n",
       "      <th>Drove Alone</th>\n",
       "      <th>Carpooled</th>\n",
       "      <th>Transit</th>\n",
       "      <th>Bike</th>\n",
       "      <th>Walk</th>\n",
       "      <th>Worked at Home</th>\n",
       "      <th>Population Density per Acre</th>\n",
       "    </tr>\n",
       "  </thead>\n",
       "  <tbody>\n",
       "    <tr>\n",
       "      <th>1</th>\n",
       "      <td>North Beach</td>\n",
       "      <td>11854.0</td>\n",
       "      <td>17.0</td>\n",
       "      <td>0.486081</td>\n",
       "      <td>6297.0</td>\n",
       "      <td>0.397332</td>\n",
       "      <td>0.602668</td>\n",
       "      <td>0.464983</td>\n",
       "      <td>0.112911</td>\n",
       "      <td>0.365094</td>\n",
       "      <td>...</td>\n",
       "      <td>0.043308</td>\n",
       "      <td>512455.0</td>\n",
       "      <td>0.227139</td>\n",
       "      <td>0.206834</td>\n",
       "      <td>0.020305</td>\n",
       "      <td>0.235821</td>\n",
       "      <td>0.045232</td>\n",
       "      <td>0.393082</td>\n",
       "      <td>0.071419</td>\n",
       "      <td>874961.0</td>\n",
       "    </tr>\n",
       "    <tr>\n",
       "      <th>2</th>\n",
       "      <td>Russian Hill</td>\n",
       "      <td>18139.0</td>\n",
       "      <td>5.0</td>\n",
       "      <td>0.503501</td>\n",
       "      <td>9636.0</td>\n",
       "      <td>0.365816</td>\n",
       "      <td>0.634184</td>\n",
       "      <td>0.408053</td>\n",
       "      <td>0.078456</td>\n",
       "      <td>0.354089</td>\n",
       "      <td>...</td>\n",
       "      <td>0.022665</td>\n",
       "      <td>512455.0</td>\n",
       "      <td>0.246709</td>\n",
       "      <td>0.196511</td>\n",
       "      <td>0.050198</td>\n",
       "      <td>0.346075</td>\n",
       "      <td>0.036479</td>\n",
       "      <td>0.218557</td>\n",
       "      <td>0.076606</td>\n",
       "      <td>874961.0</td>\n",
       "    </tr>\n",
       "    <tr>\n",
       "      <th>3</th>\n",
       "      <td>Financial District</td>\n",
       "      <td>21537.0</td>\n",
       "      <td>563.0</td>\n",
       "      <td>0.465617</td>\n",
       "      <td>11297.0</td>\n",
       "      <td>0.372754</td>\n",
       "      <td>0.627246</td>\n",
       "      <td>0.445694</td>\n",
       "      <td>0.102151</td>\n",
       "      <td>0.218642</td>\n",
       "      <td>...</td>\n",
       "      <td>0.032076</td>\n",
       "      <td>512455.0</td>\n",
       "      <td>0.200172</td>\n",
       "      <td>0.184107</td>\n",
       "      <td>0.016065</td>\n",
       "      <td>0.223625</td>\n",
       "      <td>0.023883</td>\n",
       "      <td>0.440221</td>\n",
       "      <td>0.092376</td>\n",
       "      <td>874961.0</td>\n",
       "    </tr>\n",
       "    <tr>\n",
       "      <th>4</th>\n",
       "      <td>Chinatown</td>\n",
       "      <td>14438.0</td>\n",
       "      <td>53.0</td>\n",
       "      <td>0.516207</td>\n",
       "      <td>6907.0</td>\n",
       "      <td>0.522948</td>\n",
       "      <td>0.477052</td>\n",
       "      <td>0.411901</td>\n",
       "      <td>0.159693</td>\n",
       "      <td>0.581439</td>\n",
       "      <td>...</td>\n",
       "      <td>0.089981</td>\n",
       "      <td>512455.0</td>\n",
       "      <td>0.153299</td>\n",
       "      <td>0.124243</td>\n",
       "      <td>0.029056</td>\n",
       "      <td>0.334292</td>\n",
       "      <td>0.010139</td>\n",
       "      <td>0.440527</td>\n",
       "      <td>0.039649</td>\n",
       "      <td>874961.0</td>\n",
       "    </tr>\n",
       "    <tr>\n",
       "      <th>5</th>\n",
       "      <td>Nob Hill</td>\n",
       "      <td>26445.0</td>\n",
       "      <td>977.0</td>\n",
       "      <td>0.490641</td>\n",
       "      <td>15247.0</td>\n",
       "      <td>0.26884</td>\n",
       "      <td>0.73116</td>\n",
       "      <td>0.556765</td>\n",
       "      <td>0.061127</td>\n",
       "      <td>0.273693</td>\n",
       "      <td>...</td>\n",
       "      <td>0.040428</td>\n",
       "      <td>512455.0</td>\n",
       "      <td>0.176066</td>\n",
       "      <td>0.139077</td>\n",
       "      <td>0.036989</td>\n",
       "      <td>0.275309</td>\n",
       "      <td>0.025095</td>\n",
       "      <td>0.407443</td>\n",
       "      <td>0.05867</td>\n",
       "      <td>874961.0</td>\n",
       "    </tr>\n",
       "  </tbody>\n",
       "</table>\n",
       "<p>5 rows × 97 columns</p>\n",
       "</div>"
      ],
      "text/plain": [
       "0        Neighborhood Total Population Group Quarter Population  \\\n",
       "1         North Beach          11854.0                     17.0   \n",
       "2        Russian Hill          18139.0                      5.0   \n",
       "3  Financial District          21537.0                    563.0   \n",
       "4           Chinatown          14438.0                     53.0   \n",
       "5            Nob Hill          26445.0                    977.0   \n",
       "\n",
       "0 Percent Female Housholds Family Households Non-Family Households  \\\n",
       "1       0.486081    6297.0          0.397332              0.602668   \n",
       "2       0.503501    9636.0          0.365816              0.634184   \n",
       "3       0.465617   11297.0          0.372754              0.627246   \n",
       "4       0.516207    6907.0          0.522948              0.477052   \n",
       "5       0.490641   15247.0           0.26884               0.73116   \n",
       "\n",
       "0 Single Person Households, % of Total Households with Children, % of Total  \\\n",
       "1                             0.464983                             0.112911   \n",
       "2                             0.408053                             0.078456   \n",
       "3                             0.445694                             0.102151   \n",
       "4                             0.411901                             0.159693   \n",
       "5                             0.556765                             0.061127   \n",
       "\n",
       "0 Households with 60 years and older, % of Total  ...  \\\n",
       "1                                       0.365094  ...   \n",
       "2                                       0.354089  ...   \n",
       "3                                       0.218642  ...   \n",
       "4                                       0.581439  ...   \n",
       "5                                       0.273693  ...   \n",
       "\n",
       "0 Production Transport Materials Workers 16 Years and Older       Car  \\\n",
       "1                       0.043308                   512455.0  0.227139   \n",
       "2                       0.022665                   512455.0  0.246709   \n",
       "3                       0.032076                   512455.0  0.200172   \n",
       "4                       0.089981                   512455.0  0.153299   \n",
       "5                       0.040428                   512455.0  0.176066   \n",
       "\n",
       "0 Drove Alone Carpooled   Transit      Bike      Walk Worked at Home  \\\n",
       "1    0.206834  0.020305  0.235821  0.045232  0.393082       0.071419   \n",
       "2    0.196511  0.050198  0.346075  0.036479  0.218557       0.076606   \n",
       "3    0.184107  0.016065  0.223625  0.023883  0.440221       0.092376   \n",
       "4    0.124243  0.029056  0.334292  0.010139  0.440527       0.039649   \n",
       "5    0.139077  0.036989  0.275309  0.025095  0.407443        0.05867   \n",
       "\n",
       "0 Population Density per Acre  \n",
       "1                    874961.0  \n",
       "2                    874961.0  \n",
       "3                    874961.0  \n",
       "4                    874961.0  \n",
       "5                    874961.0  \n",
       "\n",
       "[5 rows x 97 columns]"
      ]
     },
     "execution_count": 20,
     "metadata": {},
     "output_type": "execute_result"
    }
   ],
   "source": [
    "# transpose dataset for second neighborhood view of dataset\n",
    "df_all_calcs_tp = df_all_calcs.T.reset_index()\n",
    "df_all_calcs_tp.columns = df_all_calcs_tp.iloc[0]\n",
    "df_all_calcs_tp = df_all_calcs_tp[1:].rename(columns={'Attribute': geo_summary_variable})\n",
    "df_all_calcs_tp.head()"
   ]
  },
  {
   "cell_type": "markdown",
   "id": "liked-updating",
   "metadata": {},
   "source": [
    "## Visualizations"
   ]
  },
  {
   "cell_type": "code",
   "execution_count": 21,
   "id": "raised-russia",
   "metadata": {},
   "outputs": [
    {
     "data": {
      "application/vnd.jupyter.widget-view+json": {
       "model_id": "eeb6ca10e28448b0b7edbbf419b0446e",
       "version_major": 2,
       "version_minor": 0
      },
      "text/plain": [
       "interactive(children=(Dropdown(description='Variable', options=('Total Population', 'Group Quarter Population'…"
      ]
     },
     "metadata": {},
     "output_type": "display_data"
    },
    {
     "data": {
      "text/plain": [
       "<function __main__.f(Variable)>"
      ]
     },
     "execution_count": 21,
     "metadata": {},
     "output_type": "execute_result"
    }
   ],
   "source": [
    "def f(Variable):\n",
    "    fig = px.bar(df_all_calcs_tp, x=geo_summary_variable, y=Variable)\n",
    "    fig.update_xaxes(tickangle=45)\n",
    "    fig.show()\n",
    "\n",
    "variables = df_all_calcs_tp.columns[1:]\n",
    "\n",
    "interact(f, Variable=variables)"
   ]
  },
  {
   "cell_type": "code",
   "execution_count": 22,
   "id": "contrary-destination",
   "metadata": {
    "scrolled": false
   },
   "outputs": [
    {
     "data": {
      "application/vnd.plotly.v1+json": {
       "config": {
        "plotlyServerURL": "https://plot.ly"
       },
       "data": [
        {
         "alignmentgroup": "True",
         "hovertemplate": "=Renter Occupied<br>Neighborhood=%{x}<br>Percent Occupied=%{y}<extra></extra>",
         "legendgroup": "Renter Occupied",
         "marker": {
          "color": "#636efa"
         },
         "name": "Renter Occupied",
         "offsetgroup": "Renter Occupied",
         "orientation": "v",
         "showlegend": true,
         "textposition": "auto",
         "type": "bar",
         "x": [
          "North Beach",
          "Russian Hill",
          "Financial District",
          "Chinatown",
          "Nob Hill",
          "Tenderloin",
          "Marina",
          "Pacific Heights",
          "Presidio Heights",
          "Western Addition",
          "Japantown",
          "Lone Mountain/USF",
          "Hayes Valley",
          "Haight Ashbury",
          "Castro/Upper Market",
          "South of Market",
          "Mission",
          "Treasure Island",
          "Twin Peaks",
          "Noe Valley",
          "Glen Park",
          "Potrero Hill",
          "Bayview Hunters Point",
          "Bernal Heights",
          "Outer Mission",
          "Excelsior",
          "Portola",
          "Visitacion Valley",
          "Inner Sunset",
          "West of Twin Peaks",
          "Oceanview/Merced/Ingleside",
          "Sunset/Parkside",
          "Lakeshore",
          "Inner Richmond",
          "Outer Richmond",
          "Seacliff",
          "Presidio",
          "Mission Bay",
          "Lincoln Park",
          "Golden Gate Park",
          "McLaren Park"
         ],
         "xaxis": "x",
         "y": [
          0.7886295061140226,
          0.7525944375259443,
          0.6777020447906524,
          0.9390473432749384,
          0.862858267200105,
          0.974502804691484,
          0.7452698225723331,
          0.7345298478345689,
          0.6206035379812695,
          0.7734007022351631,
          0.8662842012356575,
          0.6855881425417849,
          0.7973476999585578,
          0.6763954761036118,
          0.6090909090909091,
          0.8405103668261563,
          0.7501261988894498,
          1,
          0.5983347688774046,
          0.47121535181236673,
          0.3296733461432885,
          0.546100340387746,
          0.47958071278826,
          0.4227925184862984,
          0.34959469417833455,
          0.3268039358600583,
          0.335874716670101,
          0.46608527131782945,
          0.5690345785988719,
          0.2174319177983761,
          0.3072526355899911,
          0.37012412915090004,
          0.9486190089358245,
          0.6435801811401172,
          0.6014368432339695,
          0.24691358024691357,
          0.974320241691843,
          0.6582699619771863,
          0.37142857142857144,
          1,
          0.8535564853556485
         ],
         "yaxis": "y"
        },
        {
         "alignmentgroup": "True",
         "hovertemplate": "=Owner Occupied<br>Neighborhood=%{x}<br>Percent Occupied=%{y}<extra></extra>",
         "legendgroup": "Owner Occupied",
         "marker": {
          "color": "#EF553B"
         },
         "name": "Owner Occupied",
         "offsetgroup": "Owner Occupied",
         "orientation": "v",
         "showlegend": true,
         "textposition": "auto",
         "type": "bar",
         "x": [
          "North Beach",
          "Russian Hill",
          "Financial District",
          "Chinatown",
          "Nob Hill",
          "Tenderloin",
          "Marina",
          "Pacific Heights",
          "Presidio Heights",
          "Western Addition",
          "Japantown",
          "Lone Mountain/USF",
          "Hayes Valley",
          "Haight Ashbury",
          "Castro/Upper Market",
          "South of Market",
          "Mission",
          "Treasure Island",
          "Twin Peaks",
          "Noe Valley",
          "Glen Park",
          "Potrero Hill",
          "Bayview Hunters Point",
          "Bernal Heights",
          "Outer Mission",
          "Excelsior",
          "Portola",
          "Visitacion Valley",
          "Inner Sunset",
          "West of Twin Peaks",
          "Oceanview/Merced/Ingleside",
          "Sunset/Parkside",
          "Lakeshore",
          "Inner Richmond",
          "Outer Richmond",
          "Seacliff",
          "Presidio",
          "Mission Bay",
          "Lincoln Park",
          "Golden Gate Park",
          "McLaren Park"
         ],
         "xaxis": "x",
         "y": [
          0.21137049388597745,
          0.24740556247405562,
          0.3222979552093476,
          0.06095265672506153,
          0.13714173279989506,
          0.025497195308516064,
          0.25473017742766696,
          0.26547015216543113,
          0.3793964620187305,
          0.22659929776483687,
          0.13371579876434245,
          0.3144118574582151,
          0.2026523000414422,
          0.32360452389638816,
          0.39090909090909093,
          0.1594896331738437,
          0.24987380111055021,
          0,
          0.40166523112259545,
          0.5287846481876333,
          0.6703266538567115,
          0.453899659612254,
          0.52041928721174,
          0.5772074815137016,
          0.6504053058216654,
          0.6731960641399417,
          0.6641252833298991,
          0.5339147286821705,
          0.4309654214011281,
          0.7825680822016239,
          0.6927473644100088,
          0.6298758708491,
          0.051380991064175464,
          0.3564198188598828,
          0.39856315676603044,
          0.7530864197530864,
          0.0256797583081571,
          0.3417300380228137,
          0.6285714285714286,
          0,
          0.14644351464435146
         ],
         "yaxis": "y"
        }
       ],
       "layout": {
        "barmode": "relative",
        "legend": {
         "title": {
          "text": ""
         },
         "tracegroupgap": 0
        },
        "template": {
         "data": {
          "bar": [
           {
            "error_x": {
             "color": "#2a3f5f"
            },
            "error_y": {
             "color": "#2a3f5f"
            },
            "marker": {
             "line": {
              "color": "#E5ECF6",
              "width": 0.5
             }
            },
            "type": "bar"
           }
          ],
          "barpolar": [
           {
            "marker": {
             "line": {
              "color": "#E5ECF6",
              "width": 0.5
             }
            },
            "type": "barpolar"
           }
          ],
          "carpet": [
           {
            "aaxis": {
             "endlinecolor": "#2a3f5f",
             "gridcolor": "white",
             "linecolor": "white",
             "minorgridcolor": "white",
             "startlinecolor": "#2a3f5f"
            },
            "baxis": {
             "endlinecolor": "#2a3f5f",
             "gridcolor": "white",
             "linecolor": "white",
             "minorgridcolor": "white",
             "startlinecolor": "#2a3f5f"
            },
            "type": "carpet"
           }
          ],
          "choropleth": [
           {
            "colorbar": {
             "outlinewidth": 0,
             "ticks": ""
            },
            "type": "choropleth"
           }
          ],
          "contour": [
           {
            "colorbar": {
             "outlinewidth": 0,
             "ticks": ""
            },
            "colorscale": [
             [
              0,
              "#0d0887"
             ],
             [
              0.1111111111111111,
              "#46039f"
             ],
             [
              0.2222222222222222,
              "#7201a8"
             ],
             [
              0.3333333333333333,
              "#9c179e"
             ],
             [
              0.4444444444444444,
              "#bd3786"
             ],
             [
              0.5555555555555556,
              "#d8576b"
             ],
             [
              0.6666666666666666,
              "#ed7953"
             ],
             [
              0.7777777777777778,
              "#fb9f3a"
             ],
             [
              0.8888888888888888,
              "#fdca26"
             ],
             [
              1,
              "#f0f921"
             ]
            ],
            "type": "contour"
           }
          ],
          "contourcarpet": [
           {
            "colorbar": {
             "outlinewidth": 0,
             "ticks": ""
            },
            "type": "contourcarpet"
           }
          ],
          "heatmap": [
           {
            "colorbar": {
             "outlinewidth": 0,
             "ticks": ""
            },
            "colorscale": [
             [
              0,
              "#0d0887"
             ],
             [
              0.1111111111111111,
              "#46039f"
             ],
             [
              0.2222222222222222,
              "#7201a8"
             ],
             [
              0.3333333333333333,
              "#9c179e"
             ],
             [
              0.4444444444444444,
              "#bd3786"
             ],
             [
              0.5555555555555556,
              "#d8576b"
             ],
             [
              0.6666666666666666,
              "#ed7953"
             ],
             [
              0.7777777777777778,
              "#fb9f3a"
             ],
             [
              0.8888888888888888,
              "#fdca26"
             ],
             [
              1,
              "#f0f921"
             ]
            ],
            "type": "heatmap"
           }
          ],
          "heatmapgl": [
           {
            "colorbar": {
             "outlinewidth": 0,
             "ticks": ""
            },
            "colorscale": [
             [
              0,
              "#0d0887"
             ],
             [
              0.1111111111111111,
              "#46039f"
             ],
             [
              0.2222222222222222,
              "#7201a8"
             ],
             [
              0.3333333333333333,
              "#9c179e"
             ],
             [
              0.4444444444444444,
              "#bd3786"
             ],
             [
              0.5555555555555556,
              "#d8576b"
             ],
             [
              0.6666666666666666,
              "#ed7953"
             ],
             [
              0.7777777777777778,
              "#fb9f3a"
             ],
             [
              0.8888888888888888,
              "#fdca26"
             ],
             [
              1,
              "#f0f921"
             ]
            ],
            "type": "heatmapgl"
           }
          ],
          "histogram": [
           {
            "marker": {
             "colorbar": {
              "outlinewidth": 0,
              "ticks": ""
             }
            },
            "type": "histogram"
           }
          ],
          "histogram2d": [
           {
            "colorbar": {
             "outlinewidth": 0,
             "ticks": ""
            },
            "colorscale": [
             [
              0,
              "#0d0887"
             ],
             [
              0.1111111111111111,
              "#46039f"
             ],
             [
              0.2222222222222222,
              "#7201a8"
             ],
             [
              0.3333333333333333,
              "#9c179e"
             ],
             [
              0.4444444444444444,
              "#bd3786"
             ],
             [
              0.5555555555555556,
              "#d8576b"
             ],
             [
              0.6666666666666666,
              "#ed7953"
             ],
             [
              0.7777777777777778,
              "#fb9f3a"
             ],
             [
              0.8888888888888888,
              "#fdca26"
             ],
             [
              1,
              "#f0f921"
             ]
            ],
            "type": "histogram2d"
           }
          ],
          "histogram2dcontour": [
           {
            "colorbar": {
             "outlinewidth": 0,
             "ticks": ""
            },
            "colorscale": [
             [
              0,
              "#0d0887"
             ],
             [
              0.1111111111111111,
              "#46039f"
             ],
             [
              0.2222222222222222,
              "#7201a8"
             ],
             [
              0.3333333333333333,
              "#9c179e"
             ],
             [
              0.4444444444444444,
              "#bd3786"
             ],
             [
              0.5555555555555556,
              "#d8576b"
             ],
             [
              0.6666666666666666,
              "#ed7953"
             ],
             [
              0.7777777777777778,
              "#fb9f3a"
             ],
             [
              0.8888888888888888,
              "#fdca26"
             ],
             [
              1,
              "#f0f921"
             ]
            ],
            "type": "histogram2dcontour"
           }
          ],
          "mesh3d": [
           {
            "colorbar": {
             "outlinewidth": 0,
             "ticks": ""
            },
            "type": "mesh3d"
           }
          ],
          "parcoords": [
           {
            "line": {
             "colorbar": {
              "outlinewidth": 0,
              "ticks": ""
             }
            },
            "type": "parcoords"
           }
          ],
          "pie": [
           {
            "automargin": true,
            "type": "pie"
           }
          ],
          "scatter": [
           {
            "marker": {
             "colorbar": {
              "outlinewidth": 0,
              "ticks": ""
             }
            },
            "type": "scatter"
           }
          ],
          "scatter3d": [
           {
            "line": {
             "colorbar": {
              "outlinewidth": 0,
              "ticks": ""
             }
            },
            "marker": {
             "colorbar": {
              "outlinewidth": 0,
              "ticks": ""
             }
            },
            "type": "scatter3d"
           }
          ],
          "scattercarpet": [
           {
            "marker": {
             "colorbar": {
              "outlinewidth": 0,
              "ticks": ""
             }
            },
            "type": "scattercarpet"
           }
          ],
          "scattergeo": [
           {
            "marker": {
             "colorbar": {
              "outlinewidth": 0,
              "ticks": ""
             }
            },
            "type": "scattergeo"
           }
          ],
          "scattergl": [
           {
            "marker": {
             "colorbar": {
              "outlinewidth": 0,
              "ticks": ""
             }
            },
            "type": "scattergl"
           }
          ],
          "scattermapbox": [
           {
            "marker": {
             "colorbar": {
              "outlinewidth": 0,
              "ticks": ""
             }
            },
            "type": "scattermapbox"
           }
          ],
          "scatterpolar": [
           {
            "marker": {
             "colorbar": {
              "outlinewidth": 0,
              "ticks": ""
             }
            },
            "type": "scatterpolar"
           }
          ],
          "scatterpolargl": [
           {
            "marker": {
             "colorbar": {
              "outlinewidth": 0,
              "ticks": ""
             }
            },
            "type": "scatterpolargl"
           }
          ],
          "scatterternary": [
           {
            "marker": {
             "colorbar": {
              "outlinewidth": 0,
              "ticks": ""
             }
            },
            "type": "scatterternary"
           }
          ],
          "surface": [
           {
            "colorbar": {
             "outlinewidth": 0,
             "ticks": ""
            },
            "colorscale": [
             [
              0,
              "#0d0887"
             ],
             [
              0.1111111111111111,
              "#46039f"
             ],
             [
              0.2222222222222222,
              "#7201a8"
             ],
             [
              0.3333333333333333,
              "#9c179e"
             ],
             [
              0.4444444444444444,
              "#bd3786"
             ],
             [
              0.5555555555555556,
              "#d8576b"
             ],
             [
              0.6666666666666666,
              "#ed7953"
             ],
             [
              0.7777777777777778,
              "#fb9f3a"
             ],
             [
              0.8888888888888888,
              "#fdca26"
             ],
             [
              1,
              "#f0f921"
             ]
            ],
            "type": "surface"
           }
          ],
          "table": [
           {
            "cells": {
             "fill": {
              "color": "#EBF0F8"
             },
             "line": {
              "color": "white"
             }
            },
            "header": {
             "fill": {
              "color": "#C8D4E3"
             },
             "line": {
              "color": "white"
             }
            },
            "type": "table"
           }
          ]
         },
         "layout": {
          "annotationdefaults": {
           "arrowcolor": "#2a3f5f",
           "arrowhead": 0,
           "arrowwidth": 1
          },
          "autotypenumbers": "strict",
          "coloraxis": {
           "colorbar": {
            "outlinewidth": 0,
            "ticks": ""
           }
          },
          "colorscale": {
           "diverging": [
            [
             0,
             "#8e0152"
            ],
            [
             0.1,
             "#c51b7d"
            ],
            [
             0.2,
             "#de77ae"
            ],
            [
             0.3,
             "#f1b6da"
            ],
            [
             0.4,
             "#fde0ef"
            ],
            [
             0.5,
             "#f7f7f7"
            ],
            [
             0.6,
             "#e6f5d0"
            ],
            [
             0.7,
             "#b8e186"
            ],
            [
             0.8,
             "#7fbc41"
            ],
            [
             0.9,
             "#4d9221"
            ],
            [
             1,
             "#276419"
            ]
           ],
           "sequential": [
            [
             0,
             "#0d0887"
            ],
            [
             0.1111111111111111,
             "#46039f"
            ],
            [
             0.2222222222222222,
             "#7201a8"
            ],
            [
             0.3333333333333333,
             "#9c179e"
            ],
            [
             0.4444444444444444,
             "#bd3786"
            ],
            [
             0.5555555555555556,
             "#d8576b"
            ],
            [
             0.6666666666666666,
             "#ed7953"
            ],
            [
             0.7777777777777778,
             "#fb9f3a"
            ],
            [
             0.8888888888888888,
             "#fdca26"
            ],
            [
             1,
             "#f0f921"
            ]
           ],
           "sequentialminus": [
            [
             0,
             "#0d0887"
            ],
            [
             0.1111111111111111,
             "#46039f"
            ],
            [
             0.2222222222222222,
             "#7201a8"
            ],
            [
             0.3333333333333333,
             "#9c179e"
            ],
            [
             0.4444444444444444,
             "#bd3786"
            ],
            [
             0.5555555555555556,
             "#d8576b"
            ],
            [
             0.6666666666666666,
             "#ed7953"
            ],
            [
             0.7777777777777778,
             "#fb9f3a"
            ],
            [
             0.8888888888888888,
             "#fdca26"
            ],
            [
             1,
             "#f0f921"
            ]
           ]
          },
          "colorway": [
           "#636efa",
           "#EF553B",
           "#00cc96",
           "#ab63fa",
           "#FFA15A",
           "#19d3f3",
           "#FF6692",
           "#B6E880",
           "#FF97FF",
           "#FECB52"
          ],
          "font": {
           "color": "#2a3f5f"
          },
          "geo": {
           "bgcolor": "white",
           "lakecolor": "white",
           "landcolor": "#E5ECF6",
           "showlakes": true,
           "showland": true,
           "subunitcolor": "white"
          },
          "hoverlabel": {
           "align": "left"
          },
          "hovermode": "closest",
          "mapbox": {
           "style": "light"
          },
          "paper_bgcolor": "white",
          "plot_bgcolor": "#E5ECF6",
          "polar": {
           "angularaxis": {
            "gridcolor": "white",
            "linecolor": "white",
            "ticks": ""
           },
           "bgcolor": "#E5ECF6",
           "radialaxis": {
            "gridcolor": "white",
            "linecolor": "white",
            "ticks": ""
           }
          },
          "scene": {
           "xaxis": {
            "backgroundcolor": "#E5ECF6",
            "gridcolor": "white",
            "gridwidth": 2,
            "linecolor": "white",
            "showbackground": true,
            "ticks": "",
            "zerolinecolor": "white"
           },
           "yaxis": {
            "backgroundcolor": "#E5ECF6",
            "gridcolor": "white",
            "gridwidth": 2,
            "linecolor": "white",
            "showbackground": true,
            "ticks": "",
            "zerolinecolor": "white"
           },
           "zaxis": {
            "backgroundcolor": "#E5ECF6",
            "gridcolor": "white",
            "gridwidth": 2,
            "linecolor": "white",
            "showbackground": true,
            "ticks": "",
            "zerolinecolor": "white"
           }
          },
          "shapedefaults": {
           "line": {
            "color": "#2a3f5f"
           }
          },
          "ternary": {
           "aaxis": {
            "gridcolor": "white",
            "linecolor": "white",
            "ticks": ""
           },
           "baxis": {
            "gridcolor": "white",
            "linecolor": "white",
            "ticks": ""
           },
           "bgcolor": "#E5ECF6",
           "caxis": {
            "gridcolor": "white",
            "linecolor": "white",
            "ticks": ""
           }
          },
          "title": {
           "x": 0.05
          },
          "xaxis": {
           "automargin": true,
           "gridcolor": "white",
           "linecolor": "white",
           "ticks": "",
           "title": {
            "standoff": 15
           },
           "zerolinecolor": "white",
           "zerolinewidth": 2
          },
          "yaxis": {
           "automargin": true,
           "gridcolor": "white",
           "linecolor": "white",
           "ticks": "",
           "title": {
            "standoff": 15
           },
           "zerolinecolor": "white",
           "zerolinewidth": 2
          }
         }
        },
        "title": {
         "text": "Renter vs Owner Occupied"
        },
        "xaxis": {
         "anchor": "y",
         "domain": [
          0,
          1
         ],
         "tickangle": 45,
         "title": {
          "text": "Neighborhood"
         }
        },
        "yaxis": {
         "anchor": "x",
         "domain": [
          0,
          1
         ],
         "title": {
          "text": "Percent Occupied"
         }
        }
       }
      },
      "text/html": [
       "<div>                            <div id=\"b6ee5bab-9f71-413b-9bbf-20eb8984cd4b\" class=\"plotly-graph-div\" style=\"height:525px; width:100%;\"></div>            <script type=\"text/javascript\">                require([\"plotly\"], function(Plotly) {                    window.PLOTLYENV=window.PLOTLYENV || {};                                    if (document.getElementById(\"b6ee5bab-9f71-413b-9bbf-20eb8984cd4b\")) {                    Plotly.newPlot(                        \"b6ee5bab-9f71-413b-9bbf-20eb8984cd4b\",                        [{\"alignmentgroup\": \"True\", \"hovertemplate\": \"=Renter Occupied<br>Neighborhood=%{x}<br>Percent Occupied=%{y}<extra></extra>\", \"legendgroup\": \"Renter Occupied\", \"marker\": {\"color\": \"#636efa\"}, \"name\": \"Renter Occupied\", \"offsetgroup\": \"Renter Occupied\", \"orientation\": \"v\", \"showlegend\": true, \"textposition\": \"auto\", \"type\": \"bar\", \"x\": [\"North Beach\", \"Russian Hill\", \"Financial District\", \"Chinatown\", \"Nob Hill\", \"Tenderloin\", \"Marina\", \"Pacific Heights\", \"Presidio Heights\", \"Western Addition\", \"Japantown\", \"Lone Mountain/USF\", \"Hayes Valley\", \"Haight Ashbury\", \"Castro/Upper Market\", \"South of Market\", \"Mission\", \"Treasure Island\", \"Twin Peaks\", \"Noe Valley\", \"Glen Park\", \"Potrero Hill\", \"Bayview Hunters Point\", \"Bernal Heights\", \"Outer Mission\", \"Excelsior\", \"Portola\", \"Visitacion Valley\", \"Inner Sunset\", \"West of Twin Peaks\", \"Oceanview/Merced/Ingleside\", \"Sunset/Parkside\", \"Lakeshore\", \"Inner Richmond\", \"Outer Richmond\", \"Seacliff\", \"Presidio\", \"Mission Bay\", \"Lincoln Park\", \"Golden Gate Park\", \"McLaren Park\"], \"xaxis\": \"x\", \"y\": [0.7886295061140226, 0.7525944375259443, 0.6777020447906524, 0.9390473432749384, 0.862858267200105, 0.974502804691484, 0.7452698225723331, 0.7345298478345689, 0.6206035379812695, 0.7734007022351631, 0.8662842012356575, 0.6855881425417849, 0.7973476999585578, 0.6763954761036118, 0.6090909090909091, 0.8405103668261563, 0.7501261988894498, 1.0, 0.5983347688774046, 0.47121535181236673, 0.3296733461432885, 0.546100340387746, 0.47958071278826, 0.4227925184862984, 0.34959469417833455, 0.3268039358600583, 0.335874716670101, 0.46608527131782945, 0.5690345785988719, 0.2174319177983761, 0.3072526355899911, 0.37012412915090004, 0.9486190089358245, 0.6435801811401172, 0.6014368432339695, 0.24691358024691357, 0.974320241691843, 0.6582699619771863, 0.37142857142857144, 1.0, 0.8535564853556485], \"yaxis\": \"y\"}, {\"alignmentgroup\": \"True\", \"hovertemplate\": \"=Owner Occupied<br>Neighborhood=%{x}<br>Percent Occupied=%{y}<extra></extra>\", \"legendgroup\": \"Owner Occupied\", \"marker\": {\"color\": \"#EF553B\"}, \"name\": \"Owner Occupied\", \"offsetgroup\": \"Owner Occupied\", \"orientation\": \"v\", \"showlegend\": true, \"textposition\": \"auto\", \"type\": \"bar\", \"x\": [\"North Beach\", \"Russian Hill\", \"Financial District\", \"Chinatown\", \"Nob Hill\", \"Tenderloin\", \"Marina\", \"Pacific Heights\", \"Presidio Heights\", \"Western Addition\", \"Japantown\", \"Lone Mountain/USF\", \"Hayes Valley\", \"Haight Ashbury\", \"Castro/Upper Market\", \"South of Market\", \"Mission\", \"Treasure Island\", \"Twin Peaks\", \"Noe Valley\", \"Glen Park\", \"Potrero Hill\", \"Bayview Hunters Point\", \"Bernal Heights\", \"Outer Mission\", \"Excelsior\", \"Portola\", \"Visitacion Valley\", \"Inner Sunset\", \"West of Twin Peaks\", \"Oceanview/Merced/Ingleside\", \"Sunset/Parkside\", \"Lakeshore\", \"Inner Richmond\", \"Outer Richmond\", \"Seacliff\", \"Presidio\", \"Mission Bay\", \"Lincoln Park\", \"Golden Gate Park\", \"McLaren Park\"], \"xaxis\": \"x\", \"y\": [0.21137049388597745, 0.24740556247405562, 0.3222979552093476, 0.06095265672506153, 0.13714173279989506, 0.025497195308516064, 0.25473017742766696, 0.26547015216543113, 0.3793964620187305, 0.22659929776483687, 0.13371579876434245, 0.3144118574582151, 0.2026523000414422, 0.32360452389638816, 0.39090909090909093, 0.1594896331738437, 0.24987380111055021, 0.0, 0.40166523112259545, 0.5287846481876333, 0.6703266538567115, 0.453899659612254, 0.52041928721174, 0.5772074815137016, 0.6504053058216654, 0.6731960641399417, 0.6641252833298991, 0.5339147286821705, 0.4309654214011281, 0.7825680822016239, 0.6927473644100088, 0.6298758708491, 0.051380991064175464, 0.3564198188598828, 0.39856315676603044, 0.7530864197530864, 0.0256797583081571, 0.3417300380228137, 0.6285714285714286, 0.0, 0.14644351464435146], \"yaxis\": \"y\"}],                        {\"barmode\": \"relative\", \"legend\": {\"title\": {\"text\": \"\"}, \"tracegroupgap\": 0}, \"template\": {\"data\": {\"bar\": [{\"error_x\": {\"color\": \"#2a3f5f\"}, \"error_y\": {\"color\": \"#2a3f5f\"}, \"marker\": {\"line\": {\"color\": \"#E5ECF6\", \"width\": 0.5}}, \"type\": \"bar\"}], \"barpolar\": [{\"marker\": {\"line\": {\"color\": \"#E5ECF6\", \"width\": 0.5}}, \"type\": \"barpolar\"}], \"carpet\": [{\"aaxis\": {\"endlinecolor\": \"#2a3f5f\", \"gridcolor\": \"white\", \"linecolor\": \"white\", \"minorgridcolor\": \"white\", \"startlinecolor\": \"#2a3f5f\"}, \"baxis\": {\"endlinecolor\": \"#2a3f5f\", \"gridcolor\": \"white\", \"linecolor\": \"white\", \"minorgridcolor\": \"white\", \"startlinecolor\": \"#2a3f5f\"}, \"type\": \"carpet\"}], \"choropleth\": [{\"colorbar\": {\"outlinewidth\": 0, \"ticks\": \"\"}, \"type\": \"choropleth\"}], \"contour\": [{\"colorbar\": {\"outlinewidth\": 0, \"ticks\": \"\"}, \"colorscale\": [[0.0, \"#0d0887\"], [0.1111111111111111, \"#46039f\"], [0.2222222222222222, \"#7201a8\"], [0.3333333333333333, \"#9c179e\"], [0.4444444444444444, \"#bd3786\"], [0.5555555555555556, \"#d8576b\"], [0.6666666666666666, \"#ed7953\"], [0.7777777777777778, \"#fb9f3a\"], [0.8888888888888888, \"#fdca26\"], [1.0, \"#f0f921\"]], \"type\": \"contour\"}], \"contourcarpet\": [{\"colorbar\": {\"outlinewidth\": 0, \"ticks\": \"\"}, \"type\": \"contourcarpet\"}], \"heatmap\": [{\"colorbar\": {\"outlinewidth\": 0, \"ticks\": \"\"}, \"colorscale\": [[0.0, \"#0d0887\"], [0.1111111111111111, \"#46039f\"], [0.2222222222222222, \"#7201a8\"], [0.3333333333333333, \"#9c179e\"], [0.4444444444444444, \"#bd3786\"], [0.5555555555555556, \"#d8576b\"], [0.6666666666666666, \"#ed7953\"], [0.7777777777777778, \"#fb9f3a\"], [0.8888888888888888, \"#fdca26\"], [1.0, \"#f0f921\"]], \"type\": \"heatmap\"}], \"heatmapgl\": [{\"colorbar\": {\"outlinewidth\": 0, \"ticks\": \"\"}, \"colorscale\": [[0.0, \"#0d0887\"], [0.1111111111111111, \"#46039f\"], [0.2222222222222222, \"#7201a8\"], [0.3333333333333333, \"#9c179e\"], [0.4444444444444444, \"#bd3786\"], [0.5555555555555556, \"#d8576b\"], [0.6666666666666666, \"#ed7953\"], [0.7777777777777778, \"#fb9f3a\"], [0.8888888888888888, \"#fdca26\"], [1.0, \"#f0f921\"]], \"type\": \"heatmapgl\"}], \"histogram\": [{\"marker\": {\"colorbar\": {\"outlinewidth\": 0, \"ticks\": \"\"}}, \"type\": \"histogram\"}], \"histogram2d\": [{\"colorbar\": {\"outlinewidth\": 0, \"ticks\": \"\"}, \"colorscale\": [[0.0, \"#0d0887\"], [0.1111111111111111, \"#46039f\"], [0.2222222222222222, \"#7201a8\"], [0.3333333333333333, \"#9c179e\"], [0.4444444444444444, \"#bd3786\"], [0.5555555555555556, \"#d8576b\"], [0.6666666666666666, \"#ed7953\"], [0.7777777777777778, \"#fb9f3a\"], [0.8888888888888888, \"#fdca26\"], [1.0, \"#f0f921\"]], \"type\": \"histogram2d\"}], \"histogram2dcontour\": [{\"colorbar\": {\"outlinewidth\": 0, \"ticks\": \"\"}, \"colorscale\": [[0.0, \"#0d0887\"], [0.1111111111111111, \"#46039f\"], [0.2222222222222222, \"#7201a8\"], [0.3333333333333333, \"#9c179e\"], [0.4444444444444444, \"#bd3786\"], [0.5555555555555556, \"#d8576b\"], [0.6666666666666666, \"#ed7953\"], [0.7777777777777778, \"#fb9f3a\"], [0.8888888888888888, \"#fdca26\"], [1.0, \"#f0f921\"]], \"type\": \"histogram2dcontour\"}], \"mesh3d\": [{\"colorbar\": {\"outlinewidth\": 0, \"ticks\": \"\"}, \"type\": \"mesh3d\"}], \"parcoords\": [{\"line\": {\"colorbar\": {\"outlinewidth\": 0, \"ticks\": \"\"}}, \"type\": \"parcoords\"}], \"pie\": [{\"automargin\": true, \"type\": \"pie\"}], \"scatter\": [{\"marker\": {\"colorbar\": {\"outlinewidth\": 0, \"ticks\": \"\"}}, \"type\": \"scatter\"}], \"scatter3d\": [{\"line\": {\"colorbar\": {\"outlinewidth\": 0, \"ticks\": \"\"}}, \"marker\": {\"colorbar\": {\"outlinewidth\": 0, \"ticks\": \"\"}}, \"type\": \"scatter3d\"}], \"scattercarpet\": [{\"marker\": {\"colorbar\": {\"outlinewidth\": 0, \"ticks\": \"\"}}, \"type\": \"scattercarpet\"}], \"scattergeo\": [{\"marker\": {\"colorbar\": {\"outlinewidth\": 0, \"ticks\": \"\"}}, \"type\": \"scattergeo\"}], \"scattergl\": [{\"marker\": {\"colorbar\": {\"outlinewidth\": 0, \"ticks\": \"\"}}, \"type\": \"scattergl\"}], \"scattermapbox\": [{\"marker\": {\"colorbar\": {\"outlinewidth\": 0, \"ticks\": \"\"}}, \"type\": \"scattermapbox\"}], \"scatterpolar\": [{\"marker\": {\"colorbar\": {\"outlinewidth\": 0, \"ticks\": \"\"}}, \"type\": \"scatterpolar\"}], \"scatterpolargl\": [{\"marker\": {\"colorbar\": {\"outlinewidth\": 0, \"ticks\": \"\"}}, \"type\": \"scatterpolargl\"}], \"scatterternary\": [{\"marker\": {\"colorbar\": {\"outlinewidth\": 0, \"ticks\": \"\"}}, \"type\": \"scatterternary\"}], \"surface\": [{\"colorbar\": {\"outlinewidth\": 0, \"ticks\": \"\"}, \"colorscale\": [[0.0, \"#0d0887\"], [0.1111111111111111, \"#46039f\"], [0.2222222222222222, \"#7201a8\"], [0.3333333333333333, \"#9c179e\"], [0.4444444444444444, \"#bd3786\"], [0.5555555555555556, \"#d8576b\"], [0.6666666666666666, \"#ed7953\"], [0.7777777777777778, \"#fb9f3a\"], [0.8888888888888888, \"#fdca26\"], [1.0, \"#f0f921\"]], \"type\": \"surface\"}], \"table\": [{\"cells\": {\"fill\": {\"color\": \"#EBF0F8\"}, \"line\": {\"color\": \"white\"}}, \"header\": {\"fill\": {\"color\": \"#C8D4E3\"}, \"line\": {\"color\": \"white\"}}, \"type\": \"table\"}]}, \"layout\": {\"annotationdefaults\": {\"arrowcolor\": \"#2a3f5f\", \"arrowhead\": 0, \"arrowwidth\": 1}, \"autotypenumbers\": \"strict\", \"coloraxis\": {\"colorbar\": {\"outlinewidth\": 0, \"ticks\": \"\"}}, \"colorscale\": {\"diverging\": [[0, \"#8e0152\"], [0.1, \"#c51b7d\"], [0.2, \"#de77ae\"], [0.3, \"#f1b6da\"], [0.4, \"#fde0ef\"], [0.5, \"#f7f7f7\"], [0.6, \"#e6f5d0\"], [0.7, \"#b8e186\"], [0.8, \"#7fbc41\"], [0.9, \"#4d9221\"], [1, \"#276419\"]], \"sequential\": [[0.0, \"#0d0887\"], [0.1111111111111111, \"#46039f\"], [0.2222222222222222, \"#7201a8\"], [0.3333333333333333, \"#9c179e\"], [0.4444444444444444, \"#bd3786\"], [0.5555555555555556, \"#d8576b\"], [0.6666666666666666, \"#ed7953\"], [0.7777777777777778, \"#fb9f3a\"], [0.8888888888888888, \"#fdca26\"], [1.0, \"#f0f921\"]], \"sequentialminus\": [[0.0, \"#0d0887\"], [0.1111111111111111, \"#46039f\"], [0.2222222222222222, \"#7201a8\"], [0.3333333333333333, \"#9c179e\"], [0.4444444444444444, \"#bd3786\"], [0.5555555555555556, \"#d8576b\"], [0.6666666666666666, \"#ed7953\"], [0.7777777777777778, \"#fb9f3a\"], [0.8888888888888888, \"#fdca26\"], [1.0, \"#f0f921\"]]}, \"colorway\": [\"#636efa\", \"#EF553B\", \"#00cc96\", \"#ab63fa\", \"#FFA15A\", \"#19d3f3\", \"#FF6692\", \"#B6E880\", \"#FF97FF\", \"#FECB52\"], \"font\": {\"color\": \"#2a3f5f\"}, \"geo\": {\"bgcolor\": \"white\", \"lakecolor\": \"white\", \"landcolor\": \"#E5ECF6\", \"showlakes\": true, \"showland\": true, \"subunitcolor\": \"white\"}, \"hoverlabel\": {\"align\": \"left\"}, \"hovermode\": \"closest\", \"mapbox\": {\"style\": \"light\"}, \"paper_bgcolor\": \"white\", \"plot_bgcolor\": \"#E5ECF6\", \"polar\": {\"angularaxis\": {\"gridcolor\": \"white\", \"linecolor\": \"white\", \"ticks\": \"\"}, \"bgcolor\": \"#E5ECF6\", \"radialaxis\": {\"gridcolor\": \"white\", \"linecolor\": \"white\", \"ticks\": \"\"}}, \"scene\": {\"xaxis\": {\"backgroundcolor\": \"#E5ECF6\", \"gridcolor\": \"white\", \"gridwidth\": 2, \"linecolor\": \"white\", \"showbackground\": true, \"ticks\": \"\", \"zerolinecolor\": \"white\"}, \"yaxis\": {\"backgroundcolor\": \"#E5ECF6\", \"gridcolor\": \"white\", \"gridwidth\": 2, \"linecolor\": \"white\", \"showbackground\": true, \"ticks\": \"\", \"zerolinecolor\": \"white\"}, \"zaxis\": {\"backgroundcolor\": \"#E5ECF6\", \"gridcolor\": \"white\", \"gridwidth\": 2, \"linecolor\": \"white\", \"showbackground\": true, \"ticks\": \"\", \"zerolinecolor\": \"white\"}}, \"shapedefaults\": {\"line\": {\"color\": \"#2a3f5f\"}}, \"ternary\": {\"aaxis\": {\"gridcolor\": \"white\", \"linecolor\": \"white\", \"ticks\": \"\"}, \"baxis\": {\"gridcolor\": \"white\", \"linecolor\": \"white\", \"ticks\": \"\"}, \"bgcolor\": \"#E5ECF6\", \"caxis\": {\"gridcolor\": \"white\", \"linecolor\": \"white\", \"ticks\": \"\"}}, \"title\": {\"x\": 0.05}, \"xaxis\": {\"automargin\": true, \"gridcolor\": \"white\", \"linecolor\": \"white\", \"ticks\": \"\", \"title\": {\"standoff\": 15}, \"zerolinecolor\": \"white\", \"zerolinewidth\": 2}, \"yaxis\": {\"automargin\": true, \"gridcolor\": \"white\", \"linecolor\": \"white\", \"ticks\": \"\", \"title\": {\"standoff\": 15}, \"zerolinecolor\": \"white\", \"zerolinewidth\": 2}}}, \"title\": {\"text\": \"Renter vs Owner Occupied\"}, \"xaxis\": {\"anchor\": \"y\", \"domain\": [0.0, 1.0], \"tickangle\": 45, \"title\": {\"text\": \"Neighborhood\"}}, \"yaxis\": {\"anchor\": \"x\", \"domain\": [0.0, 1.0], \"title\": {\"text\": \"Percent Occupied\"}}},                        {\"responsive\": true}                    ).then(function(){\n",
       "                            \n",
       "var gd = document.getElementById('b6ee5bab-9f71-413b-9bbf-20eb8984cd4b');\n",
       "var x = new MutationObserver(function (mutations, observer) {{\n",
       "        var display = window.getComputedStyle(gd).display;\n",
       "        if (!display || display === 'none') {{\n",
       "            console.log([gd, 'removed!']);\n",
       "            Plotly.purge(gd);\n",
       "            observer.disconnect();\n",
       "        }}\n",
       "}});\n",
       "\n",
       "// Listen for the removal of the full notebook cells\n",
       "var notebookContainer = gd.closest('#notebook-container');\n",
       "if (notebookContainer) {{\n",
       "    x.observe(notebookContainer, {childList: true});\n",
       "}}\n",
       "\n",
       "// Listen for the clearing of the current output cell\n",
       "var outputEl = gd.closest('.output');\n",
       "if (outputEl) {{\n",
       "    x.observe(outputEl, {childList: true});\n",
       "}}\n",
       "\n",
       "                        })                };                });            </script>        </div>"
      ]
     },
     "metadata": {},
     "output_type": "display_data"
    }
   ],
   "source": [
    "melted = pd.melt(df_all_calcs_tp, id_vars=geo_summary_variable, value_vars=['Renter Occupied', 'Owner Occupied'])\n",
    "\n",
    "fig2 = px.bar(melted, x=geo_summary_variable, y=\"value\", color=0, title=\"Renter vs Owner Occupied\", labels={\n",
    "                     \"value\": \"Percent Occupied\",\n",
    "                     '0': \"\"\n",
    "                 },)\n",
    "\n",
    "fig2.update_xaxes(tickangle=45)\n",
    "fig2.show()"
   ]
  },
  {
   "cell_type": "code",
   "execution_count": 23,
   "id": "progressive-meeting",
   "metadata": {},
   "outputs": [
    {
     "data": {
      "application/vnd.jupyter.widget-view+json": {
       "model_id": "77e0ecea83ea4e23bae3bc941b7b246c",
       "version_major": 2,
       "version_minor": 0
      },
      "text/plain": [
       "interactive(children=(Dropdown(description='Variable', options=('Total Population', 'Group Quarter Population'…"
      ]
     },
     "metadata": {},
     "output_type": "display_data"
    },
    {
     "data": {
      "text/plain": [
       "<function __main__.initiate_map(Variable)>"
      ]
     },
     "execution_count": 23,
     "metadata": {},
     "output_type": "execute_result"
    }
   ],
   "source": [
    "# import neighborhood shapefiles and reproject to web mercator\n",
    "geo_df = geopandas.read_file(geo_path)\n",
    "geo_df = geo_df.to_crs(\"EPSG:4326\")\n",
    "\n",
    "# define function to create folium map\n",
    "def initiate_map(Variable):\n",
    "    # subset dataframe for selected variable\n",
    "    df_all_calcs_map = df_all_calcs_tp[[geo_summary_variable, Variable]]\n",
    "\n",
    "    # join dataframe to neighborhoods geodataframe by neighborhood name\n",
    "    neighborhoods_var_df= geo_df.merge(df_all_calcs_map,left_on=geo_merge_variable, right_on=geo_summary_variable)\n",
    "    \n",
    "    # set map details\n",
    "    mymap = folium.Map(location=[37.77,-122.44], zoom_start=12,tiles=None)\n",
    "    folium.TileLayer('CartoDB positron',name=\"Light Map\",control=False).add_to(mymap)\n",
    "\n",
    "    # set legend to 5 equal intervals \n",
    "    var_min = neighborhoods_var_df[Variable].min()\n",
    "    var_max = neighborhoods_var_df[Variable].max()\n",
    "    myscale= np.linspace(var_min, var_max,5)\n",
    "    \n",
    "    # set choropleth details\n",
    "    mymap.choropleth(\n",
    "     geo_data=neighborhoods_var_df,\n",
    "     name='Choropleth',\n",
    "     data=neighborhoods_var_df,\n",
    "     columns=[geo_summary_variable, Variable],\n",
    "     key_on=\"feature.properties.\"+geo_summary_variable,\n",
    "     fill_color='YlGnBu',\n",
    "     threshold_scale=myscale,\n",
    "     fill_opacity=1,\n",
    "     line_opacity=.2,\n",
    "     line_weight = 1,\n",
    "     legend_name=Variable,\n",
    "     smooth_factor=0\n",
    "    )\n",
    "\n",
    "    return mymap\n",
    "\n",
    "variables = df_all_calcs_tp.columns[1:]\n",
    "\n",
    "interact(initiate_map, Variable=variables)\n",
    "\n",
    "\n"
   ]
  },
  {
   "cell_type": "markdown",
   "id": "answering-bread",
   "metadata": {},
   "source": [
    "### Export"
   ]
  },
  {
   "cell_type": "code",
   "execution_count": 17,
   "id": "about-imagination",
   "metadata": {},
   "outputs": [],
   "source": [
    "# export both dataset views to csv\n",
    "df_all_calcs.to_csv(os.path.join(download_path,\"profiles_by_attribute.csv\"), index = False)\n",
    "df_all_calcs_tp.to_csv(os.path.join(download_path,\"profiles_by_geo.csv\"), index = False)"
   ]
  },
  {
   "cell_type": "code",
   "execution_count": null,
   "id": "artificial-burlington",
   "metadata": {},
   "outputs": [],
   "source": []
  }
 ],
 "metadata": {
  "kernelspec": {
   "display_name": "myenv",
   "language": "python",
   "name": "myenv"
  },
  "language_info": {
   "codemirror_mode": {
    "name": "ipython",
    "version": 3
   },
   "file_extension": ".py",
   "mimetype": "text/x-python",
   "name": "python",
   "nbconvert_exporter": "python",
   "pygments_lexer": "ipython3",
   "version": "3.7.8"
  },
  "toc": {
   "base_numbering": 1,
   "nav_menu": {},
   "number_sections": true,
   "sideBar": true,
   "skip_h1_title": false,
   "title_cell": "Table of Contents",
   "title_sidebar": "Contents",
   "toc_cell": false,
   "toc_position": {
    "height": "789px",
    "left": "46px",
    "top": "110px",
    "width": "345px"
   },
   "toc_section_display": true,
   "toc_window_display": true
  }
 },
 "nbformat": 4,
 "nbformat_minor": 5
}
